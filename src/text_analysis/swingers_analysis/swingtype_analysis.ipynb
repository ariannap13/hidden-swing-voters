{
 "cells": [
  {
   "cell_type": "code",
   "execution_count": 1,
   "metadata": {},
   "outputs": [],
   "source": [
    "import pandas as pd"
   ]
  },
  {
   "cell_type": "markdown",
   "metadata": {},
   "source": [
    "Open swingers files"
   ]
  },
  {
   "cell_type": "code",
   "execution_count": 2,
   "metadata": {},
   "outputs": [
    {
     "name": "stdout",
     "output_type": "stream",
     "text": [
      "Number of BD swingers: 5324\n",
      "Number of DA swingers: 8303\n",
      "Number of BA swingers: 3699\n"
     ]
    }
   ],
   "source": [
    "swingers_bd = pd.read_csv('../../../data/Swingers BD.csv')\n",
    "swingers_da = pd.read_csv('../../../data/Swingers DA.csv')\n",
    "swingers_ba = pd.read_csv('../../../data/Swingers BA.csv')\n",
    "\n",
    "# print total\n",
    "print(f\"Number of BD swingers: {len(swingers_bd)}\")\n",
    "print(f\"Number of DA swingers: {len(swingers_da)}\")\n",
    "print(f\"Number of BA swingers: {len(swingers_ba)}\")"
   ]
  },
  {
   "cell_type": "code",
   "execution_count": 3,
   "metadata": {},
   "outputs": [],
   "source": [
    "swingers_bd['swing_time'] = 'BD'\n",
    "swingers_da['swing_time'] = 'DA'\n",
    "swingers_ba['swing_time'] = 'BA'"
   ]
  },
  {
   "cell_type": "code",
   "execution_count": 4,
   "metadata": {},
   "outputs": [],
   "source": [
    "swingers = pd.concat([swingers_bd, swingers_da, swingers_ba])"
   ]
  },
  {
   "cell_type": "markdown",
   "metadata": {},
   "source": [
    "# Study swing to types"
   ]
  },
  {
   "cell_type": "markdown",
   "metadata": {},
   "source": [
    "Adjust non-political communities to \"noparty\""
   ]
  },
  {
   "cell_type": "code",
   "execution_count": 5,
   "metadata": {},
   "outputs": [],
   "source": [
    "# find where party1 is nan\n",
    "swingers[\"party1\"] = swingers[\"party1\"].fillna(\"noparty\").astype(str)\n",
    "swingers[\"party2\"] = swingers[\"party2\"].fillna(\"noparty\").astype(str)"
   ]
  },
  {
   "cell_type": "markdown",
   "metadata": {},
   "source": [
    "Open political representative files"
   ]
  },
  {
   "cell_type": "code",
   "execution_count": 6,
   "metadata": {},
   "outputs": [],
   "source": [
    "representatives = pd.read_csv('../../../data/twitter_representatives_handles_final.csv')"
   ]
  },
  {
   "cell_type": "markdown",
   "metadata": {},
   "source": [
    "Get unique parties"
   ]
  },
  {
   "cell_type": "code",
   "execution_count": 7,
   "metadata": {},
   "outputs": [
    {
     "data": {
      "text/plain": [
       "array(['Alleanza Verdi Sinistra', 'Azione - Italia Viva', 'Forza Italia',\n",
       "       \"Fratelli d'Italia\", 'Lega', 'Movimento 5s', 'Noi moderati',\n",
       "       'Partito Democratico'], dtype=object)"
      ]
     },
     "execution_count": 7,
     "metadata": {},
     "output_type": "execute_result"
    }
   ],
   "source": [
    "all_parties = representatives[\"Party\"].unique()\n",
    "all_parties"
   ]
  },
  {
   "cell_type": "markdown",
   "metadata": {},
   "source": [
    "Specificy party abbrevations and coalition groups"
   ]
  },
  {
   "cell_type": "code",
   "execution_count": 8,
   "metadata": {},
   "outputs": [],
   "source": [
    "all_parties_abbr = [\"AVS\", \"Az-Iv\", \"FI\", \n",
    "                    \"FdI\", \"L\", \"M5s\", \"NM\",\n",
    "                    \"PD\"]"
   ]
  },
  {
   "cell_type": "code",
   "execution_count": 9,
   "metadata": {},
   "outputs": [],
   "source": [
    "coalition_right = [\"FI\", \"FdI\", \"L\", \"NM\"]\n",
    "coalition_left = [\"AVS\", \"PD\"]"
   ]
  },
  {
   "cell_type": "markdown",
   "metadata": {},
   "source": [
    "Populate swing type lists"
   ]
  },
  {
   "cell_type": "code",
   "execution_count": 10,
   "metadata": {},
   "outputs": [],
   "source": [
    "norealswing = []\n",
    "nantoparty = []\n",
    "partytonan = []\n",
    "soft_swing = []\n",
    "hard_swing = []\n",
    "\n",
    "swing_type = []\n",
    "for row, data in swingers.iterrows():\n",
    "\n",
    "    if data[\"party1\"]==\"noparty\":\n",
    "        nantoparty.append([\"noparty\", data[\"party2\"]])\n",
    "        swing_type.append(\"nantoparty\")\n",
    "    elif data[\"party2\"]==\"noparty\":\n",
    "        partytonan.append([data[\"party1\"], \"noparty\"])\n",
    "        swing_type.append(\"partytonan\")\n",
    "    else:\n",
    "        list_coalition_1 = data[\"party1\"].split(\";\")\n",
    "        list_coalition_2 = data[\"party2\"].split(\";\")\n",
    "        if data[\"party1\"] in list_coalition_2 or data[\"party2\"] in list_coalition_1 or set(list_coalition_1).intersection(list_coalition_2):\n",
    "            norealswing.append([data[\"party1\"], data[\"party2\"]])\n",
    "            swing_type.append(\"norealswing\")\n",
    "        else:\n",
    "            # soft swing considering list_coalition_1, list_coalition_2\n",
    "            if set(list_coalition_1).intersection(coalition_right) and set(list_coalition_2).intersection(coalition_right):\n",
    "                soft_swing.append([data[\"party1\"], data[\"party2\"]])\n",
    "                swing_type.append(\"softswing\")\n",
    "            elif set(list_coalition_1).intersection(coalition_left) and set(list_coalition_2).intersection(coalition_left):\n",
    "                soft_swing.append([data[\"party1\"], data[\"party2\"]])\n",
    "                swing_type.append(\"softswing\")\n",
    "            # hard swing\n",
    "            else:\n",
    "                hard_swing.append([data[\"party1\"], data[\"party2\"]])\n",
    "                swing_type.append(\"hardswing\")"
   ]
  },
  {
   "cell_type": "code",
   "execution_count": 11,
   "metadata": {},
   "outputs": [],
   "source": [
    "swingers[\"swing_type\"] = swing_type\n",
    "\n",
    "# save to csv\n",
    "swingers.to_csv('../../../data/swingers_full.csv', index=False)"
   ]
  },
  {
   "cell_type": "code",
   "execution_count": 12,
   "metadata": {},
   "outputs": [
    {
     "data": {
      "text/plain": [
       "norealswing    11632\n",
       "nantoparty      3490\n",
       "hardswing       1708\n",
       "partytonan       479\n",
       "softswing         17\n",
       "Name: swing_type, dtype: int64"
      ]
     },
     "execution_count": 12,
     "metadata": {},
     "output_type": "execute_result"
    }
   ],
   "source": [
    "swingers[\"swing_type\"].value_counts()"
   ]
  },
  {
   "cell_type": "markdown",
   "metadata": {},
   "source": [
    "## Analyze results and save different types to csv"
   ]
  },
  {
   "cell_type": "code",
   "execution_count": 13,
   "metadata": {},
   "outputs": [],
   "source": [
    "norealswing = pd.DataFrame(norealswing, columns=[\"party1\", \"party2\"])\n",
    "# remove duplicates\n",
    "norealswing = norealswing.drop_duplicates()\n",
    "norealswing.to_csv('../../../data/norealswing.csv', index=False)"
   ]
  },
  {
   "cell_type": "code",
   "execution_count": 14,
   "metadata": {},
   "outputs": [],
   "source": [
    "nantoparty = pd.DataFrame(nantoparty, columns=[\"party1\", \"party2\"])\n",
    "# remove duplicates\n",
    "nantoparty = nantoparty.drop_duplicates()\n",
    "nantoparty.to_csv('../../../data/nantoparty.csv', index=False)"
   ]
  },
  {
   "cell_type": "code",
   "execution_count": 15,
   "metadata": {},
   "outputs": [],
   "source": [
    "partytonan = pd.DataFrame(partytonan, columns=[\"party1\", \"party2\"])\n",
    "# remove duplicates\n",
    "partytonan = partytonan.drop_duplicates()\n",
    "partytonan.to_csv('../../../data/partytonan.csv', index=False)"
   ]
  },
  {
   "cell_type": "code",
   "execution_count": 16,
   "metadata": {},
   "outputs": [],
   "source": [
    "soft_swing = pd.DataFrame(soft_swing, columns=[\"party1\", \"party2\"])\n",
    "# remove duplicates\n",
    "soft_swing = soft_swing.drop_duplicates()\n",
    "soft_swing.to_csv('../../../data/soft_swing.csv', index=False)"
   ]
  },
  {
   "cell_type": "code",
   "execution_count": 17,
   "metadata": {},
   "outputs": [],
   "source": [
    "hard_swing = pd.DataFrame(hard_swing, columns=[\"party1\", \"party2\"])\n",
    "# remove duplicates\n",
    "hard_swing = hard_swing.drop_duplicates()\n",
    "hard_swing.to_csv('../../../data/hard_swing.csv', index=False)"
   ]
  }
 ],
 "metadata": {
  "kernelspec": {
   "display_name": "rapids-23.02",
   "language": "python",
   "name": "python3"
  },
  "language_info": {
   "codemirror_mode": {
    "name": "ipython",
    "version": 3
   },
   "file_extension": ".py",
   "mimetype": "text/x-python",
   "name": "python",
   "nbconvert_exporter": "python",
   "pygments_lexer": "ipython3",
   "version": "3.8.undefined"
  }
 },
 "nbformat": 4,
 "nbformat_minor": 2
}
