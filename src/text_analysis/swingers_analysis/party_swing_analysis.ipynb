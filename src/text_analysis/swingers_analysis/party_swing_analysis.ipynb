{
 "cells": [
  {
   "cell_type": "code",
   "execution_count": 57,
   "metadata": {},
   "outputs": [],
   "source": [
    "import pandas as pd"
   ]
  },
  {
   "cell_type": "code",
   "execution_count": 58,
   "metadata": {},
   "outputs": [
    {
     "name": "stdout",
     "output_type": "stream",
     "text": [
      "Number of BD swingers: 5324\n",
      "Number of DA swingers: 8303\n",
      "Number of BA swingers: 3699\n"
     ]
    }
   ],
   "source": [
    "swingers_bd = pd.read_csv('../../../data/Swingers BD.csv')\n",
    "swingers_da = pd.read_csv('../../../data/Swingers DA.csv')\n",
    "swingers_ba = pd.read_csv('../../../data/Swingers BA.csv')\n",
    "\n",
    "# print total\n",
    "print(f\"Number of BD swingers: {len(swingers_bd)}\")\n",
    "print(f\"Number of DA swingers: {len(swingers_da)}\")\n",
    "print(f\"Number of BA swingers: {len(swingers_ba)}\")"
   ]
  },
  {
   "cell_type": "code",
   "execution_count": 59,
   "metadata": {},
   "outputs": [],
   "source": [
    "# add swing time label \n",
    "swingers_bd['swing_time'] = 'BD'\n",
    "swingers_da['swing_time'] = 'DA'\n",
    "swingers_ba['swing_time'] = 'BA'"
   ]
  },
  {
   "cell_type": "code",
   "execution_count": 60,
   "metadata": {},
   "outputs": [],
   "source": [
    "# concatenate\n",
    "swingers = pd.concat([swingers_bd, swingers_da, swingers_ba])"
   ]
  },
  {
   "cell_type": "markdown",
   "metadata": {},
   "source": [
    "# Study swing to same party + coalition"
   ]
  },
  {
   "cell_type": "code",
   "execution_count": 61,
   "metadata": {},
   "outputs": [],
   "source": [
    "# find where party1 is nan\n",
    "swingers[\"party1\"] = swingers[\"party1\"].fillna(\"noparty\").astype(str)\n",
    "swingers[\"party2\"] = swingers[\"party2\"].fillna(\"noparty\").astype(str)"
   ]
  },
  {
   "cell_type": "code",
   "execution_count": 62,
   "metadata": {},
   "outputs": [],
   "source": [
    "representatives = pd.read_csv('../../../data/twitter_representatives_handles_final.csv')"
   ]
  },
  {
   "cell_type": "code",
   "execution_count": 63,
   "metadata": {},
   "outputs": [
    {
     "data": {
      "text/plain": [
       "array(['Alleanza Verdi Sinistra', 'Azione - Italia Viva', 'Forza Italia',\n",
       "       \"Fratelli d'Italia\", 'Lega', 'Movimento 5s', 'Noi moderati',\n",
       "       'Partito Democratico'], dtype=object)"
      ]
     },
     "execution_count": 63,
     "metadata": {},
     "output_type": "execute_result"
    }
   ],
   "source": [
    "# unique parties\n",
    "all_parties = representatives[\"Party\"].unique()\n",
    "all_parties"
   ]
  },
  {
   "cell_type": "code",
   "execution_count": 64,
   "metadata": {},
   "outputs": [],
   "source": [
    "all_parties_abbr = [\"AVS\", \"Az-Iv\", \"FI\", \n",
    "                    \"FdI\", \"L\", \"M5s\", \"NM\",\n",
    "                    \"PD\"]"
   ]
  },
  {
   "cell_type": "code",
   "execution_count": 65,
   "metadata": {},
   "outputs": [],
   "source": [
    "coalition_right = [\"FI\", \"FdI\", \"L\"]\n",
    "coalition_left = [\"AVS\", \"PD\"]"
   ]
  },
  {
   "cell_type": "code",
   "execution_count": 66,
   "metadata": {},
   "outputs": [],
   "source": [
    "norealswing = []\n",
    "nantoparty = []\n",
    "partytonan = []\n",
    "soft_swing = []\n",
    "hard_swing = []\n",
    "\n",
    "swing_type = []\n",
    "for row, data in swingers.iterrows():\n",
    "\n",
    "    if data[\"party1\"]==\"noparty\":\n",
    "        nantoparty.append(\"noparty --> \"+str(data[\"party2\"]))\n",
    "        swing_type.append(\"nantoparty\")\n",
    "    elif data[\"party2\"]==\"noparty\":\n",
    "        partytonan.append(data[\"party1\"]+\" --> noparty\")\n",
    "        swing_type.append(\"partytonan\")\n",
    "    else:\n",
    "        list_coalition_1 = data[\"party1\"].split(\";\")\n",
    "        list_coalition_2 = data[\"party2\"].split(\";\")\n",
    "        if data[\"party1\"] in list_coalition_2 or data[\"party2\"] in list_coalition_1 or set(list_coalition_1).intersection(list_coalition_2):\n",
    "            norealswing.append(data[\"party1\"]+\" --> \"+data[\"party2\"])\n",
    "            swing_type.append(\"norealswing\")\n",
    "        else:\n",
    "            # soft swing considering list_coalition_1, list_coalition_2\n",
    "            if set(list_coalition_1).intersection(coalition_right) and set(list_coalition_2).intersection(coalition_right):\n",
    "                soft_swing.append(data[\"party1\"]+\" --> \"+data[\"party2\"])\n",
    "                swing_type.append(\"softswing\")\n",
    "            elif set(list_coalition_1).intersection(coalition_left) and set(list_coalition_2).intersection(coalition_left):\n",
    "                soft_swing.append(data[\"party1\"]+\" --> \"+data[\"party2\"])\n",
    "                swing_type.append(\"softswing\")\n",
    "            # hard swing\n",
    "            else:\n",
    "                hard_swing.append(data[\"party1\"]+\" --> \"+data[\"party2\"])\n",
    "                swing_type.append(\"hardswing\")"
   ]
  },
  {
   "cell_type": "code",
   "execution_count": 67,
   "metadata": {},
   "outputs": [],
   "source": [
    "swingers[\"swing_type\"] = swing_type\n",
    "\n",
    "# save to csv\n",
    "swingers.to_csv('../../../data/swingers_full.csv', index=False)"
   ]
  },
  {
   "cell_type": "markdown",
   "metadata": {},
   "source": [
    "## Analyze results"
   ]
  },
  {
   "cell_type": "code",
   "execution_count": 52,
   "metadata": {},
   "outputs": [
    {
     "data": {
      "text/plain": [
       "{'Az-Iv --> FdI;Az-Iv',\n",
       " 'Az-Iv --> PD;Az-Iv',\n",
       " 'FI --> FdI;FI',\n",
       " 'FI --> NM;FI;FdI;PD;L',\n",
       " 'FdI --> FdI;Az-Iv',\n",
       " 'FdI --> FdI;FI',\n",
       " 'FdI --> FdI;M5s',\n",
       " 'FdI --> L;FdI',\n",
       " 'FdI --> NM;FI;FdI;PD;L',\n",
       " 'FdI;M5s --> FdI',\n",
       " 'FdI;M5s --> FdI;Az-Iv',\n",
       " 'FdI;M5s --> FdI;FI',\n",
       " 'FdI;M5s --> L;FdI',\n",
       " 'FdI;M5s --> M5s',\n",
       " 'FdI;M5s --> NM;FdI',\n",
       " 'L;Az-Iv --> Az-Iv',\n",
       " 'L;Az-Iv --> FdI;Az-Iv',\n",
       " 'L;Az-Iv --> L;FdI',\n",
       " 'L;Az-Iv --> NM;FI;FdI;PD;L',\n",
       " 'L;Az-Iv --> PD;Az-Iv',\n",
       " 'L;FdI --> FdI;Az-Iv',\n",
       " 'L;FdI --> FdI;FI',\n",
       " 'L;FdI --> FdI;M5s',\n",
       " 'L;FdI --> NM;FI;FdI;PD;L',\n",
       " 'L;FdI --> NM;FdI',\n",
       " 'M5s --> FdI;M5s',\n",
       " 'NM;FI;FdI;PD;L --> FdI;Az-Iv',\n",
       " 'NM;FI;FdI;PD;L --> FdI;FI',\n",
       " 'NM;FI;FdI;PD;L --> L;FdI',\n",
       " 'NM;FI;FdI;PD;L --> NM;FdI',\n",
       " 'NM;FI;FdI;PD;L --> PD;AVS',\n",
       " 'NM;FI;FdI;PD;L --> PD;Az-Iv',\n",
       " 'PD --> PD;AVS',\n",
       " 'PD --> PD;Az-Iv',\n",
       " 'PD;AVS --> NM;FI;FdI;PD;L',\n",
       " 'PD;AVS --> PD',\n",
       " 'PD;AVS --> PD;Az-Iv'}"
      ]
     },
     "execution_count": 52,
     "metadata": {},
     "output_type": "execute_result"
    }
   ],
   "source": [
    "set(norealswing)"
   ]
  },
  {
   "cell_type": "code",
   "execution_count": 53,
   "metadata": {},
   "outputs": [
    {
     "data": {
      "text/plain": [
       "{'noparty --> Az-Iv',\n",
       " 'noparty --> FdI;Az-Iv',\n",
       " 'noparty --> FdI;FI',\n",
       " 'noparty --> FdI;M5s',\n",
       " 'noparty --> L;FdI',\n",
       " 'noparty --> M5s',\n",
       " 'noparty --> NM;FI;FdI;PD;L',\n",
       " 'noparty --> NM;FdI',\n",
       " 'noparty --> PD',\n",
       " 'noparty --> PD;AVS',\n",
       " 'noparty --> PD;Az-Iv'}"
      ]
     },
     "execution_count": 53,
     "metadata": {},
     "output_type": "execute_result"
    }
   ],
   "source": [
    "set(nantoparty)"
   ]
  },
  {
   "cell_type": "code",
   "execution_count": 54,
   "metadata": {},
   "outputs": [
    {
     "data": {
      "text/plain": [
       "{'Az-Iv --> noparty',\n",
       " 'FI --> noparty',\n",
       " 'FdI --> noparty',\n",
       " 'FdI;M5s --> noparty',\n",
       " 'L;Az-Iv --> noparty',\n",
       " 'L;FdI --> noparty',\n",
       " 'M5s --> noparty',\n",
       " 'NM;FI;FdI;PD;L --> noparty',\n",
       " 'PD --> noparty',\n",
       " 'PD;AVS --> noparty'}"
      ]
     },
     "execution_count": 54,
     "metadata": {},
     "output_type": "execute_result"
    }
   ],
   "source": [
    "set(partytonan)"
   ]
  },
  {
   "cell_type": "code",
   "execution_count": 55,
   "metadata": {},
   "outputs": [
    {
     "data": {
      "text/plain": [
       "{'FI --> FdI;Az-Iv',\n",
       " 'FI --> L;FdI',\n",
       " 'L;Az-Iv --> FdI;FI',\n",
       " 'L;Az-Iv --> FdI;M5s'}"
      ]
     },
     "execution_count": 55,
     "metadata": {},
     "output_type": "execute_result"
    }
   ],
   "source": [
    "set(soft_swing)"
   ]
  },
  {
   "cell_type": "code",
   "execution_count": 56,
   "metadata": {},
   "outputs": [
    {
     "data": {
      "text/plain": [
       "{'Az-Iv --> FdI;FI',\n",
       " 'Az-Iv --> L;FdI',\n",
       " 'Az-Iv --> M5s',\n",
       " 'Az-Iv --> PD;AVS',\n",
       " 'FI --> Az-Iv',\n",
       " 'FI --> PD',\n",
       " 'FI --> PD;Az-Iv',\n",
       " 'FdI --> Az-Iv',\n",
       " 'FdI --> M5s',\n",
       " 'FdI --> PD',\n",
       " 'FdI --> PD;AVS',\n",
       " 'FdI --> PD;Az-Iv',\n",
       " 'FdI;M5s --> PD;AVS',\n",
       " 'FdI;M5s --> PD;Az-Iv',\n",
       " 'L;Az-Iv --> M5s',\n",
       " 'L;Az-Iv --> PD',\n",
       " 'L;Az-Iv --> PD;AVS',\n",
       " 'L;FdI --> Az-Iv',\n",
       " 'L;FdI --> PD',\n",
       " 'L;FdI --> PD;AVS',\n",
       " 'L;FdI --> PD;Az-Iv',\n",
       " 'M5s --> FdI;Az-Iv',\n",
       " 'M5s --> FdI;FI',\n",
       " 'M5s --> L;FdI',\n",
       " 'M5s --> NM;FI;FdI;PD;L',\n",
       " 'M5s --> NM;FdI',\n",
       " 'M5s --> PD',\n",
       " 'M5s --> PD;AVS',\n",
       " 'M5s --> PD;Az-Iv',\n",
       " 'NM;FI;FdI;PD;L --> M5s',\n",
       " 'PD --> FdI;Az-Iv',\n",
       " 'PD --> FdI;FI',\n",
       " 'PD --> L;FdI',\n",
       " 'PD --> M5s',\n",
       " 'PD;AVS --> Az-Iv',\n",
       " 'PD;AVS --> FdI',\n",
       " 'PD;AVS --> FdI;Az-Iv',\n",
       " 'PD;AVS --> FdI;FI',\n",
       " 'PD;AVS --> FdI;M5s',\n",
       " 'PD;AVS --> L;FdI',\n",
       " 'PD;AVS --> M5s',\n",
       " 'PD;AVS --> NM;FdI'}"
      ]
     },
     "execution_count": 56,
     "metadata": {},
     "output_type": "execute_result"
    }
   ],
   "source": [
    "set(hard_swing)"
   ]
  }
 ],
 "metadata": {
  "kernelspec": {
   "display_name": "rapids-23.02",
   "language": "python",
   "name": "python3"
  },
  "language_info": {
   "codemirror_mode": {
    "name": "ipython",
    "version": 3
   },
   "file_extension": ".py",
   "mimetype": "text/x-python",
   "name": "python",
   "nbconvert_exporter": "python",
   "pygments_lexer": "ipython3",
   "version": "3.8.16"
  }
 },
 "nbformat": 4,
 "nbformat_minor": 2
}
