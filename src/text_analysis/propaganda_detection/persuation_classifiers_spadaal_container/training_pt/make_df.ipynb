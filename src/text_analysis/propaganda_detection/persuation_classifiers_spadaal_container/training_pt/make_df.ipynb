{
 "cells": [
  {
   "cell_type": "code",
   "execution_count": null,
   "id": "e7450e66",
   "metadata": {},
   "outputs": [],
   "source": [
    "import pandas as pd\n",
    "import os\n",
    "from tqdm import tqdm\n",
    "import pickle"
   ]
  },
  {
   "cell_type": "code",
   "execution_count": null,
   "id": "8d0479ab",
   "metadata": {},
   "outputs": [],
   "source": []
  },
  {
   "cell_type": "code",
   "execution_count": 10,
   "id": "807fe73a",
   "metadata": {},
   "outputs": [
    {
     "name": "stderr",
     "output_type": "stream",
     "text": [
      "30it [00:00, 135.81it/s]\n",
      "29it [00:00, 174.77it/s]\n",
      "64it [00:00, 155.86it/s]\n"
     ]
    }
   ],
   "source": [
    "# For each lang, iterate through all the documents\n",
    "# Creates two DataFrames, one with text and one with spans\n",
    "\n",
    "LANGS = ['en', 'fr', 'ge', 'it', 'po', 'ru']\n",
    "subsets = ['train','dev','test']\n",
    "\n",
    "spans = []\n",
    "text = []\n",
    "for subset in subsets:\n",
    "    for lang in LANGS:\n",
    "\n",
    "        FOLDER_TXT = './SemEval-2023-task3-corpus-main-data/data/{}/{}-articles-subtask-3/'.format(lang,subset)\n",
    "        FOLDER_SPAN = './SemEval-2023-task3-corpus-main-data/data/{}/{}-labels-subtask-3-spans/'.format(lang,subset)\n",
    "\n",
    "        path_span = FOLDER_SPAN.format(lang)\n",
    "        path_text = FOLDER_TXT.format(lang)\n",
    "        for fn in tqdm(filter(lambda x: x.endswith('.txt'), os.listdir(path_span))):\n",
    "            try:\n",
    "                span = pd.read_csv(path_span+fn, sep='\\t', header=None)\n",
    "            except pd.errors.EmptyDataError:\n",
    "                span = pd.DataFrame([])\n",
    "\n",
    "            id_ = fn[7:].split('-')[0]\n",
    "            spans.append(span)\n",
    "            text.append((id_,lang,\n",
    "                open(path_text + fn.split('-')[0] + '.txt','r').read()))"
   ]
  },
  {
   "cell_type": "code",
   "execution_count": 11,
   "id": "6bbe19ba",
   "metadata": {},
   "outputs": [],
   "source": [
    "## Save to .csv\n",
    "\n",
    "df = pd.concat(spans).set_axis(['id','class','start','end'], axis=1)\n",
    "\n",
    "#Save dataframe with Spans\n",
    "pd.DataFrame(df).to_csv('./full_split/st3-{}_spans.csv'.format(subset), index=False)\n",
    "\n",
    "#Save dataframe with Text\n",
    "pd.DataFrame(text).set_axis(['id', 'lang', 'text'], axis=1).to_csv('./full_split/st3-{}_text.csv'.format(subset), index=False)"
   ]
  },
  {
   "cell_type": "code",
   "execution_count": null,
   "id": "3b2b705b",
   "metadata": {},
   "outputs": [],
   "source": []
  },
  {
   "cell_type": "code",
   "execution_count": null,
   "id": "c067a209",
   "metadata": {},
   "outputs": [],
   "source": []
  },
  {
   "cell_type": "code",
   "execution_count": 66,
   "id": "53f65ec7",
   "metadata": {},
   "outputs": [],
   "source": [
    "#pt_labels = dict(enumerate(sorted(df['class'].unique())))\n",
    "#pickle.dump(pt_labels, open('label_dict-golden.pkl','wb'))\n"
   ]
  },
  {
   "cell_type": "code",
   "execution_count": 65,
   "id": "f6a55339",
   "metadata": {},
   "outputs": [
    {
     "data": {
      "text/plain": [
       "{0: 'Appeal_to_Authority',\n",
       " 1: 'Appeal_to_Fear-Prejudice',\n",
       " 2: 'Appeal_to_Hypocrisy',\n",
       " 3: 'Appeal_to_Popularity',\n",
       " 4: 'Appeal_to_Time',\n",
       " 5: 'Appeal_to_Values',\n",
       " 6: 'Causal_Oversimplification',\n",
       " 7: 'Consequential_Oversimplification',\n",
       " 8: 'Conversation_Killer',\n",
       " 9: 'Doubt',\n",
       " 10: 'Exaggeration-Minimisation',\n",
       " 11: 'False_Dilemma-No_Choice',\n",
       " 12: 'Flag_Waving',\n",
       " 13: 'Guilt_by_Association',\n",
       " 14: 'Loaded_Language',\n",
       " 15: 'Name_Calling-Labeling',\n",
       " 16: 'Obfuscation-Vagueness-Confusion',\n",
       " 17: 'Questioning_the_Reputation',\n",
       " 18: 'Red_Herring',\n",
       " 19: 'Repetition',\n",
       " 20: 'Slogans',\n",
       " 21: 'Straw_Man',\n",
       " 22: 'Whataboutism'}"
      ]
     },
     "execution_count": 65,
     "metadata": {},
     "output_type": "execute_result"
    }
   ],
   "source": [
    "pt_labels"
   ]
  },
  {
   "cell_type": "code",
   "execution_count": null,
   "id": "7a1a2cd3",
   "metadata": {},
   "outputs": [],
   "source": []
  },
  {
   "cell_type": "code",
   "execution_count": null,
   "id": "30cb207f",
   "metadata": {},
   "outputs": [],
   "source": []
  },
  {
   "cell_type": "code",
   "execution_count": null,
   "id": "68f11d04",
   "metadata": {},
   "outputs": [],
   "source": []
  }
 ],
 "metadata": {
  "kernelspec": {
   "display_name": "Python 3 (ipykernel)",
   "language": "python",
   "name": "python3"
  },
  "language_info": {
   "codemirror_mode": {
    "name": "ipython",
    "version": 3
   },
   "file_extension": ".py",
   "mimetype": "text/x-python",
   "name": "python",
   "nbconvert_exporter": "python",
   "pygments_lexer": "ipython3",
   "version": "3.7.13"
  }
 },
 "nbformat": 4,
 "nbformat_minor": 5
}
