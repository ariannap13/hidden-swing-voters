{
 "cells": [
  {
   "cell_type": "code",
   "execution_count": 27,
   "id": "8450bf30-e17b-45b4-b91f-8275f9063fac",
   "metadata": {},
   "outputs": [
    {
     "name": "stdout",
     "output_type": "stream",
     "text": [
      "The autoreload extension is already loaded. To reload it, use:\n",
      "  %reload_ext autoreload\n"
     ]
    }
   ],
   "source": [
    "import pandas as pd\n",
    "import ipywidgets as ipw\n",
    "import json\n",
    "from pt_widget import PT_widget\n",
    "%load_ext autoreload\n",
    "%autoreload 2"
   ]
  },
  {
   "cell_type": "code",
   "execution_count": 36,
   "id": "60457f90-93ef-4fe0-9504-965eee2309de",
   "metadata": {},
   "outputs": [
    {
     "data": {
      "application/vnd.jupyter.widget-view+json": {
       "model_id": "cad45df42ae347fead851da49d7c4837",
       "version_major": 2,
       "version_minor": 0
      },
      "text/plain": [
       "Select(description='guid (# detections)', layout=Layout(height='200px', width='700px'), options=(('nachrichten…"
      ]
     },
     "metadata": {},
     "output_type": "display_data"
    },
    {
     "data": {
      "application/vnd.jupyter.widget-view+json": {
       "model_id": "373b38f9135e4ac99fe95a9ea64927db",
       "version_major": 2,
       "version_minor": 0
      },
      "text/plain": [
       "Output()"
      ]
     },
     "metadata": {},
     "output_type": "display_data"
    }
   ],
   "source": [
    "df = pd.read_csv('../../data/nuclear/nuclear_mstr.csv').iloc[:200]\n",
    "#df.id = df.id.apply(str)\n",
    "results_sentence = dict(json.load(open('../nuclear-pt_sent.json','r')))\n",
    "\n",
    "PT_widget(df, results_sentence, uid_column='guid')"
   ]
  },
  {
   "cell_type": "code",
   "execution_count": null,
   "id": "40483414-a606-4f9a-b779-b13e25a79113",
   "metadata": {},
   "outputs": [],
   "source": []
  },
  {
   "cell_type": "code",
   "execution_count": null,
   "id": "95f7235c-239b-404e-9679-c5d44af9e0b3",
   "metadata": {},
   "outputs": [],
   "source": []
  }
 ],
 "metadata": {
  "kernelspec": {
   "display_name": "Python [conda-displacy]",
   "language": "python",
   "name": "conda-env-conda-displacy-py"
  },
  "language_info": {
   "codemirror_mode": {
    "name": "ipython",
    "version": 3
   },
   "file_extension": ".py",
   "mimetype": "text/x-python",
   "name": "python",
   "nbconvert_exporter": "python",
   "pygments_lexer": "ipython3",
   "version": "3.11.0"
  }
 },
 "nbformat": 4,
 "nbformat_minor": 5
}
