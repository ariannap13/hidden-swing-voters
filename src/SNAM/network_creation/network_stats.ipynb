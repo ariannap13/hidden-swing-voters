{
 "cells": [
  {
   "cell_type": "code",
   "execution_count": 9,
   "metadata": {},
   "outputs": [],
   "source": [
    "import igraph\n",
    "import networkx as nx\n",
    "import netbone as nb\n",
    "import numpy as np\n",
    "import pandas as pd\n",
    "import pickle\n",
    "\n",
    "import os"
   ]
  },
  {
   "cell_type": "markdown",
   "metadata": {},
   "source": [
    "## Loading the nets"
   ]
  },
  {
   "cell_type": "code",
   "execution_count": 2,
   "metadata": {},
   "outputs": [],
   "source": [
    "# Reading data\n",
    "original_path = '../../../data/02_network_data'\n",
    "backbones_path = '../../../data/03_backbone_nets'"
   ]
  },
  {
   "cell_type": "markdown",
   "metadata": {},
   "source": [
    "### Utils"
   ]
  },
  {
   "cell_type": "code",
   "execution_count": 10,
   "metadata": {},
   "outputs": [],
   "source": [
    "# remove self-loops\n",
    "def simplify_and_return(data: pd.DataFrame, directed=False, weighted=True, strategy=\"sum\"):\n",
    "    # Creating the corresponding igraph object\n",
    "    print(\"Creating the igraph object from data...\")\n",
    "    g = igraph.Graph.TupleList(\n",
    "                data[['source', 'target', 'weight']].itertuples(index=False),\n",
    "                directed=False,\n",
    "                weights=True)\n",
    "    print(\"-\"*50)\n",
    "\n",
    "    # Some info on the graph\n",
    "    print(f\"g has {g.vcount()} nodes and {g.ecount()} edges\")\n",
    "    print(f\"g is simple: {g.is_simple()}\")\n",
    "    print(f\"g is weighted: {g.is_weighted()}\")\n",
    "    print(\"-\"*50)\n",
    "\n",
    "    # Simplifying the graph\n",
    "    print(\"Simplifying g...\")\n",
    "    g = g.simplify(combine_edges=dict(weight=strategy))\n",
    "\n",
    "    # Counting isolated\n",
    "    degrees = g.degree()\n",
    "    vertices_with_degree_zero = [v for v, d in enumerate(degrees) if d == 0]\n",
    "\n",
    "    # Some info on the graph\n",
    "    print(f\"g has {g.vcount()} nodes and {g.ecount()} edges\")\n",
    "    print(f\"g has {len(vertices_with_degree_zero)} isolated nodes\")\n",
    "    print(f\"g is simple: {g.is_simple()}\")\n",
    "    print(f\"g is weighted: {g.is_weighted()}\")\n",
    "    print(\"-\"*50)\n",
    "\n",
    "    # Returning to df\n",
    "    print(\"Re-creating data (from simple graph)...\")\n",
    "    edgelist = [(g.vs[e.source][\"name\"], g.vs[e.target][\"name\"], g.es[idx][\"weight\"]) for idx, e in enumerate(g.es)]\n",
    "    print(edgelist[:3])\n",
    "    data_simple = pd.DataFrame(edgelist, columns=['source', 'target', 'weight'])\n",
    "    data_simple['source'] = data_simple['source'].astype(str)\n",
    "    data_simple['target'] = data_simple['target'].astype(str)\n",
    "    data_simple['weight'] = data_simple['weight'].astype(int)\n",
    "    print(data_simple.head())\n",
    "    print(\"-\"*50)\n",
    "    \n",
    "    return data_simple"
   ]
  },
  {
   "cell_type": "markdown",
   "metadata": {},
   "source": [
    "### Original nets"
   ]
  },
  {
   "cell_type": "code",
   "execution_count": 11,
   "metadata": {},
   "outputs": [
    {
     "name": "stdout",
     "output_type": "stream",
     "text": [
      "Before data has shape:  (1013501, 3)\n",
      "During data has shape:  (1373674, 3)\n",
      "After data has shape:  (1330480, 3)\n"
     ]
    }
   ],
   "source": [
    "before_data = pd.read_csv(os.path.join(original_path, 'before_campaign.graph'))\n",
    "during_data = pd.read_csv(os.path.join(original_path, 'electoral_campaign.graph'))\n",
    "after_data = pd.read_csv(os.path.join(original_path, 'after_elections.graph'))\n",
    "\n",
    "# Forcing the conversion to string\n",
    "before_data['source'] = before_data['source'].astype(str)\n",
    "before_data['target'] = before_data['target'].astype(str)\n",
    "during_data['source'] = during_data['source'].astype(str)\n",
    "during_data['target'] = during_data['target'].astype(str)\n",
    "after_data['source'] = after_data['source'].astype(str)\n",
    "after_data['target'] = after_data['target'].astype(str)\n",
    "\n",
    "# Shapes\n",
    "print(\"Before data has shape: \", before_data.shape)\n",
    "print(\"During data has shape: \", during_data.shape)\n",
    "print(\"After data has shape: \", after_data.shape) "
   ]
  },
  {
   "cell_type": "code",
   "execution_count": 12,
   "metadata": {},
   "outputs": [
    {
     "name": "stdout",
     "output_type": "stream",
     "text": [
      "Creating the igraph object from data...\n",
      "--------------------------------------------------\n",
      "g has 120644 nodes and 1013501 edges\n",
      "g is simple: False\n",
      "g is weighted: True\n",
      "--------------------------------------------------\n",
      "Simplifying g...\n",
      "g has 120644 nodes and 1009968 edges\n",
      "g has 30 isolated nodes\n",
      "g is simple: True\n",
      "g is weighted: True\n",
      "--------------------------------------------------\n",
      "Re-creating data (from simple graph)...\n",
      "[('1111697667946659840', '52424550', 355.0), ('1111697667946659840', '289400495', 125.0), ('1111697667946659840', '2983707267', 114.0)]\n",
      "                source              target  weight\n",
      "0  1111697667946659840            52424550     355\n",
      "1  1111697667946659840           289400495     125\n",
      "2  1111697667946659840          2983707267     114\n",
      "3  1111697667946659840           274093178      64\n",
      "4  1111697667946659840  999578121123848192      35\n",
      "--------------------------------------------------\n",
      "Creating the igraph object from data...\n",
      "--------------------------------------------------\n",
      "g has 183860 nodes and 1373674 edges\n",
      "g is simple: False\n",
      "g is weighted: True\n",
      "--------------------------------------------------\n",
      "Simplifying g...\n",
      "g has 183860 nodes and 1366268 edges\n",
      "g has 172 isolated nodes\n",
      "g is simple: True\n",
      "g is weighted: True\n",
      "--------------------------------------------------\n",
      "Re-creating data (from simple graph)...\n",
      "[('1326455841411788801', '1326455841411788800', 1261.0), ('1326455841411788800', '1392398509253480448', 1.0), ('1326455841411788800', '1310209976', 1.0)]\n",
      "                source               target  weight\n",
      "0  1326455841411788801  1326455841411788800    1261\n",
      "1  1326455841411788800  1392398509253480448       1\n",
      "2  1326455841411788800           1310209976       1\n",
      "3  1326455841411788800            575482322       1\n",
      "4  1326455841411788800           3426504598       1\n",
      "--------------------------------------------------\n",
      "Creating the igraph object from data...\n",
      "--------------------------------------------------\n",
      "g has 254108 nodes and 1330480 edges\n",
      "g is simple: False\n",
      "g is weighted: True\n",
      "--------------------------------------------------\n",
      "Simplifying g...\n",
      "g has 254108 nodes and 1325370 edges\n",
      "g has 254 isolated nodes\n",
      "g is simple: True\n",
      "g is weighted: True\n",
      "--------------------------------------------------\n",
      "Re-creating data (from simple graph)...\n",
      "[('1326455841411788801', '1326455841411788800', 989.0), ('1326455841411788800', '406981868', 1.0), ('1326455841411788800', '1550183344054456320', 1.0)]\n",
      "                source               target  weight\n",
      "0  1326455841411788801  1326455841411788800     989\n",
      "1  1326455841411788800            406981868       1\n",
      "2  1326455841411788800  1550183344054456320       1\n",
      "3  1326455841411788800           2889852755       1\n",
      "4  1326455841411788800           1069275696       3\n",
      "--------------------------------------------------\n"
     ]
    }
   ],
   "source": [
    "# Simplifying original nets\n",
    "before_data = simplify_and_return(before_data)\n",
    "during_data = simplify_and_return(during_data)\n",
    "after_data = simplify_and_return(after_data)"
   ]
  },
  {
   "cell_type": "code",
   "execution_count": 13,
   "metadata": {},
   "outputs": [
    {
     "name": "stdout",
     "output_type": "stream",
     "text": [
      "Before graph has:  120614  nodes and  1009968  edges\n",
      "During graph has:  183688  nodes and  1366268  edges\n",
      "After graph has:  253854  nodes and  1325370  edges\n",
      "Before graph (indirected) has:  120614  nodes and  1009968  edges\n",
      "During graph (indirected) has:  183688  nodes and  1366268  edges\n",
      "After graph (indirected) has:  253854  nodes and  1325370  edges\n"
     ]
    }
   ],
   "source": [
    "# Creating directed graphs\n",
    "before_graph = nx.from_pandas_edgelist(before_data, source='source', target='target', edge_attr='weight', create_using=nx.DiGraph())\n",
    "during_graph = nx.from_pandas_edgelist(during_data, source='source', target='target', edge_attr='weight', create_using=nx.DiGraph())\n",
    "after_graph = nx.from_pandas_edgelist(after_data, source='source', target='target', edge_attr='weight', create_using=nx.DiGraph())\n",
    "\n",
    "# Some basic stats\n",
    "print(\"Before graph has: \", before_graph.number_of_nodes(), \" nodes and \", before_graph.number_of_edges(), \" edges\")\n",
    "print(\"During graph has: \", during_graph.number_of_nodes(), \" nodes and \", during_graph.number_of_edges(), \" edges\")\n",
    "print(\"After graph has: \", after_graph.number_of_nodes(), \" nodes and \", after_graph.number_of_edges(), \" edges\")\n",
    "\n",
    "# Creating indirected graphs\n",
    "before_graph_ind = nx.from_pandas_edgelist(before_data, source='source', target='target', edge_attr='weight', create_using=nx.Graph())\n",
    "during_graph_ind = nx.from_pandas_edgelist(during_data, source='source', target='target', edge_attr='weight', create_using=nx.Graph())\n",
    "after_graph_ind = nx.from_pandas_edgelist(after_data, source='source', target='target', edge_attr='weight', create_using=nx.Graph())\n",
    "\n",
    "# Some basic stats\n",
    "print(\"Before graph (indirected) has: \", before_graph_ind.number_of_nodes(), \" nodes and \", before_graph_ind.number_of_edges(), \" edges\")\n",
    "print(\"During graph (indirected) has: \", during_graph_ind.number_of_nodes(), \" nodes and \", during_graph_ind.number_of_edges(), \" edges\")\n",
    "print(\"After graph (indirected) has: \", after_graph_ind.number_of_nodes(), \" nodes and \", after_graph_ind.number_of_edges(), \" edges\")"
   ]
  },
  {
   "cell_type": "markdown",
   "metadata": {},
   "source": [
    "### Backbone networks"
   ]
  },
  {
   "cell_type": "code",
   "execution_count": 7,
   "metadata": {},
   "outputs": [
    {
     "name": "stdout",
     "output_type": "stream",
     "text": [
      "(backbone) Before data has shape:  (1013501, 3)\n",
      "(backbone) During data has shape:  (1373674, 3)\n",
      "(backbone) After data has shape:  (1330480, 3)\n"
     ]
    }
   ],
   "source": [
    "before_data_backbone = pd.read_csv(os.path.join(backbones_path, 'before_campaign_backbone.csv'))\n",
    "during_data_backbone = pd.read_csv(os.path.join(backbones_path, 'electoral_campaign_backbone.csv'))\n",
    "after_data_backbone = pd.read_csv(os.path.join(backbones_path, 'after_elections_backbone.csv'))\n",
    "\n",
    "# Forcing the conversion to string \n",
    "before_data_backbone['source'] = before_data_backbone['source'].astype(str)\n",
    "before_data_backbone['target'] = before_data_backbone['target'].astype(str)\n",
    "during_data_backbone['source'] = during_data_backbone['source'].astype(str)\n",
    "during_data_backbone['target'] = during_data_backbone['target'].astype(str)\n",
    "after_data_backbone['source'] = after_data_backbone['source'].astype(str)\n",
    "after_data_backbone['target'] = after_data_backbone['target'].astype(str)\n",
    "\n",
    "# Shapes\n",
    "print(\"(backbone) Before data has shape: \", before_data.shape)\n",
    "print(\"(backbone) During data has shape: \", during_data.shape)\n",
    "print(\"(backbone) After data has shape: \", after_data.shape)"
   ]
  },
  {
   "cell_type": "code",
   "execution_count": 8,
   "metadata": {},
   "outputs": [
    {
     "name": "stdout",
     "output_type": "stream",
     "text": [
      "(backbone) Before graph has:  12008  nodes and  38209  edges\n",
      "(backbone) During graph has:  18150  nodes and  56953  edges\n",
      "(backbone) After graph has:  15943  nodes and  42864  edges\n",
      "(backbone) Before graph (indirected) has:  12008  nodes and  38209  edges\n",
      "(backbone) During graph (indirected) has:  18150  nodes and  56953  edges\n",
      "(backbone) After graph (indirected) has:  15943  nodes and  42864  edges\n"
     ]
    }
   ],
   "source": [
    "# Creating directed graphs\n",
    "before_graph_backbone = nx.from_pandas_edgelist(before_data_backbone, source='source', target='target', edge_attr='weight', create_using=nx.DiGraph())\n",
    "during_graph_backbone = nx.from_pandas_edgelist(during_data_backbone, source='source', target='target', edge_attr='weight', create_using=nx.DiGraph())\n",
    "after_graph_backbone = nx.from_pandas_edgelist(after_data_backbone, source='source', target='target', edge_attr='weight', create_using=nx.DiGraph())\n",
    "\n",
    "# Some basic stats\n",
    "print(\"(backbone) Before graph has: \", before_graph_backbone.number_of_nodes(), \" nodes and \", before_graph_backbone.number_of_edges(), \" edges\")\n",
    "print(\"(backbone) During graph has: \", during_graph_backbone.number_of_nodes(), \" nodes and \", during_graph_backbone.number_of_edges(), \" edges\")\n",
    "print(\"(backbone) After graph has: \", after_graph_backbone.number_of_nodes(), \" nodes and \", after_graph_backbone.number_of_edges(), \" edges\")\n",
    "\n",
    "# Creating indirected graphs\n",
    "before_graph_ind_backbone = nx.from_pandas_edgelist(before_data_backbone, source='source', target='target', edge_attr='weight', create_using=nx.Graph())\n",
    "during_graph_ind_backbone = nx.from_pandas_edgelist(during_data_backbone, source='source', target='target', edge_attr='weight', create_using=nx.Graph())\n",
    "after_graph_ind_backbone = nx.from_pandas_edgelist(after_data_backbone, source='source', target='target', edge_attr='weight', create_using=nx.Graph())\n",
    "\n",
    "# Some basic stats\n",
    "print(\"(backbone) Before graph (indirected) has: \", before_graph_ind_backbone.number_of_nodes(), \" nodes and \", before_graph_ind_backbone.number_of_edges(), \" edges\")\n",
    "print(\"(backbone) During graph (indirected) has: \", during_graph_ind_backbone.number_of_nodes(), \" nodes and \", during_graph_ind_backbone.number_of_edges(), \" edges\")\n",
    "print(\"(backbone) After graph (indirected) has: \", after_graph_ind_backbone.number_of_nodes(), \" nodes and \", after_graph_ind_backbone.number_of_edges(), \" edges\")"
   ]
  },
  {
   "cell_type": "markdown",
   "metadata": {},
   "source": [
    "## Evaluating network properties"
   ]
  },
  {
   "cell_type": "code",
   "execution_count": 32,
   "metadata": {},
   "outputs": [],
   "source": [
    "def eval_properties(graph, graph_ind):\n",
    "    # Reciprocity\n",
    "    print(\"Reciprocity: \", nx.reciprocity(graph))\n",
    "\n",
    "    # Density\n",
    "    print(\"Density: \", nx.density(graph))\n",
    "\n",
    "    # Average degree\n",
    "    print(\"Average degree (ind): \", np.mean(list(dict(graph_ind.degree()).values())))\n",
    "\n",
    "    # Average in-degree\n",
    "    print(\"Average in-degree: \", np.mean(list(dict(graph.in_degree()).values())))\n",
    "\n",
    "    # % of nodes with 0 in-degree (sources)\n",
    "    print(\"% of sources (0 in-degree): \", len([n for n, d in graph.in_degree() if d == 0])/graph.number_of_nodes())\n",
    "\n",
    "    # % of nodes with 0 out-degree (sinks)\n",
    "    print(\"% of sinks (0 out-degree): \", len([n for n, d in graph.out_degree() if d == 0])/graph.number_of_nodes())\n",
    "\n",
    "    # Degree assortativity\n",
    "    print(\"Degree assortativity (ind): \", nx.degree_assortativity_coefficient(graph_ind))\n",
    "\n",
    "    # Degree assortativity\n",
    "    print(\"Degree assortativity: \", nx.degree_assortativity_coefficient(graph))\n",
    "\n",
    "    # Transitivity\n",
    "    print(\"Transitivity: \", nx.transitivity(graph_ind))\n",
    "\n",
    "    # Clustering coefficient\n",
    "    print(\"Clustering coefficient: \", nx.average_clustering(graph_ind))\n",
    "\n",
    "    # Number of strong connected components\n",
    "    print(\"Number of strong connected components: \", nx.number_strongly_connected_components(graph))\n",
    "\n",
    "    # Number of weak connected components\n",
    "    print(\"Number of weak connected components: \", nx.number_weakly_connected_components(graph))\n",
    "\n",
    "    # Connected components\n",
    "    cc = list(nx.connected_components(graph_ind))\n",
    "\n",
    "    if len(cc) > 1:\n",
    "        # get the largest component\n",
    "        cc_max = graph.subgraph(cc[0])\n",
    "        print(\"Number of nodes in the largest component: \", cc_max.number_of_nodes())\n",
    "\n",
    "        try:\n",
    "            # Average shortest path\n",
    "            print(\"Average shortest path in the largest component: \", nx.average_shortest_path_length(cc_max))\n",
    "        except nx.NetworkXError:\n",
    "            print(\"Average shortest path in the largest component: \", \"Not strongly connected\", \"Trying on the indirected graph...\")\n",
    "            print(\"Average shortest path in the largest component: \", nx.average_shortest_path_length(cc_max.to_undirected()))\n",
    "\n",
    "        try:\n",
    "            # Diameter\n",
    "            print(\"Diameter of the largest cc: \", nx.diameter(cc_max))\n",
    "        except nx.NetworkXError:\n",
    "            print(\"Diameter of the largest cc: \", \"Not strongly connected\", \"Trying on the indirected graph...\")\n",
    "            print(\"Diameter of the largest cc: \", nx.diameter(cc_max.to_undirected()))\n",
    "    else:\n",
    "        try:\n",
    "            # Average shortest path\n",
    "            print(\"Average shortest path: \", nx.average_shortest_path_length(graph))\n",
    "        except nx.NetworkXError:\n",
    "            print(\"Average shortest path: \", \"Not possible to compute\", \"Trying on the indirected graph...\")\n",
    "            print(\"Average shortest path: \", nx.average_shortest_path_length(graph_ind))\n",
    "\n",
    "        try:\n",
    "             # Diameter\n",
    "            print(\"Diameter: \", nx.diameter(graph))\n",
    "        except nx.NetworkXError:\n",
    "            print(\"Diameter: \", \"Not possible to compute\", \"Trying on the indirected graph...\")\n",
    "            print(\"Diameter: \", nx.diameter(graph_ind))"
   ]
  },
  {
   "cell_type": "code",
   "execution_count": 36,
   "metadata": {},
   "outputs": [],
   "source": [
    "def eval_properties_short(graph, graph_ind):\n",
    "    # Reciprocity\n",
    "    print(\"Reciprocity: \", nx.reciprocity(graph))\n",
    "\n",
    "    # Density\n",
    "    print(\"Density: \", nx.density(graph))\n",
    "\n",
    "    # Average degree\n",
    "    print(\"Average degree (ind): \", np.mean(list(dict(graph_ind.degree()).values())))\n",
    "\n",
    "    # Average in-degree\n",
    "    print(\"Average in-degree: \", np.mean(list(dict(graph.in_degree()).values())))\n",
    "\n",
    "    # % of nodes with 0 in-degree (sources)\n",
    "    print(\"% of sources (0 in-degree): \", len([n for n, d in graph.in_degree() if d == 0])/graph.number_of_nodes())\n",
    "\n",
    "    # % of nodes with 0 out-degree (sinks)\n",
    "    print(\"% of sinks (0 out-degree): \", len([n for n, d in graph.out_degree() if d == 0])/graph.number_of_nodes())\n",
    "\n",
    "    # Degree assortativity\n",
    "    print(\"Degree assortativity (ind): \", nx.degree_assortativity_coefficient(graph_ind))\n",
    "\n",
    "    # Degree assortativity\n",
    "    print(\"Degree assortativity: \", nx.degree_assortativity_coefficient(graph))\n",
    "\n",
    "    # Transitivity\n",
    "    print(\"Transitivity: \", nx.transitivity(graph_ind))\n",
    "\n",
    "    # Clustering coefficient\n",
    "    print(\"Clustering coefficient: \", nx.average_clustering(graph_ind))\n",
    "\n",
    "    # Number of strong connected components\n",
    "    print(\"Number of strong connected components: \", nx.number_strongly_connected_components(graph))\n",
    "\n",
    "    # Number of weak connected components\n",
    "    print(\"Number of weak connected components: \", nx.number_weakly_connected_components(graph))\n",
    "\n",
    "    # Connected components\n",
    "    cc = list(nx.connected_components(graph_ind))\n",
    "    cc_max = graph.subgraph(cc[0])\n",
    "    print(\"Number of nodes/edges in the largest component: \", cc_max.number_of_nodes(), \"/\", cc_max.number_of_edges())"
   ]
  },
  {
   "cell_type": "markdown",
   "metadata": {},
   "source": [
    "### Before propaganda"
   ]
  },
  {
   "cell_type": "code",
   "execution_count": 37,
   "metadata": {},
   "outputs": [
    {
     "name": "stdout",
     "output_type": "stream",
     "text": [
      "Reciprocity:  0.0\n",
      "Density:  6.942498162445703e-05\n",
      "Average degree (ind):  16.74711061734127\n",
      "Average in-degree:  8.373555308670635\n",
      "% of sources (0 in-degree):  0.0023794916013066478\n",
      "% of sinks (0 out-degree):  0.9051188087618353\n",
      "Degree assortativity (ind):  -0.26111811704200866\n",
      "Degree assortativity:  -0.19312691537163343\n",
      "Transitivity:  0.020323290658872065\n",
      "Clustering coefficient:  0.07030188639607528\n",
      "Number of strong connected components:  120614\n",
      "Number of weak connected components:  200\n",
      "Number of nodes/edges in the largest component:  118782  /  1008322\n"
     ]
    }
   ],
   "source": [
    "# original network\n",
    "eval_properties_short(before_graph, before_graph_ind)"
   ]
  },
  {
   "cell_type": "code",
   "execution_count": 35,
   "metadata": {},
   "outputs": [
    {
     "name": "stdout",
     "output_type": "stream",
     "text": [
      "Reciprocity:  0.0\n",
      "Density:  0.00026500891357678487\n",
      "Average degree (ind):  6.363924050632911\n",
      "Average in-degree:  3.1819620253164556\n",
      "% of sources (0 in-degree):  0.0073284477015323115\n",
      "% of sinks (0 out-degree):  0.7902231845436376\n",
      "Degree assortativity (ind):  -0.3528463372863449\n",
      "Degree assortativity:  -0.3570842565412934\n",
      "Transitivity:  0.0054079583131175545\n",
      "Clustering coefficient:  0.03339881119919926\n",
      "Number of strong connected components:  12008\n",
      "Number of weak connected components:  39\n",
      "Number of nodes in the largest component:  11874\n",
      "Average shortest path in the largest component:  0.11209434512562995\n",
      "Diameter of the largest cc:  Not strongly connected Trying on the indirected graph...\n",
      "Diameter of the largest cc:  11\n"
     ]
    }
   ],
   "source": [
    "eval_properties(before_graph_backbone, before_graph_ind_backbone)"
   ]
  },
  {
   "cell_type": "markdown",
   "metadata": {},
   "source": [
    "### Electoral campaign"
   ]
  },
  {
   "cell_type": "code",
   "execution_count": 38,
   "metadata": {},
   "outputs": [
    {
     "name": "stdout",
     "output_type": "stream",
     "text": [
      "Reciprocity:  0.0\n",
      "Density:  4.04926957009368e-05\n",
      "Average degree (ind):  14.875963590435957\n",
      "Average in-degree:  7.437981795217978\n",
      "% of sources (0 in-degree):  0.011563085231479465\n",
      "% of sinks (0 out-degree):  0.8219480858847611\n",
      "Degree assortativity (ind):  -0.1800762067863841\n",
      "Degree assortativity:  -0.17426710676399415\n",
      "Transitivity:  0.024833955528452276\n",
      "Clustering coefficient:  0.06626492069842835\n",
      "Number of strong connected components:  183688\n",
      "Number of weak connected components:  1730\n",
      "Number of nodes/edges in the largest component:  178665  /  1362937\n"
     ]
    }
   ],
   "source": [
    "# original network\n",
    "eval_properties_short(during_graph, during_graph_ind)"
   ]
  },
  {
   "cell_type": "code",
   "execution_count": 33,
   "metadata": {},
   "outputs": [
    {
     "name": "stdout",
     "output_type": "stream",
     "text": [
      "Reciprocity:  0.0\n",
      "Density:  0.00017289692743887566\n",
      "Average degree (ind):  6.275812672176309\n",
      "Average in-degree:  3.1379063360881543\n",
      "% of sources (0 in-degree):  0.028705234159779613\n",
      "% of sinks (0 out-degree):  0.7503030303030302\n",
      "Degree assortativity (ind):  -0.23274757650292868\n",
      "Degree assortativity:  -0.25497647031714304\n",
      "Transitivity:  0.006494839274780131\n",
      "Clustering coefficient:  0.04669296659182464\n",
      "Number of strong connected components:  18150\n",
      "Number of weak connected components:  377\n",
      "Number of nodes in the largest component:  17155\n",
      "Average shortest path in the largest component:  0.13027033691095055\n",
      "Diameter of the largest cc:  Not strongly connected Trying on the indirected graph...\n",
      "Diameter of the largest cc:  13\n"
     ]
    }
   ],
   "source": [
    "eval_properties(during_graph_backbone, during_graph_ind_backbone)"
   ]
  },
  {
   "cell_type": "markdown",
   "metadata": {},
   "source": [
    "### After elections"
   ]
  },
  {
   "cell_type": "code",
   "execution_count": 39,
   "metadata": {},
   "outputs": [
    {
     "name": "stdout",
     "output_type": "stream",
     "text": [
      "Reciprocity:  0.0\n",
      "Density:  2.0566994163165453e-05\n",
      "Average degree (ind):  10.44198633860408\n",
      "Average in-degree:  5.22099316930204\n",
      "% of sources (0 in-degree):  0.012184168852962727\n",
      "% of sinks (0 out-degree):  0.8490352722431004\n",
      "Degree assortativity (ind):  -0.05466021917244073\n",
      "Degree assortativity:  -0.14468829869737096\n",
      "Transitivity:  0.0056590672076504075\n",
      "Clustering coefficient:  0.04107953808380127\n",
      "Number of strong connected components:  253854\n",
      "Number of weak connected components:  2507\n",
      "Number of nodes/edges in the largest component:  247098  /  1321096\n"
     ]
    }
   ],
   "source": [
    "# original network\n",
    "eval_properties_short(after_graph, after_graph_ind)"
   ]
  },
  {
   "cell_type": "code",
   "execution_count": 34,
   "metadata": {},
   "outputs": [
    {
     "name": "stdout",
     "output_type": "stream",
     "text": [
      "Reciprocity:  0.0\n",
      "Density:  0.0001686474758083293\n",
      "Average degree (ind):  5.377156118672771\n",
      "Average in-degree:  2.6885780593363857\n",
      "% of sources (0 in-degree):  0.033055259361475256\n",
      "% of sinks (0 out-degree):  0.7597691776955403\n",
      "Degree assortativity (ind):  -0.19463161475327298\n",
      "Degree assortativity:  -0.244163037349016\n",
      "Transitivity:  0.004137125192766811\n",
      "Clustering coefficient:  0.02481852360569492\n",
      "Number of strong connected components:  15943\n",
      "Number of weak connected components:  382\n",
      "Number of nodes in the largest component:  14961\n",
      "Average shortest path in the largest component:  0.08616471453229377\n",
      "Diameter of the largest cc:  Not strongly connected Trying on the indirected graph...\n",
      "Diameter of the largest cc:  15\n"
     ]
    }
   ],
   "source": [
    "eval_properties(after_graph_backbone, after_graph_ind_backbone)"
   ]
  }
 ],
 "metadata": {
  "kernelspec": {
   "display_name": "env",
   "language": "python",
   "name": "python3"
  },
  "language_info": {
   "codemirror_mode": {
    "name": "ipython",
    "version": 3
   },
   "file_extension": ".py",
   "mimetype": "text/x-python",
   "name": "python",
   "nbconvert_exporter": "python",
   "pygments_lexer": "ipython3",
   "version": "3.11.8"
  }
 },
 "nbformat": 4,
 "nbformat_minor": 2
}
