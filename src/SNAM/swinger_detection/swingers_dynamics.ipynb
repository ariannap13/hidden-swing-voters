{
 "cells": [
  {
   "cell_type": "code",
   "execution_count": 1,
   "metadata": {},
   "outputs": [],
   "source": [
    "import matplotlib.pyplot as plt\n",
    "import networkx as nx\n",
    "import numpy as np\n",
    "import pandas as pd\n",
    "import os"
   ]
  },
  {
   "cell_type": "markdown",
   "metadata": {},
   "source": [
    "### Microscopic analysis of swingers"
   ]
  },
  {
   "cell_type": "markdown",
   "metadata": {},
   "source": [
    "#### Loading the data..."
   ]
  },
  {
   "cell_type": "code",
   "execution_count": 2,
   "metadata": {},
   "outputs": [],
   "source": [
    "basepath = \"../../../results/SNAM/swinger_detection/retweets\"\n",
    "\n",
    "before_labeled_users = pd.read_csv(os.path.join(basepath, 'before_campaign_labeled_users.csv'))\n",
    "during_labeled_users = pd.read_csv(os.path.join(basepath, 'during_campaign_labeled_users.csv'))\n",
    "after_labeled_users = pd.read_csv(os.path.join(basepath, 'after_elections_labeled_users.csv'))"
   ]
  },
  {
   "cell_type": "markdown",
   "metadata": {},
   "source": [
    "#### How many users stay active across periods?"
   ]
  },
  {
   "cell_type": "code",
   "execution_count": 3,
   "metadata": {},
   "outputs": [
    {
     "data": {
      "text/plain": [
       "(499, 666, 370)"
      ]
     },
     "execution_count": 3,
     "metadata": {},
     "output_type": "execute_result"
    }
   ],
   "source": [
    "before_users = set(before_labeled_users['source'].values)\n",
    "during_users = set(during_labeled_users['source'].values)\n",
    "after_users = set(after_labeled_users['source'].values)\n",
    "\n",
    "len(before_users), len(during_users), len(after_users)"
   ]
  },
  {
   "cell_type": "code",
   "execution_count": 4,
   "metadata": {},
   "outputs": [
    {
     "name": "stdout",
     "output_type": "stream",
     "text": [
      "active before-during:  227  inactive before-during:  272\n",
      "active during-after:  258  inactive during-after:  408\n",
      "active before-after:  153  inactive before-after:  346\n"
     ]
    }
   ],
   "source": [
    "# get how many users remain active and how many users become inactive (either leave the platform or lurk)\n",
    "active_bd = before_users.intersection(during_users)\n",
    "inactive_bd = before_users.difference(during_users)\n",
    "print('active before-during: ', len(active_bd), ' inactive before-during: ', len(inactive_bd))\n",
    "\n",
    "active_da = during_users.intersection(after_users)\n",
    "inactive_da = during_users.difference(after_users)\n",
    "print('active during-after: ', len(active_da), ' inactive during-after: ', len(inactive_da))\n",
    "\n",
    "active_ba = before_users.intersection(after_users)\n",
    "inactive_ba = before_users.difference(after_users)\n",
    "print('active before-after: ', len(active_ba), ' inactive before-after: ', len(inactive_ba))"
   ]
  },
  {
   "cell_type": "markdown",
   "metadata": {},
   "source": [
    "#### How many users change their party across periods?"
   ]
  },
  {
   "cell_type": "code",
   "execution_count": 26,
   "metadata": {},
   "outputs": [],
   "source": [
    "output_path = \"../../../results/SNAM/swinger_detection/retweets\""
   ]
  },
  {
   "cell_type": "code",
   "execution_count": 6,
   "metadata": {},
   "outputs": [
    {
     "data": {
      "text/html": [
       "<div>\n",
       "<style scoped>\n",
       "    .dataframe tbody tr th:only-of-type {\n",
       "        vertical-align: middle;\n",
       "    }\n",
       "\n",
       "    .dataframe tbody tr th {\n",
       "        vertical-align: top;\n",
       "    }\n",
       "\n",
       "    .dataframe thead th {\n",
       "        text-align: right;\n",
       "    }\n",
       "</style>\n",
       "<table border=\"1\" class=\"dataframe\">\n",
       "  <thead>\n",
       "    <tr style=\"text-align: right;\">\n",
       "      <th></th>\n",
       "      <th>source</th>\n",
       "      <th>Party</th>\n",
       "      <th>weight</th>\n",
       "    </tr>\n",
       "  </thead>\n",
       "  <tbody>\n",
       "    <tr>\n",
       "      <th>0</th>\n",
       "      <td>1001091645515935744</td>\n",
       "      <td>Alleanza Verdi Sinistra</td>\n",
       "      <td>15</td>\n",
       "    </tr>\n",
       "    <tr>\n",
       "      <th>1</th>\n",
       "      <td>1001344387102728192</td>\n",
       "      <td>Azione - Italia Viva</td>\n",
       "      <td>18</td>\n",
       "    </tr>\n",
       "    <tr>\n",
       "      <th>2</th>\n",
       "      <td>1002639111205871616</td>\n",
       "      <td>Lega</td>\n",
       "      <td>8</td>\n",
       "    </tr>\n",
       "    <tr>\n",
       "      <th>3</th>\n",
       "      <td>1004874680</td>\n",
       "      <td>Azione - Italia Viva</td>\n",
       "      <td>53</td>\n",
       "    </tr>\n",
       "    <tr>\n",
       "      <th>4</th>\n",
       "      <td>1005980574</td>\n",
       "      <td>Azione - Italia Viva</td>\n",
       "      <td>9</td>\n",
       "    </tr>\n",
       "  </tbody>\n",
       "</table>\n",
       "</div>"
      ],
      "text/plain": [
       "                source                    Party  weight\n",
       "0  1001091645515935744  Alleanza Verdi Sinistra      15\n",
       "1  1001344387102728192     Azione - Italia Viva      18\n",
       "2  1002639111205871616                     Lega       8\n",
       "3           1004874680     Azione - Italia Viva      53\n",
       "4           1005980574     Azione - Italia Viva       9"
      ]
     },
     "execution_count": 6,
     "metadata": {},
     "output_type": "execute_result"
    }
   ],
   "source": [
    "before_labeled_users.head()"
   ]
  },
  {
   "cell_type": "code",
   "execution_count": 22,
   "metadata": {},
   "outputs": [],
   "source": [
    "def check_party(df1, df2, users_to_analyze):\n",
    "    n_same_party = 0\n",
    "    n_diff_party = 0\n",
    "    party2party = {}\n",
    "    # {user_id: user, party1: party, party2: party}\n",
    "    swingers = []\n",
    "\n",
    "    for row in df1.iterrows():\n",
    "        user1 = row[1]['source']\n",
    "        party1 = row[1]['Party']\n",
    "\n",
    "        if user1 not in users_to_analyze:\n",
    "            continue\n",
    "\n",
    "        # user2 = df2[df2['source'] == user1]['source'].values[0]\n",
    "        party2 = df2[df2['source'] == user1]['Party'].values[0]\n",
    "\n",
    "        if party1 == party2:\n",
    "            n_same_party += 1\n",
    "        else:\n",
    "            n_diff_party += 1\n",
    "\n",
    "            key = (party1, party2)\n",
    "            party2party[key] = party2party.get(key, 0) + 1\n",
    "\n",
    "            data = {'user': user1, 'party1': party1, 'party2': party2}\n",
    "            swingers.append(data)\n",
    "\n",
    "    return n_same_party, n_diff_party, party2party, swingers"
   ]
  },
  {
   "cell_type": "markdown",
   "metadata": {},
   "source": [
    "##### Before campaign -> electoral campaign"
   ]
  },
  {
   "cell_type": "code",
   "execution_count": 23,
   "metadata": {},
   "outputs": [
    {
     "name": "stdout",
     "output_type": "stream",
     "text": [
      "total active users across the first period 227\n",
      "same party:  216  diff party:  11\n",
      "same party:  0.9515418502202643  diff party:  0.048458149779735685\n"
     ]
    }
   ],
   "source": [
    "n_same_party_bd, n_diff_party_bd, party_swingers_bd, swingers_bd = check_party(before_labeled_users, during_labeled_users, active_bd)\n",
    "print('total active users across the first period', len(active_bd))\n",
    "print('same party: ', n_same_party_bd, ' diff party: ', n_diff_party_bd)\n",
    "print('same party: ', n_same_party_bd/len(active_bd), ' diff party: ', n_diff_party_bd/len(active_bd))"
   ]
  },
  {
   "cell_type": "code",
   "execution_count": 27,
   "metadata": {},
   "outputs": [],
   "source": [
    "# from list of json objects to pandas dataframe\n",
    "swingers_df = pd.DataFrame(swingers_bd)\n",
    "swingers_df.head()\n",
    "\n",
    "fout = f'{output_path}/swingers_bd.csv'\n",
    "swingers_df.to_csv(fout, index=False)"
   ]
  },
  {
   "cell_type": "code",
   "execution_count": 9,
   "metadata": {},
   "outputs": [
    {
     "data": {
      "text/plain": [
       "[(('Partito Democratico', 'Azione - Italia Viva'), 3),\n",
       " (('Azione - Italia Viva', 'Partito Democratico'), 2),\n",
       " ((\"Fratelli d'Italia\", 'Lega'), 2),\n",
       " (('Alleanza Verdi Sinistra', 'Partito Democratico'), 2),\n",
       " ((\"Fratelli d'Italia\", 'Forza Italia'), 1),\n",
       " (('Lega', 'Azione - Italia Viva'), 1)]"
      ]
     },
     "execution_count": 9,
     "metadata": {},
     "output_type": "execute_result"
    }
   ],
   "source": [
    "# sort by value party_swingers_bd\n",
    "sorted_party_swingers_bd = sorted(party_swingers_bd.items(), key=lambda kv: kv[1], reverse=True)\n",
    "sorted_party_swingers_bd"
   ]
  },
  {
   "cell_type": "markdown",
   "metadata": {},
   "source": [
    "##### Eletoral campaign -> After elections"
   ]
  },
  {
   "cell_type": "code",
   "execution_count": 28,
   "metadata": {},
   "outputs": [
    {
     "name": "stdout",
     "output_type": "stream",
     "text": [
      "total active users across the second period 258\n",
      "same party:  244  diff party:  14\n",
      "same party:  0.9457364341085271  diff party:  0.05426356589147287\n"
     ]
    }
   ],
   "source": [
    "n_same_party_da, n_diff_party_da, party_swingers_da, swingers_da = check_party(during_labeled_users, after_labeled_users, active_da)\n",
    "print('total active users across the second period', len(active_da))\n",
    "print('same party: ', n_same_party_da, ' diff party: ', n_diff_party_da)\n",
    "print('same party: ', n_same_party_da/len(active_da), ' diff party: ', n_diff_party_da/len(active_da))"
   ]
  },
  {
   "cell_type": "code",
   "execution_count": 30,
   "metadata": {},
   "outputs": [],
   "source": [
    "swingers_df = pd.DataFrame(swingers_da)\n",
    "swingers_df.head()\n",
    "\n",
    "fout = f'{output_path}/swingers_da.csv'\n",
    "swingers_df.to_csv(fout, index=False)"
   ]
  },
  {
   "cell_type": "code",
   "execution_count": 29,
   "metadata": {},
   "outputs": [
    {
     "data": {
      "text/plain": [
       "[((\"Fratelli d'Italia\", 'Lega'), 5),\n",
       " (('Azione - Italia Viva', 'Partito Democratico'), 2),\n",
       " (('Forza Italia', \"Fratelli d'Italia\"), 2),\n",
       " ((\"Fratelli d'Italia\", 'Azione - Italia Viva'), 1),\n",
       " (('Partito Democratico', 'Alleanza Verdi Sinistra'), 1),\n",
       " (('Forza Italia', 'Lega'), 1),\n",
       " (('Lega', \"Fratelli d'Italia\"), 1),\n",
       " (('Forza Italia', 'Azione - Italia Viva'), 1)]"
      ]
     },
     "execution_count": 29,
     "metadata": {},
     "output_type": "execute_result"
    }
   ],
   "source": [
    "sorted_party_swingers_da = sorted(party_swingers_da.items(), key=lambda kv: kv[1], reverse=True)\n",
    "sorted_party_swingers_da"
   ]
  },
  {
   "cell_type": "markdown",
   "metadata": {},
   "source": [
    "##### Before campaign -> After elections"
   ]
  },
  {
   "cell_type": "code",
   "execution_count": 32,
   "metadata": {},
   "outputs": [
    {
     "name": "stdout",
     "output_type": "stream",
     "text": [
      "same party:  141  diff party:  12\n"
     ]
    }
   ],
   "source": [
    "n_same_party_ba, n_diff_party_ba, party_swinger_ba, swingers_ba = check_party(before_labeled_users, after_labeled_users, active_ba)\n",
    "print('same party: ', n_same_party_ba, ' diff party: ', n_diff_party_ba)"
   ]
  },
  {
   "cell_type": "code",
   "execution_count": 33,
   "metadata": {},
   "outputs": [],
   "source": [
    "swingers_df = pd.DataFrame(swingers_ba)\n",
    "swingers_df.head()\n",
    "\n",
    "fout = f'{output_path}/swingers_ba.csv'\n",
    "swingers_df.to_csv(fout, index=False)"
   ]
  },
  {
   "cell_type": "code",
   "execution_count": 13,
   "metadata": {},
   "outputs": [
    {
     "data": {
      "text/plain": [
       "[((\"Fratelli d'Italia\", 'Lega'), 5),\n",
       " (('Azione - Italia Viva', 'Partito Democratico'), 2),\n",
       " (('Partito Democratico', 'Azione - Italia Viva'), 2),\n",
       " (('Lega', \"Fratelli d'Italia\"), 1),\n",
       " (('Movimento 5s', 'Partito Democratico'), 1),\n",
       " (('Forza Italia', 'Azione - Italia Viva'), 1)]"
      ]
     },
     "execution_count": 13,
     "metadata": {},
     "output_type": "execute_result"
    }
   ],
   "source": [
    "sorted_party_swingers_ba = sorted(party_swinger_ba.items(), key=lambda kv: kv[1], reverse=True)\n",
    "sorted_party_swingers_ba"
   ]
  },
  {
   "cell_type": "code",
   "execution_count": null,
   "metadata": {},
   "outputs": [],
   "source": []
  }
 ],
 "metadata": {
  "kernelspec": {
   "display_name": "env",
   "language": "python",
   "name": "python3"
  },
  "language_info": {
   "codemirror_mode": {
    "name": "ipython",
    "version": 3
   },
   "file_extension": ".py",
   "mimetype": "text/x-python",
   "name": "python",
   "nbconvert_exporter": "python",
   "pygments_lexer": "ipython3",
   "version": "3.11.4"
  },
  "orig_nbformat": 4
 },
 "nbformat": 4,
 "nbformat_minor": 2
}
