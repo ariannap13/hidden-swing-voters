{
 "cells": [
  {
   "cell_type": "code",
   "execution_count": 1,
   "metadata": {},
   "outputs": [],
   "source": [
    "import matplotlib.pyplot as plt\n",
    "import networkx as nx\n",
    "import numpy as np\n",
    "import pandas as pd\n",
    "import os"
   ]
  },
  {
   "cell_type": "markdown",
   "metadata": {},
   "source": [
    "## Microscopic analysis of swingers"
   ]
  },
  {
   "cell_type": "markdown",
   "metadata": {},
   "source": [
    "### Loading the data..."
   ]
  },
  {
   "cell_type": "code",
   "execution_count": 62,
   "metadata": {},
   "outputs": [],
   "source": [
    "basepath = \"../../../results/SNAM/communities/comms_composition_csv\"\n",
    "\n",
    "before_labeled_users = pd.read_csv(os.path.join(basepath, 'before_communities.csv'))\n",
    "during_labeled_users = pd.read_csv(os.path.join(basepath, 'during_communities.csv'))\n",
    "after_labeled_users = pd.read_csv(os.path.join(basepath, 'after_communities.csv'))\n",
    "labeled_representatives = pd.read_csv(os.path.join(basepath, 'representatives_communities.csv'))"
   ]
  },
  {
   "cell_type": "code",
   "execution_count": 3,
   "metadata": {},
   "outputs": [
    {
     "data": {
      "text/html": [
       "<div>\n",
       "<style scoped>\n",
       "    .dataframe tbody tr th:only-of-type {\n",
       "        vertical-align: middle;\n",
       "    }\n",
       "\n",
       "    .dataframe tbody tr th {\n",
       "        vertical-align: top;\n",
       "    }\n",
       "\n",
       "    .dataframe thead th {\n",
       "        text-align: right;\n",
       "    }\n",
       "</style>\n",
       "<table border=\"1\" class=\"dataframe\">\n",
       "  <thead>\n",
       "    <tr style=\"text-align: right;\">\n",
       "      <th></th>\n",
       "      <th>user_id</th>\n",
       "      <th>community_id</th>\n",
       "      <th>comm_label</th>\n",
       "      <th>most_common_party</th>\n",
       "      <th>all_parties</th>\n",
       "    </tr>\n",
       "  </thead>\n",
       "  <tbody>\n",
       "    <tr>\n",
       "      <th>0</th>\n",
       "      <td>1084450777748459520</td>\n",
       "      <td>0</td>\n",
       "      <td>FdI</td>\n",
       "      <td>Fratelli d'Italia</td>\n",
       "      <td>Fratelli d'Italia</td>\n",
       "    </tr>\n",
       "    <tr>\n",
       "      <th>1</th>\n",
       "      <td>1524854601295577088</td>\n",
       "      <td>0</td>\n",
       "      <td>FdI</td>\n",
       "      <td>Fratelli d'Italia</td>\n",
       "      <td>Fratelli d'Italia</td>\n",
       "    </tr>\n",
       "    <tr>\n",
       "      <th>2</th>\n",
       "      <td>1401427332657713152</td>\n",
       "      <td>0</td>\n",
       "      <td>FdI</td>\n",
       "      <td>Fratelli d'Italia</td>\n",
       "      <td>Fratelli d'Italia</td>\n",
       "    </tr>\n",
       "    <tr>\n",
       "      <th>3</th>\n",
       "      <td>1224753522</td>\n",
       "      <td>0</td>\n",
       "      <td>FdI</td>\n",
       "      <td>Fratelli d'Italia</td>\n",
       "      <td>Fratelli d'Italia</td>\n",
       "    </tr>\n",
       "    <tr>\n",
       "      <th>4</th>\n",
       "      <td>823182867773669376</td>\n",
       "      <td>0</td>\n",
       "      <td>FdI</td>\n",
       "      <td>Fratelli d'Italia</td>\n",
       "      <td>Fratelli d'Italia</td>\n",
       "    </tr>\n",
       "  </tbody>\n",
       "</table>\n",
       "</div>"
      ],
      "text/plain": [
       "               user_id  community_id comm_label  most_common_party  \\\n",
       "0  1084450777748459520             0        FdI  Fratelli d'Italia   \n",
       "1  1524854601295577088             0        FdI  Fratelli d'Italia   \n",
       "2  1401427332657713152             0        FdI  Fratelli d'Italia   \n",
       "3           1224753522             0        FdI  Fratelli d'Italia   \n",
       "4   823182867773669376             0        FdI  Fratelli d'Italia   \n",
       "\n",
       "         all_parties  \n",
       "0  Fratelli d'Italia  \n",
       "1  Fratelli d'Italia  \n",
       "2  Fratelli d'Italia  \n",
       "3  Fratelli d'Italia  \n",
       "4  Fratelli d'Italia  "
      ]
     },
     "execution_count": 3,
     "metadata": {},
     "output_type": "execute_result"
    }
   ],
   "source": [
    "before_labeled_users.head()"
   ]
  },
  {
   "cell_type": "code",
   "execution_count": 63,
   "metadata": {},
   "outputs": [
    {
     "data": {
      "text/html": [
       "<div>\n",
       "<style scoped>\n",
       "    .dataframe tbody tr th:only-of-type {\n",
       "        vertical-align: middle;\n",
       "    }\n",
       "\n",
       "    .dataframe tbody tr th {\n",
       "        vertical-align: top;\n",
       "    }\n",
       "\n",
       "    .dataframe thead th {\n",
       "        text-align: right;\n",
       "    }\n",
       "</style>\n",
       "<table border=\"1\" class=\"dataframe\">\n",
       "  <thead>\n",
       "    <tr style=\"text-align: right;\">\n",
       "      <th></th>\n",
       "      <th>user_id</th>\n",
       "      <th>period</th>\n",
       "      <th>comm_id</th>\n",
       "      <th>comm_label</th>\n",
       "    </tr>\n",
       "  </thead>\n",
       "  <tbody>\n",
       "    <tr>\n",
       "      <th>0</th>\n",
       "      <td>425752285</td>\n",
       "      <td>before</td>\n",
       "      <td>4</td>\n",
       "      <td>PD;AVS</td>\n",
       "    </tr>\n",
       "    <tr>\n",
       "      <th>1</th>\n",
       "      <td>425752285</td>\n",
       "      <td>during</td>\n",
       "      <td>3</td>\n",
       "      <td>PD;AVS</td>\n",
       "    </tr>\n",
       "    <tr>\n",
       "      <th>2</th>\n",
       "      <td>425752285</td>\n",
       "      <td>after</td>\n",
       "      <td>6</td>\n",
       "      <td>PD;AVS</td>\n",
       "    </tr>\n",
       "    <tr>\n",
       "      <th>3</th>\n",
       "      <td>1135141640</td>\n",
       "      <td>before</td>\n",
       "      <td>4</td>\n",
       "      <td>PD;AVS</td>\n",
       "    </tr>\n",
       "    <tr>\n",
       "      <th>4</th>\n",
       "      <td>1135141640</td>\n",
       "      <td>during</td>\n",
       "      <td>3</td>\n",
       "      <td>PD;AVS</td>\n",
       "    </tr>\n",
       "  </tbody>\n",
       "</table>\n",
       "</div>"
      ],
      "text/plain": [
       "      user_id  period  comm_id comm_label\n",
       "0   425752285  before        4     PD;AVS\n",
       "1   425752285  during        3     PD;AVS\n",
       "2   425752285   after        6     PD;AVS\n",
       "3  1135141640  before        4     PD;AVS\n",
       "4  1135141640  during        3     PD;AVS"
      ]
     },
     "execution_count": 63,
     "metadata": {},
     "output_type": "execute_result"
    }
   ],
   "source": [
    "labeled_representatives.head()"
   ]
  },
  {
   "cell_type": "code",
   "execution_count": 64,
   "metadata": {},
   "outputs": [],
   "source": [
    "# filter labeled_representatived based on period\n",
    "before_representatives_df = labeled_representatives[labeled_representatives['period'] == 'before'].reset_index(drop=True)\n",
    "during_representatives_df = labeled_representatives[labeled_representatives['period'] == 'during'].reset_index(drop=True)\n",
    "after_representatives_df = labeled_representatives[labeled_representatives['period'] == 'after'].reset_index(drop=True)"
   ]
  },
  {
   "cell_type": "markdown",
   "metadata": {},
   "source": [
    "### How many users stay active across periods?"
   ]
  },
  {
   "cell_type": "markdown",
   "metadata": {},
   "source": [
    "##### All users"
   ]
  },
  {
   "cell_type": "code",
   "execution_count": 5,
   "metadata": {},
   "outputs": [
    {
     "data": {
      "text/plain": [
       "(11844, 16992, 14874)"
      ]
     },
     "execution_count": 5,
     "metadata": {},
     "output_type": "execute_result"
    }
   ],
   "source": [
    "before_users = set(before_labeled_users['user_id'].values)\n",
    "during_users = set(during_labeled_users['user_id'].values)\n",
    "after_users = set(after_labeled_users['user_id'].values)\n",
    "\n",
    "len(before_users), len(during_users), len(after_users)"
   ]
  },
  {
   "cell_type": "code",
   "execution_count": 6,
   "metadata": {},
   "outputs": [
    {
     "name": "stdout",
     "output_type": "stream",
     "text": [
      "active before-during:  7564  inactive before-during:  4280\n",
      "active during-after:  9660  inactive during-after:  7332\n",
      "active before-after:  6108  inactive before-after:  5736\n"
     ]
    }
   ],
   "source": [
    "# get how many users remain active and how many users become inactive (either leave the platform or lurk)\n",
    "active_bd = before_users.intersection(during_users)\n",
    "inactive_bd = before_users.difference(during_users)\n",
    "print('active before-during: ', len(active_bd), ' inactive before-during: ', len(inactive_bd))\n",
    "\n",
    "active_da = during_users.intersection(after_users)\n",
    "inactive_da = during_users.difference(after_users)\n",
    "print('active during-after: ', len(active_da), ' inactive during-after: ', len(inactive_da))\n",
    "\n",
    "active_ba = before_users.intersection(after_users)\n",
    "inactive_ba = before_users.difference(after_users)\n",
    "print('active before-after: ', len(active_ba), ' inactive before-after: ', len(inactive_ba))"
   ]
  },
  {
   "cell_type": "markdown",
   "metadata": {},
   "source": [
    "##### Representatives"
   ]
  },
  {
   "cell_type": "code",
   "execution_count": 57,
   "metadata": {},
   "outputs": [
    {
     "data": {
      "text/plain": [
       "(98, 142, 90)"
      ]
     },
     "execution_count": 57,
     "metadata": {},
     "output_type": "execute_result"
    }
   ],
   "source": [
    "before_representatives = set(before_representatives_df['id'].values)\n",
    "during_representatives = set(during_representatives_df['id'].values)\n",
    "after_representatives = set(after_representatives_df['id'].values)\n",
    "\n",
    "len(before_representatives), len(during_representatives), len(after_representatives)"
   ]
  },
  {
   "cell_type": "code",
   "execution_count": 78,
   "metadata": {},
   "outputs": [
    {
     "name": "stdout",
     "output_type": "stream",
     "text": [
      "active before-during:  84  inactive before-during:  14\n",
      "active during-after:  82  inactive during-after:  60\n",
      "active before-after:  6108  inactive before-after:  5736\n"
     ]
    }
   ],
   "source": [
    "# get how many users remain active and how many users become inactive (either leave the platform or lurk)\n",
    "active_repr_bd = before_representatives.intersection(during_representatives)\n",
    "inactive_repr_bd = before_representatives.difference(during_representatives)\n",
    "print('active before-during: ', len(active_repr_bd), ' inactive before-during: ', len(inactive_repr_bd))\n",
    "\n",
    "active_repr_da = during_representatives.intersection(after_representatives)\n",
    "inactive_repr_da = during_representatives.difference(after_representatives)\n",
    "print('active during-after: ', len(active_repr_da), ' inactive during-after: ', len(inactive_repr_da))\n",
    "\n",
    "active_repr_ba = before_users.intersection(after_users)\n",
    "inactive_repr_ba = before_users.difference(after_users)\n",
    "print('active before-after: ', len(active_repr_ba), ' inactive before-after: ', len(inactive_repr_ba))"
   ]
  },
  {
   "cell_type": "markdown",
   "metadata": {},
   "source": [
    "### How many users change their party across periods?"
   ]
  },
  {
   "cell_type": "markdown",
   "metadata": {},
   "source": [
    "#### All users"
   ]
  },
  {
   "cell_type": "code",
   "execution_count": 7,
   "metadata": {},
   "outputs": [],
   "source": [
    "output_path = \"../../../results/SNAM/swinger_detection/communities\""
   ]
  },
  {
   "cell_type": "code",
   "execution_count": 8,
   "metadata": {},
   "outputs": [
    {
     "data": {
      "text/html": [
       "<div>\n",
       "<style scoped>\n",
       "    .dataframe tbody tr th:only-of-type {\n",
       "        vertical-align: middle;\n",
       "    }\n",
       "\n",
       "    .dataframe tbody tr th {\n",
       "        vertical-align: top;\n",
       "    }\n",
       "\n",
       "    .dataframe thead th {\n",
       "        text-align: right;\n",
       "    }\n",
       "</style>\n",
       "<table border=\"1\" class=\"dataframe\">\n",
       "  <thead>\n",
       "    <tr style=\"text-align: right;\">\n",
       "      <th></th>\n",
       "      <th>user_id</th>\n",
       "      <th>community_id</th>\n",
       "      <th>comm_label</th>\n",
       "      <th>most_common_party</th>\n",
       "      <th>all_parties</th>\n",
       "    </tr>\n",
       "  </thead>\n",
       "  <tbody>\n",
       "    <tr>\n",
       "      <th>0</th>\n",
       "      <td>1084450777748459520</td>\n",
       "      <td>0</td>\n",
       "      <td>FdI</td>\n",
       "      <td>Fratelli d'Italia</td>\n",
       "      <td>Fratelli d'Italia</td>\n",
       "    </tr>\n",
       "    <tr>\n",
       "      <th>1</th>\n",
       "      <td>1524854601295577088</td>\n",
       "      <td>0</td>\n",
       "      <td>FdI</td>\n",
       "      <td>Fratelli d'Italia</td>\n",
       "      <td>Fratelli d'Italia</td>\n",
       "    </tr>\n",
       "    <tr>\n",
       "      <th>2</th>\n",
       "      <td>1401427332657713152</td>\n",
       "      <td>0</td>\n",
       "      <td>FdI</td>\n",
       "      <td>Fratelli d'Italia</td>\n",
       "      <td>Fratelli d'Italia</td>\n",
       "    </tr>\n",
       "    <tr>\n",
       "      <th>3</th>\n",
       "      <td>1224753522</td>\n",
       "      <td>0</td>\n",
       "      <td>FdI</td>\n",
       "      <td>Fratelli d'Italia</td>\n",
       "      <td>Fratelli d'Italia</td>\n",
       "    </tr>\n",
       "    <tr>\n",
       "      <th>4</th>\n",
       "      <td>823182867773669376</td>\n",
       "      <td>0</td>\n",
       "      <td>FdI</td>\n",
       "      <td>Fratelli d'Italia</td>\n",
       "      <td>Fratelli d'Italia</td>\n",
       "    </tr>\n",
       "  </tbody>\n",
       "</table>\n",
       "</div>"
      ],
      "text/plain": [
       "               user_id  community_id comm_label  most_common_party  \\\n",
       "0  1084450777748459520             0        FdI  Fratelli d'Italia   \n",
       "1  1524854601295577088             0        FdI  Fratelli d'Italia   \n",
       "2  1401427332657713152             0        FdI  Fratelli d'Italia   \n",
       "3           1224753522             0        FdI  Fratelli d'Italia   \n",
       "4   823182867773669376             0        FdI  Fratelli d'Italia   \n",
       "\n",
       "         all_parties  \n",
       "0  Fratelli d'Italia  \n",
       "1  Fratelli d'Italia  \n",
       "2  Fratelli d'Italia  \n",
       "3  Fratelli d'Italia  \n",
       "4  Fratelli d'Italia  "
      ]
     },
     "execution_count": 8,
     "metadata": {},
     "output_type": "execute_result"
    }
   ],
   "source": [
    "before_labeled_users.head()"
   ]
  },
  {
   "cell_type": "code",
   "execution_count": 36,
   "metadata": {},
   "outputs": [],
   "source": [
    "def check_party(df1, df2, users_to_analyze):\n",
    "    n_same_party = 0\n",
    "    n_diff_party = 0\n",
    "    party2party = {}\n",
    "    # {user_id: user, party1: party, party2: party}\n",
    "    swingers = []\n",
    "\n",
    "    for row in df1.iterrows():\n",
    "        user1 = row[1]['user_id']\n",
    "        comm_label1 = row[1]['comm_label']\n",
    "\n",
    "        if user1 not in users_to_analyze:\n",
    "            continue\n",
    "\n",
    "        comm_label2 = df2[df2['user_id'] == user1]['comm_label'].values[0]\n",
    "\n",
    "        parties1 = set(comm_label1.split(';')) if not pd.isnull(comm_label1) else set()\n",
    "        parties2 = set(comm_label2.split(';')) if not pd.isnull(comm_label2) else set()\n",
    "\n",
    "        if parties1 == parties2:\n",
    "            n_same_party += 1\n",
    "        else:\n",
    "            n_diff_party += 1\n",
    "\n",
    "            key = (comm_label1, comm_label2)\n",
    "            party2party[key] = party2party.get(key, 0) + 1\n",
    "\n",
    "            data = {'user': user1, 'party1': comm_label1, 'party2': comm_label2}\n",
    "            swingers.append(data)\n",
    "\n",
    "    return n_same_party, n_diff_party, party2party, swingers"
   ]
  },
  {
   "cell_type": "markdown",
   "metadata": {},
   "source": [
    "##### Before campaign -> electoral campaign"
   ]
  },
  {
   "cell_type": "code",
   "execution_count": 37,
   "metadata": {},
   "outputs": [
    {
     "name": "stdout",
     "output_type": "stream",
     "text": [
      "total active users across the first period 7564\n",
      "same party:  2240  diff party:  5324\n",
      "same party:  0.29613960867266  diff party:  0.70386039132734\n"
     ]
    }
   ],
   "source": [
    "n_same_party_bd, n_diff_party_bd, party_swingers_bd, swingers_bd = check_party(before_labeled_users, during_labeled_users, active_bd)\n",
    "print('total active users across the first period', len(active_bd))\n",
    "print('same party: ', n_same_party_bd, ' diff party: ', n_diff_party_bd)\n",
    "print('same party: ', n_same_party_bd/len(active_bd), ' diff party: ', n_diff_party_bd/len(active_bd))"
   ]
  },
  {
   "cell_type": "code",
   "execution_count": 41,
   "metadata": {},
   "outputs": [
    {
     "data": {
      "text/plain": [
       "5324"
      ]
     },
     "execution_count": 41,
     "metadata": {},
     "output_type": "execute_result"
    }
   ],
   "source": [
    "len(swingers_bd)"
   ]
  },
  {
   "cell_type": "code",
   "execution_count": 39,
   "metadata": {},
   "outputs": [],
   "source": [
    "# from list of json objects to pandas dataframe\n",
    "swingers_df = pd.DataFrame(swingers_bd)\n",
    "swingers_df.head()\n",
    "\n",
    "fout = f'{output_path}/swingers_bd.csv'\n",
    "swingers_df.to_csv(fout, index=False)"
   ]
  },
  {
   "cell_type": "code",
   "execution_count": 42,
   "metadata": {},
   "outputs": [
    {
     "data": {
      "text/plain": [
       "[(('L;Az-Iv', 'Az-Iv'), 1808),\n",
       " (('M5s', 'FdI;M5s'), 1320),\n",
       " (('L;FdI', 'NM;FI;FdI;PD;L'), 914),\n",
       " (('L;FdI', nan), 191),\n",
       " ((nan, 'NM;FI;FdI;PD;L'), 161),\n",
       " (('FdI', 'PD'), 108),\n",
       " (('L;Az-Iv', 'PD;AVS'), 100),\n",
       " (('M5s', nan), 81),\n",
       " (('PD;AVS', 'Az-Iv'), 76),\n",
       " (('PD;AVS', 'FdI;M5s'), 64),\n",
       " (('M5s', 'PD;AVS'), 61),\n",
       " (('FI', 'NM;FI;FdI;PD;L'), 46),\n",
       " (('FdI', 'PD;AVS'), 39),\n",
       " (('PD;AVS', nan), 35),\n",
       " (('L;Az-Iv', nan), 35),\n",
       " (('FdI', nan), 34),\n",
       " (('M5s', 'PD'), 34),\n",
       " (('FdI', 'Az-Iv'), 32),\n",
       " ((nan, 'FdI;M5s'), 26),\n",
       " (('L;FdI', 'Az-Iv'), 20),\n",
       " (('FdI', 'NM;FI;FdI;PD;L'), 19),\n",
       " (('FdI', 'FdI;M5s'), 15),\n",
       " (('L;FdI', 'PD'), 15),\n",
       " (('PD;AVS', 'PD'), 13),\n",
       " (('L;Az-Iv', 'PD'), 13),\n",
       " ((nan, 'PD;AVS'), 12),\n",
       " (('L;Az-Iv', 'NM;FI;FdI;PD;L'), 9),\n",
       " ((nan, 'PD'), 9),\n",
       " (('M5s', 'NM;FI;FdI;PD;L'), 8),\n",
       " (('FI', nan), 6),\n",
       " (('PD;AVS', 'NM;FI;FdI;PD;L'), 5),\n",
       " (('L;Az-Iv', 'FdI;M5s'), 5),\n",
       " (('L;FdI', 'PD;AVS'), 4),\n",
       " (('L;FdI', 'FdI;M5s'), 2),\n",
       " ((nan, 'Az-Iv'), 2),\n",
       " (('FI', 'PD'), 1),\n",
       " (('FI', 'Az-Iv'), 1)]"
      ]
     },
     "execution_count": 42,
     "metadata": {},
     "output_type": "execute_result"
    }
   ],
   "source": [
    "# sort by value party_swingers_bd\n",
    "sorted_party_swingers_bd = sorted(party_swingers_bd.items(), key=lambda kv: kv[1], reverse=True)\n",
    "sorted_party_swingers_bd"
   ]
  },
  {
   "cell_type": "markdown",
   "metadata": {},
   "source": [
    "##### Eletoral campaign -> After elections"
   ]
  },
  {
   "cell_type": "code",
   "execution_count": 75,
   "metadata": {},
   "outputs": [
    {
     "name": "stdout",
     "output_type": "stream",
     "text": [
      "total active users across the second period 9660\n",
      "same party:  1357  diff party:  8303\n",
      "same party:  0.14047619047619048  diff party:  0.8595238095238096\n"
     ]
    }
   ],
   "source": [
    "n_same_party_da, n_diff_party_da, party_swingers_da, swingers_da = check_party(during_labeled_users, after_labeled_users, active_da)\n",
    "print('total active users across the second period', len(active_da))\n",
    "print('same party: ', n_same_party_da, ' diff party: ', n_diff_party_da)\n",
    "print('same party: ', n_same_party_da/len(active_da), ' diff party: ', n_diff_party_da/len(active_da))"
   ]
  },
  {
   "cell_type": "code",
   "execution_count": 76,
   "metadata": {},
   "outputs": [],
   "source": [
    "swingers_df = pd.DataFrame(swingers_da)\n",
    "swingers_df.head()\n",
    "\n",
    "fout = f'{output_path}/swingers_da.csv'\n",
    "swingers_df.to_csv(fout, index=False)"
   ]
  },
  {
   "cell_type": "code",
   "execution_count": 45,
   "metadata": {},
   "outputs": [
    {
     "data": {
      "text/plain": [
       "[(('Az-Iv', 'PD;Az-Iv'), 1877),\n",
       " ((nan, 'L;FdI'), 1757),\n",
       " (('FdI;M5s', 'M5s'), 1551),\n",
       " (('NM;FI;FdI;PD;L', 'L;FdI'), 898),\n",
       " (('NM;FI;FdI;PD;L', 'FdI;FI'), 673),\n",
       " (('PD', 'FdI;Az-Iv'), 200),\n",
       " (('Az-Iv', 'PD;AVS'), 128),\n",
       " ((nan, 'FdI;Az-Iv'), 110),\n",
       " (('Az-Iv', 'FdI;Az-Iv'), 103),\n",
       " (('PD;AVS', 'PD;Az-Iv'), 96),\n",
       " (('PD;AVS', 'FdI;Az-Iv'), 94),\n",
       " (('FdI;M5s', 'FdI;Az-Iv'), 92),\n",
       " (('PD', 'PD;AVS'), 91),\n",
       " ((nan, 'M5s'), 90),\n",
       " (('FdI;M5s', 'PD;AVS'), 88),\n",
       " ((nan, 'PD;AVS'), 87),\n",
       " (('PD;AVS', 'M5s'), 50),\n",
       " ((nan, 'FdI;FI'), 46),\n",
       " (('NM;FI;FdI;PD;L', 'FdI;Az-Iv'), 42),\n",
       " (('FdI;M5s', 'L;FdI'), 24),\n",
       " (('NM;FI;FdI;PD;L', 'PD;AVS'), 24),\n",
       " (('PD;AVS', nan), 22),\n",
       " (('NM;FI;FdI;PD;L', 'PD;Az-Iv'), 20),\n",
       " ((nan, 'PD;Az-Iv'), 19),\n",
       " (('NM;FI;FdI;PD;L', 'NM;FdI'), 17),\n",
       " (('Az-Iv', 'FdI;FI'), 10),\n",
       " (('PD', 'M5s'), 9),\n",
       " (('Az-Iv', 'L;FdI'), 9),\n",
       " (('FdI;M5s', nan), 8),\n",
       " (('PD', 'L;FdI'), 8),\n",
       " (('PD', 'PD;Az-Iv'), 8),\n",
       " (('PD', nan), 8),\n",
       " (('PD', 'FdI;FI'), 7),\n",
       " (('NM;FI;FdI;PD;L', nan), 6),\n",
       " (('PD;AVS', 'FdI;FI'), 6),\n",
       " (('FdI;M5s', 'FdI;FI'), 5),\n",
       " (('PD;AVS', 'L;FdI'), 5),\n",
       " (('FdI;M5s', 'PD;Az-Iv'), 4),\n",
       " (('Az-Iv', nan), 3),\n",
       " (('FdI;M5s', 'FdI'), 2),\n",
       " (('FdI;M5s', 'NM;FdI'), 1),\n",
       " (('NM;FI;FdI;PD;L', 'M5s'), 1),\n",
       " (('PD;AVS', 'FdI'), 1),\n",
       " (('PD;AVS', 'NM;FdI'), 1),\n",
       " (('Az-Iv', 'M5s'), 1),\n",
       " ((nan, 'NM;FdI'), 1)]"
      ]
     },
     "execution_count": 45,
     "metadata": {},
     "output_type": "execute_result"
    }
   ],
   "source": [
    "sorted_party_swingers_da = sorted(party_swingers_da.items(), key=lambda kv: kv[1], reverse=True)\n",
    "sorted_party_swingers_da"
   ]
  },
  {
   "cell_type": "markdown",
   "metadata": {},
   "source": [
    "##### Before campaign -> After elections"
   ]
  },
  {
   "cell_type": "code",
   "execution_count": 46,
   "metadata": {},
   "outputs": [
    {
     "name": "stdout",
     "output_type": "stream",
     "text": [
      "same party:  2409  diff party:  3699\n"
     ]
    }
   ],
   "source": [
    "n_same_party_ba, n_diff_party_ba, party_swinger_ba, swingers_ba = check_party(before_labeled_users, after_labeled_users, active_ba)\n",
    "print('same party: ', n_same_party_ba, ' diff party: ', n_diff_party_ba)"
   ]
  },
  {
   "cell_type": "code",
   "execution_count": 47,
   "metadata": {},
   "outputs": [],
   "source": [
    "swingers_df = pd.DataFrame(swingers_ba)\n",
    "swingers_df.head()\n",
    "\n",
    "fout = f'{output_path}/swingers_ba.csv'\n",
    "swingers_df.to_csv(fout, index=False)"
   ]
  },
  {
   "cell_type": "code",
   "execution_count": 48,
   "metadata": {},
   "outputs": [
    {
     "data": {
      "text/plain": [
       "[(('L;Az-Iv', 'PD;Az-Iv'), 1313),\n",
       " ((nan, 'L;FdI'), 1046),\n",
       " (('L;FdI', 'FdI;FI'), 283),\n",
       " (('FdI', 'FdI;Az-Iv'), 122),\n",
       " (('L;Az-Iv', 'PD;AVS'), 85),\n",
       " (('M5s', 'FdI;Az-Iv'), 81),\n",
       " (('M5s', 'PD;AVS'), 81),\n",
       " (('FdI', 'PD;AVS'), 76),\n",
       " (('L;Az-Iv', 'FdI;Az-Iv'), 75),\n",
       " (('PD;AVS', 'PD;Az-Iv'), 55),\n",
       " (('PD;AVS', 'M5s'), 52),\n",
       " (('PD;AVS', 'FdI;Az-Iv'), 52),\n",
       " ((nan, 'FdI;Az-Iv'), 44),\n",
       " (('L;FdI', 'FdI;Az-Iv'), 37),\n",
       " (('FI', 'FdI;FI'), 33),\n",
       " ((nan, 'FdI;FI'), 30),\n",
       " ((nan, 'PD;AVS'), 24),\n",
       " ((nan, 'M5s'), 21),\n",
       " (('FdI', 'PD;Az-Iv'), 18),\n",
       " (('PD;AVS', nan), 17),\n",
       " (('L;FdI', 'PD;Az-Iv'), 16),\n",
       " (('FdI', 'FdI;FI'), 15),\n",
       " (('FdI', 'M5s'), 14),\n",
       " (('M5s', 'L;FdI'), 13),\n",
       " (('FdI', 'L;FdI'), 11),\n",
       " (('M5s', nan), 11),\n",
       " (('L;Az-Iv', 'FdI;FI'), 9),\n",
       " (('L;FdI', nan), 9),\n",
       " (('L;Az-Iv', 'L;FdI'), 8),\n",
       " (('L;FdI', 'PD;AVS'), 8),\n",
       " (('FdI', nan), 5),\n",
       " (('FI', nan), 5),\n",
       " (('L;FdI', 'NM;FdI'), 5),\n",
       " ((nan, 'PD;Az-Iv'), 5),\n",
       " (('M5s', 'FdI;FI'), 4),\n",
       " (('L;Az-Iv', nan), 3),\n",
       " (('PD;AVS', 'L;FdI'), 2),\n",
       " (('PD;AVS', 'NM;FdI'), 2),\n",
       " (('L;Az-Iv', 'M5s'), 2),\n",
       " (('FI', 'L;FdI'), 2),\n",
       " (('M5s', 'PD;Az-Iv'), 1),\n",
       " (('M5s', 'NM;FdI'), 1),\n",
       " (('PD;AVS', 'FdI;FI'), 1),\n",
       " (('FI', 'PD;Az-Iv'), 1),\n",
       " (('FI', 'FdI;Az-Iv'), 1)]"
      ]
     },
     "execution_count": 48,
     "metadata": {},
     "output_type": "execute_result"
    }
   ],
   "source": [
    "sorted_party_swingers_ba = sorted(party_swinger_ba.items(), key=lambda kv: kv[1], reverse=True)\n",
    "sorted_party_swingers_ba"
   ]
  },
  {
   "cell_type": "markdown",
   "metadata": {},
   "source": [
    "#### Representatives"
   ]
  },
  {
   "cell_type": "markdown",
   "metadata": {},
   "source": [
    "##### Before campaign -> electoral campaign"
   ]
  },
  {
   "cell_type": "code",
   "execution_count": 65,
   "metadata": {},
   "outputs": [
    {
     "name": "stdout",
     "output_type": "stream",
     "text": [
      "total active users across the first period 84\n",
      "same party:  28  diff party:  56\n",
      "same party:  0.3333333333333333  diff party:  0.6666666666666666\n"
     ]
    }
   ],
   "source": [
    "repr_n_same_party_bd, repr_n_diff_party_bd, repr_party_swingers_bd, repr_swingers_bd = check_party(before_representatives_df, during_representatives_df, active_repr_bd)\n",
    "print('total active users across the first period', len(active_repr_bd))\n",
    "print('same party: ', repr_n_same_party_bd, ' diff party: ', repr_n_diff_party_bd)\n",
    "print('same party: ', repr_n_same_party_bd/len(active_repr_bd), ' diff party: ', repr_n_diff_party_bd/len(active_repr_bd))"
   ]
  },
  {
   "cell_type": "code",
   "execution_count": 66,
   "metadata": {},
   "outputs": [],
   "source": [
    "# from list of json objects to pandas dataframe\n",
    "repr_swingers_df = pd.DataFrame(repr_swingers_bd)\n",
    "repr_swingers_df.head()\n",
    "\n",
    "fout = f'{output_path}/repr_swingers_bd.csv'\n",
    "repr_swingers_df.to_csv(fout, index=False)"
   ]
  },
  {
   "cell_type": "code",
   "execution_count": 68,
   "metadata": {},
   "outputs": [
    {
     "data": {
      "text/plain": [
       "[(('FdI;L', 'FdI;L;PD;NM;FI'), 27),\n",
       " (('Az-Iv;L', 'Az-Iv'), 18),\n",
       " (('FI', 'FdI;L;PD;NM;FI'), 6),\n",
       " (('M5s', 'FdI;M5s'), 2),\n",
       " (('FdI', 'FdI;L;PD;NM;FI'), 1),\n",
       " (('Az-Iv;L', 'FdI;L;PD;NM;FI'), 1),\n",
       " (('PD;AVS', 'PD'), 1)]"
      ]
     },
     "execution_count": 68,
     "metadata": {},
     "output_type": "execute_result"
    }
   ],
   "source": [
    "# sort by value party_swingers_bd\n",
    "sorted_repr_party_swingers_bd = sorted(repr_party_swingers_bd.items(), key=lambda kv: kv[1], reverse=True)\n",
    "sorted_repr_party_swingers_bd"
   ]
  },
  {
   "cell_type": "markdown",
   "metadata": {},
   "source": [
    "##### Eletoral campaign -> After elections"
   ]
  },
  {
   "cell_type": "code",
   "execution_count": 69,
   "metadata": {},
   "outputs": [
    {
     "name": "stdout",
     "output_type": "stream",
     "text": [
      "total active users across the second period 82\n",
      "same party:  18  diff party:  64\n",
      "same party:  0.21951219512195122  diff party:  0.7804878048780488\n"
     ]
    }
   ],
   "source": [
    "repr_n_same_party_da, repr_n_diff_party_da, repr_party_swingers_da, repr_swingers_da = check_party(during_representatives_df, after_representatives_df, active_repr_da)\n",
    "print('total active users across the second period', len(active_repr_da))\n",
    "print('same party: ', repr_n_same_party_da, ' diff party: ', repr_n_diff_party_da)\n",
    "print('same party: ', repr_n_same_party_da/len(active_repr_da), ' diff party: ', repr_n_diff_party_da/len(active_repr_da))"
   ]
  },
  {
   "cell_type": "code",
   "execution_count": 72,
   "metadata": {},
   "outputs": [],
   "source": [
    "repr_swingers_df = pd.DataFrame(repr_swingers_da)\n",
    "repr_swingers_df.head()\n",
    "\n",
    "fout = f'{output_path}/repr_swingers_da.csv'\n",
    "repr_swingers_df.to_csv(fout, index=False)"
   ]
  },
  {
   "cell_type": "markdown",
   "metadata": {},
   "source": [
    "##### Before campaign -> After elections"
   ]
  },
  {
   "cell_type": "code",
   "execution_count": 77,
   "metadata": {},
   "outputs": [
    {
     "name": "stdout",
     "output_type": "stream",
     "text": [
      "same party:  26  diff party:  43\n"
     ]
    }
   ],
   "source": [
    "repr_n_same_party_ba, repr_n_diff_party_ba, repr_party_swinger_ba, repr_swingers_ba = check_party(before_representatives_df, after_representatives_df, active_repr_ba)\n",
    "print('same party: ', repr_n_same_party_ba, ' diff party: ', repr_n_diff_party_ba)"
   ]
  },
  {
   "cell_type": "code",
   "execution_count": 79,
   "metadata": {},
   "outputs": [],
   "source": [
    "repr_swingers_df = pd.DataFrame(repr_swingers_ba)\n",
    "repr_swingers_df.head()\n",
    "\n",
    "fout = f'{output_path}/repr_swingers_ba.csv'\n",
    "repr_swingers_df.to_csv(fout, index=False)"
   ]
  },
  {
   "cell_type": "code",
   "execution_count": null,
   "metadata": {},
   "outputs": [],
   "source": []
  }
 ],
 "metadata": {
  "kernelspec": {
   "display_name": "env",
   "language": "python",
   "name": "python3"
  },
  "language_info": {
   "codemirror_mode": {
    "name": "ipython",
    "version": 3
   },
   "file_extension": ".py",
   "mimetype": "text/x-python",
   "name": "python",
   "nbconvert_exporter": "python",
   "pygments_lexer": "ipython3",
   "version": "3.11.4"
  },
  "orig_nbformat": 4
 },
 "nbformat": 4,
 "nbformat_minor": 2
}
