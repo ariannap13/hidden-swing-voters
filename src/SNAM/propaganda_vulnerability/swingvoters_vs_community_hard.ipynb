{
 "cells": [
  {
   "cell_type": "code",
   "execution_count": 1,
   "metadata": {},
   "outputs": [],
   "source": [
    "import pandas as pd\n",
    "import json\n",
    "from tqdm import tqdm\n",
    "from scipy.stats import rankdata"
   ]
  },
  {
   "cell_type": "markdown",
   "metadata": {},
   "source": [
    "# Rank most common techniques employed by politicians in each community"
   ]
  },
  {
   "cell_type": "markdown",
   "metadata": {},
   "source": [
    "## Read propaganda techniques by politicians over time"
   ]
  },
  {
   "cell_type": "code",
   "execution_count": 2,
   "metadata": {},
   "outputs": [],
   "source": [
    "with open('../../../data/06_propaganda/tweets_vips_annotated_clean.json') as f:\n",
    "    prop_politicians = json.load(f)"
   ]
  },
  {
   "cell_type": "code",
   "execution_count": 6,
   "metadata": {},
   "outputs": [],
   "source": [
    "def get_time_period(date):\n",
    "    start_before = pd.to_datetime('2022-07-01')\n",
    "    start_during = pd.to_datetime('2022-08-26')\n",
    "    start_after = pd.to_datetime('2022-09-25')\n",
    "    end_after = pd.to_datetime('2022-10-31')\n",
    "\n",
    "    # date to datetime\n",
    "    date = pd.to_datetime(date)\n",
    "\n",
    "    if date >= start_before and date < start_during:\n",
    "        return 'B'\n",
    "    elif date >= start_during and date < start_after:\n",
    "        return 'D'\n",
    "    elif date >= start_after and date <= end_after:\n",
    "        return 'A'\n"
   ]
  },
  {
   "cell_type": "code",
   "execution_count": 7,
   "metadata": {},
   "outputs": [],
   "source": [
    "# for each tweet, add info on time period\n",
    "for tweet in prop_politicians:\n",
    "    prop_politicians[tweet]['time_period'] = get_time_period(prop_politicians[tweet]['created_at'])"
   ]
  },
  {
   "cell_type": "markdown",
   "metadata": {},
   "source": [
    "## Read file about which community politicians belong to"
   ]
  },
  {
   "cell_type": "code",
   "execution_count": 8,
   "metadata": {},
   "outputs": [],
   "source": [
    "comm_before = pd.read_csv(\"../../../data/before_communities.csv\")\n",
    "comm_during = pd.read_csv(\"../../../data/during_communities.csv\")\n",
    "comm_after = pd.read_csv(\"../../../data/after_communities.csv\")"
   ]
  },
  {
   "cell_type": "code",
   "execution_count": 9,
   "metadata": {},
   "outputs": [],
   "source": [
    "# for each tweet, add info on community based on time period\n",
    "for tweet in prop_politicians:\n",
    "    user_id_prop = prop_politicians[tweet]['author_id']\n",
    "    if prop_politicians[tweet]['time_period'] == 'B':\n",
    "        try:\n",
    "            prop_politicians[tweet]['community'] = list(comm_before[comm_before['user_id'] == int(user_id_prop)]['comm_label'].values)[0]\n",
    "        except:\n",
    "            prop_politicians[tweet]['community'] = None\n",
    "    elif prop_politicians[tweet]['time_period'] == 'D':\n",
    "        try:\n",
    "            prop_politicians[tweet]['community'] = list(comm_during[comm_during['user_id'] == int(user_id_prop)]['comm_label'].values)[0]\n",
    "        except:\n",
    "            prop_politicians[tweet]['community'] = None\n",
    "    elif prop_politicians[tweet]['time_period'] == 'A':\n",
    "        try:\n",
    "            prop_politicians[tweet]['community'] = list(comm_after[comm_after['user_id'] == int(user_id_prop)]['comm_label'].values)[0]\n",
    "        except:\n",
    "            prop_politicians[tweet]['community'] = None"
   ]
  },
  {
   "cell_type": "code",
   "execution_count": 10,
   "metadata": {},
   "outputs": [
    {
     "name": "stderr",
     "output_type": "stream",
     "text": [
      "  0%|          | 0/7 [00:00<?, ?it/s]/tmp/ipykernel_30630/2418839743.py:17: FutureWarning: The default dtype for empty Series will be 'object' instead of 'float64' in a future version. Specify a dtype explicitly to silence this warning.\n",
      "  techniques = pd.Series(techniques)\n",
      "100%|██████████| 7/7 [00:00<00:00, 105.61it/s]\n",
      "  0%|          | 0/6 [00:00<?, ?it/s]"
     ]
    },
    {
     "name": "stderr",
     "output_type": "stream",
     "text": [
      "/tmp/ipykernel_30630/2418839743.py:17: FutureWarning: The default dtype for empty Series will be 'object' instead of 'float64' in a future version. Specify a dtype explicitly to silence this warning.\n",
      "  techniques = pd.Series(techniques)\n",
      "100%|██████████| 6/6 [00:00<00:00, 160.86it/s]\n",
      "  0%|          | 0/9 [00:00<?, ?it/s]/tmp/ipykernel_30630/2418839743.py:17: FutureWarning: The default dtype for empty Series will be 'object' instead of 'float64' in a future version. Specify a dtype explicitly to silence this warning.\n",
      "  techniques = pd.Series(techniques)\n",
      "/tmp/ipykernel_30630/2418839743.py:17: FutureWarning: The default dtype for empty Series will be 'object' instead of 'float64' in a future version. Specify a dtype explicitly to silence this warning.\n",
      "  techniques = pd.Series(techniques)\n",
      "100%|██████████| 9/9 [00:00<00:00, 235.69it/s]\n"
     ]
    }
   ],
   "source": [
    "# for each community in each time period, get the ranking of the most frequent techniques\n",
    "communities = {'B': comm_before, 'D': comm_during, 'A': comm_after}\n",
    "\n",
    "overall_ranking = []\n",
    "for time_period in communities:\n",
    "    ranking = []\n",
    "    for comm in tqdm(communities[time_period]['comm_label'].unique()):\n",
    "        # if empty community, skip\n",
    "        if comm is None:\n",
    "            continue\n",
    "        tweets_comm = [tweet for tweet in prop_politicians if prop_politicians[tweet]['community'] == comm and prop_politicians[tweet]['time_period'] == time_period]\n",
    "        techniques = []\n",
    "        for tweet in tweets_comm:\n",
    "            if \"annotations\" in prop_politicians[tweet]:\n",
    "                for technique in prop_politicians[tweet]['annotations']:\n",
    "                    techniques.append(technique[\"label\"])\n",
    "        techniques = pd.Series(techniques)\n",
    "        techniques = techniques.value_counts()\n",
    "        techniques = techniques / techniques.sum()\n",
    "        # separate techniques names and frequencies\n",
    "        ranking.append({'community': comm, 'techniques': techniques.index.tolist(), 'frequencies': techniques.values.tolist()})\n",
    "    overall_ranking.append({'time_period': time_period, 'ranking': ranking})"
   ]
  },
  {
   "cell_type": "markdown",
   "metadata": {},
   "source": [
    "# Rank techniques which swingers in a given community are most vulnerable to"
   ]
  },
  {
   "cell_type": "markdown",
   "metadata": {},
   "source": [
    "## Read community to which swingers belong"
   ]
  },
  {
   "cell_type": "code",
   "execution_count": 11,
   "metadata": {},
   "outputs": [],
   "source": [
    "comm_bd_swingers = pd.read_csv(\"../../../data/05_swing_voters/swing_voters_bd.csv\")\n",
    "comm_da_swingers = pd.read_csv(\"../../../data/05_swing_voters/swing_voters_da.csv\")\n",
    "comm_ba_swingers = pd.read_csv(\"../../../data/05_swing_voters/swing_voters_ba.csv\")"
   ]
  },
  {
   "cell_type": "code",
   "execution_count": 12,
   "metadata": {},
   "outputs": [],
   "source": [
    "hard_swing = pd.read_csv(\"../../../data/hard_swing.csv\")\n",
    "hard_swing[\"single_party\"] = hard_swing[\"party1\"] + \"_\" + hard_swing[\"party2\"]\n",
    "comm_bd_swingers[\"single_party\"] = comm_bd_swingers[\"party1\"] + \"_\" + comm_bd_swingers[\"party2\"]\n",
    "comm_da_swingers[\"single_party\"] = comm_da_swingers[\"party1\"] + \"_\" + comm_da_swingers[\"party2\"]\n",
    "comm_ba_swingers[\"single_party\"] = comm_ba_swingers[\"party1\"] + \"_\" + comm_ba_swingers[\"party2\"]"
   ]
  },
  {
   "cell_type": "code",
   "execution_count": 13,
   "metadata": {},
   "outputs": [],
   "source": [
    "comm_bd_swingers = comm_bd_swingers[comm_bd_swingers[\"single_party\"].isin(hard_swing[\"single_party\"].values)]\n",
    "comm_da_swingers = comm_da_swingers[comm_da_swingers[\"single_party\"].isin(hard_swing[\"single_party\"].values)]\n",
    "comm_ba_swingers = comm_ba_swingers[comm_ba_swingers[\"single_party\"].isin(hard_swing[\"single_party\"].values)]"
   ]
  },
  {
   "cell_type": "markdown",
   "metadata": {},
   "source": [
    "Size of communities"
   ]
  },
  {
   "cell_type": "code",
   "execution_count": 14,
   "metadata": {},
   "outputs": [
    {
     "data": {
      "text/plain": [
       "FdI_PD                108\n",
       "L;Az-Iv_PD;AVS        100\n",
       "PD;AVS_Az-Iv           76\n",
       "PD;AVS_FdI;M5s         64\n",
       "M5s_PD;AVS             61\n",
       "FdI_PD;AVS             39\n",
       "M5s_PD                 34\n",
       "FdI_Az-Iv              32\n",
       "L;FdI_Az-Iv            20\n",
       "L;FdI_PD               15\n",
       "L;Az-Iv_PD             13\n",
       "M5s_NM;FI;FdI;PD;L      8\n",
       "L;FdI_PD;AVS            4\n",
       "FI_PD                   1\n",
       "FI_Az-Iv                1\n",
       "Name: single_party, dtype: int64"
      ]
     },
     "execution_count": 14,
     "metadata": {},
     "output_type": "execute_result"
    }
   ],
   "source": [
    "comm_bd_swingers[\"single_party\"].value_counts()"
   ]
  },
  {
   "cell_type": "code",
   "execution_count": 15,
   "metadata": {},
   "outputs": [
    {
     "data": {
      "text/plain": [
       "PD_FdI;Az-Iv          200\n",
       "Az-Iv_PD;AVS          128\n",
       "PD;AVS_FdI;Az-Iv       94\n",
       "FdI;M5s_PD;AVS         88\n",
       "PD;AVS_M5s             50\n",
       "Az-Iv_FdI;FI           10\n",
       "PD_M5s                  9\n",
       "Az-Iv_L;FdI             9\n",
       "PD_L;FdI                8\n",
       "PD_FdI;FI               7\n",
       "PD;AVS_FdI;FI           6\n",
       "PD;AVS_L;FdI            5\n",
       "FdI;M5s_PD;Az-Iv        4\n",
       "NM;FI;FdI;PD;L_M5s      1\n",
       "PD;AVS_FdI              1\n",
       "PD;AVS_NM;FdI           1\n",
       "Az-Iv_M5s               1\n",
       "Name: single_party, dtype: int64"
      ]
     },
     "execution_count": 15,
     "metadata": {},
     "output_type": "execute_result"
    }
   ],
   "source": [
    "comm_da_swingers[\"single_party\"].value_counts()"
   ]
  },
  {
   "cell_type": "code",
   "execution_count": 16,
   "metadata": {},
   "outputs": [
    {
     "data": {
      "text/plain": [
       "L;Az-Iv_PD;AVS      85\n",
       "M5s_PD;AVS          81\n",
       "M5s_FdI;Az-Iv       81\n",
       "FdI_PD;AVS          76\n",
       "PD;AVS_FdI;Az-Iv    52\n",
       "PD;AVS_M5s          52\n",
       "FdI_PD;Az-Iv        18\n",
       "L;FdI_PD;Az-Iv      16\n",
       "FdI_M5s             14\n",
       "M5s_L;FdI           13\n",
       "L;FdI_PD;AVS         8\n",
       "M5s_FdI;FI           4\n",
       "PD;AVS_L;FdI         2\n",
       "PD;AVS_NM;FdI        2\n",
       "L;Az-Iv_M5s          2\n",
       "M5s_PD;Az-Iv         1\n",
       "M5s_NM;FdI           1\n",
       "PD;AVS_FdI;FI        1\n",
       "FI_PD;Az-Iv          1\n",
       "Name: single_party, dtype: int64"
      ]
     },
     "execution_count": 16,
     "metadata": {},
     "output_type": "execute_result"
    }
   ],
   "source": [
    "comm_ba_swingers[\"single_party\"].value_counts()"
   ]
  },
  {
   "cell_type": "markdown",
   "metadata": {},
   "source": [
    "## Read vulnerability of swingers to propaganda techniques"
   ]
  },
  {
   "cell_type": "code",
   "execution_count": 48,
   "metadata": {},
   "outputs": [],
   "source": [
    "with open ('../../../data/07_propaganda_vulnerability/propaganda_swingers.json') as f:\n",
    "    vulnerability_swingers = json.load(f)"
   ]
  },
  {
   "cell_type": "markdown",
   "metadata": {},
   "source": [
    "## Match the two info"
   ]
  },
  {
   "cell_type": "code",
   "execution_count": 49,
   "metadata": {},
   "outputs": [],
   "source": [
    "start_before = '2022-07-01'\n",
    "start_during = '2022-08-26'\n",
    "start_after = '2022-09-25'\n",
    "end_after = '2022-10-31'"
   ]
  },
  {
   "cell_type": "markdown",
   "metadata": {},
   "source": [
    "### BD"
   ]
  },
  {
   "cell_type": "code",
   "execution_count": 20,
   "metadata": {},
   "outputs": [],
   "source": [
    "# Create a dictionary where keys are users and values are a list of tweets where they belong to \"BD\"\n",
    "user_bd_tweets_before = {}\n",
    "user_bd_tweets_during = {}\n",
    "for tweet, instances in vulnerability_swingers.items():\n",
    "    for instance in instances:\n",
    "        user, category, date_creation = instance\n",
    "        if int(user) not in comm_bd_swingers[\"user\"].values:\n",
    "            continue\n",
    "        if category == \"BD\" and date_creation < start_during:\n",
    "            if user not in user_bd_tweets_before:\n",
    "                user_bd_tweets_before[user] = []\n",
    "            user_bd_tweets_before[user].append(tweet)\n",
    "        elif category == \"BD\" and date_creation >= start_during and date_creation < start_after:\n",
    "            if user not in user_bd_tweets_during:\n",
    "                user_bd_tweets_during[user] = []\n",
    "            user_bd_tweets_during[user].append(tweet)"
   ]
  },
  {
   "cell_type": "code",
   "execution_count": 50,
   "metadata": {},
   "outputs": [
    {
     "name": "stdout",
     "output_type": "stream",
     "text": [
      "Perc. of users with BD tweets before: 13.368055555555555%\n",
      "Perc. of users with BD tweets during: 11.805555555555555%\n"
     ]
    }
   ],
   "source": [
    "# Now build tweets_bd using the precomputed user_bd_tweets dictionary\n",
    "tweets_bd_before = []\n",
    "tweets_bd_during = []\n",
    "tot_vuln_bd_before = 0\n",
    "tot_vuln_bd_during = 0\n",
    "for i, row in comm_bd_swingers.iterrows():\n",
    "    user = row['user']\n",
    "    community_pre = row['party1']\n",
    "    community_post = row['party2']\n",
    "    \n",
    "    # If the user has any BD tweets, add them to the result\n",
    "    if str(user) in user_bd_tweets_before:\n",
    "        for tweet in user_bd_tweets_before[str(user)]:\n",
    "            tweets_bd_before.append([str(tweet), community_pre])\n",
    "        tot_vuln_bd_before += 1\n",
    "\n",
    "    if str(user) in user_bd_tweets_during:\n",
    "        for tweet in user_bd_tweets_during[str(user)]:\n",
    "            tweets_bd_during.append([str(tweet), community_post])\n",
    "        tot_vuln_bd_during += 1\n",
    "\n",
    "print(f\"Perc. of users with BD tweets before: {(tot_vuln_bd_before/len(comm_bd_swingers))*100}%\")\n",
    "print(f\"Perc. of users with BD tweets during: {(tot_vuln_bd_during/len(comm_bd_swingers))*100}%\")\n",
    "    \n"
   ]
  },
  {
   "cell_type": "markdown",
   "metadata": {},
   "source": [
    "### DA"
   ]
  },
  {
   "cell_type": "code",
   "execution_count": 51,
   "metadata": {},
   "outputs": [],
   "source": [
    "user_da_tweets_during = {}\n",
    "user_da_tweets_after = {}\n",
    "for tweet, instances in vulnerability_swingers.items():\n",
    "    for instance in instances:\n",
    "        user, category, date_creation = instance\n",
    "        if int(user) not in comm_da_swingers[\"user\"].values:\n",
    "            continue\n",
    "        if category == \"DA\" and date_creation >= start_during and date_creation < start_after:\n",
    "            if user not in user_da_tweets_during:\n",
    "                user_da_tweets_during[user] = []\n",
    "            user_da_tweets_during[user].append(tweet)\n",
    "        elif category == \"DA\" and date_creation >= start_after:\n",
    "            if user not in user_da_tweets_after:\n",
    "                user_da_tweets_after[user] = []\n",
    "            user_da_tweets_after[user].append(tweet)"
   ]
  },
  {
   "cell_type": "code",
   "execution_count": 52,
   "metadata": {},
   "outputs": [
    {
     "name": "stdout",
     "output_type": "stream",
     "text": [
      "Perc. of users with DA tweets before: 27.652733118971064%\n",
      "Perc. of users with DA tweets during: 28.938906752411576%\n"
     ]
    }
   ],
   "source": [
    "tweets_da_during = []\n",
    "tweets_da_after = []\n",
    "tot_vuln_da_during = 0\n",
    "tot_vuln_da_after = 0\n",
    "for i, row in comm_da_swingers.iterrows():\n",
    "    user = row['user']\n",
    "    community_pre = row['party1']\n",
    "    community_post = row['party2']\n",
    "    \n",
    "    if str(user) in user_da_tweets_during:\n",
    "        for tweet in user_da_tweets_during[str(user)]:\n",
    "            tweets_da_during.append([str(tweet), community_pre])\n",
    "        tot_vuln_da_during += 1\n",
    "    if str(user) in user_da_tweets_after:\n",
    "        for tweet in user_da_tweets_after[str(user)]:\n",
    "            tweets_da_after.append([str(tweet), community_post])\n",
    "        tot_vuln_da_after += 1\n",
    "\n",
    "\n",
    "print(f\"Perc. of users with DA tweets before: {(tot_vuln_da_during/len(comm_da_swingers))*100}%\")\n",
    "print(f\"Perc. of users with DA tweets during: {(tot_vuln_da_after/len(comm_da_swingers))*100}%\")\n",
    "    "
   ]
  },
  {
   "cell_type": "markdown",
   "metadata": {},
   "source": [
    "### BA"
   ]
  },
  {
   "cell_type": "code",
   "execution_count": 53,
   "metadata": {},
   "outputs": [],
   "source": [
    "user_ba_tweets_before = {}\n",
    "user_ba_tweets_after = {}\n",
    "for tweet, instances in vulnerability_swingers.items():\n",
    "    for instance in instances:\n",
    "        user, category, date_creation = instance\n",
    "        if int(user) not in comm_ba_swingers[\"user\"].values:\n",
    "            continue\n",
    "        if category == \"BA\" and date_creation < start_during:\n",
    "            if user not in user_ba_tweets_before:\n",
    "                user_ba_tweets_before[user] = []\n",
    "            user_ba_tweets_before[user].append(tweet)\n",
    "        elif category == \"BA\" and date_creation >= start_after:\n",
    "            if user not in user_ba_tweets_after:\n",
    "                user_ba_tweets_after[user] = []\n",
    "            user_ba_tweets_after[user].append(tweet)"
   ]
  },
  {
   "cell_type": "code",
   "execution_count": 54,
   "metadata": {},
   "outputs": [
    {
     "name": "stdout",
     "output_type": "stream",
     "text": [
      "Perc. of users with BA tweets before: 60.19607843137255%\n",
      "Perc. of users with BA tweets after: 45.294117647058826%\n"
     ]
    }
   ],
   "source": [
    "tweets_ba_before = []\n",
    "tweets_ba_after = []\n",
    "tot_vuln_ba_before = 0\n",
    "tot_vuln_ba_after = 0\n",
    "for i, row in comm_ba_swingers.iterrows():\n",
    "    user = row['user']\n",
    "    community_pre = row['party1']\n",
    "    community_post = row['party2']\n",
    "    \n",
    "    if str(user) in user_ba_tweets_before:\n",
    "        for tweet in user_ba_tweets_before[str(user)]:\n",
    "            tweets_ba_before.append([str(tweet), community_pre])\n",
    "        tot_vuln_ba_before += 1\n",
    "    if str(user) in user_ba_tweets_after:\n",
    "        for tweet in user_ba_tweets_after[str(user)]:\n",
    "            tweets_ba_after.append([str(tweet), community_post])\n",
    "        tot_vuln_ba_after += 1\n",
    "\n",
    "print(f\"Perc. of users with BA tweets before: {(tot_vuln_ba_before/len(comm_ba_swingers))*100}%\")\n",
    "print(f\"Perc. of users with BA tweets after: {(tot_vuln_ba_after/len(comm_ba_swingers))*100}%\")"
   ]
  },
  {
   "cell_type": "markdown",
   "metadata": {},
   "source": [
    "## For each tweet, extract info on propaganda techniques"
   ]
  },
  {
   "cell_type": "code",
   "execution_count": 29,
   "metadata": {},
   "outputs": [],
   "source": [
    "tweet_bd_v2_before = []\n",
    "for tweet in tweets_bd_before:\n",
    "    tweet_id = tweet[0]\n",
    "    community = tweet[1]\n",
    "    if \"annotations\" in prop_politicians[tweet_id]:\n",
    "        techniques = [technique[\"label\"] for technique in prop_politicians[tweet_id][\"annotations\"]]\n",
    "        tweet_bd_v2_before.append([tweet_id, community, techniques])\n",
    "\n",
    "tweet_bd_v2_during = []\n",
    "for tweet in tweets_bd_during:\n",
    "    tweet_id = tweet[0]\n",
    "    community = tweet[1]\n",
    "    if \"annotations\" in prop_politicians[tweet_id]:\n",
    "        techniques = [technique[\"label\"] for technique in prop_politicians[tweet_id][\"annotations\"]]\n",
    "        tweet_bd_v2_during.append([tweet_id, community, techniques])"
   ]
  },
  {
   "cell_type": "code",
   "execution_count": 30,
   "metadata": {},
   "outputs": [],
   "source": [
    "tweet_da_v2_during = []\n",
    "for tweet in tweets_da_during:\n",
    "    tweet_id = tweet[0]\n",
    "    community = tweet[1]\n",
    "    if \"annotations\" in prop_politicians[tweet_id]:\n",
    "        techniques = [technique[\"label\"] for technique in prop_politicians[tweet_id][\"annotations\"]]\n",
    "        tweet_da_v2_during.append([tweet_id, community, techniques])\n",
    "\n",
    "tweet_da_v2_after = []\n",
    "for tweet in tweets_da_after:\n",
    "    tweet_id = tweet[0]\n",
    "    community = tweet[1]\n",
    "    if \"annotations\" in prop_politicians[tweet_id]:\n",
    "        techniques = [technique[\"label\"] for technique in prop_politicians[tweet_id][\"annotations\"]]\n",
    "        tweet_da_v2_after.append([tweet_id, community, techniques])"
   ]
  },
  {
   "cell_type": "code",
   "execution_count": 31,
   "metadata": {},
   "outputs": [],
   "source": [
    "tweet_ba_v2_before = []\n",
    "for tweet in tweets_ba_before:\n",
    "    tweet_id = tweet[0]\n",
    "    community = tweet[1]\n",
    "    if \"annotations\" in prop_politicians[tweet_id]:\n",
    "        techniques = [technique[\"label\"] for technique in prop_politicians[tweet_id][\"annotations\"]]\n",
    "        tweet_ba_v2_before.append([tweet_id, community, techniques])\n",
    "\n",
    "tweet_ba_v2_after = []\n",
    "for tweet in tweets_ba_after:\n",
    "    tweet_id = tweet[0]\n",
    "    community = tweet[1]\n",
    "    if \"annotations\" in prop_politicians[tweet_id]:\n",
    "        techniques = [technique[\"label\"] for technique in prop_politicians[tweet_id][\"annotations\"]]\n",
    "        tweet_ba_v2_after.append([tweet_id, community, techniques])"
   ]
  },
  {
   "cell_type": "markdown",
   "metadata": {},
   "source": [
    "## Ranking"
   ]
  },
  {
   "cell_type": "code",
   "execution_count": 32,
   "metadata": {},
   "outputs": [],
   "source": [
    "# rank in the format of overall_ranking\n",
    "ranking_bd_pre = []\n",
    "for comm in comm_bd_swingers['party1'].unique():\n",
    "    tweets_comm = [tweet for tweet in tweet_bd_v2_before if tweet[1] == comm]\n",
    "    if len(tweets_comm) == 0:\n",
    "        continue\n",
    "    techniques = []\n",
    "    for tweet in tweets_comm:\n",
    "        techniques.extend(tweet[2])\n",
    "    techniques = pd.Series(techniques)\n",
    "    techniques = techniques.value_counts()\n",
    "    techniques = techniques / techniques.sum()\n",
    "    ranking_bd_pre.append({'community': comm, 'techniques': techniques.index.tolist(), 'frequencies': techniques.values.tolist()})\n",
    "\n",
    "ranking_bd_post = []\n",
    "for comm in comm_bd_swingers['party2'].unique():\n",
    "    tweets_comm = [tweet for tweet in tweet_bd_v2_during if tweet[1] == comm]\n",
    "    if len(tweets_comm) == 0:\n",
    "        continue\n",
    "    techniques = []\n",
    "    for tweet in tweets_comm:\n",
    "        techniques.extend(tweet[2])\n",
    "    techniques = pd.Series(techniques)\n",
    "    techniques = techniques.value_counts()\n",
    "    techniques = techniques / techniques.sum()\n",
    "    ranking_bd_post.append({'community': comm, 'techniques': techniques.index.tolist(), 'frequencies': techniques.values.tolist()})"
   ]
  },
  {
   "cell_type": "code",
   "execution_count": 33,
   "metadata": {},
   "outputs": [],
   "source": [
    "ranking_da_pre = []\n",
    "for comm in comm_da_swingers['party1'].unique():\n",
    "    tweets_comm = [tweet for tweet in tweet_da_v2_during if tweet[1] == comm]\n",
    "    if len(tweets_comm) == 0:\n",
    "        continue\n",
    "    techniques = []\n",
    "    for tweet in tweets_comm:\n",
    "        techniques.extend(tweet[2])\n",
    "    techniques = pd.Series(techniques)\n",
    "    techniques = techniques.value_counts()\n",
    "    techniques = techniques / techniques.sum()\n",
    "    ranking_da_pre.append({'community': comm, 'techniques': techniques.index.tolist(), 'frequencies': techniques.values.tolist()})\n",
    "\n",
    "ranking_da_post = []\n",
    "for comm in comm_da_swingers['party2'].unique():\n",
    "    tweets_comm = [tweet for tweet in tweet_da_v2_after if tweet[1] == comm]\n",
    "    if len(tweets_comm) == 0:\n",
    "        continue\n",
    "    techniques = []\n",
    "    for tweet in tweets_comm:\n",
    "        techniques.extend(tweet[2])\n",
    "    techniques = pd.Series(techniques)\n",
    "    techniques = techniques.value_counts()\n",
    "    techniques = techniques / techniques.sum()\n",
    "    ranking_da_post.append({'community': comm, 'techniques': techniques.index.tolist(), 'frequencies': techniques.values.tolist()})"
   ]
  },
  {
   "cell_type": "code",
   "execution_count": 34,
   "metadata": {},
   "outputs": [],
   "source": [
    "ranking_ba_pre = []\n",
    "for comm in comm_ba_swingers['party1'].unique():\n",
    "    tweets_comm = [tweet for tweet in tweet_ba_v2_before if tweet[1] == comm]\n",
    "    if len(tweets_comm) == 0:\n",
    "        continue\n",
    "    techniques = []\n",
    "    for tweet in tweets_comm:\n",
    "        techniques.extend(tweet[2])\n",
    "    techniques = pd.Series(techniques)\n",
    "    techniques = techniques.value_counts()\n",
    "    techniques = techniques / techniques.sum()\n",
    "    ranking_ba_pre.append({'community': comm, 'techniques': techniques.index.tolist(), 'frequencies': techniques.values.tolist()})\n",
    "\n",
    "ranking_ba_post = []\n",
    "for comm in comm_ba_swingers['party2'].unique():\n",
    "    tweets_comm = [tweet for tweet in tweet_ba_v2_after if tweet[1] == comm]\n",
    "    if len(tweets_comm) == 0:\n",
    "        continue\n",
    "    techniques = []\n",
    "    for tweet in tweets_comm:\n",
    "        techniques.extend(tweet[2])\n",
    "    techniques = pd.Series(techniques)\n",
    "    techniques = techniques.value_counts()\n",
    "    techniques = techniques / techniques.sum()\n",
    "    ranking_ba_post.append({'community': comm, 'techniques': techniques.index.tolist(), 'frequencies': techniques.values.tolist()})"
   ]
  },
  {
   "cell_type": "markdown",
   "metadata": {},
   "source": [
    "# Compare rankings"
   ]
  },
  {
   "cell_type": "markdown",
   "metadata": {},
   "source": [
    "## Before-during swing voters"
   ]
  },
  {
   "cell_type": "markdown",
   "metadata": {},
   "source": [
    "Before community"
   ]
  },
  {
   "cell_type": "code",
   "execution_count": 35,
   "metadata": {},
   "outputs": [
    {
     "name": "stdout",
     "output_type": "stream",
     "text": [
      "Community FdI\n",
      "Top-10 community: ['Doubt', 'Conversation_Killer', 'Name_Calling-Labeling', 'Loaded_Language', 'Questioning_the_Reputation', 'Slogans', 'Appeal_to_Values', 'Guilt_by_Association', 'False_Dilemma-No_Choice', 'Appeal_to_Fear-Prejudice']\n",
      "Top-10 swingers: ['Doubt', 'Loaded_Language', 'Questioning_the_Reputation', 'Conversation_Killer', 'Appeal_to_Values', 'Name_Calling-Labeling', 'Slogans', 'Flag_Waving', 'Appeal_to_Hypocrisy', 'Appeal_to_Time']\n",
      "Common %: 70.0\n",
      "\n",
      "Community M5s\n",
      "Top-10 community: ['Doubt', 'Appeal_to_Values', 'Loaded_Language', 'Slogans', 'Questioning_the_Reputation', 'Conversation_Killer', 'Name_Calling-Labeling', 'Appeal_to_Hypocrisy', 'Appeal_to_Time', 'Flag_Waving']\n",
      "Top-10 swingers: ['Doubt', 'Conversation_Killer', 'Appeal_to_Values', 'Questioning_the_Reputation', 'Loaded_Language', 'Slogans', 'Name_Calling-Labeling', 'Straw_Man', 'False_Dilemma-No_Choice', 'Appeal_to_Hypocrisy']\n",
      "Common %: 80.0\n",
      "\n",
      "Community PD;AVS\n",
      "Top-10 community: ['Doubt', 'Appeal_to_Values', 'Loaded_Language', 'Questioning_the_Reputation', 'Conversation_Killer', 'Slogans', 'Name_Calling-Labeling', 'Appeal_to_Hypocrisy', 'Flag_Waving', 'False_Dilemma-No_Choice']\n",
      "Top-10 swingers: ['Doubt', 'Questioning_the_Reputation', 'Loaded_Language', 'Appeal_to_Values', 'Slogans', 'Name_Calling-Labeling', 'Appeal_to_Hypocrisy', 'Conversation_Killer', 'Flag_Waving', 'Repetition']\n",
      "Common %: 90.0\n",
      "\n",
      "Community L;Az-Iv\n",
      "Top-10 community: ['Doubt', 'Conversation_Killer', 'Loaded_Language', 'Questioning_the_Reputation', 'Slogans', 'Appeal_to_Values', 'Name_Calling-Labeling', 'Flag_Waving', 'False_Dilemma-No_Choice', 'Appeal_to_Hypocrisy']\n",
      "Top-10 swingers: ['Doubt', 'Loaded_Language', 'Questioning_the_Reputation', 'Conversation_Killer', 'Slogans', 'Appeal_to_Values', 'Appeal_to_Hypocrisy', 'Name_Calling-Labeling', 'Flag_Waving', 'Exaggeration-Minimisation']\n",
      "Common %: 90.0\n",
      "\n",
      "Community FI\n",
      "Top-10 community: ['Doubt', 'Appeal_to_Values', 'Questioning_the_Reputation', 'Loaded_Language', 'Flag_Waving', 'Slogans', 'Name_Calling-Labeling', 'Conversation_Killer', 'False_Dilemma-No_Choice', 'Appeal_to_Hypocrisy']\n",
      "Top-10 swingers: ['Doubt', 'Name_Calling-Labeling', 'Questioning_the_Reputation', 'Loaded_Language', 'Appeal_to_Values', 'Conversation_Killer', 'Appeal_to_Hypocrisy', 'Slogans', 'Appeal_to_Fear-Prejudice', 'Appeal_to_Authority']\n",
      "Common %: 80.0\n",
      "\n",
      "Community L;FdI\n",
      "Top-10 community: ['Doubt', 'Loaded_Language', 'Slogans', 'Questioning_the_Reputation', 'Conversation_Killer', 'Appeal_to_Values', 'Flag_Waving', 'Name_Calling-Labeling', 'Appeal_to_Hypocrisy', 'Appeal_to_Fear-Prejudice']\n",
      "Top-10 swingers: ['Doubt', 'Questioning_the_Reputation', 'Conversation_Killer', 'Slogans', 'Loaded_Language', 'Appeal_to_Values', 'Name_Calling-Labeling', 'Straw_Man', 'Flag_Waving', 'False_Dilemma-No_Choice']\n",
      "Common %: 80.0\n",
      "\n",
      "Average overlap: 81.66666666666667\n"
     ]
    }
   ],
   "source": [
    "all_ranks = overall_ranking[0]['ranking'] # before\n",
    "overal_avg_perc = 0\n",
    "iter = 0\n",
    "for community in all_ranks:\n",
    "    for rank in ranking_bd_pre:\n",
    "        if community['community'] == rank['community']:\n",
    "            # re-order community['techniques'] based on community['frequencies']\n",
    "            community['techniques'] = [x for _, x in sorted(zip(community['frequencies'], community['techniques']), reverse=True)]\n",
    "            # re-order rank['techniques'] based on rank['frequencies']\n",
    "            rank['techniques'] = [x for _, x in sorted(zip(rank['frequencies'], rank['techniques']), reverse=True)]\n",
    "            \n",
    "            # print top-10 techniques \n",
    "            print(f\"Community {community['community']}\")\n",
    "            print(f\"Top-10 community: {community['techniques'][:10]}\")\n",
    "            print(f\"Top-10 swingers: {rank['techniques'][:10]}\")\n",
    "            # how many techniques in common (% overlap)\n",
    "            common = set(community['techniques'][:10]).intersection(set(rank['techniques'][:10]))\n",
    "            tot_techniques = len(set(community['techniques'][:10]))\n",
    "            print(f\"Common %: {len(common)/tot_techniques * 100}\")\n",
    "            overal_avg_perc += len(common)/tot_techniques * 100\n",
    "            iter += 1\n",
    "            print()\n",
    "\n",
    "print(f\"Average overlap: {overal_avg_perc/iter}\")\n"
   ]
  },
  {
   "cell_type": "markdown",
   "metadata": {},
   "source": [
    "During community"
   ]
  },
  {
   "cell_type": "code",
   "execution_count": 36,
   "metadata": {},
   "outputs": [
    {
     "name": "stdout",
     "output_type": "stream",
     "text": [
      "Community FdI;M5s\n",
      "Top-10 community: ['Doubt', 'Slogans', 'Appeal_to_Values', 'Loaded_Language', 'Conversation_Killer', 'Questioning_the_Reputation', 'Appeal_to_Fear-Prejudice', 'False_Dilemma-No_Choice', 'Appeal_to_Hypocrisy', 'Flag_Waving']\n",
      "Top-10 swingers: ['Doubt', 'Appeal_to_Values', 'Questioning_the_Reputation', 'Name_Calling-Labeling', 'Conversation_Killer', 'Loaded_Language', 'Guilt_by_Association', 'Flag_Waving', 'Exaggeration-Minimisation', 'Appeal_to_Fear-Prejudice']\n",
      "Common %: 70.0\n",
      "\n",
      "Community PD\n",
      "Top-10 community: ['Doubt', 'Questioning_the_Reputation', 'Loaded_Language', 'Conversation_Killer', 'Slogans', 'Name_Calling-Labeling', 'Flag_Waving', 'Appeal_to_Values', 'Appeal_to_Hypocrisy']\n",
      "Top-10 swingers: ['Doubt', 'Loaded_Language', 'Conversation_Killer', 'Slogans', 'Questioning_the_Reputation', 'Name_Calling-Labeling', 'Appeal_to_Hypocrisy']\n",
      "Common %: 77.77777777777779\n",
      "\n",
      "Community NM;FI;FdI;PD;L\n",
      "Top-10 community: ['Doubt', 'Slogans', 'Loaded_Language', 'Appeal_to_Values', 'Flag_Waving', 'Questioning_the_Reputation', 'Conversation_Killer', 'Name_Calling-Labeling', 'Appeal_to_Fear-Prejudice', 'False_Dilemma-No_Choice']\n",
      "Top-10 swingers: ['Doubt', 'Slogans', 'Appeal_to_Values', 'Questioning_the_Reputation', 'Flag_Waving', 'Conversation_Killer', 'Name_Calling-Labeling', 'Loaded_Language', 'False_Dilemma-No_Choice', 'Appeal_to_Time']\n",
      "Common %: 90.0\n",
      "\n",
      "Community PD;AVS\n",
      "Top-10 community: ['Doubt', 'Appeal_to_Values', 'Loaded_Language', 'Slogans', 'Conversation_Killer', 'Questioning_the_Reputation', 'Name_Calling-Labeling', 'Appeal_to_Hypocrisy', 'Flag_Waving', 'Appeal_to_Fear-Prejudice']\n",
      "Top-10 swingers: ['Doubt', 'Loaded_Language', 'Appeal_to_Values', 'Questioning_the_Reputation', 'Slogans', 'Conversation_Killer', 'Name_Calling-Labeling', 'False_Dilemma-No_Choice', 'Appeal_to_Hypocrisy', 'Flag_Waving']\n",
      "Common %: 90.0\n",
      "\n",
      "Community Az-Iv\n",
      "Top-10 community: ['Doubt', 'Slogans', 'Loaded_Language', 'Conversation_Killer', 'Appeal_to_Values', 'Questioning_the_Reputation', 'Name_Calling-Labeling', 'Flag_Waving', 'False_Dilemma-No_Choice', 'Appeal_to_Hypocrisy']\n",
      "Top-10 swingers: ['Doubt', 'Loaded_Language', 'Conversation_Killer', 'Questioning_the_Reputation', 'Appeal_to_Values', 'False_Dilemma-No_Choice', 'Name_Calling-Labeling', 'Red_Herring', 'Appeal_to_Hypocrisy', 'Slogans']\n",
      "Common %: 90.0\n",
      "\n",
      "Average overlap: 83.55555555555556\n"
     ]
    }
   ],
   "source": [
    "all_ranks = overall_ranking[1]['ranking'] # during\n",
    "overal_avg_perc = 0\n",
    "iter = 0\n",
    "for community in all_ranks:\n",
    "    for rank in ranking_bd_post:\n",
    "        if community['community'] == rank['community']:\n",
    "            # re-order community['techniques'] based on community['frequencies']\n",
    "            community['techniques'] = [x for _, x in sorted(zip(community['frequencies'], community['techniques']), reverse=True)]\n",
    "            # re-order rank['techniques'] based on rank['frequencies']\n",
    "            rank['techniques'] = [x for _, x in sorted(zip(rank['frequencies'], rank['techniques']), reverse=True)]\n",
    "            \n",
    "            # print top-10 techniques \n",
    "            print(f\"Community {community['community']}\")\n",
    "            print(f\"Top-10 community: {community['techniques'][:10]}\")\n",
    "            print(f\"Top-10 swingers: {rank['techniques'][:10]}\")\n",
    "            # how many techniques in common (% overlap)\n",
    "            common = set(community['techniques'][:10]).intersection(set(rank['techniques'][:10]))\n",
    "            tot_techniques = len(set(community['techniques'][:10]))\n",
    "            print(f\"Common %: {len(common)/tot_techniques * 100}\")\n",
    "            overal_avg_perc += len(common)/tot_techniques * 100\n",
    "            iter += 1\n",
    "            print()\n",
    "\n",
    "print(f\"Average overlap: {overal_avg_perc/iter}\")\n",
    "\n"
   ]
  },
  {
   "cell_type": "markdown",
   "metadata": {},
   "source": [
    "## Before-after swing voters"
   ]
  },
  {
   "cell_type": "markdown",
   "metadata": {},
   "source": [
    "Before community"
   ]
  },
  {
   "cell_type": "code",
   "execution_count": 37,
   "metadata": {},
   "outputs": [
    {
     "name": "stdout",
     "output_type": "stream",
     "text": [
      "Community FdI\n",
      "Top-10 community: ['Doubt', 'Conversation_Killer', 'Name_Calling-Labeling', 'Loaded_Language', 'Questioning_the_Reputation', 'Slogans', 'Appeal_to_Values', 'Guilt_by_Association', 'False_Dilemma-No_Choice', 'Appeal_to_Fear-Prejudice']\n",
      "Top-10 swingers: ['Doubt', 'Questioning_the_Reputation', 'Loaded_Language', 'Conversation_Killer', 'Appeal_to_Values', 'Slogans', 'Flag_Waving', 'Name_Calling-Labeling', 'Appeal_to_Hypocrisy', 'False_Dilemma-No_Choice']\n",
      "Common %: 80.0\n",
      "\n",
      "Community M5s\n",
      "Top-10 community: ['Doubt', 'Appeal_to_Values', 'Loaded_Language', 'Slogans', 'Questioning_the_Reputation', 'Conversation_Killer', 'Name_Calling-Labeling', 'Appeal_to_Hypocrisy', 'Appeal_to_Time', 'Flag_Waving']\n",
      "Top-10 swingers: ['Doubt', 'Questioning_the_Reputation', 'Loaded_Language', 'Conversation_Killer', 'Appeal_to_Values', 'Name_Calling-Labeling', 'Slogans', 'Flag_Waving', 'Appeal_to_Hypocrisy', 'Appeal_to_Fear-Prejudice']\n",
      "Common %: 90.0\n",
      "\n",
      "Community PD;AVS\n",
      "Top-10 community: ['Doubt', 'Appeal_to_Values', 'Loaded_Language', 'Questioning_the_Reputation', 'Conversation_Killer', 'Slogans', 'Name_Calling-Labeling', 'Appeal_to_Hypocrisy', 'Flag_Waving', 'False_Dilemma-No_Choice']\n",
      "Top-10 swingers: ['Doubt', 'Loaded_Language', 'Appeal_to_Values', 'Questioning_the_Reputation', 'Conversation_Killer', 'Slogans', 'Flag_Waving', 'Appeal_to_Hypocrisy', 'Name_Calling-Labeling', 'Appeal_to_Fear-Prejudice']\n",
      "Common %: 90.0\n",
      "\n",
      "Community L;Az-Iv\n",
      "Top-10 community: ['Doubt', 'Conversation_Killer', 'Loaded_Language', 'Questioning_the_Reputation', 'Slogans', 'Appeal_to_Values', 'Name_Calling-Labeling', 'Flag_Waving', 'False_Dilemma-No_Choice', 'Appeal_to_Hypocrisy']\n",
      "Top-10 swingers: ['Doubt', 'Loaded_Language', 'Questioning_the_Reputation', 'Conversation_Killer', 'Name_Calling-Labeling', 'Slogans', 'Appeal_to_Values', 'Appeal_to_Hypocrisy', 'Flag_Waving', 'Exaggeration-Minimisation']\n",
      "Common %: 90.0\n",
      "\n",
      "Community L;FdI\n",
      "Top-10 community: ['Doubt', 'Loaded_Language', 'Slogans', 'Questioning_the_Reputation', 'Conversation_Killer', 'Appeal_to_Values', 'Flag_Waving', 'Name_Calling-Labeling', 'Appeal_to_Hypocrisy', 'Appeal_to_Fear-Prejudice']\n",
      "Top-10 swingers: ['Doubt', 'Questioning_the_Reputation', 'Slogans', 'Loaded_Language', 'Conversation_Killer', 'Appeal_to_Values', 'Appeal_to_Hypocrisy', 'Flag_Waving', 'Name_Calling-Labeling', 'False_Dilemma-No_Choice']\n",
      "Common %: 90.0\n",
      "\n",
      "Average overlap: 88.0\n"
     ]
    }
   ],
   "source": [
    "all_ranks = overall_ranking[0]['ranking'] # before\n",
    "overal_avg_perc = 0\n",
    "iter = 0\n",
    "for community in all_ranks:\n",
    "    for rank in ranking_ba_pre:\n",
    "        if community['community'] == rank['community']:\n",
    "            # re-order community['techniques'] based on community['frequencies']\n",
    "            community['techniques'] = [x for _, x in sorted(zip(community['frequencies'], community['techniques']), reverse=True)]\n",
    "            # re-order rank['techniques'] based on rank['frequencies']\n",
    "            rank['techniques'] = [x for _, x in sorted(zip(rank['frequencies'], rank['techniques']), reverse=True)]\n",
    "            \n",
    "            # print top-10 techniques \n",
    "            print(f\"Community {community['community']}\")\n",
    "            print(f\"Top-10 community: {community['techniques'][:10]}\")\n",
    "            print(f\"Top-10 swingers: {rank['techniques'][:10]}\")\n",
    "            # how many techniques in common (% overlap)\n",
    "            common = set(community['techniques'][:10]).intersection(set(rank['techniques'][:10]))\n",
    "            tot_techniques = len(set(community['techniques'][:10]))\n",
    "            print(f\"Common %: {len(common)/tot_techniques * 100}\")\n",
    "            overal_avg_perc += len(common)/tot_techniques * 100\n",
    "            iter += 1\n",
    "            print()\n",
    "\n",
    "print(f\"Average overlap: {overal_avg_perc/iter}\")\n"
   ]
  },
  {
   "cell_type": "markdown",
   "metadata": {},
   "source": [
    "After community"
   ]
  },
  {
   "cell_type": "code",
   "execution_count": 38,
   "metadata": {},
   "outputs": [
    {
     "name": "stdout",
     "output_type": "stream",
     "text": [
      "Community FdI;Az-Iv\n",
      "Top-10 community: ['Doubt', 'Loaded_Language', 'Slogans', 'Conversation_Killer', 'Name_Calling-Labeling', 'Appeal_to_Hypocrisy', 'Appeal_to_Fear-Prejudice', 'Straw_Man', 'Questioning_the_Reputation', 'False_Dilemma-No_Choice']\n",
      "Top-10 swingers: ['Doubt', 'Slogans', 'Appeal_to_Values', 'Questioning_the_Reputation', 'Loaded_Language', 'Name_Calling-Labeling', 'Conversation_Killer', 'Flag_Waving', 'False_Dilemma-No_Choice', 'Appeal_to_Fear-Prejudice']\n",
      "Common %: 80.0\n",
      "\n",
      "Community PD;AVS\n",
      "Top-10 community: ['Doubt', 'Appeal_to_Values', 'Loaded_Language', 'Slogans', 'Questioning_the_Reputation', 'Name_Calling-Labeling', 'Conversation_Killer', 'Appeal_to_Hypocrisy', 'Flag_Waving', 'Appeal_to_Fear-Prejudice']\n",
      "Top-10 swingers: ['Doubt', 'Slogans', 'Loaded_Language', 'Appeal_to_Values', 'Questioning_the_Reputation', 'Name_Calling-Labeling', 'Conversation_Killer', 'Flag_Waving', 'False_Dilemma-No_Choice', 'Appeal_to_Fear-Prejudice']\n",
      "Common %: 90.0\n",
      "\n",
      "Community M5s\n",
      "Top-10 community: ['Loaded_Language', 'Slogans', 'Doubt', 'Questioning_the_Reputation', 'Name_Calling-Labeling', 'Appeal_to_Values', 'Flag_Waving', 'Appeal_to_Fear-Prejudice']\n",
      "Top-10 swingers: ['Doubt', 'Loaded_Language', 'Questioning_the_Reputation', 'Slogans', 'Appeal_to_Values', 'Name_Calling-Labeling', 'Flag_Waving', 'False_Dilemma-No_Choice', 'Conversation_Killer', 'Guilt_by_Association']\n",
      "Common %: 87.5\n",
      "\n",
      "Community NM;FdI\n",
      "Top-10 community: ['Appeal_to_Values', 'Doubt']\n",
      "Top-10 swingers: ['Doubt', 'Appeal_to_Values', 'Slogans', 'Name_Calling-Labeling', 'Questioning_the_Reputation', 'Flag_Waving', 'Conversation_Killer', 'Loaded_Language', 'False_Dilemma-No_Choice', 'Appeal_to_Popularity']\n",
      "Common %: 100.0\n",
      "\n",
      "Community FdI;FI\n",
      "Top-10 community: ['Doubt', 'Loaded_Language', 'Appeal_to_Values', 'Slogans', 'Flag_Waving', 'Questioning_the_Reputation', 'Name_Calling-Labeling', 'Conversation_Killer', 'Appeal_to_Popularity', 'False_Dilemma-No_Choice']\n",
      "Top-10 swingers: ['Doubt', 'Loaded_Language', 'Slogans', 'Name_Calling-Labeling', 'Appeal_to_Values', 'Appeal_to_Fear-Prejudice']\n",
      "Common %: 50.0\n",
      "\n",
      "Community L;FdI\n",
      "Top-10 community: ['Doubt', 'Loaded_Language', 'Slogans', 'Questioning_the_Reputation', 'Name_Calling-Labeling', 'Appeal_to_Values', 'Conversation_Killer', 'Flag_Waving', 'Appeal_to_Hypocrisy', 'Appeal_to_Fear-Prejudice']\n",
      "Top-10 swingers: ['Doubt', 'Loaded_Language', 'Questioning_the_Reputation', 'Appeal_to_Values', 'Name_Calling-Labeling', 'Slogans', 'Flag_Waving', 'Conversation_Killer', 'Appeal_to_Popularity', 'Appeal_to_Hypocrisy']\n",
      "Common %: 90.0\n",
      "\n",
      "Community PD;Az-Iv\n",
      "Top-10 community: ['Doubt', 'Loaded_Language', 'Conversation_Killer', 'Questioning_the_Reputation', 'Appeal_to_Values', 'Slogans', 'Name_Calling-Labeling', 'False_Dilemma-No_Choice', 'Flag_Waving', 'Appeal_to_Hypocrisy']\n",
      "Top-10 swingers: ['Loaded_Language', 'Doubt', 'Questioning_the_Reputation', 'Conversation_Killer', 'Name_Calling-Labeling', 'Slogans', 'Appeal_to_Values', 'Straw_Man', 'Flag_Waving', 'Exaggeration-Minimisation']\n",
      "Common %: 80.0\n",
      "\n",
      "Average overlap: 82.5\n"
     ]
    }
   ],
   "source": [
    "all_ranks = overall_ranking[2]['ranking'] # after\n",
    "overal_avg_perc = 0\n",
    "iter = 0\n",
    "for community in all_ranks:\n",
    "    for rank in ranking_ba_post:\n",
    "        if community['community'] == rank['community']:\n",
    "            # re-order community['techniques'] based on community['frequencies']\n",
    "            community['techniques'] = [x for _, x in sorted(zip(community['frequencies'], community['techniques']), reverse=True)]\n",
    "            # re-order rank['techniques'] based on rank['frequencies']\n",
    "            rank['techniques'] = [x for _, x in sorted(zip(rank['frequencies'], rank['techniques']), reverse=True)]\n",
    "            \n",
    "            # print top-10 techniques \n",
    "            print(f\"Community {community['community']}\")\n",
    "            print(f\"Top-10 community: {community['techniques'][:10]}\")\n",
    "            print(f\"Top-10 swingers: {rank['techniques'][:10]}\")\n",
    "            # how many techniques in common (% overlap)\n",
    "            common = set(community['techniques'][:10]).intersection(set(rank['techniques'][:10]))\n",
    "            tot_techniques = len(set(community['techniques'][:10]))\n",
    "            print(f\"Common %: {len(common)/tot_techniques * 100}\")\n",
    "            overal_avg_perc += len(common)/tot_techniques * 100\n",
    "            iter += 1\n",
    "            print()\n",
    "\n",
    "print(f\"Average overlap: {overal_avg_perc/iter}\")\n"
   ]
  },
  {
   "cell_type": "markdown",
   "metadata": {},
   "source": [
    "## During-after swing voters"
   ]
  },
  {
   "cell_type": "markdown",
   "metadata": {},
   "source": [
    "During community"
   ]
  },
  {
   "cell_type": "code",
   "execution_count": 32,
   "metadata": {},
   "outputs": [
    {
     "name": "stdout",
     "output_type": "stream",
     "text": [
      "Community FdI;M5s\n",
      "Top-10 community: ['Doubt', 'Slogans', 'Appeal_to_Values', 'Loaded_Language', 'Conversation_Killer', 'Questioning_the_Reputation', 'Appeal_to_Fear-Prejudice', 'False_Dilemma-No_Choice', 'Appeal_to_Hypocrisy', 'Flag_Waving']\n",
      "Top-10 swingers: ['Doubt', 'Appeal_to_Values', 'Loaded_Language', 'Slogans', 'Appeal_to_Fear-Prejudice', 'Questioning_the_Reputation', 'Conversation_Killer', 'Name_Calling-Labeling', 'Appeal_to_Hypocrisy', 'Straw_Man']\n",
      "Common %: 80.0\n",
      "\n",
      "Community PD\n",
      "Top-10 community: ['Doubt', 'Questioning_the_Reputation', 'Loaded_Language', 'Conversation_Killer', 'Slogans', 'Name_Calling-Labeling', 'Flag_Waving', 'Appeal_to_Values', 'Appeal_to_Hypocrisy']\n",
      "Top-10 swingers: ['Doubt', 'Questioning_the_Reputation', 'Loaded_Language', 'Slogans', 'Appeal_to_Hypocrisy', 'Appeal_to_Values', 'Name_Calling-Labeling', 'Conversation_Killer', 'Flag_Waving', 'False_Dilemma-No_Choice']\n",
      "Common %: 100.0\n",
      "\n",
      "Community PD;AVS\n",
      "Top-10 community: ['Doubt', 'Appeal_to_Values', 'Loaded_Language', 'Slogans', 'Conversation_Killer', 'Questioning_the_Reputation', 'Name_Calling-Labeling', 'Appeal_to_Hypocrisy', 'Flag_Waving', 'Appeal_to_Fear-Prejudice']\n",
      "Top-10 swingers: ['Doubt', 'Loaded_Language', 'Questioning_the_Reputation', 'Conversation_Killer', 'Slogans', 'Appeal_to_Values', 'Name_Calling-Labeling', 'False_Dilemma-No_Choice', 'Flag_Waving', 'Appeal_to_Hypocrisy']\n",
      "Common %: 90.0\n",
      "\n",
      "Community Az-Iv\n",
      "Top-10 community: ['Doubt', 'Slogans', 'Loaded_Language', 'Conversation_Killer', 'Appeal_to_Values', 'Questioning_the_Reputation', 'Name_Calling-Labeling', 'Flag_Waving', 'False_Dilemma-No_Choice', 'Appeal_to_Hypocrisy']\n",
      "Top-10 swingers: ['Doubt', 'Loaded_Language', 'Slogans', 'Conversation_Killer', 'Questioning_the_Reputation', 'Appeal_to_Values', 'Name_Calling-Labeling', 'False_Dilemma-No_Choice', 'Flag_Waving', 'Appeal_to_Hypocrisy']\n",
      "Common %: 100.0\n",
      "\n",
      "Average overlap: 92.5\n"
     ]
    }
   ],
   "source": [
    "all_ranks = overall_ranking[1]['ranking'] # during\n",
    "overal_avg_perc = 0\n",
    "iter = 0\n",
    "for community in all_ranks:\n",
    "    for rank in ranking_da_pre:\n",
    "        if community['community'] == rank['community']:\n",
    "            # re-order community['techniques'] based on community['frequencies']\n",
    "            community['techniques'] = [x for _, x in sorted(zip(community['frequencies'], community['techniques']), reverse=True)]\n",
    "            # re-order rank['techniques'] based on rank['frequencies']\n",
    "            rank['techniques'] = [x for _, x in sorted(zip(rank['frequencies'], rank['techniques']), reverse=True)]\n",
    "            \n",
    "            # print top-10 techniques \n",
    "            print(f\"Community {community['community']}\")\n",
    "            print(f\"Top-10 community: {community['techniques'][:10]}\")\n",
    "            print(f\"Top-10 swingers: {rank['techniques'][:10]}\")\n",
    "            # how many techniques in common (% overlap)\n",
    "            common = set(community['techniques'][:10]).intersection(set(rank['techniques'][:10]))\n",
    "            tot_techniques = len(set(community['techniques'][:10]))\n",
    "            print(f\"Common %: {len(common)/tot_techniques * 100}\")\n",
    "            overal_avg_perc += len(common)/tot_techniques * 100\n",
    "            iter += 1\n",
    "            print()\n",
    "\n",
    "print(f\"Average overlap: {overal_avg_perc/iter}\")\n"
   ]
  },
  {
   "cell_type": "markdown",
   "metadata": {},
   "source": [
    "After community"
   ]
  },
  {
   "cell_type": "code",
   "execution_count": 39,
   "metadata": {},
   "outputs": [
    {
     "name": "stdout",
     "output_type": "stream",
     "text": [
      "Community FdI;Az-Iv\n",
      "Top-10 community: ['Doubt', 'Loaded_Language', 'Slogans', 'Conversation_Killer', 'Name_Calling-Labeling', 'Appeal_to_Hypocrisy', 'Appeal_to_Fear-Prejudice', 'Straw_Man', 'Questioning_the_Reputation', 'False_Dilemma-No_Choice']\n",
      "Top-10 swingers: ['Doubt', 'Appeal_to_Values', 'Slogans', 'Questioning_the_Reputation', 'Loaded_Language', 'Conversation_Killer', 'Name_Calling-Labeling', 'Flag_Waving', 'Exaggeration-Minimisation', 'Causal_Oversimplification']\n",
      "Common %: 60.0\n",
      "\n",
      "Community PD;AVS\n",
      "Top-10 community: ['Doubt', 'Appeal_to_Values', 'Loaded_Language', 'Slogans', 'Questioning_the_Reputation', 'Name_Calling-Labeling', 'Conversation_Killer', 'Appeal_to_Hypocrisy', 'Flag_Waving', 'Appeal_to_Fear-Prejudice']\n",
      "Top-10 swingers: ['Doubt', 'Conversation_Killer', 'Appeal_to_Values', 'Questioning_the_Reputation', 'Loaded_Language', 'Slogans', 'Name_Calling-Labeling', 'Flag_Waving', 'False_Dilemma-No_Choice', 'Guilt_by_Association']\n",
      "Common %: 80.0\n",
      "\n",
      "Community M5s\n",
      "Top-10 community: ['Loaded_Language', 'Slogans', 'Doubt', 'Questioning_the_Reputation', 'Name_Calling-Labeling', 'Appeal_to_Values', 'Flag_Waving', 'Appeal_to_Fear-Prejudice']\n",
      "Top-10 swingers: ['Doubt', 'Slogans', 'Loaded_Language', 'Questioning_the_Reputation', 'Flag_Waving', 'Name_Calling-Labeling', 'Appeal_to_Values', 'Causal_Oversimplification']\n",
      "Common %: 87.5\n",
      "\n",
      "Community FdI;FI\n",
      "Top-10 community: ['Doubt', 'Loaded_Language', 'Appeal_to_Values', 'Slogans', 'Flag_Waving', 'Questioning_the_Reputation', 'Name_Calling-Labeling', 'Conversation_Killer', 'Appeal_to_Popularity', 'False_Dilemma-No_Choice']\n",
      "Top-10 swingers: ['Loaded_Language', 'Name_Calling-Labeling', 'Doubt', 'Appeal_to_Values', 'Flag_Waving', 'Slogans', 'Questioning_the_Reputation', 'Appeal_to_Popularity']\n",
      "Common %: 80.0\n",
      "\n",
      "Community L;FdI\n",
      "Top-10 community: ['Doubt', 'Loaded_Language', 'Slogans', 'Questioning_the_Reputation', 'Name_Calling-Labeling', 'Appeal_to_Values', 'Conversation_Killer', 'Flag_Waving', 'Appeal_to_Hypocrisy', 'Appeal_to_Fear-Prejudice']\n",
      "Top-10 swingers: ['Doubt', 'Name_Calling-Labeling', 'Questioning_the_Reputation', 'Appeal_to_Values', 'Slogans', 'Flag_Waving', 'False_Dilemma-No_Choice', 'Conversation_Killer', 'Causal_Oversimplification']\n",
      "Common %: 70.0\n",
      "\n",
      "Average overlap: 75.5\n"
     ]
    }
   ],
   "source": [
    "all_ranks = overall_ranking[2]['ranking'] # after\n",
    "overal_avg_perc = 0\n",
    "iter = 0\n",
    "for community in all_ranks:\n",
    "    for rank in ranking_da_post:\n",
    "        if community['community'] == rank['community']:\n",
    "            # re-order community['techniques'] based on community['frequencies']\n",
    "            community['techniques'] = [x for _, x in sorted(zip(community['frequencies'], community['techniques']), reverse=True)]\n",
    "            # re-order rank['techniques'] based on rank['frequencies']\n",
    "            rank['techniques'] = [x for _, x in sorted(zip(rank['frequencies'], rank['techniques']), reverse=True)]\n",
    "            \n",
    "            # print top-10 techniques \n",
    "            print(f\"Community {community['community']}\")\n",
    "            print(f\"Top-10 community: {community['techniques'][:10]}\")\n",
    "            print(f\"Top-10 swingers: {rank['techniques'][:10]}\")\n",
    "            # how many techniques in common\n",
    "            common = set(community['techniques'][:10]).intersection(set(rank['techniques'][:10]))\n",
    "            tot_techniques = len(set(community['techniques'][:10]))\n",
    "            if tot_techniques == 0:\n",
    "                print(\"No techniques in community\")\n",
    "            else:\n",
    "                print(f\"Common %: {len(common)/tot_techniques * 100}\")\n",
    "                overal_avg_perc += len(common)/tot_techniques * 100\n",
    "            iter += 1\n",
    "            print()\n",
    "\n",
    "print(f\"Average overlap: {overal_avg_perc/iter}\")\n"
   ]
  },
  {
   "cell_type": "markdown",
   "metadata": {},
   "source": [
    "# Rank correlation"
   ]
  },
  {
   "cell_type": "code",
   "execution_count": 40,
   "metadata": {},
   "outputs": [],
   "source": [
    "from scipy.stats import kendalltau\n",
    "import numpy as np"
   ]
  },
  {
   "cell_type": "markdown",
   "metadata": {},
   "source": [
    "Fix order of techniques"
   ]
  },
  {
   "cell_type": "code",
   "execution_count": 41,
   "metadata": {},
   "outputs": [],
   "source": [
    "all_techniques = []\n",
    "for tweet in prop_politicians:\n",
    "    if \"annotations\" in prop_politicians[tweet]:\n",
    "        for technique in prop_politicians[tweet]['annotations']:\n",
    "            all_techniques.append(technique[\"label\"])\n",
    "\n",
    "all_techniques = list(set(all_techniques))"
   ]
  },
  {
   "cell_type": "markdown",
   "metadata": {},
   "source": [
    "## Before-during"
   ]
  },
  {
   "cell_type": "markdown",
   "metadata": {},
   "source": [
    "Before community"
   ]
  },
  {
   "cell_type": "code",
   "execution_count": 42,
   "metadata": {},
   "outputs": [
    {
     "name": "stdout",
     "output_type": "stream",
     "text": [
      "Average Kendall: 0.7320780401513199\n"
     ]
    },
    {
     "name": "stderr",
     "output_type": "stream",
     "text": [
      "/tmp/ipykernel_30630/3234514224.py:16: FutureWarning: The frame.append method is deprecated and will be removed from pandas in a future version. Use pandas.concat instead.\n",
      "  merged_df = merged_df.append({'community_file1': np.nan, 'techniques': tech, 'frequencies_file1': 0, 'community_file2': np.nan, 'frequencies_file2': 0}, ignore_index=True)\n",
      "/tmp/ipykernel_30630/3234514224.py:16: FutureWarning: The frame.append method is deprecated and will be removed from pandas in a future version. Use pandas.concat instead.\n",
      "  merged_df = merged_df.append({'community_file1': np.nan, 'techniques': tech, 'frequencies_file1': 0, 'community_file2': np.nan, 'frequencies_file2': 0}, ignore_index=True)\n",
      "/tmp/ipykernel_30630/3234514224.py:16: FutureWarning: The frame.append method is deprecated and will be removed from pandas in a future version. Use pandas.concat instead.\n",
      "  merged_df = merged_df.append({'community_file1': np.nan, 'techniques': tech, 'frequencies_file1': 0, 'community_file2': np.nan, 'frequencies_file2': 0}, ignore_index=True)\n",
      "/tmp/ipykernel_30630/3234514224.py:16: FutureWarning: The frame.append method is deprecated and will be removed from pandas in a future version. Use pandas.concat instead.\n",
      "  merged_df = merged_df.append({'community_file1': np.nan, 'techniques': tech, 'frequencies_file1': 0, 'community_file2': np.nan, 'frequencies_file2': 0}, ignore_index=True)\n",
      "/tmp/ipykernel_30630/3234514224.py:16: FutureWarning: The frame.append method is deprecated and will be removed from pandas in a future version. Use pandas.concat instead.\n",
      "  merged_df = merged_df.append({'community_file1': np.nan, 'techniques': tech, 'frequencies_file1': 0, 'community_file2': np.nan, 'frequencies_file2': 0}, ignore_index=True)\n",
      "/tmp/ipykernel_30630/3234514224.py:16: FutureWarning: The frame.append method is deprecated and will be removed from pandas in a future version. Use pandas.concat instead.\n",
      "  merged_df = merged_df.append({'community_file1': np.nan, 'techniques': tech, 'frequencies_file1': 0, 'community_file2': np.nan, 'frequencies_file2': 0}, ignore_index=True)\n",
      "/tmp/ipykernel_30630/3234514224.py:16: FutureWarning: The frame.append method is deprecated and will be removed from pandas in a future version. Use pandas.concat instead.\n",
      "  merged_df = merged_df.append({'community_file1': np.nan, 'techniques': tech, 'frequencies_file1': 0, 'community_file2': np.nan, 'frequencies_file2': 0}, ignore_index=True)\n",
      "/tmp/ipykernel_30630/3234514224.py:16: FutureWarning: The frame.append method is deprecated and will be removed from pandas in a future version. Use pandas.concat instead.\n",
      "  merged_df = merged_df.append({'community_file1': np.nan, 'techniques': tech, 'frequencies_file1': 0, 'community_file2': np.nan, 'frequencies_file2': 0}, ignore_index=True)\n",
      "/tmp/ipykernel_30630/3234514224.py:16: FutureWarning: The frame.append method is deprecated and will be removed from pandas in a future version. Use pandas.concat instead.\n",
      "  merged_df = merged_df.append({'community_file1': np.nan, 'techniques': tech, 'frequencies_file1': 0, 'community_file2': np.nan, 'frequencies_file2': 0}, ignore_index=True)\n",
      "/tmp/ipykernel_30630/3234514224.py:16: FutureWarning: The frame.append method is deprecated and will be removed from pandas in a future version. Use pandas.concat instead.\n",
      "  merged_df = merged_df.append({'community_file1': np.nan, 'techniques': tech, 'frequencies_file1': 0, 'community_file2': np.nan, 'frequencies_file2': 0}, ignore_index=True)\n",
      "/tmp/ipykernel_30630/3234514224.py:16: FutureWarning: The frame.append method is deprecated and will be removed from pandas in a future version. Use pandas.concat instead.\n",
      "  merged_df = merged_df.append({'community_file1': np.nan, 'techniques': tech, 'frequencies_file1': 0, 'community_file2': np.nan, 'frequencies_file2': 0}, ignore_index=True)\n",
      "/tmp/ipykernel_30630/3234514224.py:16: FutureWarning: The frame.append method is deprecated and will be removed from pandas in a future version. Use pandas.concat instead.\n",
      "  merged_df = merged_df.append({'community_file1': np.nan, 'techniques': tech, 'frequencies_file1': 0, 'community_file2': np.nan, 'frequencies_file2': 0}, ignore_index=True)\n",
      "/tmp/ipykernel_30630/3234514224.py:16: FutureWarning: The frame.append method is deprecated and will be removed from pandas in a future version. Use pandas.concat instead.\n",
      "  merged_df = merged_df.append({'community_file1': np.nan, 'techniques': tech, 'frequencies_file1': 0, 'community_file2': np.nan, 'frequencies_file2': 0}, ignore_index=True)\n"
     ]
    }
   ],
   "source": [
    "all_ranks = overall_ranking[0]['ranking'] # before\n",
    "overall_avg_tau = 0\n",
    "iter = 0\n",
    "for community in all_ranks:\n",
    "    for rank in ranking_bd_pre:\n",
    "        if community['community'] == rank['community']:\n",
    "\n",
    "            df1 = pd.DataFrame(community)\n",
    "            df2 = pd.DataFrame(rank)\n",
    "\n",
    "            merged_df = pd.merge(df1, df2, on='techniques', how='outer', suffixes=('_file1', '_file2'))\n",
    "\n",
    "            for tech in all_techniques:\n",
    "                if tech not in merged_df['techniques'].values:\n",
    "                    # add row\n",
    "                    merged_df = merged_df.append({'community_file1': np.nan, 'techniques': tech, 'frequencies_file1': 0, 'community_file2': np.nan, 'frequencies_file2': 0}, ignore_index=True)\n",
    "\n",
    "            # fill NaNs on frequencies\n",
    "            merged_df['frequencies_file1'] = merged_df['frequencies_file1'].fillna(0)\n",
    "            merged_df['frequencies_file2'] = merged_df['frequencies_file2'].fillna(0)\n",
    "\n",
    "            # if all techniques are 0, skip community\n",
    "            if merged_df['frequencies_file1'].sum() == 0 or merged_df['frequencies_file2'].sum() == 0:\n",
    "                continue\n",
    "\n",
    "            # Rank based on frequencies\n",
    "            merged_df['rank_file1'] = merged_df['frequencies_file1'].rank(ascending=False)\n",
    "            merged_df['rank_file2'] = merged_df['frequencies_file2'].rank(ascending=False)\n",
    "\n",
    "            # Calculate correlation\n",
    "            kendalltau_corr = kendalltau(merged_df['rank_file1'], merged_df['rank_file2'])\n",
    "\n",
    "            overall_avg_tau += kendalltau_corr.correlation\n",
    "            iter += 1\n",
    "            \n",
    "print(f\"Average Kendall: {overall_avg_tau/iter}\")\n"
   ]
  },
  {
   "cell_type": "markdown",
   "metadata": {},
   "source": [
    "During community"
   ]
  },
  {
   "cell_type": "code",
   "execution_count": 43,
   "metadata": {},
   "outputs": [
    {
     "name": "stdout",
     "output_type": "stream",
     "text": [
      "Average Kendall: 0.7440664499495303\n"
     ]
    },
    {
     "name": "stderr",
     "output_type": "stream",
     "text": [
      "/tmp/ipykernel_30630/675662503.py:16: FutureWarning: The frame.append method is deprecated and will be removed from pandas in a future version. Use pandas.concat instead.\n",
      "  merged_df = merged_df.append({'community_file1': np.nan, 'techniques': tech, 'frequencies_file1': 0, 'community_file2': np.nan, 'frequencies_file2': 0}, ignore_index=True)\n",
      "/tmp/ipykernel_30630/675662503.py:16: FutureWarning: The frame.append method is deprecated and will be removed from pandas in a future version. Use pandas.concat instead.\n",
      "  merged_df = merged_df.append({'community_file1': np.nan, 'techniques': tech, 'frequencies_file1': 0, 'community_file2': np.nan, 'frequencies_file2': 0}, ignore_index=True)\n",
      "/tmp/ipykernel_30630/675662503.py:16: FutureWarning: The frame.append method is deprecated and will be removed from pandas in a future version. Use pandas.concat instead.\n",
      "  merged_df = merged_df.append({'community_file1': np.nan, 'techniques': tech, 'frequencies_file1': 0, 'community_file2': np.nan, 'frequencies_file2': 0}, ignore_index=True)\n",
      "/tmp/ipykernel_30630/675662503.py:16: FutureWarning: The frame.append method is deprecated and will be removed from pandas in a future version. Use pandas.concat instead.\n",
      "  merged_df = merged_df.append({'community_file1': np.nan, 'techniques': tech, 'frequencies_file1': 0, 'community_file2': np.nan, 'frequencies_file2': 0}, ignore_index=True)\n",
      "/tmp/ipykernel_30630/675662503.py:16: FutureWarning: The frame.append method is deprecated and will be removed from pandas in a future version. Use pandas.concat instead.\n",
      "  merged_df = merged_df.append({'community_file1': np.nan, 'techniques': tech, 'frequencies_file1': 0, 'community_file2': np.nan, 'frequencies_file2': 0}, ignore_index=True)\n",
      "/tmp/ipykernel_30630/675662503.py:16: FutureWarning: The frame.append method is deprecated and will be removed from pandas in a future version. Use pandas.concat instead.\n",
      "  merged_df = merged_df.append({'community_file1': np.nan, 'techniques': tech, 'frequencies_file1': 0, 'community_file2': np.nan, 'frequencies_file2': 0}, ignore_index=True)\n",
      "/tmp/ipykernel_30630/675662503.py:16: FutureWarning: The frame.append method is deprecated and will be removed from pandas in a future version. Use pandas.concat instead.\n",
      "  merged_df = merged_df.append({'community_file1': np.nan, 'techniques': tech, 'frequencies_file1': 0, 'community_file2': np.nan, 'frequencies_file2': 0}, ignore_index=True)\n",
      "/tmp/ipykernel_30630/675662503.py:16: FutureWarning: The frame.append method is deprecated and will be removed from pandas in a future version. Use pandas.concat instead.\n",
      "  merged_df = merged_df.append({'community_file1': np.nan, 'techniques': tech, 'frequencies_file1': 0, 'community_file2': np.nan, 'frequencies_file2': 0}, ignore_index=True)\n",
      "/tmp/ipykernel_30630/675662503.py:16: FutureWarning: The frame.append method is deprecated and will be removed from pandas in a future version. Use pandas.concat instead.\n",
      "  merged_df = merged_df.append({'community_file1': np.nan, 'techniques': tech, 'frequencies_file1': 0, 'community_file2': np.nan, 'frequencies_file2': 0}, ignore_index=True)\n",
      "/tmp/ipykernel_30630/675662503.py:16: FutureWarning: The frame.append method is deprecated and will be removed from pandas in a future version. Use pandas.concat instead.\n",
      "  merged_df = merged_df.append({'community_file1': np.nan, 'techniques': tech, 'frequencies_file1': 0, 'community_file2': np.nan, 'frequencies_file2': 0}, ignore_index=True)\n",
      "/tmp/ipykernel_30630/675662503.py:16: FutureWarning: The frame.append method is deprecated and will be removed from pandas in a future version. Use pandas.concat instead.\n",
      "  merged_df = merged_df.append({'community_file1': np.nan, 'techniques': tech, 'frequencies_file1': 0, 'community_file2': np.nan, 'frequencies_file2': 0}, ignore_index=True)\n",
      "/tmp/ipykernel_30630/675662503.py:16: FutureWarning: The frame.append method is deprecated and will be removed from pandas in a future version. Use pandas.concat instead.\n",
      "  merged_df = merged_df.append({'community_file1': np.nan, 'techniques': tech, 'frequencies_file1': 0, 'community_file2': np.nan, 'frequencies_file2': 0}, ignore_index=True)\n",
      "/tmp/ipykernel_30630/675662503.py:16: FutureWarning: The frame.append method is deprecated and will be removed from pandas in a future version. Use pandas.concat instead.\n",
      "  merged_df = merged_df.append({'community_file1': np.nan, 'techniques': tech, 'frequencies_file1': 0, 'community_file2': np.nan, 'frequencies_file2': 0}, ignore_index=True)\n",
      "/tmp/ipykernel_30630/675662503.py:16: FutureWarning: The frame.append method is deprecated and will be removed from pandas in a future version. Use pandas.concat instead.\n",
      "  merged_df = merged_df.append({'community_file1': np.nan, 'techniques': tech, 'frequencies_file1': 0, 'community_file2': np.nan, 'frequencies_file2': 0}, ignore_index=True)\n",
      "/tmp/ipykernel_30630/675662503.py:16: FutureWarning: The frame.append method is deprecated and will be removed from pandas in a future version. Use pandas.concat instead.\n",
      "  merged_df = merged_df.append({'community_file1': np.nan, 'techniques': tech, 'frequencies_file1': 0, 'community_file2': np.nan, 'frequencies_file2': 0}, ignore_index=True)\n",
      "/tmp/ipykernel_30630/675662503.py:16: FutureWarning: The frame.append method is deprecated and will be removed from pandas in a future version. Use pandas.concat instead.\n",
      "  merged_df = merged_df.append({'community_file1': np.nan, 'techniques': tech, 'frequencies_file1': 0, 'community_file2': np.nan, 'frequencies_file2': 0}, ignore_index=True)\n",
      "/tmp/ipykernel_30630/675662503.py:16: FutureWarning: The frame.append method is deprecated and will be removed from pandas in a future version. Use pandas.concat instead.\n",
      "  merged_df = merged_df.append({'community_file1': np.nan, 'techniques': tech, 'frequencies_file1': 0, 'community_file2': np.nan, 'frequencies_file2': 0}, ignore_index=True)\n",
      "/tmp/ipykernel_30630/675662503.py:16: FutureWarning: The frame.append method is deprecated and will be removed from pandas in a future version. Use pandas.concat instead.\n",
      "  merged_df = merged_df.append({'community_file1': np.nan, 'techniques': tech, 'frequencies_file1': 0, 'community_file2': np.nan, 'frequencies_file2': 0}, ignore_index=True)\n",
      "/tmp/ipykernel_30630/675662503.py:16: FutureWarning: The frame.append method is deprecated and will be removed from pandas in a future version. Use pandas.concat instead.\n",
      "  merged_df = merged_df.append({'community_file1': np.nan, 'techniques': tech, 'frequencies_file1': 0, 'community_file2': np.nan, 'frequencies_file2': 0}, ignore_index=True)\n",
      "/tmp/ipykernel_30630/675662503.py:16: FutureWarning: The frame.append method is deprecated and will be removed from pandas in a future version. Use pandas.concat instead.\n",
      "  merged_df = merged_df.append({'community_file1': np.nan, 'techniques': tech, 'frequencies_file1': 0, 'community_file2': np.nan, 'frequencies_file2': 0}, ignore_index=True)\n",
      "/tmp/ipykernel_30630/675662503.py:16: FutureWarning: The frame.append method is deprecated and will be removed from pandas in a future version. Use pandas.concat instead.\n",
      "  merged_df = merged_df.append({'community_file1': np.nan, 'techniques': tech, 'frequencies_file1': 0, 'community_file2': np.nan, 'frequencies_file2': 0}, ignore_index=True)\n",
      "/tmp/ipykernel_30630/675662503.py:16: FutureWarning: The frame.append method is deprecated and will be removed from pandas in a future version. Use pandas.concat instead.\n",
      "  merged_df = merged_df.append({'community_file1': np.nan, 'techniques': tech, 'frequencies_file1': 0, 'community_file2': np.nan, 'frequencies_file2': 0}, ignore_index=True)\n",
      "/tmp/ipykernel_30630/675662503.py:16: FutureWarning: The frame.append method is deprecated and will be removed from pandas in a future version. Use pandas.concat instead.\n",
      "  merged_df = merged_df.append({'community_file1': np.nan, 'techniques': tech, 'frequencies_file1': 0, 'community_file2': np.nan, 'frequencies_file2': 0}, ignore_index=True)\n",
      "/tmp/ipykernel_30630/675662503.py:16: FutureWarning: The frame.append method is deprecated and will be removed from pandas in a future version. Use pandas.concat instead.\n",
      "  merged_df = merged_df.append({'community_file1': np.nan, 'techniques': tech, 'frequencies_file1': 0, 'community_file2': np.nan, 'frequencies_file2': 0}, ignore_index=True)\n",
      "/tmp/ipykernel_30630/675662503.py:16: FutureWarning: The frame.append method is deprecated and will be removed from pandas in a future version. Use pandas.concat instead.\n",
      "  merged_df = merged_df.append({'community_file1': np.nan, 'techniques': tech, 'frequencies_file1': 0, 'community_file2': np.nan, 'frequencies_file2': 0}, ignore_index=True)\n",
      "/tmp/ipykernel_30630/675662503.py:16: FutureWarning: The frame.append method is deprecated and will be removed from pandas in a future version. Use pandas.concat instead.\n",
      "  merged_df = merged_df.append({'community_file1': np.nan, 'techniques': tech, 'frequencies_file1': 0, 'community_file2': np.nan, 'frequencies_file2': 0}, ignore_index=True)\n"
     ]
    }
   ],
   "source": [
    "all_ranks = overall_ranking[1]['ranking'] # during\n",
    "overall_avg_tau = 0\n",
    "iter = 0\n",
    "for community in all_ranks:\n",
    "    for rank in ranking_bd_post:\n",
    "        if community['community'] == rank['community']:\n",
    "\n",
    "            df1 = pd.DataFrame(community)\n",
    "            df2 = pd.DataFrame(rank)\n",
    "\n",
    "            merged_df = pd.merge(df1, df2, on='techniques', how='outer', suffixes=('_file1', '_file2'))\n",
    "\n",
    "            for tech in all_techniques:\n",
    "                if tech not in merged_df['techniques'].values:\n",
    "                    # add row\n",
    "                    merged_df = merged_df.append({'community_file1': np.nan, 'techniques': tech, 'frequencies_file1': 0, 'community_file2': np.nan, 'frequencies_file2': 0}, ignore_index=True)\n",
    "\n",
    "            # fill NaNs on frequencies\n",
    "            merged_df['frequencies_file1'] = merged_df['frequencies_file1'].fillna(0)\n",
    "            merged_df['frequencies_file2'] = merged_df['frequencies_file2'].fillna(0)\n",
    "\n",
    "            # Rank based on frequencies\n",
    "            merged_df['rank_file1'] = merged_df['frequencies_file1'].rank(ascending=False)\n",
    "            merged_df['rank_file2'] = merged_df['frequencies_file2'].rank(ascending=False)\n",
    "\n",
    "            # Calculate correlation\n",
    "            kendalltau_corr = kendalltau(merged_df['rank_file1'], merged_df['rank_file2'])\n",
    "\n",
    "            overall_avg_tau += kendalltau_corr.correlation\n",
    "            iter += 1\n",
    "\n",
    "print(f\"Average Kendall: {overall_avg_tau/iter}\")\n"
   ]
  },
  {
   "cell_type": "markdown",
   "metadata": {},
   "source": [
    "## During-after"
   ]
  },
  {
   "cell_type": "markdown",
   "metadata": {},
   "source": [
    "During community"
   ]
  },
  {
   "cell_type": "code",
   "execution_count": 44,
   "metadata": {},
   "outputs": [
    {
     "name": "stdout",
     "output_type": "stream",
     "text": [
      "Average Kendall: 0.7945433263751986\n"
     ]
    },
    {
     "name": "stderr",
     "output_type": "stream",
     "text": [
      "/tmp/ipykernel_30630/1587856345.py:16: FutureWarning: The frame.append method is deprecated and will be removed from pandas in a future version. Use pandas.concat instead.\n",
      "  merged_df = merged_df.append({'community_file1': np.nan, 'techniques': tech, 'frequencies_file1': 0, 'community_file2': np.nan, 'frequencies_file2': 0}, ignore_index=True)\n",
      "/tmp/ipykernel_30630/1587856345.py:16: FutureWarning: The frame.append method is deprecated and will be removed from pandas in a future version. Use pandas.concat instead.\n",
      "  merged_df = merged_df.append({'community_file1': np.nan, 'techniques': tech, 'frequencies_file1': 0, 'community_file2': np.nan, 'frequencies_file2': 0}, ignore_index=True)\n",
      "/tmp/ipykernel_30630/1587856345.py:16: FutureWarning: The frame.append method is deprecated and will be removed from pandas in a future version. Use pandas.concat instead.\n",
      "  merged_df = merged_df.append({'community_file1': np.nan, 'techniques': tech, 'frequencies_file1': 0, 'community_file2': np.nan, 'frequencies_file2': 0}, ignore_index=True)\n",
      "/tmp/ipykernel_30630/1587856345.py:16: FutureWarning: The frame.append method is deprecated and will be removed from pandas in a future version. Use pandas.concat instead.\n",
      "  merged_df = merged_df.append({'community_file1': np.nan, 'techniques': tech, 'frequencies_file1': 0, 'community_file2': np.nan, 'frequencies_file2': 0}, ignore_index=True)\n",
      "/tmp/ipykernel_30630/1587856345.py:16: FutureWarning: The frame.append method is deprecated and will be removed from pandas in a future version. Use pandas.concat instead.\n",
      "  merged_df = merged_df.append({'community_file1': np.nan, 'techniques': tech, 'frequencies_file1': 0, 'community_file2': np.nan, 'frequencies_file2': 0}, ignore_index=True)\n",
      "/tmp/ipykernel_30630/1587856345.py:16: FutureWarning: The frame.append method is deprecated and will be removed from pandas in a future version. Use pandas.concat instead.\n",
      "  merged_df = merged_df.append({'community_file1': np.nan, 'techniques': tech, 'frequencies_file1': 0, 'community_file2': np.nan, 'frequencies_file2': 0}, ignore_index=True)\n",
      "/tmp/ipykernel_30630/1587856345.py:16: FutureWarning: The frame.append method is deprecated and will be removed from pandas in a future version. Use pandas.concat instead.\n",
      "  merged_df = merged_df.append({'community_file1': np.nan, 'techniques': tech, 'frequencies_file1': 0, 'community_file2': np.nan, 'frequencies_file2': 0}, ignore_index=True)\n",
      "/tmp/ipykernel_30630/1587856345.py:16: FutureWarning: The frame.append method is deprecated and will be removed from pandas in a future version. Use pandas.concat instead.\n",
      "  merged_df = merged_df.append({'community_file1': np.nan, 'techniques': tech, 'frequencies_file1': 0, 'community_file2': np.nan, 'frequencies_file2': 0}, ignore_index=True)\n",
      "/tmp/ipykernel_30630/1587856345.py:16: FutureWarning: The frame.append method is deprecated and will be removed from pandas in a future version. Use pandas.concat instead.\n",
      "  merged_df = merged_df.append({'community_file1': np.nan, 'techniques': tech, 'frequencies_file1': 0, 'community_file2': np.nan, 'frequencies_file2': 0}, ignore_index=True)\n",
      "/tmp/ipykernel_30630/1587856345.py:16: FutureWarning: The frame.append method is deprecated and will be removed from pandas in a future version. Use pandas.concat instead.\n",
      "  merged_df = merged_df.append({'community_file1': np.nan, 'techniques': tech, 'frequencies_file1': 0, 'community_file2': np.nan, 'frequencies_file2': 0}, ignore_index=True)\n",
      "/tmp/ipykernel_30630/1587856345.py:16: FutureWarning: The frame.append method is deprecated and will be removed from pandas in a future version. Use pandas.concat instead.\n",
      "  merged_df = merged_df.append({'community_file1': np.nan, 'techniques': tech, 'frequencies_file1': 0, 'community_file2': np.nan, 'frequencies_file2': 0}, ignore_index=True)\n",
      "/tmp/ipykernel_30630/1587856345.py:16: FutureWarning: The frame.append method is deprecated and will be removed from pandas in a future version. Use pandas.concat instead.\n",
      "  merged_df = merged_df.append({'community_file1': np.nan, 'techniques': tech, 'frequencies_file1': 0, 'community_file2': np.nan, 'frequencies_file2': 0}, ignore_index=True)\n",
      "/tmp/ipykernel_30630/1587856345.py:16: FutureWarning: The frame.append method is deprecated and will be removed from pandas in a future version. Use pandas.concat instead.\n",
      "  merged_df = merged_df.append({'community_file1': np.nan, 'techniques': tech, 'frequencies_file1': 0, 'community_file2': np.nan, 'frequencies_file2': 0}, ignore_index=True)\n",
      "/tmp/ipykernel_30630/1587856345.py:16: FutureWarning: The frame.append method is deprecated and will be removed from pandas in a future version. Use pandas.concat instead.\n",
      "  merged_df = merged_df.append({'community_file1': np.nan, 'techniques': tech, 'frequencies_file1': 0, 'community_file2': np.nan, 'frequencies_file2': 0}, ignore_index=True)\n",
      "/tmp/ipykernel_30630/1587856345.py:16: FutureWarning: The frame.append method is deprecated and will be removed from pandas in a future version. Use pandas.concat instead.\n",
      "  merged_df = merged_df.append({'community_file1': np.nan, 'techniques': tech, 'frequencies_file1': 0, 'community_file2': np.nan, 'frequencies_file2': 0}, ignore_index=True)\n",
      "/tmp/ipykernel_30630/1587856345.py:16: FutureWarning: The frame.append method is deprecated and will be removed from pandas in a future version. Use pandas.concat instead.\n",
      "  merged_df = merged_df.append({'community_file1': np.nan, 'techniques': tech, 'frequencies_file1': 0, 'community_file2': np.nan, 'frequencies_file2': 0}, ignore_index=True)\n",
      "/tmp/ipykernel_30630/1587856345.py:16: FutureWarning: The frame.append method is deprecated and will be removed from pandas in a future version. Use pandas.concat instead.\n",
      "  merged_df = merged_df.append({'community_file1': np.nan, 'techniques': tech, 'frequencies_file1': 0, 'community_file2': np.nan, 'frequencies_file2': 0}, ignore_index=True)\n",
      "/tmp/ipykernel_30630/1587856345.py:16: FutureWarning: The frame.append method is deprecated and will be removed from pandas in a future version. Use pandas.concat instead.\n",
      "  merged_df = merged_df.append({'community_file1': np.nan, 'techniques': tech, 'frequencies_file1': 0, 'community_file2': np.nan, 'frequencies_file2': 0}, ignore_index=True)\n"
     ]
    }
   ],
   "source": [
    "all_ranks = overall_ranking[1]['ranking'] # during\n",
    "overall_avg_tau = 0\n",
    "iter = 0\n",
    "for community in all_ranks:\n",
    "    for rank in ranking_da_pre:\n",
    "        if community['community'] == rank['community']:\n",
    "\n",
    "            df1 = pd.DataFrame(community)\n",
    "            df2 = pd.DataFrame(rank)\n",
    "\n",
    "            merged_df = pd.merge(df1, df2, on='techniques', how='outer', suffixes=('_file1', '_file2'))\n",
    "\n",
    "            for tech in all_techniques:\n",
    "                if tech not in merged_df['techniques'].values:\n",
    "                    # add row\n",
    "                    merged_df = merged_df.append({'community_file1': np.nan, 'techniques': tech, 'frequencies_file1': 0, 'community_file2': np.nan, 'frequencies_file2': 0}, ignore_index=True)\n",
    "\n",
    "            # fill NaNs on frequencies\n",
    "            merged_df['frequencies_file1'] = merged_df['frequencies_file1'].fillna(0)\n",
    "            merged_df['frequencies_file2'] = merged_df['frequencies_file2'].fillna(0)\n",
    "\n",
    "            # if all techniques are 0, skip community\n",
    "            if merged_df['frequencies_file1'].sum() == 0 or merged_df['frequencies_file2'].sum() == 0:\n",
    "                continue\n",
    "\n",
    "            # Rank based on frequencies\n",
    "            merged_df['rank_file1'] = merged_df['frequencies_file1'].rank(ascending=False)\n",
    "            merged_df['rank_file2'] = merged_df['frequencies_file2'].rank(ascending=False)\n",
    "\n",
    "            # Calculate correlation\n",
    "            kendalltau_corr = kendalltau(merged_df['rank_file1'], merged_df['rank_file2'])\n",
    "\n",
    "            overall_avg_tau += kendalltau_corr.correlation\n",
    "            iter += 1\n",
    "\n",
    "print(f\"Average Kendall: {overall_avg_tau/iter}\")\n"
   ]
  },
  {
   "cell_type": "markdown",
   "metadata": {},
   "source": [
    "After community"
   ]
  },
  {
   "cell_type": "code",
   "execution_count": 45,
   "metadata": {},
   "outputs": [
    {
     "name": "stderr",
     "output_type": "stream",
     "text": [
      "/tmp/ipykernel_30630/406539369.py:16: FutureWarning: The frame.append method is deprecated and will be removed from pandas in a future version. Use pandas.concat instead.\n",
      "  merged_df = merged_df.append({'community_file1': np.nan, 'techniques': tech, 'frequencies_file1': 0, 'community_file2': np.nan, 'frequencies_file2': 0}, ignore_index=True)\n",
      "/tmp/ipykernel_30630/406539369.py:16: FutureWarning: The frame.append method is deprecated and will be removed from pandas in a future version. Use pandas.concat instead.\n",
      "  merged_df = merged_df.append({'community_file1': np.nan, 'techniques': tech, 'frequencies_file1': 0, 'community_file2': np.nan, 'frequencies_file2': 0}, ignore_index=True)\n",
      "/tmp/ipykernel_30630/406539369.py:16: FutureWarning: The frame.append method is deprecated and will be removed from pandas in a future version. Use pandas.concat instead.\n",
      "  merged_df = merged_df.append({'community_file1': np.nan, 'techniques': tech, 'frequencies_file1': 0, 'community_file2': np.nan, 'frequencies_file2': 0}, ignore_index=True)\n",
      "/tmp/ipykernel_30630/406539369.py:16: FutureWarning: The frame.append method is deprecated and will be removed from pandas in a future version. Use pandas.concat instead.\n",
      "  merged_df = merged_df.append({'community_file1': np.nan, 'techniques': tech, 'frequencies_file1': 0, 'community_file2': np.nan, 'frequencies_file2': 0}, ignore_index=True)\n",
      "/tmp/ipykernel_30630/406539369.py:16: FutureWarning: The frame.append method is deprecated and will be removed from pandas in a future version. Use pandas.concat instead.\n",
      "  merged_df = merged_df.append({'community_file1': np.nan, 'techniques': tech, 'frequencies_file1': 0, 'community_file2': np.nan, 'frequencies_file2': 0}, ignore_index=True)\n",
      "/tmp/ipykernel_30630/406539369.py:16: FutureWarning: The frame.append method is deprecated and will be removed from pandas in a future version. Use pandas.concat instead.\n",
      "  merged_df = merged_df.append({'community_file1': np.nan, 'techniques': tech, 'frequencies_file1': 0, 'community_file2': np.nan, 'frequencies_file2': 0}, ignore_index=True)\n",
      "/tmp/ipykernel_30630/406539369.py:16: FutureWarning: The frame.append method is deprecated and will be removed from pandas in a future version. Use pandas.concat instead.\n",
      "  merged_df = merged_df.append({'community_file1': np.nan, 'techniques': tech, 'frequencies_file1': 0, 'community_file2': np.nan, 'frequencies_file2': 0}, ignore_index=True)\n",
      "/tmp/ipykernel_30630/406539369.py:16: FutureWarning: The frame.append method is deprecated and will be removed from pandas in a future version. Use pandas.concat instead.\n",
      "  merged_df = merged_df.append({'community_file1': np.nan, 'techniques': tech, 'frequencies_file1': 0, 'community_file2': np.nan, 'frequencies_file2': 0}, ignore_index=True)\n",
      "/tmp/ipykernel_30630/406539369.py:16: FutureWarning: The frame.append method is deprecated and will be removed from pandas in a future version. Use pandas.concat instead.\n",
      "  merged_df = merged_df.append({'community_file1': np.nan, 'techniques': tech, 'frequencies_file1': 0, 'community_file2': np.nan, 'frequencies_file2': 0}, ignore_index=True)\n",
      "/tmp/ipykernel_30630/406539369.py:16: FutureWarning: The frame.append method is deprecated and will be removed from pandas in a future version. Use pandas.concat instead.\n",
      "  merged_df = merged_df.append({'community_file1': np.nan, 'techniques': tech, 'frequencies_file1': 0, 'community_file2': np.nan, 'frequencies_file2': 0}, ignore_index=True)\n",
      "/tmp/ipykernel_30630/406539369.py:16: FutureWarning: The frame.append method is deprecated and will be removed from pandas in a future version. Use pandas.concat instead.\n",
      "  merged_df = merged_df.append({'community_file1': np.nan, 'techniques': tech, 'frequencies_file1': 0, 'community_file2': np.nan, 'frequencies_file2': 0}, ignore_index=True)\n",
      "/tmp/ipykernel_30630/406539369.py:16: FutureWarning: The frame.append method is deprecated and will be removed from pandas in a future version. Use pandas.concat instead.\n",
      "  merged_df = merged_df.append({'community_file1': np.nan, 'techniques': tech, 'frequencies_file1': 0, 'community_file2': np.nan, 'frequencies_file2': 0}, ignore_index=True)\n",
      "/tmp/ipykernel_30630/406539369.py:16: FutureWarning: The frame.append method is deprecated and will be removed from pandas in a future version. Use pandas.concat instead.\n",
      "  merged_df = merged_df.append({'community_file1': np.nan, 'techniques': tech, 'frequencies_file1': 0, 'community_file2': np.nan, 'frequencies_file2': 0}, ignore_index=True)\n",
      "/tmp/ipykernel_30630/406539369.py:16: FutureWarning: The frame.append method is deprecated and will be removed from pandas in a future version. Use pandas.concat instead.\n",
      "  merged_df = merged_df.append({'community_file1': np.nan, 'techniques': tech, 'frequencies_file1': 0, 'community_file2': np.nan, 'frequencies_file2': 0}, ignore_index=True)\n",
      "/tmp/ipykernel_30630/406539369.py:16: FutureWarning: The frame.append method is deprecated and will be removed from pandas in a future version. Use pandas.concat instead.\n",
      "  merged_df = merged_df.append({'community_file1': np.nan, 'techniques': tech, 'frequencies_file1': 0, 'community_file2': np.nan, 'frequencies_file2': 0}, ignore_index=True)\n",
      "/tmp/ipykernel_30630/406539369.py:16: FutureWarning: The frame.append method is deprecated and will be removed from pandas in a future version. Use pandas.concat instead.\n",
      "  merged_df = merged_df.append({'community_file1': np.nan, 'techniques': tech, 'frequencies_file1': 0, 'community_file2': np.nan, 'frequencies_file2': 0}, ignore_index=True)\n",
      "/tmp/ipykernel_30630/406539369.py:16: FutureWarning: The frame.append method is deprecated and will be removed from pandas in a future version. Use pandas.concat instead.\n",
      "  merged_df = merged_df.append({'community_file1': np.nan, 'techniques': tech, 'frequencies_file1': 0, 'community_file2': np.nan, 'frequencies_file2': 0}, ignore_index=True)\n",
      "/tmp/ipykernel_30630/406539369.py:16: FutureWarning: The frame.append method is deprecated and will be removed from pandas in a future version. Use pandas.concat instead.\n",
      "  merged_df = merged_df.append({'community_file1': np.nan, 'techniques': tech, 'frequencies_file1': 0, 'community_file2': np.nan, 'frequencies_file2': 0}, ignore_index=True)\n",
      "/tmp/ipykernel_30630/406539369.py:16: FutureWarning: The frame.append method is deprecated and will be removed from pandas in a future version. Use pandas.concat instead.\n",
      "  merged_df = merged_df.append({'community_file1': np.nan, 'techniques': tech, 'frequencies_file1': 0, 'community_file2': np.nan, 'frequencies_file2': 0}, ignore_index=True)\n",
      "/tmp/ipykernel_30630/406539369.py:16: FutureWarning: The frame.append method is deprecated and will be removed from pandas in a future version. Use pandas.concat instead.\n",
      "  merged_df = merged_df.append({'community_file1': np.nan, 'techniques': tech, 'frequencies_file1': 0, 'community_file2': np.nan, 'frequencies_file2': 0}, ignore_index=True)\n",
      "/tmp/ipykernel_30630/406539369.py:16: FutureWarning: The frame.append method is deprecated and will be removed from pandas in a future version. Use pandas.concat instead.\n",
      "  merged_df = merged_df.append({'community_file1': np.nan, 'techniques': tech, 'frequencies_file1': 0, 'community_file2': np.nan, 'frequencies_file2': 0}, ignore_index=True)\n",
      "/tmp/ipykernel_30630/406539369.py:16: FutureWarning: The frame.append method is deprecated and will be removed from pandas in a future version. Use pandas.concat instead.\n",
      "  merged_df = merged_df.append({'community_file1': np.nan, 'techniques': tech, 'frequencies_file1': 0, 'community_file2': np.nan, 'frequencies_file2': 0}, ignore_index=True)\n",
      "/tmp/ipykernel_30630/406539369.py:16: FutureWarning: The frame.append method is deprecated and will be removed from pandas in a future version. Use pandas.concat instead.\n",
      "  merged_df = merged_df.append({'community_file1': np.nan, 'techniques': tech, 'frequencies_file1': 0, 'community_file2': np.nan, 'frequencies_file2': 0}, ignore_index=True)\n",
      "/tmp/ipykernel_30630/406539369.py:16: FutureWarning: The frame.append method is deprecated and will be removed from pandas in a future version. Use pandas.concat instead.\n",
      "  merged_df = merged_df.append({'community_file1': np.nan, 'techniques': tech, 'frequencies_file1': 0, 'community_file2': np.nan, 'frequencies_file2': 0}, ignore_index=True)\n",
      "/tmp/ipykernel_30630/406539369.py:16: FutureWarning: The frame.append method is deprecated and will be removed from pandas in a future version. Use pandas.concat instead.\n",
      "  merged_df = merged_df.append({'community_file1': np.nan, 'techniques': tech, 'frequencies_file1': 0, 'community_file2': np.nan, 'frequencies_file2': 0}, ignore_index=True)\n",
      "/tmp/ipykernel_30630/406539369.py:16: FutureWarning: The frame.append method is deprecated and will be removed from pandas in a future version. Use pandas.concat instead.\n",
      "  merged_df = merged_df.append({'community_file1': np.nan, 'techniques': tech, 'frequencies_file1': 0, 'community_file2': np.nan, 'frequencies_file2': 0}, ignore_index=True)\n",
      "/tmp/ipykernel_30630/406539369.py:16: FutureWarning: The frame.append method is deprecated and will be removed from pandas in a future version. Use pandas.concat instead.\n",
      "  merged_df = merged_df.append({'community_file1': np.nan, 'techniques': tech, 'frequencies_file1': 0, 'community_file2': np.nan, 'frequencies_file2': 0}, ignore_index=True)\n",
      "/tmp/ipykernel_30630/406539369.py:16: FutureWarning: The frame.append method is deprecated and will be removed from pandas in a future version. Use pandas.concat instead.\n",
      "  merged_df = merged_df.append({'community_file1': np.nan, 'techniques': tech, 'frequencies_file1': 0, 'community_file2': np.nan, 'frequencies_file2': 0}, ignore_index=True)\n",
      "/tmp/ipykernel_30630/406539369.py:16: FutureWarning: The frame.append method is deprecated and will be removed from pandas in a future version. Use pandas.concat instead.\n",
      "  merged_df = merged_df.append({'community_file1': np.nan, 'techniques': tech, 'frequencies_file1': 0, 'community_file2': np.nan, 'frequencies_file2': 0}, ignore_index=True)\n",
      "/tmp/ipykernel_30630/406539369.py:16: FutureWarning: The frame.append method is deprecated and will be removed from pandas in a future version. Use pandas.concat instead.\n",
      "  merged_df = merged_df.append({'community_file1': np.nan, 'techniques': tech, 'frequencies_file1': 0, 'community_file2': np.nan, 'frequencies_file2': 0}, ignore_index=True)\n",
      "/tmp/ipykernel_30630/406539369.py:16: FutureWarning: The frame.append method is deprecated and will be removed from pandas in a future version. Use pandas.concat instead.\n",
      "  merged_df = merged_df.append({'community_file1': np.nan, 'techniques': tech, 'frequencies_file1': 0, 'community_file2': np.nan, 'frequencies_file2': 0}, ignore_index=True)\n",
      "/tmp/ipykernel_30630/406539369.py:16: FutureWarning: The frame.append method is deprecated and will be removed from pandas in a future version. Use pandas.concat instead.\n",
      "  merged_df = merged_df.append({'community_file1': np.nan, 'techniques': tech, 'frequencies_file1': 0, 'community_file2': np.nan, 'frequencies_file2': 0}, ignore_index=True)\n",
      "/tmp/ipykernel_30630/406539369.py:16: FutureWarning: The frame.append method is deprecated and will be removed from pandas in a future version. Use pandas.concat instead.\n",
      "  merged_df = merged_df.append({'community_file1': np.nan, 'techniques': tech, 'frequencies_file1': 0, 'community_file2': np.nan, 'frequencies_file2': 0}, ignore_index=True)\n",
      "/tmp/ipykernel_30630/406539369.py:16: FutureWarning: The frame.append method is deprecated and will be removed from pandas in a future version. Use pandas.concat instead.\n",
      "  merged_df = merged_df.append({'community_file1': np.nan, 'techniques': tech, 'frequencies_file1': 0, 'community_file2': np.nan, 'frequencies_file2': 0}, ignore_index=True)\n",
      "/tmp/ipykernel_30630/406539369.py:16: FutureWarning: The frame.append method is deprecated and will be removed from pandas in a future version. Use pandas.concat instead.\n",
      "  merged_df = merged_df.append({'community_file1': np.nan, 'techniques': tech, 'frequencies_file1': 0, 'community_file2': np.nan, 'frequencies_file2': 0}, ignore_index=True)\n",
      "/tmp/ipykernel_30630/406539369.py:16: FutureWarning: The frame.append method is deprecated and will be removed from pandas in a future version. Use pandas.concat instead.\n",
      "  merged_df = merged_df.append({'community_file1': np.nan, 'techniques': tech, 'frequencies_file1': 0, 'community_file2': np.nan, 'frequencies_file2': 0}, ignore_index=True)\n",
      "/tmp/ipykernel_30630/406539369.py:16: FutureWarning: The frame.append method is deprecated and will be removed from pandas in a future version. Use pandas.concat instead.\n",
      "  merged_df = merged_df.append({'community_file1': np.nan, 'techniques': tech, 'frequencies_file1': 0, 'community_file2': np.nan, 'frequencies_file2': 0}, ignore_index=True)\n",
      "/tmp/ipykernel_30630/406539369.py:16: FutureWarning: The frame.append method is deprecated and will be removed from pandas in a future version. Use pandas.concat instead.\n",
      "  merged_df = merged_df.append({'community_file1': np.nan, 'techniques': tech, 'frequencies_file1': 0, 'community_file2': np.nan, 'frequencies_file2': 0}, ignore_index=True)\n",
      "/tmp/ipykernel_30630/406539369.py:16: FutureWarning: The frame.append method is deprecated and will be removed from pandas in a future version. Use pandas.concat instead.\n",
      "  merged_df = merged_df.append({'community_file1': np.nan, 'techniques': tech, 'frequencies_file1': 0, 'community_file2': np.nan, 'frequencies_file2': 0}, ignore_index=True)\n",
      "/tmp/ipykernel_30630/406539369.py:16: FutureWarning: The frame.append method is deprecated and will be removed from pandas in a future version. Use pandas.concat instead.\n",
      "  merged_df = merged_df.append({'community_file1': np.nan, 'techniques': tech, 'frequencies_file1': 0, 'community_file2': np.nan, 'frequencies_file2': 0}, ignore_index=True)\n"
     ]
    },
    {
     "name": "stdout",
     "output_type": "stream",
     "text": [
      "Average Kendall: 0.6742469434670478\n"
     ]
    }
   ],
   "source": [
    "all_ranks = overall_ranking[2]['ranking'] # after\n",
    "overall_avg_tau = 0\n",
    "iter = 0\n",
    "for community in all_ranks:\n",
    "    for rank in ranking_da_post:\n",
    "        if community['community'] == rank['community']:\n",
    "\n",
    "            df1 = pd.DataFrame(community)\n",
    "            df2 = pd.DataFrame(rank)\n",
    "\n",
    "            merged_df = pd.merge(df1, df2, on='techniques', how='outer', suffixes=('_file1', '_file2'))\n",
    "\n",
    "            for tech in all_techniques:\n",
    "                if tech not in merged_df['techniques'].values:\n",
    "                    # add row\n",
    "                    merged_df = merged_df.append({'community_file1': np.nan, 'techniques': tech, 'frequencies_file1': 0, 'community_file2': np.nan, 'frequencies_file2': 0}, ignore_index=True)\n",
    "\n",
    "            # fill NaNs on frequencies\n",
    "            merged_df['frequencies_file1'] = merged_df['frequencies_file1'].fillna(0)\n",
    "            merged_df['frequencies_file2'] = merged_df['frequencies_file2'].fillna(0)\n",
    "\n",
    "            # if all techniques are 0, skip community\n",
    "            if merged_df['frequencies_file1'].sum() == 0 or merged_df['frequencies_file2'].sum() == 0:\n",
    "                continue\n",
    "\n",
    "            # Rank based on frequencies\n",
    "            merged_df['rank_file1'] = merged_df['frequencies_file1'].rank(ascending=False)\n",
    "            merged_df['rank_file2'] = merged_df['frequencies_file2'].rank(ascending=False)\n",
    "\n",
    "            # Calculate correlation\n",
    "            kendalltau_corr = kendalltau(merged_df['rank_file1'], merged_df['rank_file2'])\n",
    "\n",
    "            overall_avg_tau += kendalltau_corr.correlation\n",
    "            iter += 1\n",
    "\n",
    "print(f\"Average Kendall: {overall_avg_tau/iter}\")\n"
   ]
  },
  {
   "cell_type": "markdown",
   "metadata": {},
   "source": [
    "## Before-after"
   ]
  },
  {
   "cell_type": "markdown",
   "metadata": {},
   "source": [
    "Before community"
   ]
  },
  {
   "cell_type": "code",
   "execution_count": 46,
   "metadata": {},
   "outputs": [
    {
     "name": "stdout",
     "output_type": "stream",
     "text": [
      "Average Kendall: 0.7830923864433923\n"
     ]
    },
    {
     "name": "stderr",
     "output_type": "stream",
     "text": [
      "/tmp/ipykernel_30630/2014242556.py:16: FutureWarning: The frame.append method is deprecated and will be removed from pandas in a future version. Use pandas.concat instead.\n",
      "  merged_df = merged_df.append({'community_file1': np.nan, 'techniques': tech, 'frequencies_file1': 0, 'community_file2': np.nan, 'frequencies_file2': 0}, ignore_index=True)\n",
      "/tmp/ipykernel_30630/2014242556.py:16: FutureWarning: The frame.append method is deprecated and will be removed from pandas in a future version. Use pandas.concat instead.\n",
      "  merged_df = merged_df.append({'community_file1': np.nan, 'techniques': tech, 'frequencies_file1': 0, 'community_file2': np.nan, 'frequencies_file2': 0}, ignore_index=True)\n",
      "/tmp/ipykernel_30630/2014242556.py:16: FutureWarning: The frame.append method is deprecated and will be removed from pandas in a future version. Use pandas.concat instead.\n",
      "  merged_df = merged_df.append({'community_file1': np.nan, 'techniques': tech, 'frequencies_file1': 0, 'community_file2': np.nan, 'frequencies_file2': 0}, ignore_index=True)\n",
      "/tmp/ipykernel_30630/2014242556.py:16: FutureWarning: The frame.append method is deprecated and will be removed from pandas in a future version. Use pandas.concat instead.\n",
      "  merged_df = merged_df.append({'community_file1': np.nan, 'techniques': tech, 'frequencies_file1': 0, 'community_file2': np.nan, 'frequencies_file2': 0}, ignore_index=True)\n",
      "/tmp/ipykernel_30630/2014242556.py:16: FutureWarning: The frame.append method is deprecated and will be removed from pandas in a future version. Use pandas.concat instead.\n",
      "  merged_df = merged_df.append({'community_file1': np.nan, 'techniques': tech, 'frequencies_file1': 0, 'community_file2': np.nan, 'frequencies_file2': 0}, ignore_index=True)\n"
     ]
    }
   ],
   "source": [
    "all_ranks = overall_ranking[0]['ranking'] # before\n",
    "overall_avg_tau = 0\n",
    "iter = 0\n",
    "for community in all_ranks:\n",
    "    for rank in ranking_ba_pre:\n",
    "        if community['community'] == rank['community']:\n",
    "\n",
    "            df1 = pd.DataFrame(community)\n",
    "            df2 = pd.DataFrame(rank)\n",
    "\n",
    "            merged_df = pd.merge(df1, df2, on='techniques', how='outer', suffixes=('_file1', '_file2'))\n",
    "\n",
    "            for tech in all_techniques:\n",
    "                if tech not in merged_df['techniques'].values:\n",
    "                    # add row\n",
    "                    merged_df = merged_df.append({'community_file1': np.nan, 'techniques': tech, 'frequencies_file1': 0, 'community_file2': np.nan, 'frequencies_file2': 0}, ignore_index=True)\n",
    "\n",
    "            # fill NaNs on frequencies\n",
    "            merged_df['frequencies_file1'] = merged_df['frequencies_file1'].fillna(0)\n",
    "            merged_df['frequencies_file2'] = merged_df['frequencies_file2'].fillna(0)\n",
    "\n",
    "            # if all techniques are 0, skip community\n",
    "            if merged_df['frequencies_file1'].sum() == 0 or merged_df['frequencies_file2'].sum() == 0:\n",
    "                continue\n",
    "\n",
    "            # Rank based on frequencies\n",
    "            merged_df['rank_file1'] = merged_df['frequencies_file1'].rank(ascending=False)\n",
    "            merged_df['rank_file2'] = merged_df['frequencies_file2'].rank(ascending=False)\n",
    "\n",
    "            # Calculate correlation\n",
    "            kendalltau_corr = kendalltau(merged_df['rank_file1'], merged_df['rank_file2'])\n",
    "\n",
    "            overall_avg_tau += kendalltau_corr.correlation\n",
    "            iter += 1\n",
    "\n",
    "print(f\"Average Kendall: {overall_avg_tau/iter}\")\n"
   ]
  },
  {
   "cell_type": "markdown",
   "metadata": {},
   "source": [
    "After community"
   ]
  },
  {
   "cell_type": "code",
   "execution_count": 47,
   "metadata": {},
   "outputs": [
    {
     "name": "stderr",
     "output_type": "stream",
     "text": [
      "/tmp/ipykernel_30630/1280933530.py:16: FutureWarning: The frame.append method is deprecated and will be removed from pandas in a future version. Use pandas.concat instead.\n",
      "  merged_df = merged_df.append({'community_file1': np.nan, 'techniques': tech, 'frequencies_file1': 0, 'community_file2': np.nan, 'frequencies_file2': 0}, ignore_index=True)\n",
      "/tmp/ipykernel_30630/1280933530.py:16: FutureWarning: The frame.append method is deprecated and will be removed from pandas in a future version. Use pandas.concat instead.\n",
      "  merged_df = merged_df.append({'community_file1': np.nan, 'techniques': tech, 'frequencies_file1': 0, 'community_file2': np.nan, 'frequencies_file2': 0}, ignore_index=True)\n",
      "/tmp/ipykernel_30630/1280933530.py:16: FutureWarning: The frame.append method is deprecated and will be removed from pandas in a future version. Use pandas.concat instead.\n",
      "  merged_df = merged_df.append({'community_file1': np.nan, 'techniques': tech, 'frequencies_file1': 0, 'community_file2': np.nan, 'frequencies_file2': 0}, ignore_index=True)\n",
      "/tmp/ipykernel_30630/1280933530.py:16: FutureWarning: The frame.append method is deprecated and will be removed from pandas in a future version. Use pandas.concat instead.\n",
      "  merged_df = merged_df.append({'community_file1': np.nan, 'techniques': tech, 'frequencies_file1': 0, 'community_file2': np.nan, 'frequencies_file2': 0}, ignore_index=True)\n",
      "/tmp/ipykernel_30630/1280933530.py:16: FutureWarning: The frame.append method is deprecated and will be removed from pandas in a future version. Use pandas.concat instead.\n",
      "  merged_df = merged_df.append({'community_file1': np.nan, 'techniques': tech, 'frequencies_file1': 0, 'community_file2': np.nan, 'frequencies_file2': 0}, ignore_index=True)\n",
      "/tmp/ipykernel_30630/1280933530.py:16: FutureWarning: The frame.append method is deprecated and will be removed from pandas in a future version. Use pandas.concat instead.\n",
      "  merged_df = merged_df.append({'community_file1': np.nan, 'techniques': tech, 'frequencies_file1': 0, 'community_file2': np.nan, 'frequencies_file2': 0}, ignore_index=True)\n",
      "/tmp/ipykernel_30630/1280933530.py:16: FutureWarning: The frame.append method is deprecated and will be removed from pandas in a future version. Use pandas.concat instead.\n",
      "  merged_df = merged_df.append({'community_file1': np.nan, 'techniques': tech, 'frequencies_file1': 0, 'community_file2': np.nan, 'frequencies_file2': 0}, ignore_index=True)\n",
      "/tmp/ipykernel_30630/1280933530.py:16: FutureWarning: The frame.append method is deprecated and will be removed from pandas in a future version. Use pandas.concat instead.\n",
      "  merged_df = merged_df.append({'community_file1': np.nan, 'techniques': tech, 'frequencies_file1': 0, 'community_file2': np.nan, 'frequencies_file2': 0}, ignore_index=True)\n",
      "/tmp/ipykernel_30630/1280933530.py:16: FutureWarning: The frame.append method is deprecated and will be removed from pandas in a future version. Use pandas.concat instead.\n",
      "  merged_df = merged_df.append({'community_file1': np.nan, 'techniques': tech, 'frequencies_file1': 0, 'community_file2': np.nan, 'frequencies_file2': 0}, ignore_index=True)\n",
      "/tmp/ipykernel_30630/1280933530.py:16: FutureWarning: The frame.append method is deprecated and will be removed from pandas in a future version. Use pandas.concat instead.\n",
      "  merged_df = merged_df.append({'community_file1': np.nan, 'techniques': tech, 'frequencies_file1': 0, 'community_file2': np.nan, 'frequencies_file2': 0}, ignore_index=True)\n",
      "/tmp/ipykernel_30630/1280933530.py:16: FutureWarning: The frame.append method is deprecated and will be removed from pandas in a future version. Use pandas.concat instead.\n",
      "  merged_df = merged_df.append({'community_file1': np.nan, 'techniques': tech, 'frequencies_file1': 0, 'community_file2': np.nan, 'frequencies_file2': 0}, ignore_index=True)\n",
      "/tmp/ipykernel_30630/1280933530.py:16: FutureWarning: The frame.append method is deprecated and will be removed from pandas in a future version. Use pandas.concat instead.\n",
      "  merged_df = merged_df.append({'community_file1': np.nan, 'techniques': tech, 'frequencies_file1': 0, 'community_file2': np.nan, 'frequencies_file2': 0}, ignore_index=True)\n",
      "/tmp/ipykernel_30630/1280933530.py:16: FutureWarning: The frame.append method is deprecated and will be removed from pandas in a future version. Use pandas.concat instead.\n",
      "  merged_df = merged_df.append({'community_file1': np.nan, 'techniques': tech, 'frequencies_file1': 0, 'community_file2': np.nan, 'frequencies_file2': 0}, ignore_index=True)\n",
      "/tmp/ipykernel_30630/1280933530.py:16: FutureWarning: The frame.append method is deprecated and will be removed from pandas in a future version. Use pandas.concat instead.\n",
      "  merged_df = merged_df.append({'community_file1': np.nan, 'techniques': tech, 'frequencies_file1': 0, 'community_file2': np.nan, 'frequencies_file2': 0}, ignore_index=True)\n",
      "/tmp/ipykernel_30630/1280933530.py:16: FutureWarning: The frame.append method is deprecated and will be removed from pandas in a future version. Use pandas.concat instead.\n",
      "  merged_df = merged_df.append({'community_file1': np.nan, 'techniques': tech, 'frequencies_file1': 0, 'community_file2': np.nan, 'frequencies_file2': 0}, ignore_index=True)\n",
      "/tmp/ipykernel_30630/1280933530.py:16: FutureWarning: The frame.append method is deprecated and will be removed from pandas in a future version. Use pandas.concat instead.\n",
      "  merged_df = merged_df.append({'community_file1': np.nan, 'techniques': tech, 'frequencies_file1': 0, 'community_file2': np.nan, 'frequencies_file2': 0}, ignore_index=True)\n",
      "/tmp/ipykernel_30630/1280933530.py:16: FutureWarning: The frame.append method is deprecated and will be removed from pandas in a future version. Use pandas.concat instead.\n",
      "  merged_df = merged_df.append({'community_file1': np.nan, 'techniques': tech, 'frequencies_file1': 0, 'community_file2': np.nan, 'frequencies_file2': 0}, ignore_index=True)\n",
      "/tmp/ipykernel_30630/1280933530.py:16: FutureWarning: The frame.append method is deprecated and will be removed from pandas in a future version. Use pandas.concat instead.\n",
      "  merged_df = merged_df.append({'community_file1': np.nan, 'techniques': tech, 'frequencies_file1': 0, 'community_file2': np.nan, 'frequencies_file2': 0}, ignore_index=True)\n",
      "/tmp/ipykernel_30630/1280933530.py:16: FutureWarning: The frame.append method is deprecated and will be removed from pandas in a future version. Use pandas.concat instead.\n",
      "  merged_df = merged_df.append({'community_file1': np.nan, 'techniques': tech, 'frequencies_file1': 0, 'community_file2': np.nan, 'frequencies_file2': 0}, ignore_index=True)\n",
      "/tmp/ipykernel_30630/1280933530.py:16: FutureWarning: The frame.append method is deprecated and will be removed from pandas in a future version. Use pandas.concat instead.\n",
      "  merged_df = merged_df.append({'community_file1': np.nan, 'techniques': tech, 'frequencies_file1': 0, 'community_file2': np.nan, 'frequencies_file2': 0}, ignore_index=True)\n",
      "/tmp/ipykernel_30630/1280933530.py:16: FutureWarning: The frame.append method is deprecated and will be removed from pandas in a future version. Use pandas.concat instead.\n",
      "  merged_df = merged_df.append({'community_file1': np.nan, 'techniques': tech, 'frequencies_file1': 0, 'community_file2': np.nan, 'frequencies_file2': 0}, ignore_index=True)\n",
      "/tmp/ipykernel_30630/1280933530.py:16: FutureWarning: The frame.append method is deprecated and will be removed from pandas in a future version. Use pandas.concat instead.\n",
      "  merged_df = merged_df.append({'community_file1': np.nan, 'techniques': tech, 'frequencies_file1': 0, 'community_file2': np.nan, 'frequencies_file2': 0}, ignore_index=True)\n",
      "/tmp/ipykernel_30630/1280933530.py:16: FutureWarning: The frame.append method is deprecated and will be removed from pandas in a future version. Use pandas.concat instead.\n",
      "  merged_df = merged_df.append({'community_file1': np.nan, 'techniques': tech, 'frequencies_file1': 0, 'community_file2': np.nan, 'frequencies_file2': 0}, ignore_index=True)\n",
      "/tmp/ipykernel_30630/1280933530.py:16: FutureWarning: The frame.append method is deprecated and will be removed from pandas in a future version. Use pandas.concat instead.\n",
      "  merged_df = merged_df.append({'community_file1': np.nan, 'techniques': tech, 'frequencies_file1': 0, 'community_file2': np.nan, 'frequencies_file2': 0}, ignore_index=True)\n",
      "/tmp/ipykernel_30630/1280933530.py:16: FutureWarning: The frame.append method is deprecated and will be removed from pandas in a future version. Use pandas.concat instead.\n",
      "  merged_df = merged_df.append({'community_file1': np.nan, 'techniques': tech, 'frequencies_file1': 0, 'community_file2': np.nan, 'frequencies_file2': 0}, ignore_index=True)\n",
      "/tmp/ipykernel_30630/1280933530.py:16: FutureWarning: The frame.append method is deprecated and will be removed from pandas in a future version. Use pandas.concat instead.\n",
      "  merged_df = merged_df.append({'community_file1': np.nan, 'techniques': tech, 'frequencies_file1': 0, 'community_file2': np.nan, 'frequencies_file2': 0}, ignore_index=True)\n",
      "/tmp/ipykernel_30630/1280933530.py:16: FutureWarning: The frame.append method is deprecated and will be removed from pandas in a future version. Use pandas.concat instead.\n",
      "  merged_df = merged_df.append({'community_file1': np.nan, 'techniques': tech, 'frequencies_file1': 0, 'community_file2': np.nan, 'frequencies_file2': 0}, ignore_index=True)\n",
      "/tmp/ipykernel_30630/1280933530.py:16: FutureWarning: The frame.append method is deprecated and will be removed from pandas in a future version. Use pandas.concat instead.\n",
      "  merged_df = merged_df.append({'community_file1': np.nan, 'techniques': tech, 'frequencies_file1': 0, 'community_file2': np.nan, 'frequencies_file2': 0}, ignore_index=True)\n",
      "/tmp/ipykernel_30630/1280933530.py:16: FutureWarning: The frame.append method is deprecated and will be removed from pandas in a future version. Use pandas.concat instead.\n",
      "  merged_df = merged_df.append({'community_file1': np.nan, 'techniques': tech, 'frequencies_file1': 0, 'community_file2': np.nan, 'frequencies_file2': 0}, ignore_index=True)\n",
      "/tmp/ipykernel_30630/1280933530.py:16: FutureWarning: The frame.append method is deprecated and will be removed from pandas in a future version. Use pandas.concat instead.\n",
      "  merged_df = merged_df.append({'community_file1': np.nan, 'techniques': tech, 'frequencies_file1': 0, 'community_file2': np.nan, 'frequencies_file2': 0}, ignore_index=True)\n",
      "/tmp/ipykernel_30630/1280933530.py:16: FutureWarning: The frame.append method is deprecated and will be removed from pandas in a future version. Use pandas.concat instead.\n",
      "  merged_df = merged_df.append({'community_file1': np.nan, 'techniques': tech, 'frequencies_file1': 0, 'community_file2': np.nan, 'frequencies_file2': 0}, ignore_index=True)\n",
      "/tmp/ipykernel_30630/1280933530.py:16: FutureWarning: The frame.append method is deprecated and will be removed from pandas in a future version. Use pandas.concat instead.\n",
      "  merged_df = merged_df.append({'community_file1': np.nan, 'techniques': tech, 'frequencies_file1': 0, 'community_file2': np.nan, 'frequencies_file2': 0}, ignore_index=True)\n",
      "/tmp/ipykernel_30630/1280933530.py:16: FutureWarning: The frame.append method is deprecated and will be removed from pandas in a future version. Use pandas.concat instead.\n",
      "  merged_df = merged_df.append({'community_file1': np.nan, 'techniques': tech, 'frequencies_file1': 0, 'community_file2': np.nan, 'frequencies_file2': 0}, ignore_index=True)\n",
      "/tmp/ipykernel_30630/1280933530.py:16: FutureWarning: The frame.append method is deprecated and will be removed from pandas in a future version. Use pandas.concat instead.\n",
      "  merged_df = merged_df.append({'community_file1': np.nan, 'techniques': tech, 'frequencies_file1': 0, 'community_file2': np.nan, 'frequencies_file2': 0}, ignore_index=True)\n",
      "/tmp/ipykernel_30630/1280933530.py:16: FutureWarning: The frame.append method is deprecated and will be removed from pandas in a future version. Use pandas.concat instead.\n",
      "  merged_df = merged_df.append({'community_file1': np.nan, 'techniques': tech, 'frequencies_file1': 0, 'community_file2': np.nan, 'frequencies_file2': 0}, ignore_index=True)\n",
      "/tmp/ipykernel_30630/1280933530.py:16: FutureWarning: The frame.append method is deprecated and will be removed from pandas in a future version. Use pandas.concat instead.\n",
      "  merged_df = merged_df.append({'community_file1': np.nan, 'techniques': tech, 'frequencies_file1': 0, 'community_file2': np.nan, 'frequencies_file2': 0}, ignore_index=True)\n",
      "/tmp/ipykernel_30630/1280933530.py:16: FutureWarning: The frame.append method is deprecated and will be removed from pandas in a future version. Use pandas.concat instead.\n",
      "  merged_df = merged_df.append({'community_file1': np.nan, 'techniques': tech, 'frequencies_file1': 0, 'community_file2': np.nan, 'frequencies_file2': 0}, ignore_index=True)\n",
      "/tmp/ipykernel_30630/1280933530.py:16: FutureWarning: The frame.append method is deprecated and will be removed from pandas in a future version. Use pandas.concat instead.\n",
      "  merged_df = merged_df.append({'community_file1': np.nan, 'techniques': tech, 'frequencies_file1': 0, 'community_file2': np.nan, 'frequencies_file2': 0}, ignore_index=True)\n",
      "/tmp/ipykernel_30630/1280933530.py:16: FutureWarning: The frame.append method is deprecated and will be removed from pandas in a future version. Use pandas.concat instead.\n",
      "  merged_df = merged_df.append({'community_file1': np.nan, 'techniques': tech, 'frequencies_file1': 0, 'community_file2': np.nan, 'frequencies_file2': 0}, ignore_index=True)\n",
      "/tmp/ipykernel_30630/1280933530.py:16: FutureWarning: The frame.append method is deprecated and will be removed from pandas in a future version. Use pandas.concat instead.\n",
      "  merged_df = merged_df.append({'community_file1': np.nan, 'techniques': tech, 'frequencies_file1': 0, 'community_file2': np.nan, 'frequencies_file2': 0}, ignore_index=True)\n",
      "/tmp/ipykernel_30630/1280933530.py:16: FutureWarning: The frame.append method is deprecated and will be removed from pandas in a future version. Use pandas.concat instead.\n",
      "  merged_df = merged_df.append({'community_file1': np.nan, 'techniques': tech, 'frequencies_file1': 0, 'community_file2': np.nan, 'frequencies_file2': 0}, ignore_index=True)\n",
      "/tmp/ipykernel_30630/1280933530.py:16: FutureWarning: The frame.append method is deprecated and will be removed from pandas in a future version. Use pandas.concat instead.\n",
      "  merged_df = merged_df.append({'community_file1': np.nan, 'techniques': tech, 'frequencies_file1': 0, 'community_file2': np.nan, 'frequencies_file2': 0}, ignore_index=True)\n",
      "/tmp/ipykernel_30630/1280933530.py:16: FutureWarning: The frame.append method is deprecated and will be removed from pandas in a future version. Use pandas.concat instead.\n",
      "  merged_df = merged_df.append({'community_file1': np.nan, 'techniques': tech, 'frequencies_file1': 0, 'community_file2': np.nan, 'frequencies_file2': 0}, ignore_index=True)\n",
      "/tmp/ipykernel_30630/1280933530.py:16: FutureWarning: The frame.append method is deprecated and will be removed from pandas in a future version. Use pandas.concat instead.\n",
      "  merged_df = merged_df.append({'community_file1': np.nan, 'techniques': tech, 'frequencies_file1': 0, 'community_file2': np.nan, 'frequencies_file2': 0}, ignore_index=True)\n",
      "/tmp/ipykernel_30630/1280933530.py:16: FutureWarning: The frame.append method is deprecated and will be removed from pandas in a future version. Use pandas.concat instead.\n",
      "  merged_df = merged_df.append({'community_file1': np.nan, 'techniques': tech, 'frequencies_file1': 0, 'community_file2': np.nan, 'frequencies_file2': 0}, ignore_index=True)\n",
      "/tmp/ipykernel_30630/1280933530.py:16: FutureWarning: The frame.append method is deprecated and will be removed from pandas in a future version. Use pandas.concat instead.\n",
      "  merged_df = merged_df.append({'community_file1': np.nan, 'techniques': tech, 'frequencies_file1': 0, 'community_file2': np.nan, 'frequencies_file2': 0}, ignore_index=True)\n",
      "/tmp/ipykernel_30630/1280933530.py:16: FutureWarning: The frame.append method is deprecated and will be removed from pandas in a future version. Use pandas.concat instead.\n",
      "  merged_df = merged_df.append({'community_file1': np.nan, 'techniques': tech, 'frequencies_file1': 0, 'community_file2': np.nan, 'frequencies_file2': 0}, ignore_index=True)\n",
      "/tmp/ipykernel_30630/1280933530.py:16: FutureWarning: The frame.append method is deprecated and will be removed from pandas in a future version. Use pandas.concat instead.\n",
      "  merged_df = merged_df.append({'community_file1': np.nan, 'techniques': tech, 'frequencies_file1': 0, 'community_file2': np.nan, 'frequencies_file2': 0}, ignore_index=True)\n",
      "/tmp/ipykernel_30630/1280933530.py:16: FutureWarning: The frame.append method is deprecated and will be removed from pandas in a future version. Use pandas.concat instead.\n",
      "  merged_df = merged_df.append({'community_file1': np.nan, 'techniques': tech, 'frequencies_file1': 0, 'community_file2': np.nan, 'frequencies_file2': 0}, ignore_index=True)\n",
      "/tmp/ipykernel_30630/1280933530.py:16: FutureWarning: The frame.append method is deprecated and will be removed from pandas in a future version. Use pandas.concat instead.\n",
      "  merged_df = merged_df.append({'community_file1': np.nan, 'techniques': tech, 'frequencies_file1': 0, 'community_file2': np.nan, 'frequencies_file2': 0}, ignore_index=True)\n",
      "/tmp/ipykernel_30630/1280933530.py:16: FutureWarning: The frame.append method is deprecated and will be removed from pandas in a future version. Use pandas.concat instead.\n",
      "  merged_df = merged_df.append({'community_file1': np.nan, 'techniques': tech, 'frequencies_file1': 0, 'community_file2': np.nan, 'frequencies_file2': 0}, ignore_index=True)\n",
      "/tmp/ipykernel_30630/1280933530.py:16: FutureWarning: The frame.append method is deprecated and will be removed from pandas in a future version. Use pandas.concat instead.\n",
      "  merged_df = merged_df.append({'community_file1': np.nan, 'techniques': tech, 'frequencies_file1': 0, 'community_file2': np.nan, 'frequencies_file2': 0}, ignore_index=True)\n",
      "/tmp/ipykernel_30630/1280933530.py:16: FutureWarning: The frame.append method is deprecated and will be removed from pandas in a future version. Use pandas.concat instead.\n",
      "  merged_df = merged_df.append({'community_file1': np.nan, 'techniques': tech, 'frequencies_file1': 0, 'community_file2': np.nan, 'frequencies_file2': 0}, ignore_index=True)\n",
      "/tmp/ipykernel_30630/1280933530.py:16: FutureWarning: The frame.append method is deprecated and will be removed from pandas in a future version. Use pandas.concat instead.\n",
      "  merged_df = merged_df.append({'community_file1': np.nan, 'techniques': tech, 'frequencies_file1': 0, 'community_file2': np.nan, 'frequencies_file2': 0}, ignore_index=True)\n",
      "/tmp/ipykernel_30630/1280933530.py:16: FutureWarning: The frame.append method is deprecated and will be removed from pandas in a future version. Use pandas.concat instead.\n",
      "  merged_df = merged_df.append({'community_file1': np.nan, 'techniques': tech, 'frequencies_file1': 0, 'community_file2': np.nan, 'frequencies_file2': 0}, ignore_index=True)\n"
     ]
    },
    {
     "name": "stdout",
     "output_type": "stream",
     "text": [
      "Average Kendall: 0.6760176200554981\n"
     ]
    }
   ],
   "source": [
    "all_ranks = overall_ranking[2]['ranking'] # after\n",
    "overall_avg_tau = 0\n",
    "iter = 0\n",
    "for community in all_ranks:\n",
    "    for rank in ranking_ba_post:\n",
    "        if community['community'] == rank['community']:\n",
    "\n",
    "            df1 = pd.DataFrame(community)\n",
    "            df2 = pd.DataFrame(rank)\n",
    "\n",
    "            merged_df = pd.merge(df1, df2, on='techniques', how='outer', suffixes=('_file1', '_file2'))\n",
    "\n",
    "            for tech in all_techniques:\n",
    "                if tech not in merged_df['techniques'].values:\n",
    "                    # add row\n",
    "                    merged_df = merged_df.append({'community_file1': np.nan, 'techniques': tech, 'frequencies_file1': 0, 'community_file2': np.nan, 'frequencies_file2': 0}, ignore_index=True)\n",
    "\n",
    "            # fill NaNs on frequencies\n",
    "            merged_df['frequencies_file1'] = merged_df['frequencies_file1'].fillna(0)\n",
    "            merged_df['frequencies_file2'] = merged_df['frequencies_file2'].fillna(0)\n",
    "\n",
    "            # if all techniques are 0, skip community\n",
    "            if merged_df['frequencies_file1'].sum() == 0 or merged_df['frequencies_file2'].sum() == 0:\n",
    "                continue\n",
    "\n",
    "            # Rank based on frequencies\n",
    "            merged_df['rank_file1'] = merged_df['frequencies_file1'].rank(ascending=False)\n",
    "            merged_df['rank_file2'] = merged_df['frequencies_file2'].rank(ascending=False)\n",
    "\n",
    "            # Calculate correlation\n",
    "            kendalltau_corr = kendalltau(merged_df['rank_file1'], merged_df['rank_file2'])\n",
    "\n",
    "            overall_avg_tau += kendalltau_corr.correlation\n",
    "            iter += 1\n",
    "\n",
    "print(f\"Average Kendall: {overall_avg_tau/iter}\")\n"
   ]
  }
 ],
 "metadata": {
  "kernelspec": {
   "display_name": "rapids-23.02",
   "language": "python",
   "name": "python3"
  },
  "language_info": {
   "codemirror_mode": {
    "name": "ipython",
    "version": 3
   },
   "file_extension": ".py",
   "mimetype": "text/x-python",
   "name": "python",
   "nbconvert_exporter": "python",
   "pygments_lexer": "ipython3",
   "version": "3.8.16"
  }
 },
 "nbformat": 4,
 "nbformat_minor": 2
}
