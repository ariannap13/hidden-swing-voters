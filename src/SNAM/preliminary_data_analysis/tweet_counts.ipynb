{
 "cells": [
  {
   "cell_type": "code",
   "execution_count": 70,
   "metadata": {},
   "outputs": [],
   "source": [
    "import json\n",
    "import os\n",
    "import sys\n",
    "import matplotlib.pyplot as plt\n",
    "import numpy as np\n",
    "import seaborn as sns\n",
    "import pandas as pd"
   ]
  },
  {
   "cell_type": "markdown",
   "metadata": {},
   "source": [
    "# Volume of tweets by political representatives"
   ]
  },
  {
   "cell_type": "code",
   "execution_count": 71,
   "metadata": {},
   "outputs": [],
   "source": [
    "# Load data\n",
    "with open('../../../data/00_raw_data_tweets/tweets_vips_party_cleaned.json', 'r') as f:\n",
    "    tweets_vips = json.load(f)"
   ]
  },
  {
   "cell_type": "code",
   "execution_count": 72,
   "metadata": {},
   "outputs": [
    {
     "data": {
      "text/html": [
       "<div>\n",
       "<style scoped>\n",
       "    .dataframe tbody tr th:only-of-type {\n",
       "        vertical-align: middle;\n",
       "    }\n",
       "\n",
       "    .dataframe tbody tr th {\n",
       "        vertical-align: top;\n",
       "    }\n",
       "\n",
       "    .dataframe thead th {\n",
       "        text-align: right;\n",
       "    }\n",
       "</style>\n",
       "<table border=\"1\" class=\"dataframe\">\n",
       "  <thead>\n",
       "    <tr style=\"text-align: right;\">\n",
       "      <th></th>\n",
       "      <th>author_id</th>\n",
       "      <th>created_at</th>\n",
       "      <th>text</th>\n",
       "      <th>party</th>\n",
       "    </tr>\n",
       "  </thead>\n",
       "  <tbody>\n",
       "    <tr>\n",
       "      <th>1544421129795821570</th>\n",
       "      <td>1047059160</td>\n",
       "      <td>2022-07-05</td>\n",
       "      <td>🔵 Sempre più in alto\\n“Il cielo è sempre più b...</td>\n",
       "      <td>Fratelli d'Italia</td>\n",
       "    </tr>\n",
       "    <tr>\n",
       "      <th>1544412619821432834</th>\n",
       "      <td>958522192857251841</td>\n",
       "      <td>2022-07-05</td>\n",
       "      <td>Oggi, con i colleghi Ettore Rosato e Marco Di ...</td>\n",
       "      <td>Partito Democratico</td>\n",
       "    </tr>\n",
       "    <tr>\n",
       "      <th>1544410254343081990</th>\n",
       "      <td>130537001</td>\n",
       "      <td>2022-07-05</td>\n",
       "      <td>La cattiveria non conosce limiti. Per vantarsi...</td>\n",
       "      <td>Fratelli d'Italia</td>\n",
       "    </tr>\n",
       "    <tr>\n",
       "      <th>1544407020148858881</th>\n",
       "      <td>61160450</td>\n",
       "      <td>2022-07-05</td>\n",
       "      <td>Buon lavoro al sindaco Bucci, alla maggioranza...</td>\n",
       "      <td>Lega</td>\n",
       "    </tr>\n",
       "    <tr>\n",
       "      <th>1544406008746987521</th>\n",
       "      <td>2416067982</td>\n",
       "      <td>2022-07-05</td>\n",
       "      <td>Spesso mi dicono “tu devi essere più gentile” ...</td>\n",
       "      <td>Azione - Italia Viva</td>\n",
       "    </tr>\n",
       "    <tr>\n",
       "      <th>...</th>\n",
       "      <td>...</td>\n",
       "      <td>...</td>\n",
       "      <td>...</td>\n",
       "      <td>...</td>\n",
       "    </tr>\n",
       "    <tr>\n",
       "      <th>1574511691827658752</th>\n",
       "      <td>214485357</td>\n",
       "      <td>2022-09-26</td>\n",
       "      <td>L'Italia ha deciso premiando FdI e riducendo l...</td>\n",
       "      <td>Partito Democratico</td>\n",
       "    </tr>\n",
       "    <tr>\n",
       "      <th>1574511835616669701</th>\n",
       "      <td>214485357</td>\n",
       "      <td>2022-09-26</td>\n",
       "      <td>La destra ha vinto legittimamente le elezioni ...</td>\n",
       "      <td>Partito Democratico</td>\n",
       "    </tr>\n",
       "    <tr>\n",
       "      <th>1574512794984030208</th>\n",
       "      <td>214485357</td>\n",
       "      <td>2022-09-26</td>\n",
       "      <td>Dall’altra parte c’è il Pd, che sconta la manc...</td>\n",
       "      <td>Partito Democratico</td>\n",
       "    </tr>\n",
       "    <tr>\n",
       "      <th>1574513706146402304</th>\n",
       "      <td>214485357</td>\n",
       "      <td>2022-09-26</td>\n",
       "      <td>Il M5S in Romagna si attesta sull’8-9% dal 32%...</td>\n",
       "      <td>Partito Democratico</td>\n",
       "    </tr>\n",
       "    <tr>\n",
       "      <th>1574514619766431749</th>\n",
       "      <td>499911132</td>\n",
       "      <td>2022-09-26</td>\n",
       "      <td>Zanettin al Senato per Vicenza, Padova e Veron...</td>\n",
       "      <td>Forza Italia</td>\n",
       "    </tr>\n",
       "  </tbody>\n",
       "</table>\n",
       "<p>18008 rows × 4 columns</p>\n",
       "</div>"
      ],
      "text/plain": [
       "                              author_id  created_at  \\\n",
       "1544421129795821570          1047059160  2022-07-05   \n",
       "1544412619821432834  958522192857251841  2022-07-05   \n",
       "1544410254343081990           130537001  2022-07-05   \n",
       "1544407020148858881            61160450  2022-07-05   \n",
       "1544406008746987521          2416067982  2022-07-05   \n",
       "...                                 ...         ...   \n",
       "1574511691827658752           214485357  2022-09-26   \n",
       "1574511835616669701           214485357  2022-09-26   \n",
       "1574512794984030208           214485357  2022-09-26   \n",
       "1574513706146402304           214485357  2022-09-26   \n",
       "1574514619766431749           499911132  2022-09-26   \n",
       "\n",
       "                                                                  text  \\\n",
       "1544421129795821570  🔵 Sempre più in alto\\n“Il cielo è sempre più b...   \n",
       "1544412619821432834  Oggi, con i colleghi Ettore Rosato e Marco Di ...   \n",
       "1544410254343081990  La cattiveria non conosce limiti. Per vantarsi...   \n",
       "1544407020148858881  Buon lavoro al sindaco Bucci, alla maggioranza...   \n",
       "1544406008746987521  Spesso mi dicono “tu devi essere più gentile” ...   \n",
       "...                                                                ...   \n",
       "1574511691827658752  L'Italia ha deciso premiando FdI e riducendo l...   \n",
       "1574511835616669701  La destra ha vinto legittimamente le elezioni ...   \n",
       "1574512794984030208  Dall’altra parte c’è il Pd, che sconta la manc...   \n",
       "1574513706146402304  Il M5S in Romagna si attesta sull’8-9% dal 32%...   \n",
       "1574514619766431749  Zanettin al Senato per Vicenza, Padova e Veron...   \n",
       "\n",
       "                                    party  \n",
       "1544421129795821570     Fratelli d'Italia  \n",
       "1544412619821432834   Partito Democratico  \n",
       "1544410254343081990     Fratelli d'Italia  \n",
       "1544407020148858881                  Lega  \n",
       "1544406008746987521  Azione - Italia Viva  \n",
       "...                                   ...  \n",
       "1574511691827658752   Partito Democratico  \n",
       "1574511835616669701   Partito Democratico  \n",
       "1574512794984030208   Partito Democratico  \n",
       "1574513706146402304   Partito Democratico  \n",
       "1574514619766431749          Forza Italia  \n",
       "\n",
       "[18008 rows x 4 columns]"
      ]
     },
     "execution_count": 72,
     "metadata": {},
     "output_type": "execute_result"
    }
   ],
   "source": [
    "# json to df (without the key)\n",
    "df = pd.DataFrame.from_dict(tweets_vips, orient='index')\n",
    "df"
   ]
  },
  {
   "cell_type": "code",
   "execution_count": 73,
   "metadata": {},
   "outputs": [],
   "source": [
    "start_before = '2022-07-01'\n",
    "start_during = '2022-08-26'\n",
    "start_after = '2022-09-25'\n",
    "end_after = '2022-10-31'"
   ]
  },
  {
   "cell_type": "code",
   "execution_count": 81,
   "metadata": {},
   "outputs": [
    {
     "data": {
      "image/png": "[encoded data removed]",
      "text/plain": [
       "<Figure size 1000x600 with 1 Axes>"
      ]
     },
     "metadata": {},
     "output_type": "display_data"
    }
   ],
   "source": [
    "# define figure size\n",
    "plt.figure(figsize=(10, 6))\n",
    "\n",
    "# lineplot of number of tweets by day\n",
    "sns.lineplot(data=df.groupby('created_at').size(), color='black', linewidth=0.9)\n",
    "plt.axvline(start_during, color='grey', linestyle='--')\n",
    "plt.axvline(start_after, color='grey', linestyle='--')\n",
    "\n",
    "# annotate the plot\n",
    "plt.text(start_during, 25, 'start of campaign', rotation=90, style='italic', size=14)\n",
    "plt.text(start_after, 220, 'election day', rotation=90, style='italic', size=14)\n",
    "\n",
    "plt.ylabel('Volume of tweets by political representatives', size=14)\n",
    "plt.xlabel('')\n",
    "\n",
    "plt.xticks(\n",
    "    ticks=['2022-07-01', '2022-08-01', '2022-09-01', '2022-10-01'],\n",
    "    labels=['July', 'August', 'September', 'October'],\n",
    "    size=14\n",
    ") \n",
    "\n",
    "# add annotation of \"Pre-campaign period\", \"Campaign period\", \"Post-election period\"\n",
    "plt.axvspan(start_before, start_during, alpha=0.6, color='#BC6DC5')\n",
    "plt.axvspan(start_during, start_after, alpha=0.6, color='#C5BC6D')\n",
    "plt.axvspan(start_after, end_after, alpha=0.6, color='#6DC5BC')\n",
    " \n",
    "plt.text('2022-07-29', 393, 'Pre-campaign period', rotation=0, color='black', fontsize=12, fontweight='bold', ha='center')\n",
    "plt.text('2022-09-10', 393, 'Campaign period', rotation=0, color='black', fontsize=12, fontweight='bold', ha='center')\n",
    "plt.text('2022-10-08', 372, 'Post-election\\nperiod', rotation=0, color='black', fontsize=12, fontweight='bold', ha='center')\n",
    "\n",
    "sns.despine()\n",
    "\n",
    "plt.show()"
   ]
  },
  {
   "cell_type": "code",
   "execution_count": 75,
   "metadata": {},
   "outputs": [],
   "source": [
    "def get_period(date):\n",
    "    if date < start_during:\n",
    "        return 'Pre-campaign'\n",
    "    elif date < start_after:\n",
    "        return 'Campaign'\n",
    "    else:\n",
    "        return 'Post-election'"
   ]
  },
  {
   "cell_type": "code",
   "execution_count": 76,
   "metadata": {},
   "outputs": [
    {
     "data": {
      "text/html": [
       "<div>\n",
       "<style scoped>\n",
       "    .dataframe tbody tr th:only-of-type {\n",
       "        vertical-align: middle;\n",
       "    }\n",
       "\n",
       "    .dataframe tbody tr th {\n",
       "        vertical-align: top;\n",
       "    }\n",
       "\n",
       "    .dataframe thead th {\n",
       "        text-align: right;\n",
       "    }\n",
       "</style>\n",
       "<table border=\"1\" class=\"dataframe\">\n",
       "  <thead>\n",
       "    <tr style=\"text-align: right;\">\n",
       "      <th></th>\n",
       "      <th>author_id</th>\n",
       "      <th>created_at</th>\n",
       "      <th>text</th>\n",
       "      <th>party</th>\n",
       "      <th>period</th>\n",
       "    </tr>\n",
       "  </thead>\n",
       "  <tbody>\n",
       "    <tr>\n",
       "      <th>1544421129795821570</th>\n",
       "      <td>1047059160</td>\n",
       "      <td>2022-07-05</td>\n",
       "      <td>🔵 Sempre più in alto\\n“Il cielo è sempre più b...</td>\n",
       "      <td>Fratelli d'Italia</td>\n",
       "      <td>Pre-campaign</td>\n",
       "    </tr>\n",
       "    <tr>\n",
       "      <th>1544412619821432834</th>\n",
       "      <td>958522192857251841</td>\n",
       "      <td>2022-07-05</td>\n",
       "      <td>Oggi, con i colleghi Ettore Rosato e Marco Di ...</td>\n",
       "      <td>Partito Democratico</td>\n",
       "      <td>Pre-campaign</td>\n",
       "    </tr>\n",
       "    <tr>\n",
       "      <th>1544410254343081990</th>\n",
       "      <td>130537001</td>\n",
       "      <td>2022-07-05</td>\n",
       "      <td>La cattiveria non conosce limiti. Per vantarsi...</td>\n",
       "      <td>Fratelli d'Italia</td>\n",
       "      <td>Pre-campaign</td>\n",
       "    </tr>\n",
       "    <tr>\n",
       "      <th>1544407020148858881</th>\n",
       "      <td>61160450</td>\n",
       "      <td>2022-07-05</td>\n",
       "      <td>Buon lavoro al sindaco Bucci, alla maggioranza...</td>\n",
       "      <td>Lega</td>\n",
       "      <td>Pre-campaign</td>\n",
       "    </tr>\n",
       "    <tr>\n",
       "      <th>1544406008746987521</th>\n",
       "      <td>2416067982</td>\n",
       "      <td>2022-07-05</td>\n",
       "      <td>Spesso mi dicono “tu devi essere più gentile” ...</td>\n",
       "      <td>Azione - Italia Viva</td>\n",
       "      <td>Pre-campaign</td>\n",
       "    </tr>\n",
       "  </tbody>\n",
       "</table>\n",
       "</div>"
      ],
      "text/plain": [
       "                              author_id  created_at  \\\n",
       "1544421129795821570          1047059160  2022-07-05   \n",
       "1544412619821432834  958522192857251841  2022-07-05   \n",
       "1544410254343081990           130537001  2022-07-05   \n",
       "1544407020148858881            61160450  2022-07-05   \n",
       "1544406008746987521          2416067982  2022-07-05   \n",
       "\n",
       "                                                                  text  \\\n",
       "1544421129795821570  🔵 Sempre più in alto\\n“Il cielo è sempre più b...   \n",
       "1544412619821432834  Oggi, con i colleghi Ettore Rosato e Marco Di ...   \n",
       "1544410254343081990  La cattiveria non conosce limiti. Per vantarsi...   \n",
       "1544407020148858881  Buon lavoro al sindaco Bucci, alla maggioranza...   \n",
       "1544406008746987521  Spesso mi dicono “tu devi essere più gentile” ...   \n",
       "\n",
       "                                    party        period  \n",
       "1544421129795821570     Fratelli d'Italia  Pre-campaign  \n",
       "1544412619821432834   Partito Democratico  Pre-campaign  \n",
       "1544410254343081990     Fratelli d'Italia  Pre-campaign  \n",
       "1544407020148858881                  Lega  Pre-campaign  \n",
       "1544406008746987521  Azione - Italia Viva  Pre-campaign  "
      ]
     },
     "execution_count": 76,
     "metadata": {},
     "output_type": "execute_result"
    }
   ],
   "source": [
    "df[\"period\"] = df[\"created_at\"].apply(get_period)\n",
    "df.head()"
   ]
  },
  {
   "cell_type": "code",
   "execution_count": 77,
   "metadata": {},
   "outputs": [
    {
     "data": {
      "text/html": [
       "<div>\n",
       "<style scoped>\n",
       "    .dataframe tbody tr th:only-of-type {\n",
       "        vertical-align: middle;\n",
       "    }\n",
       "\n",
       "    .dataframe tbody tr th {\n",
       "        vertical-align: top;\n",
       "    }\n",
       "\n",
       "    .dataframe thead th {\n",
       "        text-align: right;\n",
       "    }\n",
       "</style>\n",
       "<table border=\"1\" class=\"dataframe\">\n",
       "  <thead>\n",
       "    <tr style=\"text-align: right;\">\n",
       "      <th></th>\n",
       "      <th>period</th>\n",
       "      <th>party</th>\n",
       "      <th>count</th>\n",
       "    </tr>\n",
       "  </thead>\n",
       "  <tbody>\n",
       "    <tr>\n",
       "      <th>0</th>\n",
       "      <td>Campaign</td>\n",
       "      <td>Alleanza Verdi Sinistra</td>\n",
       "      <td>326</td>\n",
       "    </tr>\n",
       "    <tr>\n",
       "      <th>1</th>\n",
       "      <td>Campaign</td>\n",
       "      <td>Azione - Italia Viva</td>\n",
       "      <td>1593</td>\n",
       "    </tr>\n",
       "    <tr>\n",
       "      <th>2</th>\n",
       "      <td>Campaign</td>\n",
       "      <td>Forza Italia</td>\n",
       "      <td>551</td>\n",
       "    </tr>\n",
       "    <tr>\n",
       "      <th>3</th>\n",
       "      <td>Campaign</td>\n",
       "      <td>Fratelli d'Italia</td>\n",
       "      <td>1576</td>\n",
       "    </tr>\n",
       "    <tr>\n",
       "      <th>4</th>\n",
       "      <td>Campaign</td>\n",
       "      <td>Lega</td>\n",
       "      <td>1508</td>\n",
       "    </tr>\n",
       "    <tr>\n",
       "      <th>5</th>\n",
       "      <td>Campaign</td>\n",
       "      <td>Movimento 5s</td>\n",
       "      <td>487</td>\n",
       "    </tr>\n",
       "    <tr>\n",
       "      <th>6</th>\n",
       "      <td>Campaign</td>\n",
       "      <td>Noi moderati</td>\n",
       "      <td>64</td>\n",
       "    </tr>\n",
       "    <tr>\n",
       "      <th>7</th>\n",
       "      <td>Campaign</td>\n",
       "      <td>Partito Democratico</td>\n",
       "      <td>1446</td>\n",
       "    </tr>\n",
       "    <tr>\n",
       "      <th>8</th>\n",
       "      <td>Post-election</td>\n",
       "      <td>Alleanza Verdi Sinistra</td>\n",
       "      <td>57</td>\n",
       "    </tr>\n",
       "    <tr>\n",
       "      <th>9</th>\n",
       "      <td>Post-election</td>\n",
       "      <td>Azione - Italia Viva</td>\n",
       "      <td>499</td>\n",
       "    </tr>\n",
       "    <tr>\n",
       "      <th>10</th>\n",
       "      <td>Post-election</td>\n",
       "      <td>Forza Italia</td>\n",
       "      <td>119</td>\n",
       "    </tr>\n",
       "    <tr>\n",
       "      <th>11</th>\n",
       "      <td>Post-election</td>\n",
       "      <td>Fratelli d'Italia</td>\n",
       "      <td>553</td>\n",
       "    </tr>\n",
       "    <tr>\n",
       "      <th>12</th>\n",
       "      <td>Post-election</td>\n",
       "      <td>Lega</td>\n",
       "      <td>449</td>\n",
       "    </tr>\n",
       "    <tr>\n",
       "      <th>13</th>\n",
       "      <td>Post-election</td>\n",
       "      <td>Movimento 5s</td>\n",
       "      <td>127</td>\n",
       "    </tr>\n",
       "    <tr>\n",
       "      <th>14</th>\n",
       "      <td>Post-election</td>\n",
       "      <td>Noi moderati</td>\n",
       "      <td>22</td>\n",
       "    </tr>\n",
       "    <tr>\n",
       "      <th>15</th>\n",
       "      <td>Post-election</td>\n",
       "      <td>Partito Democratico</td>\n",
       "      <td>407</td>\n",
       "    </tr>\n",
       "    <tr>\n",
       "      <th>16</th>\n",
       "      <td>Pre-campaign</td>\n",
       "      <td>Alleanza Verdi Sinistra</td>\n",
       "      <td>239</td>\n",
       "    </tr>\n",
       "    <tr>\n",
       "      <th>17</th>\n",
       "      <td>Pre-campaign</td>\n",
       "      <td>Azione - Italia Viva</td>\n",
       "      <td>1478</td>\n",
       "    </tr>\n",
       "    <tr>\n",
       "      <th>18</th>\n",
       "      <td>Pre-campaign</td>\n",
       "      <td>Forza Italia</td>\n",
       "      <td>537</td>\n",
       "    </tr>\n",
       "    <tr>\n",
       "      <th>19</th>\n",
       "      <td>Pre-campaign</td>\n",
       "      <td>Fratelli d'Italia</td>\n",
       "      <td>2242</td>\n",
       "    </tr>\n",
       "    <tr>\n",
       "      <th>20</th>\n",
       "      <td>Pre-campaign</td>\n",
       "      <td>Lega</td>\n",
       "      <td>1912</td>\n",
       "    </tr>\n",
       "    <tr>\n",
       "      <th>21</th>\n",
       "      <td>Pre-campaign</td>\n",
       "      <td>Movimento 5s</td>\n",
       "      <td>425</td>\n",
       "    </tr>\n",
       "    <tr>\n",
       "      <th>22</th>\n",
       "      <td>Pre-campaign</td>\n",
       "      <td>Noi moderati</td>\n",
       "      <td>75</td>\n",
       "    </tr>\n",
       "    <tr>\n",
       "      <th>23</th>\n",
       "      <td>Pre-campaign</td>\n",
       "      <td>Partito Democratico</td>\n",
       "      <td>1316</td>\n",
       "    </tr>\n",
       "  </tbody>\n",
       "</table>\n",
       "</div>"
      ],
      "text/plain": [
       "           period                    party  count\n",
       "0        Campaign  Alleanza Verdi Sinistra    326\n",
       "1        Campaign     Azione - Italia Viva   1593\n",
       "2        Campaign             Forza Italia    551\n",
       "3        Campaign        Fratelli d'Italia   1576\n",
       "4        Campaign                     Lega   1508\n",
       "5        Campaign             Movimento 5s    487\n",
       "6        Campaign             Noi moderati     64\n",
       "7        Campaign      Partito Democratico   1446\n",
       "8   Post-election  Alleanza Verdi Sinistra     57\n",
       "9   Post-election     Azione - Italia Viva    499\n",
       "10  Post-election             Forza Italia    119\n",
       "11  Post-election        Fratelli d'Italia    553\n",
       "12  Post-election                     Lega    449\n",
       "13  Post-election             Movimento 5s    127\n",
       "14  Post-election             Noi moderati     22\n",
       "15  Post-election      Partito Democratico    407\n",
       "16   Pre-campaign  Alleanza Verdi Sinistra    239\n",
       "17   Pre-campaign     Azione - Italia Viva   1478\n",
       "18   Pre-campaign             Forza Italia    537\n",
       "19   Pre-campaign        Fratelli d'Italia   2242\n",
       "20   Pre-campaign                     Lega   1912\n",
       "21   Pre-campaign             Movimento 5s    425\n",
       "22   Pre-campaign             Noi moderati     75\n",
       "23   Pre-campaign      Partito Democratico   1316"
      ]
     },
     "execution_count": 77,
     "metadata": {},
     "output_type": "execute_result"
    }
   ],
   "source": [
    "# group by period and party and count number of tweets\n",
    "df_grouped = df.groupby(['period', 'party']).size().reset_index(name='count')\n",
    "df_grouped"
   ]
  },
  {
   "cell_type": "code",
   "execution_count": 78,
   "metadata": {},
   "outputs": [
    {
     "data": {
      "text/html": [
       "<div>\n",
       "<style scoped>\n",
       "    .dataframe tbody tr th:only-of-type {\n",
       "        vertical-align: middle;\n",
       "    }\n",
       "\n",
       "    .dataframe tbody tr th {\n",
       "        vertical-align: top;\n",
       "    }\n",
       "\n",
       "    .dataframe thead th {\n",
       "        text-align: right;\n",
       "    }\n",
       "</style>\n",
       "<table border=\"1\" class=\"dataframe\">\n",
       "  <thead>\n",
       "    <tr style=\"text-align: right;\">\n",
       "      <th></th>\n",
       "      <th>party</th>\n",
       "      <th>count</th>\n",
       "    </tr>\n",
       "  </thead>\n",
       "  <tbody>\n",
       "    <tr>\n",
       "      <th>0</th>\n",
       "      <td>Alleanza Verdi Sinistra</td>\n",
       "      <td>622</td>\n",
       "    </tr>\n",
       "    <tr>\n",
       "      <th>1</th>\n",
       "      <td>Azione - Italia Viva</td>\n",
       "      <td>3570</td>\n",
       "    </tr>\n",
       "    <tr>\n",
       "      <th>2</th>\n",
       "      <td>Forza Italia</td>\n",
       "      <td>1207</td>\n",
       "    </tr>\n",
       "    <tr>\n",
       "      <th>3</th>\n",
       "      <td>Fratelli d'Italia</td>\n",
       "      <td>4371</td>\n",
       "    </tr>\n",
       "    <tr>\n",
       "      <th>4</th>\n",
       "      <td>Lega</td>\n",
       "      <td>3869</td>\n",
       "    </tr>\n",
       "    <tr>\n",
       "      <th>5</th>\n",
       "      <td>Movimento 5s</td>\n",
       "      <td>1039</td>\n",
       "    </tr>\n",
       "    <tr>\n",
       "      <th>6</th>\n",
       "      <td>Noi moderati</td>\n",
       "      <td>161</td>\n",
       "    </tr>\n",
       "    <tr>\n",
       "      <th>7</th>\n",
       "      <td>Partito Democratico</td>\n",
       "      <td>3169</td>\n",
       "    </tr>\n",
       "  </tbody>\n",
       "</table>\n",
       "</div>"
      ],
      "text/plain": [
       "                     party  count\n",
       "0  Alleanza Verdi Sinistra    622\n",
       "1     Azione - Italia Viva   3570\n",
       "2             Forza Italia   1207\n",
       "3        Fratelli d'Italia   4371\n",
       "4                     Lega   3869\n",
       "5             Movimento 5s   1039\n",
       "6             Noi moderati    161\n",
       "7      Partito Democratico   3169"
      ]
     },
     "execution_count": 78,
     "metadata": {},
     "output_type": "execute_result"
    }
   ],
   "source": [
    "df_grouped_party = df.groupby(['party']).size().reset_index(name='count')\n",
    "df_grouped_party"
   ]
  },
  {
   "cell_type": "markdown",
   "metadata": {},
   "source": [
    "# Counting tweets, retweets, quotes"
   ]
  },
  {
   "cell_type": "code",
   "execution_count": 82,
   "metadata": {},
   "outputs": [],
   "source": [
    "# Load data\n",
    "with open('../../../data/00_raw_data_tweets/tweets_all.json', 'r') as f:\n",
    "    tweets_all = json.load(f)"
   ]
  },
  {
   "cell_type": "code",
   "execution_count": 83,
   "metadata": {},
   "outputs": [
    {
     "name": "stdout",
     "output_type": "stream",
     "text": [
      "{'author_id': '1169200110', 'created_at': '2022-07-05T23:59:34.000Z'}\n"
     ]
    }
   ],
   "source": [
    "# print first tweet\n",
    "print(tweets_all[\"1544471078004826118\"])"
   ]
  },
  {
   "cell_type": "code",
   "execution_count": 84,
   "metadata": {},
   "outputs": [
    {
     "data": {
      "text/plain": [
       "8353745"
      ]
     },
     "execution_count": 84,
     "metadata": {},
     "output_type": "execute_result"
    }
   ],
   "source": [
    "len(tweets_all)"
   ]
  },
  {
   "cell_type": "code",
   "execution_count": 85,
   "metadata": {},
   "outputs": [
    {
     "data": {
      "text/plain": [
       "8335737"
      ]
     },
     "execution_count": 85,
     "metadata": {},
     "output_type": "execute_result"
    }
   ],
   "source": [
    "len(tweets_all) - len(tweets_vips)"
   ]
  },
  {
   "cell_type": "code",
   "execution_count": 86,
   "metadata": {},
   "outputs": [],
   "source": [
    "# Load data\n",
    "with open('../../../data/00_raw_data_tweets/retweets_all.json', 'r') as f:\n",
    "    retweets_all = json.load(f)"
   ]
  },
  {
   "cell_type": "code",
   "execution_count": 87,
   "metadata": {},
   "outputs": [
    {
     "data": {
      "text/plain": [
       "10639195"
      ]
     },
     "execution_count": 87,
     "metadata": {},
     "output_type": "execute_result"
    }
   ],
   "source": [
    "len(retweets_all)"
   ]
  },
  {
   "cell_type": "code",
   "execution_count": 88,
   "metadata": {},
   "outputs": [],
   "source": [
    "# Load data\n",
    "with open('../../../data/00_raw_data_tweets/quote_all.json', 'r') as f:\n",
    "    quote_all = json.load(f)"
   ]
  },
  {
   "cell_type": "code",
   "execution_count": 89,
   "metadata": {},
   "outputs": [
    {
     "data": {
      "text/plain": [
       "301034"
      ]
     },
     "execution_count": 89,
     "metadata": {},
     "output_type": "execute_result"
    }
   ],
   "source": [
    "len(quote_all)"
   ]
  },
  {
   "cell_type": "code",
   "execution_count": 90,
   "metadata": {},
   "outputs": [],
   "source": [
    "df_vips_names = pd.read_csv(\"../../../data/00_raw_data/twitter_representatives_handles_final.csv\")"
   ]
  },
  {
   "cell_type": "code",
   "execution_count": 91,
   "metadata": {},
   "outputs": [
    {
     "data": {
      "text/plain": [
       "Fratelli d'Italia          181\n",
       "Partito Democratico        107\n",
       "Lega                        95\n",
       "Movimento 5s                80\n",
       "Forza Italia                62\n",
       "Azione - Italia Viva        30\n",
       "Noi moderati                15\n",
       "Alleanza Verdi Sinistra     12\n",
       "Name: Party, dtype: int64"
      ]
     },
     "execution_count": 91,
     "metadata": {},
     "output_type": "execute_result"
    }
   ],
   "source": [
    "df_vips_names[\"Party\"].value_counts()"
   ]
  },
  {
   "cell_type": "code",
   "execution_count": 92,
   "metadata": {},
   "outputs": [
    {
     "data": {
      "text/plain": [
       "8336446"
      ]
     },
     "execution_count": 92,
     "metadata": {},
     "output_type": "execute_result"
    }
   ],
   "source": [
    "# in tweets_all and quote_all, look for tweets whose author_id is not in df_vips_names[ids]\n",
    "# in retweets_all, look for tweets whose retweeted_id is not in df_vips_names[ids]\n",
    "\n",
    "# get ids of vips\n",
    "vips_ids = df_vips_names[\"ids\"].tolist()\n",
    "\n",
    "# get ids of tweets\n",
    "tweets_ids = list(tweets_all.keys()) \n",
    "\n",
    "count_novips = 0\n",
    "for tweet_id in tweets_ids:\n",
    "    if tweets_all[tweet_id][\"author_id\"] not in vips_ids:\n",
    "        count_novips += 1\n",
    "\n",
    "count_novips"
   ]
  },
  {
   "cell_type": "code",
   "execution_count": 93,
   "metadata": {},
   "outputs": [
    {
     "data": {
      "text/plain": [
       "300325"
      ]
     },
     "execution_count": 93,
     "metadata": {},
     "output_type": "execute_result"
    }
   ],
   "source": [
    "# get ids of vips\n",
    "vips_ids = df_vips_names[\"ids\"].tolist()\n",
    "\n",
    "# get ids of tweets\n",
    "quotas_ids = list(quote_all.keys()) \n",
    "\n",
    "count_novips = 0\n",
    "for quotas_id in quotas_ids:\n",
    "    if quote_all[quotas_id][\"author_id\"] not in vips_ids:\n",
    "        count_novips += 1\n",
    "\n",
    "count_novips"
   ]
  },
  {
   "cell_type": "code",
   "execution_count": 94,
   "metadata": {},
   "outputs": [
    {
     "data": {
      "text/plain": [
       "10623875"
      ]
     },
     "execution_count": 94,
     "metadata": {},
     "output_type": "execute_result"
    }
   ],
   "source": [
    "# get ids of vips\n",
    "vips_ids = df_vips_names[\"ids\"].tolist()\n",
    "\n",
    "# get ids of tweets\n",
    "retweets_ids = list(retweets_all.keys()) \n",
    "\n",
    "count_novips = 0\n",
    "for retweet_id in retweets_ids:\n",
    "    if retweets_all[retweet_id][\"author_id\"] not in vips_ids:\n",
    "        count_novips += 1\n",
    "\n",
    "count_novips"
   ]
  },
  {
   "cell_type": "code",
   "execution_count": 95,
   "metadata": {},
   "outputs": [
    {
     "data": {
      "text/plain": [
       "8336446"
      ]
     },
     "execution_count": 95,
     "metadata": {},
     "output_type": "execute_result"
    }
   ],
   "source": [
    "# get ids of vips\n",
    "vips_ids = df_vips_names[\"ids\"].tolist()\n",
    "\n",
    "# get ids of tweets\n",
    "tweets_ids = list(tweets_all.keys())\n",
    "\n",
    "count_novips = 0\n",
    "for tweet_id in tweets_ids:\n",
    "    if tweets_all[tweet_id][\"author_id\"] not in vips_ids:\n",
    "        count_novips += 1\n",
    "\n",
    "count_novips"
   ]
  },
  {
   "cell_type": "markdown",
   "metadata": {},
   "source": [
    "By party"
   ]
  },
  {
   "cell_type": "code",
   "execution_count": 96,
   "metadata": {},
   "outputs": [
    {
     "data": {
      "text/plain": [
       "{'Azione - Italia Viva': 3176,\n",
       " \"Fratelli d'Italia\": 3350,\n",
       " 'Noi moderati': 39,\n",
       " 'Lega': 2575,\n",
       " 'Movimento 5s': 413,\n",
       " 'Partito Democratico': 3425,\n",
       " 'Alleanza Verdi Sinistra': 1979,\n",
       " 'Forza Italia': 363}"
      ]
     },
     "execution_count": 96,
     "metadata": {},
     "output_type": "execute_result"
    }
   ],
   "source": [
    "# get ids of vips\n",
    "vips_ids = df_vips_names[\"ids\"].tolist()\n",
    "party_vips = df_vips_names[\"Party\"].tolist()\n",
    "\n",
    "# get ids of tweets\n",
    "retweets_ids = list(retweets_all.keys()) \n",
    "\n",
    "# count number of retweets by vips (by party)\n",
    "count_vips = {}\n",
    "for retweet_id in retweets_ids:\n",
    "    if retweets_all[retweet_id][\"author_id\"] in vips_ids:\n",
    "        party = party_vips[vips_ids.index(retweets_all[retweet_id][\"author_id\"])]\n",
    "        if party in count_vips:\n",
    "            count_vips[party] += 1\n",
    "        else:\n",
    "            count_vips[party] = 1\n",
    "\n",
    "count_vips"
   ]
  }
 ],
 "metadata": {
  "language_info": {
   "name": "python"
  }
 },
 "nbformat": 4,
 "nbformat_minor": 2
}
