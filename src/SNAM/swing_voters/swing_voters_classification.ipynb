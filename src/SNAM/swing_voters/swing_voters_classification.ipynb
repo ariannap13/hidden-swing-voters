{
 "cells": [
  {
   "cell_type": "code",
   "execution_count": 2,
   "metadata": {},
   "outputs": [],
   "source": [
    "import os\n",
    "import pandas as pd"
   ]
  },
  {
   "cell_type": "markdown",
   "metadata": {},
   "source": [
    "## Loading the data"
   ]
  },
  {
   "cell_type": "code",
   "execution_count": 16,
   "metadata": {},
   "outputs": [],
   "source": [
    "# file available upon request\n",
    "representatives = pd.read_csv('../../../data/00_raw_data/twitter_representatives_handles_final.csv')"
   ]
  },
  {
   "cell_type": "code",
   "execution_count": 12,
   "metadata": {},
   "outputs": [
    {
     "name": "stdout",
     "output_type": "stream",
     "text": [
      "Number of BD swing voters: 5324\n",
      "Number of DA swing voters: 8303\n",
      "Number of BA swing voters: 3699\n"
     ]
    }
   ],
   "source": [
    "basepath = \"../../../data/05_swing_voters\"\n",
    "\n",
    "# files available upon request\n",
    "swing_voters_bd = pd.read_csv(os.path.join(basepath, 'swing_voters_bd.csv')) # before -> during\n",
    "swing_voters_da = pd.read_csv(os.path.join(basepath, 'swing_voters_da.csv')) # during -> after\n",
    "swing_voters_ba = pd.read_csv(os.path.join(basepath, 'swing_voters_ba.csv')) # before -> after\n",
    "\n",
    "# print total\n",
    "print(f\"Number of BD swing voters: {len(swing_voters_bd)}\")\n",
    "print(f\"Number of DA swing voters: {len(swing_voters_da)}\")\n",
    "print(f\"Number of BA swing voters: {len(swing_voters_ba)}\")"
   ]
  },
  {
   "cell_type": "code",
   "execution_count": 13,
   "metadata": {},
   "outputs": [],
   "source": [
    "swing_voters_bd['swing_vote_time'] = 'BD'\n",
    "swing_voters_da['swing_vote_time'] = 'DA'\n",
    "swing_voters_ba['swing_vote_time'] = 'BA'"
   ]
  },
  {
   "cell_type": "code",
   "execution_count": 14,
   "metadata": {},
   "outputs": [],
   "source": [
    "swing_voters = pd.concat([swing_voters_bd, swing_voters_da, swing_voters_ba])"
   ]
  },
  {
   "cell_type": "markdown",
   "metadata": {},
   "source": [
    "## Classify swing voters"
   ]
  },
  {
   "cell_type": "markdown",
   "metadata": {},
   "source": [
    "Adjust non-political communities to \"noparty\""
   ]
  },
  {
   "cell_type": "code",
   "execution_count": 17,
   "metadata": {},
   "outputs": [],
   "source": [
    "# find where party1 is nan\n",
    "swing_voters[\"party1\"] = swing_voters[\"party1\"].fillna(\"noparty\").astype(str)\n",
    "swing_voters[\"party2\"] = swing_voters[\"party2\"].fillna(\"noparty\").astype(str)"
   ]
  },
  {
   "cell_type": "markdown",
   "metadata": {},
   "source": [
    "Get unique parties"
   ]
  },
  {
   "cell_type": "code",
   "execution_count": 18,
   "metadata": {},
   "outputs": [
    {
     "data": {
      "text/plain": [
       "array(['Alleanza Verdi Sinistra', 'Azione - Italia Viva', 'Forza Italia',\n",
       "       \"Fratelli d'Italia\", 'Lega', 'Movimento 5s', 'Noi moderati',\n",
       "       'Partito Democratico'], dtype=object)"
      ]
     },
     "execution_count": 18,
     "metadata": {},
     "output_type": "execute_result"
    }
   ],
   "source": [
    "all_parties = representatives[\"Party\"].unique()\n",
    "all_parties"
   ]
  },
  {
   "cell_type": "markdown",
   "metadata": {},
   "source": [
    "Specificy party abbrevations and coalition groups"
   ]
  },
  {
   "cell_type": "code",
   "execution_count": 19,
   "metadata": {},
   "outputs": [],
   "source": [
    "all_parties_abbr = [\"AVS\", \"Az-Iv\", \"FI\", \n",
    "                    \"FdI\", \"L\", \"M5s\", \"NM\",\n",
    "                    \"PD\"]"
   ]
  },
  {
   "cell_type": "code",
   "execution_count": 20,
   "metadata": {},
   "outputs": [],
   "source": [
    "right_wing_coalition = [\"FI\", \"FdI\", \"L\", \"NM\"]\n",
    "left_wing_coalition = [\"AVS\", \"PD\"]"
   ]
  },
  {
   "cell_type": "markdown",
   "metadata": {},
   "source": [
    "Populate swing type lists"
   ]
  },
  {
   "cell_type": "code",
   "execution_count": 23,
   "metadata": {},
   "outputs": [],
   "source": [
    "no_real_swing_vote = []\n",
    "nan_to_party = []\n",
    "party_to_nan = []\n",
    "soft_swing_voters = []\n",
    "hard_swing_voters = []\n",
    "\n",
    "swing_vote_type = []\n",
    "\n",
    "for row, data in swing_voters.iterrows():\n",
    "\n",
    "    if data[\"party1\"] == \"noparty\":\n",
    "        nan_to_party.append([\"noparty\", data[\"party2\"]])\n",
    "        swing_vote_type.append(\"nan_to_party\")\n",
    "    elif data[\"party2\"]==\"noparty\":\n",
    "        party_to_nan.append([data[\"party1\"], \"noparty\"])\n",
    "        swing_vote_type.append(\"party_to_nan\")\n",
    "    else:\n",
    "        list_coalition_1 = data[\"party1\"].split(\";\")\n",
    "        list_coalition_2 = data[\"party2\"].split(\";\")\n",
    "        if data[\"party1\"] in list_coalition_2 or data[\"party2\"] in list_coalition_1 or set(list_coalition_1).intersection(list_coalition_2):\n",
    "            no_real_swing_vote.append([data[\"party1\"], data[\"party2\"]])\n",
    "            swing_vote_type.append(\"no_real_swing_vote\") # spurious swing vote\n",
    "        else:\n",
    "            # soft swing considering list_coalition_1, list_coalition_2 \n",
    "            # the user does a politically coherent transition\n",
    "            if set(list_coalition_1).intersection(right_wing_coalition) and set(list_coalition_2).intersection(right_wing_coalition):\n",
    "                soft_swing_voters.append([data[\"party1\"], data[\"party2\"]])\n",
    "                swing_vote_type.append(\"softswing\")\n",
    "            elif set(list_coalition_1).intersection(left_wing_coalition) and set(list_coalition_2).intersection(left_wing_coalition):\n",
    "                soft_swing_voters.append([data[\"party1\"], data[\"party2\"]])\n",
    "                swing_vote_type.append(\"softswing\")\n",
    "            # hard swing\n",
    "            else:\n",
    "                hard_swing_voters.append([data[\"party1\"], data[\"party2\"]])\n",
    "                swing_vote_type.append(\"hardswing\")"
   ]
  },
  {
   "cell_type": "code",
   "execution_count": 24,
   "metadata": {},
   "outputs": [],
   "source": [
    "swing_voters[\"swing_vote_type\"] = swing_vote_type\n",
    "\n",
    "# save to csv, file available upon request\n",
    "swing_voters.to_csv(os.path.join(basepath, 'swingers_full.csv'), index=False)"
   ]
  },
  {
   "cell_type": "code",
   "execution_count": 35,
   "metadata": {},
   "outputs": [
    {
     "data": {
      "text/plain": [
       "swing_vote_time  swing_vote_type   \n",
       "BA               no_real_swing_vote    1957\n",
       "                 nan_to_party          1170\n",
       "                 hardswing              510\n",
       "                 party_to_nan            50\n",
       "                 softswing               12\n",
       "BD               no_real_swing_vote    4151\n",
       "                 hardswing              576\n",
       "                 party_to_nan           382\n",
       "                 nan_to_party           210\n",
       "                 softswing                5\n",
       "DA               no_real_swing_vote    5524\n",
       "                 nan_to_party          2110\n",
       "                 hardswing              622\n",
       "                 party_to_nan            47\n",
       "Name: swing_vote_type, dtype: int64"
      ]
     },
     "execution_count": 35,
     "metadata": {},
     "output_type": "execute_result"
    }
   ],
   "source": [
    "swing_voters.groupby(\"swing_vote_time\")[\"swing_vote_type\"].value_counts()"
   ]
  },
  {
   "cell_type": "code",
   "execution_count": 37,
   "metadata": {},
   "outputs": [
    {
     "data": {
      "text/plain": [
       "no_real_swing_vote    9675\n",
       "nan_to_party          2320\n",
       "hardswing             1198\n",
       "party_to_nan           429\n",
       "softswing                5\n",
       "Name: swing_vote_type, dtype: int64"
      ]
     },
     "execution_count": 37,
     "metadata": {},
     "output_type": "execute_result"
    }
   ],
   "source": [
    "# when looking at the total numbers, we should not consider the period BA\n",
    "swing_voters[swing_voters[\"swing_vote_time\"]!=\"BA\"][\"swing_vote_type\"].value_counts()"
   ]
  },
  {
   "cell_type": "markdown",
   "metadata": {},
   "source": [
    "## Store swing voter categories to csv"
   ]
  },
  {
   "cell_type": "code",
   "execution_count": 26,
   "metadata": {},
   "outputs": [],
   "source": [
    "no_real_swing_vote = pd.DataFrame(no_real_swing_vote, columns=[\"party1\", \"party2\"])\n",
    "# remove duplicates\n",
    "no_real_swing_vote = no_real_swing_vote.drop_duplicates()\n",
    "no_real_swing_vote.to_csv(os.path.join(basepath, 'categories', 'no_real_swing_vote.csv'), index=False)"
   ]
  },
  {
   "cell_type": "code",
   "execution_count": 27,
   "metadata": {},
   "outputs": [],
   "source": [
    "nan_to_party = pd.DataFrame(nan_to_party, columns=[\"party1\", \"party2\"])\n",
    "# remove duplicates\n",
    "nan_to_party = nan_to_party.drop_duplicates()\n",
    "nan_to_party.to_csv(os.path.join(basepath, 'categories', 'nan_to_party.csv'), index=False)"
   ]
  },
  {
   "cell_type": "code",
   "execution_count": 28,
   "metadata": {},
   "outputs": [],
   "source": [
    "party_to_nan = pd.DataFrame(party_to_nan, columns=[\"party1\", \"party2\"])\n",
    "# remove duplicates\n",
    "party_to_nan = party_to_nan.drop_duplicates()\n",
    "party_to_nan.to_csv(os.path.join(basepath, 'categories', 'party_to_nan.csv'), index=False)"
   ]
  },
  {
   "cell_type": "code",
   "execution_count": 29,
   "metadata": {},
   "outputs": [],
   "source": [
    "soft_swing_voters = pd.DataFrame(soft_swing_voters, columns=[\"party1\", \"party2\"])\n",
    "# remove duplicates\n",
    "soft_swing_voters = soft_swing_voters.drop_duplicates()\n",
    "soft_swing_voters.to_csv(os.path.join(basepath, 'categories', 'soft_swing_voters.csv'), index=False)"
   ]
  },
  {
   "cell_type": "code",
   "execution_count": 31,
   "metadata": {},
   "outputs": [],
   "source": [
    "hard_swing_voters = pd.DataFrame(hard_swing_voters, columns=[\"party1\", \"party2\"])\n",
    "# remove duplicates\n",
    "hard_swing_voters = hard_swing_voters.drop_duplicates()\n",
    "hard_swing_voters.to_csv(os.path.join(basepath, 'categories', 'hard_swing_voters.csv'), index=False)"
   ]
  },
  {
   "cell_type": "code",
   "execution_count": null,
   "metadata": {},
   "outputs": [],
   "source": []
  }
 ],
 "metadata": {
  "kernelspec": {
   "display_name": "rapids-23.02",
   "language": "python",
   "name": "python3"
  },
  "language_info": {
   "codemirror_mode": {
    "name": "ipython",
    "version": 3
   },
   "file_extension": ".py",
   "mimetype": "text/x-python",
   "name": "python",
   "nbconvert_exporter": "python",
   "pygments_lexer": "ipython3",
   "version": "3.11.8"
  }
 },
 "nbformat": 4,
 "nbformat_minor": 2
}
