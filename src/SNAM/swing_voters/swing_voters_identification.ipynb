{
 "cells": [
  {
   "cell_type": "code",
   "execution_count": 2,
   "metadata": {},
   "outputs": [],
   "source": [
    "import matplotlib.pyplot as plt\n",
    "import networkx as nx\n",
    "import numpy as np\n",
    "import pandas as pd\n",
    "import os"
   ]
  },
  {
   "cell_type": "markdown",
   "metadata": {},
   "source": [
    "# Microscopic analysis of vote_swingers"
   ]
  },
  {
   "cell_type": "markdown",
   "metadata": {},
   "source": [
    "With the term *swing voter* we refer to a user who changes their supporting party over a given observation period. To capture the emergence of the swing voter phenomenon, we leveraged a mesoscopic analysis at the community level to conduct a microscopic analysis at the user level. In this case, we associated each user in each timeframe with the political label of the community they belonged to. Essentially, we analyzed the migration process of users who switched their community of reference between subsequent election periods. "
   ]
  },
  {
   "cell_type": "markdown",
   "metadata": {},
   "source": [
    "## Loading the data..."
   ]
  },
  {
   "cell_type": "code",
   "execution_count": 16,
   "metadata": {},
   "outputs": [],
   "source": [
    "basepath = \"../../../data/04_communities/comms_with_political_label_csv\"\n",
    "\n",
    "before_labeled_users = pd.read_csv(os.path.join(basepath, 'pre_campaign_communities.csv'))\n",
    "during_labeled_users = pd.read_csv(os.path.join(basepath, 'during_campaign_communities.csv'))\n",
    "after_labeled_users = pd.read_csv(os.path.join(basepath, 'post_elections_communities.csv'))\n",
    "labeled_representatives = pd.read_csv(os.path.join(basepath, 'representatives_communities.csv'))"
   ]
  },
  {
   "cell_type": "code",
   "execution_count": 5,
   "metadata": {},
   "outputs": [
    {
     "data": {
      "text/html": [
       "<div>\n",
       "<style scoped>\n",
       "    .dataframe tbody tr th:only-of-type {\n",
       "        vertical-align: middle;\n",
       "    }\n",
       "\n",
       "    .dataframe tbody tr th {\n",
       "        vertical-align: top;\n",
       "    }\n",
       "\n",
       "    .dataframe thead th {\n",
       "        text-align: right;\n",
       "    }\n",
       "</style>\n",
       "<table border=\"1\" class=\"dataframe\">\n",
       "  <thead>\n",
       "    <tr style=\"text-align: right;\">\n",
       "      <th></th>\n",
       "      <th>user_id</th>\n",
       "      <th>community_id</th>\n",
       "      <th>comm_label</th>\n",
       "      <th>most_common_party</th>\n",
       "      <th>all_parties</th>\n",
       "    </tr>\n",
       "  </thead>\n",
       "  <tbody>\n",
       "    <tr>\n",
       "      <th>0</th>\n",
       "      <td>431976775</td>\n",
       "      <td>0</td>\n",
       "      <td>FdI</td>\n",
       "      <td>Fratelli d'Italia</td>\n",
       "      <td>Fratelli d'Italia</td>\n",
       "    </tr>\n",
       "    <tr>\n",
       "      <th>1</th>\n",
       "      <td>1038909791966572544</td>\n",
       "      <td>0</td>\n",
       "      <td>FdI</td>\n",
       "      <td>Fratelli d'Italia</td>\n",
       "      <td>Fratelli d'Italia</td>\n",
       "    </tr>\n",
       "    <tr>\n",
       "      <th>2</th>\n",
       "      <td>72248630</td>\n",
       "      <td>0</td>\n",
       "      <td>FdI</td>\n",
       "      <td>Fratelli d'Italia</td>\n",
       "      <td>Fratelli d'Italia</td>\n",
       "    </tr>\n",
       "    <tr>\n",
       "      <th>3</th>\n",
       "      <td>837278820088623104</td>\n",
       "      <td>0</td>\n",
       "      <td>FdI</td>\n",
       "      <td>Fratelli d'Italia</td>\n",
       "      <td>Fratelli d'Italia</td>\n",
       "    </tr>\n",
       "    <tr>\n",
       "      <th>4</th>\n",
       "      <td>456172613</td>\n",
       "      <td>0</td>\n",
       "      <td>FdI</td>\n",
       "      <td>Fratelli d'Italia</td>\n",
       "      <td>Fratelli d'Italia</td>\n",
       "    </tr>\n",
       "  </tbody>\n",
       "</table>\n",
       "</div>"
      ],
      "text/plain": [
       "               user_id  community_id comm_label  most_common_party  \\\n",
       "0            431976775             0        FdI  Fratelli d'Italia   \n",
       "1  1038909791966572544             0        FdI  Fratelli d'Italia   \n",
       "2             72248630             0        FdI  Fratelli d'Italia   \n",
       "3   837278820088623104             0        FdI  Fratelli d'Italia   \n",
       "4            456172613             0        FdI  Fratelli d'Italia   \n",
       "\n",
       "         all_parties  \n",
       "0  Fratelli d'Italia  \n",
       "1  Fratelli d'Italia  \n",
       "2  Fratelli d'Italia  \n",
       "3  Fratelli d'Italia  \n",
       "4  Fratelli d'Italia  "
      ]
     },
     "execution_count": 5,
     "metadata": {},
     "output_type": "execute_result"
    }
   ],
   "source": [
    "before_labeled_users.head()"
   ]
  },
  {
   "cell_type": "code",
   "execution_count": 6,
   "metadata": {},
   "outputs": [
    {
     "data": {
      "text/html": [
       "<div>\n",
       "<style scoped>\n",
       "    .dataframe tbody tr th:only-of-type {\n",
       "        vertical-align: middle;\n",
       "    }\n",
       "\n",
       "    .dataframe tbody tr th {\n",
       "        vertical-align: top;\n",
       "    }\n",
       "\n",
       "    .dataframe thead th {\n",
       "        text-align: right;\n",
       "    }\n",
       "</style>\n",
       "<table border=\"1\" class=\"dataframe\">\n",
       "  <thead>\n",
       "    <tr style=\"text-align: right;\">\n",
       "      <th></th>\n",
       "      <th>user_id</th>\n",
       "      <th>period</th>\n",
       "      <th>community_id</th>\n",
       "      <th>community_label</th>\n",
       "    </tr>\n",
       "  </thead>\n",
       "  <tbody>\n",
       "    <tr>\n",
       "      <th>0</th>\n",
       "      <td>425752285</td>\n",
       "      <td>before</td>\n",
       "      <td>2</td>\n",
       "      <td>PD;AVS</td>\n",
       "    </tr>\n",
       "    <tr>\n",
       "      <th>1</th>\n",
       "      <td>425752285</td>\n",
       "      <td>during</td>\n",
       "      <td>4</td>\n",
       "      <td>PD;AVS</td>\n",
       "    </tr>\n",
       "    <tr>\n",
       "      <th>2</th>\n",
       "      <td>425752285</td>\n",
       "      <td>after</td>\n",
       "      <td>5</td>\n",
       "      <td>PD;AVS</td>\n",
       "    </tr>\n",
       "    <tr>\n",
       "      <th>3</th>\n",
       "      <td>1135141640</td>\n",
       "      <td>before</td>\n",
       "      <td>2</td>\n",
       "      <td>PD;AVS</td>\n",
       "    </tr>\n",
       "    <tr>\n",
       "      <th>4</th>\n",
       "      <td>1135141640</td>\n",
       "      <td>during</td>\n",
       "      <td>4</td>\n",
       "      <td>PD;AVS</td>\n",
       "    </tr>\n",
       "  </tbody>\n",
       "</table>\n",
       "</div>"
      ],
      "text/plain": [
       "      user_id  period  community_id community_label\n",
       "0   425752285  before             2          PD;AVS\n",
       "1   425752285  during             4          PD;AVS\n",
       "2   425752285   after             5          PD;AVS\n",
       "3  1135141640  before             2          PD;AVS\n",
       "4  1135141640  during             4          PD;AVS"
      ]
     },
     "execution_count": 6,
     "metadata": {},
     "output_type": "execute_result"
    }
   ],
   "source": [
    "labeled_representatives.head()"
   ]
  },
  {
   "cell_type": "code",
   "execution_count": 7,
   "metadata": {},
   "outputs": [],
   "source": [
    "# filter labeled_representatived based on period\n",
    "before_representatives_df = labeled_representatives[labeled_representatives['period'] == 'before'].reset_index(drop=True)\n",
    "during_representatives_df = labeled_representatives[labeled_representatives['period'] == 'during'].reset_index(drop=True)\n",
    "after_representatives_df = labeled_representatives[labeled_representatives['period'] == 'after'].reset_index(drop=True)"
   ]
  },
  {
   "cell_type": "markdown",
   "metadata": {},
   "source": [
    "## How many users stay active across the observation periods?"
   ]
  },
  {
   "cell_type": "markdown",
   "metadata": {},
   "source": [
    "### All users"
   ]
  },
  {
   "cell_type": "code",
   "execution_count": 8,
   "metadata": {},
   "outputs": [
    {
     "data": {
      "text/plain": [
       "(11844, 16992, 14874)"
      ]
     },
     "execution_count": 8,
     "metadata": {},
     "output_type": "execute_result"
    }
   ],
   "source": [
    "before_users = set(before_labeled_users['user_id'].values)\n",
    "during_users = set(during_labeled_users['user_id'].values)\n",
    "after_users = set(after_labeled_users['user_id'].values)\n",
    "\n",
    "len(before_users), len(during_users), len(after_users)"
   ]
  },
  {
   "cell_type": "code",
   "execution_count": 9,
   "metadata": {},
   "outputs": [
    {
     "name": "stdout",
     "output_type": "stream",
     "text": [
      "active before-during:  7564  inactive before-during:  4280\n",
      "active during-after:  9660  inactive during-after:  7332\n",
      "active before-after:  6108  inactive before-after:  5736\n"
     ]
    }
   ],
   "source": [
    "# get how many users remain active and how many users become inactive (either leave the platform or lurk)\n",
    "active_bd = before_users.intersection(during_users)\n",
    "inactive_bd = before_users.difference(during_users)\n",
    "print('active before-during: ', len(active_bd), ' inactive before-during: ', len(inactive_bd))\n",
    "\n",
    "active_da = during_users.intersection(after_users)\n",
    "inactive_da = during_users.difference(after_users)\n",
    "print('active during-after: ', len(active_da), ' inactive during-after: ', len(inactive_da))\n",
    "\n",
    "active_ba = before_users.intersection(after_users)\n",
    "inactive_ba = before_users.difference(after_users)\n",
    "print('active before-after: ', len(active_ba), ' inactive before-after: ', len(inactive_ba))"
   ]
  },
  {
   "cell_type": "markdown",
   "metadata": {},
   "source": [
    "### Representatives"
   ]
  },
  {
   "cell_type": "code",
   "execution_count": 10,
   "metadata": {},
   "outputs": [
    {
     "data": {
      "text/plain": [
       "(98, 142, 90)"
      ]
     },
     "execution_count": 10,
     "metadata": {},
     "output_type": "execute_result"
    }
   ],
   "source": [
    "before_representatives = set(before_representatives_df['user_id'].values)\n",
    "during_representatives = set(during_representatives_df['user_id'].values)\n",
    "after_representatives = set(after_representatives_df['user_id'].values)\n",
    "\n",
    "len(before_representatives), len(during_representatives), len(after_representatives)"
   ]
  },
  {
   "cell_type": "code",
   "execution_count": 11,
   "metadata": {},
   "outputs": [
    {
     "name": "stdout",
     "output_type": "stream",
     "text": [
      "active before-during:  84  inactive before-during:  14\n",
      "active during-after:  82  inactive during-after:  60\n",
      "active before-after:  69  inactive before-after:  29\n"
     ]
    }
   ],
   "source": [
    "# get how many users remain active and how many users become inactive (either leave the platform or lurk)\n",
    "active_repr_bd = before_representatives.intersection(during_representatives)\n",
    "inactive_repr_bd = before_representatives.difference(during_representatives)\n",
    "print('active before-during: ', len(active_repr_bd), ' inactive before-during: ', len(inactive_repr_bd))\n",
    "\n",
    "active_repr_da = during_representatives.intersection(after_representatives)\n",
    "inactive_repr_da = during_representatives.difference(after_representatives)\n",
    "print('active during-after: ', len(active_repr_da), ' inactive during-after: ', len(inactive_repr_da))\n",
    "\n",
    "active_repr_ba = before_representatives.intersection(after_representatives)\n",
    "inactive_repr_ba = before_representatives.difference(after_representatives)\n",
    "print('active before-after: ', len(active_repr_ba), ' inactive before-after: ', len(inactive_repr_ba))"
   ]
  },
  {
   "cell_type": "markdown",
   "metadata": {},
   "source": [
    "## How many users change their party across periods?"
   ]
  },
  {
   "cell_type": "markdown",
   "metadata": {},
   "source": [
    "### All users"
   ]
  },
  {
   "cell_type": "code",
   "execution_count": 12,
   "metadata": {},
   "outputs": [],
   "source": [
    "output_path = \"../../../data/05_swing_voters\""
   ]
  },
  {
   "cell_type": "code",
   "execution_count": 13,
   "metadata": {},
   "outputs": [
    {
     "data": {
      "text/html": [
       "<div>\n",
       "<style scoped>\n",
       "    .dataframe tbody tr th:only-of-type {\n",
       "        vertical-align: middle;\n",
       "    }\n",
       "\n",
       "    .dataframe tbody tr th {\n",
       "        vertical-align: top;\n",
       "    }\n",
       "\n",
       "    .dataframe thead th {\n",
       "        text-align: right;\n",
       "    }\n",
       "</style>\n",
       "<table border=\"1\" class=\"dataframe\">\n",
       "  <thead>\n",
       "    <tr style=\"text-align: right;\">\n",
       "      <th></th>\n",
       "      <th>user_id</th>\n",
       "      <th>community_id</th>\n",
       "      <th>comm_label</th>\n",
       "      <th>most_common_party</th>\n",
       "      <th>all_parties</th>\n",
       "    </tr>\n",
       "  </thead>\n",
       "  <tbody>\n",
       "    <tr>\n",
       "      <th>0</th>\n",
       "      <td>431976775</td>\n",
       "      <td>0</td>\n",
       "      <td>FdI</td>\n",
       "      <td>Fratelli d'Italia</td>\n",
       "      <td>Fratelli d'Italia</td>\n",
       "    </tr>\n",
       "    <tr>\n",
       "      <th>1</th>\n",
       "      <td>1038909791966572544</td>\n",
       "      <td>0</td>\n",
       "      <td>FdI</td>\n",
       "      <td>Fratelli d'Italia</td>\n",
       "      <td>Fratelli d'Italia</td>\n",
       "    </tr>\n",
       "    <tr>\n",
       "      <th>2</th>\n",
       "      <td>72248630</td>\n",
       "      <td>0</td>\n",
       "      <td>FdI</td>\n",
       "      <td>Fratelli d'Italia</td>\n",
       "      <td>Fratelli d'Italia</td>\n",
       "    </tr>\n",
       "    <tr>\n",
       "      <th>3</th>\n",
       "      <td>837278820088623104</td>\n",
       "      <td>0</td>\n",
       "      <td>FdI</td>\n",
       "      <td>Fratelli d'Italia</td>\n",
       "      <td>Fratelli d'Italia</td>\n",
       "    </tr>\n",
       "    <tr>\n",
       "      <th>4</th>\n",
       "      <td>456172613</td>\n",
       "      <td>0</td>\n",
       "      <td>FdI</td>\n",
       "      <td>Fratelli d'Italia</td>\n",
       "      <td>Fratelli d'Italia</td>\n",
       "    </tr>\n",
       "  </tbody>\n",
       "</table>\n",
       "</div>"
      ],
      "text/plain": [
       "               user_id  community_id comm_label  most_common_party  \\\n",
       "0            431976775             0        FdI  Fratelli d'Italia   \n",
       "1  1038909791966572544             0        FdI  Fratelli d'Italia   \n",
       "2             72248630             0        FdI  Fratelli d'Italia   \n",
       "3   837278820088623104             0        FdI  Fratelli d'Italia   \n",
       "4            456172613             0        FdI  Fratelli d'Italia   \n",
       "\n",
       "         all_parties  \n",
       "0  Fratelli d'Italia  \n",
       "1  Fratelli d'Italia  \n",
       "2  Fratelli d'Italia  \n",
       "3  Fratelli d'Italia  \n",
       "4  Fratelli d'Italia  "
      ]
     },
     "execution_count": 13,
     "metadata": {},
     "output_type": "execute_result"
    }
   ],
   "source": [
    "before_labeled_users.head()"
   ]
  },
  {
   "cell_type": "code",
   "execution_count": 19,
   "metadata": {},
   "outputs": [],
   "source": [
    "def check_party(df1, df2, users_to_analyze):\n",
    "    n_same_party = 0\n",
    "    n_diff_party = 0\n",
    "    party2party = {}\n",
    "    # {user_id: user, party1: party, party2: party}\n",
    "    vote_swingers = []\n",
    "\n",
    "    for row in df1.iterrows():\n",
    "        user1 = row[1]['user_id']\n",
    "        comm_label1 = row[1]['community_label']\n",
    "\n",
    "        if user1 not in users_to_analyze:\n",
    "            continue\n",
    "\n",
    "        comm_label2 = df2[df2['user_id'] == user1]['community_label'].values[0]\n",
    "\n",
    "        parties1 = set(comm_label1.split(';')) if not pd.isnull(comm_label1) else set()\n",
    "        parties2 = set(comm_label2.split(';')) if not pd.isnull(comm_label2) else set()\n",
    "\n",
    "        if parties1 == parties2:\n",
    "            n_same_party += 1\n",
    "        else:\n",
    "            n_diff_party += 1\n",
    "\n",
    "            key = (comm_label1, comm_label2)\n",
    "            party2party[key] = party2party.get(key, 0) + 1\n",
    "\n",
    "            data = {'user': user1, 'party1': comm_label1, 'party2': comm_label2}\n",
    "            vote_swingers.append(data)\n",
    "\n",
    "    return n_same_party, n_diff_party, party2party, vote_swingers"
   ]
  },
  {
   "cell_type": "markdown",
   "metadata": {},
   "source": [
    "#### Before campaign -> electoral campaign"
   ]
  },
  {
   "cell_type": "code",
   "execution_count": 20,
   "metadata": {},
   "outputs": [
    {
     "name": "stdout",
     "output_type": "stream",
     "text": [
      "total active users across the first period 7564\n",
      "same party:  2240  diff party:  5324\n",
      "same party:  0.29613960867266  diff party:  0.70386039132734\n"
     ]
    }
   ],
   "source": [
    "n_same_party_bd, n_diff_party_bd, party_vote_swingers_bd, vote_swingers_bd = check_party(before_labeled_users, during_labeled_users, active_bd)\n",
    "print('total active users across the first period', len(active_bd))\n",
    "print('same party: ', n_same_party_bd, ' diff party: ', n_diff_party_bd)\n",
    "print('same party: ', n_same_party_bd/len(active_bd), ' diff party: ', n_diff_party_bd/len(active_bd))"
   ]
  },
  {
   "cell_type": "code",
   "execution_count": 21,
   "metadata": {},
   "outputs": [
    {
     "data": {
      "text/plain": [
       "5324"
      ]
     },
     "execution_count": 21,
     "metadata": {},
     "output_type": "execute_result"
    }
   ],
   "source": [
    "len(vote_swingers_bd)"
   ]
  },
  {
   "cell_type": "code",
   "execution_count": 22,
   "metadata": {},
   "outputs": [],
   "source": [
    "# from list of json objects to pandas dataframe\n",
    "vote_swingers_df = pd.DataFrame(vote_swingers_bd)\n",
    "vote_swingers_df.head()\n",
    "\n",
    "fout = f'{output_path}/swing_voters_bd.csv'\n",
    "vote_swingers_df.to_csv(fout, index=False)"
   ]
  },
  {
   "cell_type": "code",
   "execution_count": 23,
   "metadata": {},
   "outputs": [
    {
     "data": {
      "text/plain": [
       "[(('L;Az-Iv', 'Az-Iv'), 1808),\n",
       " (('M5s', 'M5s;FdI'), 1320),\n",
       " (('L;FdI', 'FI;L;PD;FdI;NM'), 914),\n",
       " (('L;FdI', nan), 191),\n",
       " ((nan, 'FI;L;PD;FdI;NM'), 161),\n",
       " (('FdI', 'PD'), 108),\n",
       " (('L;Az-Iv', 'AVS;PD'), 100),\n",
       " (('M5s', nan), 81),\n",
       " (('AVS;PD', 'Az-Iv'), 76),\n",
       " (('AVS;PD', 'M5s;FdI'), 64),\n",
       " (('M5s', 'AVS;PD'), 61),\n",
       " (('FI', 'FI;L;PD;FdI;NM'), 46),\n",
       " (('FdI', 'AVS;PD'), 39),\n",
       " (('AVS;PD', nan), 35),\n",
       " (('L;Az-Iv', nan), 35),\n",
       " (('FdI', nan), 34),\n",
       " (('M5s', 'PD'), 34),\n",
       " (('FdI', 'Az-Iv'), 32),\n",
       " ((nan, 'M5s;FdI'), 26),\n",
       " (('L;FdI', 'Az-Iv'), 20),\n",
       " (('FdI', 'FI;L;PD;FdI;NM'), 19),\n",
       " (('FdI', 'M5s;FdI'), 15),\n",
       " (('L;FdI', 'PD'), 15),\n",
       " (('AVS;PD', 'PD'), 13),\n",
       " (('L;Az-Iv', 'PD'), 13),\n",
       " ((nan, 'AVS;PD'), 12),\n",
       " (('L;Az-Iv', 'FI;L;PD;FdI;NM'), 9),\n",
       " ((nan, 'PD'), 9),\n",
       " (('M5s', 'FI;L;PD;FdI;NM'), 8),\n",
       " (('FI', nan), 6),\n",
       " (('AVS;PD', 'FI;L;PD;FdI;NM'), 5),\n",
       " (('L;Az-Iv', 'M5s;FdI'), 5),\n",
       " (('L;FdI', 'AVS;PD'), 4),\n",
       " (('L;FdI', 'M5s;FdI'), 2),\n",
       " ((nan, 'Az-Iv'), 2),\n",
       " (('FI', 'PD'), 1),\n",
       " (('FI', 'Az-Iv'), 1)]"
      ]
     },
     "execution_count": 23,
     "metadata": {},
     "output_type": "execute_result"
    }
   ],
   "source": [
    "# sort by value party_vote_swingers_bd\n",
    "sorted_party_vote_swingers_bd = sorted(party_vote_swingers_bd.items(), key=lambda kv: kv[1], reverse=True)\n",
    "sorted_party_vote_swingers_bd"
   ]
  },
  {
   "cell_type": "markdown",
   "metadata": {},
   "source": [
    "#### Eletoral campaign -> After elections"
   ]
  },
  {
   "cell_type": "code",
   "execution_count": 24,
   "metadata": {},
   "outputs": [
    {
     "name": "stdout",
     "output_type": "stream",
     "text": [
      "total active users across the second period 9660\n",
      "same party:  1357  diff party:  8303\n",
      "same party:  0.14047619047619048  diff party:  0.8595238095238096\n"
     ]
    }
   ],
   "source": [
    "n_same_party_da, n_diff_party_da, party_vote_swingers_da, vote_swingers_da = check_party(during_labeled_users, after_labeled_users, active_da)\n",
    "print('total active users across the second period', len(active_da))\n",
    "print('same party: ', n_same_party_da, ' diff party: ', n_diff_party_da)\n",
    "print('same party: ', n_same_party_da/len(active_da), ' diff party: ', n_diff_party_da/len(active_da))"
   ]
  },
  {
   "cell_type": "code",
   "execution_count": 25,
   "metadata": {},
   "outputs": [],
   "source": [
    "vote_swingers_df = pd.DataFrame(vote_swingers_da)\n",
    "vote_swingers_df.head()\n",
    "\n",
    "fout = f'{output_path}/vote_swingers_da.csv'\n",
    "vote_swingers_df.to_csv(fout, index=False)"
   ]
  },
  {
   "cell_type": "code",
   "execution_count": 26,
   "metadata": {},
   "outputs": [
    {
     "data": {
      "text/plain": [
       "[(('Az-Iv', 'PD;Az-Iv'), 1877),\n",
       " ((nan, 'L;FdI'), 1757),\n",
       " (('M5s;FdI', 'M5s'), 1551),\n",
       " (('FI;L;PD;FdI;NM', 'L;FdI'), 898),\n",
       " (('FI;L;PD;FdI;NM', 'FI;FdI'), 673),\n",
       " (('PD', 'Az-Iv;FdI'), 200),\n",
       " (('Az-Iv', 'AVS;PD'), 128),\n",
       " ((nan, 'Az-Iv;FdI'), 110),\n",
       " (('Az-Iv', 'Az-Iv;FdI'), 103),\n",
       " (('AVS;PD', 'PD;Az-Iv'), 96),\n",
       " (('AVS;PD', 'Az-Iv;FdI'), 94),\n",
       " (('M5s;FdI', 'Az-Iv;FdI'), 92),\n",
       " (('PD', 'AVS;PD'), 91),\n",
       " ((nan, 'M5s'), 90),\n",
       " (('M5s;FdI', 'AVS;PD'), 88),\n",
       " ((nan, 'AVS;PD'), 87),\n",
       " (('AVS;PD', 'M5s'), 50),\n",
       " ((nan, 'FI;FdI'), 46),\n",
       " (('FI;L;PD;FdI;NM', 'Az-Iv;FdI'), 42),\n",
       " (('M5s;FdI', 'L;FdI'), 24),\n",
       " (('FI;L;PD;FdI;NM', 'AVS;PD'), 24),\n",
       " (('AVS;PD', nan), 22),\n",
       " (('FI;L;PD;FdI;NM', 'PD;Az-Iv'), 20),\n",
       " ((nan, 'PD;Az-Iv'), 19),\n",
       " (('FI;L;PD;FdI;NM', 'NM;FdI'), 17),\n",
       " (('Az-Iv', 'FI;FdI'), 10),\n",
       " (('PD', 'M5s'), 9),\n",
       " (('Az-Iv', 'L;FdI'), 9),\n",
       " (('M5s;FdI', nan), 8),\n",
       " (('PD', nan), 8),\n",
       " (('PD', 'L;FdI'), 8),\n",
       " (('PD', 'PD;Az-Iv'), 8),\n",
       " (('PD', 'FI;FdI'), 7),\n",
       " (('FI;L;PD;FdI;NM', nan), 6),\n",
       " (('AVS;PD', 'FI;FdI'), 6),\n",
       " (('M5s;FdI', 'FI;FdI'), 5),\n",
       " (('AVS;PD', 'L;FdI'), 5),\n",
       " (('M5s;FdI', 'PD;Az-Iv'), 4),\n",
       " (('Az-Iv', nan), 3),\n",
       " (('M5s;FdI', 'FdI'), 2),\n",
       " (('M5s;FdI', 'NM;FdI'), 1),\n",
       " (('FI;L;PD;FdI;NM', 'M5s'), 1),\n",
       " (('AVS;PD', 'NM;FdI'), 1),\n",
       " (('AVS;PD', 'FdI'), 1),\n",
       " (('Az-Iv', 'M5s'), 1),\n",
       " ((nan, 'NM;FdI'), 1)]"
      ]
     },
     "execution_count": 26,
     "metadata": {},
     "output_type": "execute_result"
    }
   ],
   "source": [
    "sorted_party_vote_swingers_da = sorted(party_vote_swingers_da.items(), key=lambda kv: kv[1], reverse=True)\n",
    "sorted_party_vote_swingers_da"
   ]
  },
  {
   "cell_type": "markdown",
   "metadata": {},
   "source": [
    "#### Before campaign -> After elections"
   ]
  },
  {
   "cell_type": "code",
   "execution_count": 27,
   "metadata": {},
   "outputs": [
    {
     "name": "stdout",
     "output_type": "stream",
     "text": [
      "same party:  2409  diff party:  3699\n"
     ]
    }
   ],
   "source": [
    "n_same_party_ba, n_diff_party_ba, party_swinger_ba, vote_swingers_ba = check_party(before_labeled_users, after_labeled_users, active_ba)\n",
    "print('same party: ', n_same_party_ba, ' diff party: ', n_diff_party_ba)"
   ]
  },
  {
   "cell_type": "code",
   "execution_count": 28,
   "metadata": {},
   "outputs": [],
   "source": [
    "vote_swingers_df = pd.DataFrame(vote_swingers_ba)\n",
    "vote_swingers_df.head()\n",
    "\n",
    "fout = f'{output_path}/vote_swingers_ba.csv'\n",
    "vote_swingers_df.to_csv(fout, index=False)"
   ]
  },
  {
   "cell_type": "code",
   "execution_count": 29,
   "metadata": {},
   "outputs": [
    {
     "data": {
      "text/plain": [
       "[(('L;Az-Iv', 'PD;Az-Iv'), 1313),\n",
       " ((nan, 'L;FdI'), 1046),\n",
       " (('L;FdI', 'FI;FdI'), 283),\n",
       " (('FdI', 'Az-Iv;FdI'), 122),\n",
       " (('L;Az-Iv', 'AVS;PD'), 85),\n",
       " (('M5s', 'Az-Iv;FdI'), 81),\n",
       " (('M5s', 'AVS;PD'), 81),\n",
       " (('FdI', 'AVS;PD'), 76),\n",
       " (('L;Az-Iv', 'Az-Iv;FdI'), 75),\n",
       " (('AVS;PD', 'PD;Az-Iv'), 55),\n",
       " (('AVS;PD', 'M5s'), 52),\n",
       " (('AVS;PD', 'Az-Iv;FdI'), 52),\n",
       " ((nan, 'Az-Iv;FdI'), 44),\n",
       " (('L;FdI', 'Az-Iv;FdI'), 37),\n",
       " (('FI', 'FI;FdI'), 33),\n",
       " ((nan, 'FI;FdI'), 30),\n",
       " ((nan, 'AVS;PD'), 24),\n",
       " ((nan, 'M5s'), 21),\n",
       " (('FdI', 'PD;Az-Iv'), 18),\n",
       " (('AVS;PD', nan), 17),\n",
       " (('L;FdI', 'PD;Az-Iv'), 16),\n",
       " (('FdI', 'FI;FdI'), 15),\n",
       " (('FdI', 'M5s'), 14),\n",
       " (('M5s', 'L;FdI'), 13),\n",
       " (('FdI', 'L;FdI'), 11),\n",
       " (('M5s', nan), 11),\n",
       " (('L;Az-Iv', 'FI;FdI'), 9),\n",
       " (('L;FdI', nan), 9),\n",
       " (('L;Az-Iv', 'L;FdI'), 8),\n",
       " (('L;FdI', 'AVS;PD'), 8),\n",
       " (('FdI', nan), 5),\n",
       " (('FI', nan), 5),\n",
       " (('L;FdI', 'NM;FdI'), 5),\n",
       " ((nan, 'PD;Az-Iv'), 5),\n",
       " (('M5s', 'FI;FdI'), 4),\n",
       " (('L;Az-Iv', nan), 3),\n",
       " (('AVS;PD', 'L;FdI'), 2),\n",
       " (('AVS;PD', 'NM;FdI'), 2),\n",
       " (('L;Az-Iv', 'M5s'), 2),\n",
       " (('FI', 'L;FdI'), 2),\n",
       " (('M5s', 'PD;Az-Iv'), 1),\n",
       " (('M5s', 'NM;FdI'), 1),\n",
       " (('AVS;PD', 'FI;FdI'), 1),\n",
       " (('FI', 'PD;Az-Iv'), 1),\n",
       " (('FI', 'Az-Iv;FdI'), 1)]"
      ]
     },
     "execution_count": 29,
     "metadata": {},
     "output_type": "execute_result"
    }
   ],
   "source": [
    "sorted_party_vote_swingers_ba = sorted(party_swinger_ba.items(), key=lambda kv: kv[1], reverse=True)\n",
    "sorted_party_vote_swingers_ba"
   ]
  },
  {
   "cell_type": "markdown",
   "metadata": {},
   "source": [
    "### Representatives"
   ]
  },
  {
   "cell_type": "markdown",
   "metadata": {},
   "source": [
    "#### Before campaign -> electoral campaign"
   ]
  },
  {
   "cell_type": "code",
   "execution_count": 30,
   "metadata": {},
   "outputs": [
    {
     "name": "stdout",
     "output_type": "stream",
     "text": [
      "total active users across the first period 84\n",
      "same party:  28  diff party:  56\n",
      "same party:  0.3333333333333333  diff party:  0.6666666666666666\n"
     ]
    }
   ],
   "source": [
    "repr_n_same_party_bd, repr_n_diff_party_bd, repr_party_vote_swingers_bd, repr_vote_swingers_bd = check_party(before_representatives_df, during_representatives_df, active_repr_bd)\n",
    "print('total active users across the first period', len(active_repr_bd))\n",
    "print('same party: ', repr_n_same_party_bd, ' diff party: ', repr_n_diff_party_bd)\n",
    "print('same party: ', repr_n_same_party_bd/len(active_repr_bd), ' diff party: ', repr_n_diff_party_bd/len(active_repr_bd))"
   ]
  },
  {
   "cell_type": "code",
   "execution_count": 31,
   "metadata": {},
   "outputs": [],
   "source": [
    "# from list of json objects to pandas dataframe\n",
    "repr_vote_swingers_df = pd.DataFrame(repr_vote_swingers_bd)\n",
    "repr_vote_swingers_df.head()\n",
    "\n",
    "fout = f'{output_path}/repr_vote_swingers_bd.csv'\n",
    "repr_vote_swingers_df.to_csv(fout, index=False)"
   ]
  },
  {
   "cell_type": "code",
   "execution_count": 32,
   "metadata": {},
   "outputs": [
    {
     "data": {
      "text/plain": [
       "[(('FdI;L', 'FdI;PD;FI;NM;L'), 27),\n",
       " (('Az-Iv;L', 'Az-Iv'), 18),\n",
       " (('FI', 'FdI;PD;FI;NM;L'), 6),\n",
       " (('M5s', 'FdI;M5s'), 2),\n",
       " (('FdI', 'FdI;PD;FI;NM;L'), 1),\n",
       " (('Az-Iv;L', 'FdI;PD;FI;NM;L'), 1),\n",
       " (('PD;AVS', 'PD'), 1)]"
      ]
     },
     "execution_count": 32,
     "metadata": {},
     "output_type": "execute_result"
    }
   ],
   "source": [
    "# sort by value party_vote_swingers_bd\n",
    "sorted_repr_party_vote_swingers_bd = sorted(repr_party_vote_swingers_bd.items(), key=lambda kv: kv[1], reverse=True)\n",
    "sorted_repr_party_vote_swingers_bd"
   ]
  },
  {
   "cell_type": "markdown",
   "metadata": {},
   "source": [
    "##### Eletoral campaign -> After elections"
   ]
  },
  {
   "cell_type": "code",
   "execution_count": 33,
   "metadata": {},
   "outputs": [
    {
     "name": "stdout",
     "output_type": "stream",
     "text": [
      "total active users across the second period 82\n",
      "same party:  18  diff party:  64\n",
      "same party:  0.21951219512195122  diff party:  0.7804878048780488\n"
     ]
    }
   ],
   "source": [
    "repr_n_same_party_da, repr_n_diff_party_da, repr_party_vote_swingers_da, repr_vote_swingers_da = check_party(during_representatives_df, after_representatives_df, active_repr_da)\n",
    "print('total active users across the second period', len(active_repr_da))\n",
    "print('same party: ', repr_n_same_party_da, ' diff party: ', repr_n_diff_party_da)\n",
    "print('same party: ', repr_n_same_party_da/len(active_repr_da), ' diff party: ', repr_n_diff_party_da/len(active_repr_da))"
   ]
  },
  {
   "cell_type": "code",
   "execution_count": 34,
   "metadata": {},
   "outputs": [],
   "source": [
    "repr_vote_swingers_df = pd.DataFrame(repr_vote_swingers_da)\n",
    "repr_vote_swingers_df.head()\n",
    "\n",
    "fout = f'{output_path}/repr_vote_swingers_da.csv'\n",
    "repr_vote_swingers_df.to_csv(fout, index=False)"
   ]
  },
  {
   "cell_type": "markdown",
   "metadata": {},
   "source": [
    "#### Before campaign -> After elections"
   ]
  },
  {
   "cell_type": "code",
   "execution_count": 35,
   "metadata": {},
   "outputs": [
    {
     "name": "stdout",
     "output_type": "stream",
     "text": [
      "same party:  26  diff party:  43\n"
     ]
    }
   ],
   "source": [
    "repr_n_same_party_ba, repr_n_diff_party_ba, repr_party_swinger_ba, repr_vote_swingers_ba = check_party(before_representatives_df, after_representatives_df, active_repr_ba)\n",
    "print('same party: ', repr_n_same_party_ba, ' diff party: ', repr_n_diff_party_ba)"
   ]
  },
  {
   "cell_type": "code",
   "execution_count": 36,
   "metadata": {},
   "outputs": [],
   "source": [
    "repr_vote_swingers_df = pd.DataFrame(repr_vote_swingers_ba)\n",
    "repr_vote_swingers_df.head()\n",
    "\n",
    "fout = f'{output_path}/repr_vote_swingers_ba.csv'\n",
    "repr_vote_swingers_df.to_csv(fout, index=False)"
   ]
  },
  {
   "cell_type": "code",
   "execution_count": null,
   "metadata": {},
   "outputs": [],
   "source": []
  }
 ],
 "metadata": {
  "kernelspec": {
   "display_name": "env",
   "language": "python",
   "name": "python3"
  },
  "language_info": {
   "codemirror_mode": {
    "name": "ipython",
    "version": 3
   },
   "file_extension": ".py",
   "mimetype": "text/x-python",
   "name": "python",
   "nbconvert_exporter": "python",
   "pygments_lexer": "ipython3",
   "version": "3.11.8"
  },
  "orig_nbformat": 4
 },
 "nbformat": 4,
 "nbformat_minor": 2
}
