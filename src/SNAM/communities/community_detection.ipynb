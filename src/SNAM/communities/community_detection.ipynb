{
 "cells": [
  {
   "cell_type": "code",
   "execution_count": 1,
   "metadata": {},
   "outputs": [],
   "source": [
    "import matplotlib.pyplot as plt\n",
    "import networkx as nx\n",
    "import numpy as np\n",
    "import os\n",
    "import pandas as pd\n",
    "import pickle"
   ]
  },
  {
   "cell_type": "markdown",
   "metadata": {},
   "source": [
    "#### Loading the retweet networks"
   ]
  },
  {
   "cell_type": "code",
   "execution_count": 2,
   "metadata": {},
   "outputs": [
    {
     "name": "stdout",
     "output_type": "stream",
     "text": [
      "Before data has shape:  (38209, 4)\n",
      "During data has shape:  (56953, 4)\n",
      "After data has shape:  (42864, 4)\n"
     ]
    }
   ],
   "source": [
    "# Reading data\n",
    "basepath = '../../../data/03_backbone_nets'\n",
    "\n",
    "before_data = pd.read_csv(os.path.join(basepath, 'before_campaign_backbone.csv'))\n",
    "during_data = pd.read_csv(os.path.join(basepath, 'electoral_campaign_backbone.csv'))\n",
    "after_data = pd.read_csv(os.path.join(basepath, 'after_elections_backbone.csv'))\n",
    "\n",
    "# Forcing the conversion to string\n",
    "before_data['source'] = before_data['source'].astype(str)\n",
    "before_data['target'] = before_data['target'].astype(str)\n",
    "during_data['source'] = during_data['source'].astype(str)\n",
    "during_data['target'] = during_data['target'].astype(str)\n",
    "after_data['source'] = after_data['source'].astype(str)\n",
    "after_data['target'] = after_data['target'].astype(str)\n",
    "\n",
    "# Shapes\n",
    "print(\"Before data has shape: \", before_data.shape)\n",
    "print(\"During data has shape: \", during_data.shape)\n",
    "print(\"After data has shape: \", after_data.shape)"
   ]
  },
  {
   "cell_type": "code",
   "execution_count": 3,
   "metadata": {},
   "outputs": [
    {
     "name": "stdout",
     "output_type": "stream",
     "text": [
      "Before graph has:  12008  nodes and  38209  edges\n",
      "During graph has:  18150  nodes and  56953  edges\n",
      "After graph has:  15943  nodes and  42864  edges\n"
     ]
    }
   ],
   "source": [
    "# Creating graphs\n",
    "# use nx.DIGraph() for directed graph\n",
    "before_graph = nx.from_pandas_edgelist(before_data, source='source', target='target', edge_attr='weight', create_using=nx.Graph())\n",
    "during_graph = nx.from_pandas_edgelist(during_data, source='source', target='target', edge_attr='weight', create_using=nx.Graph())\n",
    "after_graph = nx.from_pandas_edgelist(after_data, source='source', target='target', edge_attr='weight', create_using=nx.Graph())\n",
    "\n",
    "# Some basic stats\n",
    "print(\"Before graph has: \", before_graph.number_of_nodes(), \" nodes and \", before_graph.number_of_edges(), \" edges\")\n",
    "print(\"During graph has: \", during_graph.number_of_nodes(), \" nodes and \", during_graph.number_of_edges(), \" edges\")\n",
    "print(\"After graph has: \", after_graph.number_of_nodes(), \" nodes and \", after_graph.number_of_edges(), \" edges\")"
   ]
  },
  {
   "cell_type": "code",
   "execution_count": 4,
   "metadata": {},
   "outputs": [],
   "source": [
    "# from int to floating point weight columns\n",
    "before_data['weight'] = before_data['weight'].astype(float)\n",
    "during_data['weight'] = during_data['weight'].astype(float)\n",
    "after_data['weight'] = after_data['weight'].astype(float)"
   ]
  },
  {
   "cell_type": "code",
   "execution_count": 5,
   "metadata": {},
   "outputs": [
    {
     "name": "stdout",
     "output_type": "stream",
     "text": [
      "Before graph has:  12008  nodes and  38209  edges\n",
      "During graph has:  18150  nodes and  56953  edges\n",
      "After graph has:  15943  nodes and  42864  edges\n"
     ]
    }
   ],
   "source": [
    "# Creating graphs\n",
    "# use nx.DiGraph() for directed graph\n",
    "d_before_graph = nx.from_pandas_edgelist(before_data, source='source', target='target', edge_attr='weight', create_using=nx.DiGraph())\n",
    "d_during_graph = nx.from_pandas_edgelist(during_data, source='source', target='target', edge_attr='weight', create_using=nx.DiGraph())\n",
    "d_after_graph = nx.from_pandas_edgelist(after_data, source='source', target='target', edge_attr='weight', create_using=nx.DiGraph())\n",
    "\n",
    "# Some basic stats\n",
    "print(\"Before graph has: \", d_before_graph.number_of_nodes(), \" nodes and \", d_before_graph.number_of_edges(), \" edges\")\n",
    "print(\"During graph has: \", d_during_graph.number_of_nodes(), \" nodes and \", d_during_graph.number_of_edges(), \" edges\")\n",
    "print(\"After graph has: \", d_after_graph.number_of_nodes(), \" nodes and \", d_after_graph.number_of_edges(), \" edges\")"
   ]
  },
  {
   "cell_type": "markdown",
   "metadata": {},
   "source": [
    "#### Community detection via the Louvain algorithm"
   ]
  },
  {
   "cell_type": "code",
   "execution_count": 6,
   "metadata": {},
   "outputs": [
    {
     "name": "stdout",
     "output_type": "stream",
     "text": [
      "Running community detection algorithms on the 'Before graph'\n",
      "Running community detection algorithms on the 'During graph'\n",
      "Running community detection algorithms on the 'After graph'\n"
     ]
    }
   ],
   "source": [
    "print(\"Running community detection algorithms on the 'Before graph'\")\n",
    "before_comms = nx.community.louvain_communities(before_graph, weight='weight', seed=123)\n",
    "\n",
    "print(\"Running community detection algorithms on the 'During graph'\")\n",
    "during_comms = nx.community.louvain_communities(during_graph, weight='weight', seed=123)\n",
    "\n",
    "print(\"Running community detection algorithms on the 'After graph'\")\n",
    "after_comms = nx.community.louvain_communities(after_graph, weight='weight', seed=123)"
   ]
  },
  {
   "cell_type": "code",
   "execution_count": 7,
   "metadata": {},
   "outputs": [
    {
     "name": "stdout",
     "output_type": "stream",
     "text": [
      "Before graph has:  57  communities\n",
      "During graph has:  438  communities\n",
      "After graph has:  428  communities\n"
     ]
    }
   ],
   "source": [
    "print(\"Before graph has: \", len(before_comms), \" communities\")\n",
    "print(\"During graph has: \", len(during_comms), \" communities\")\n",
    "print(\"After graph has: \", len(after_comms), \" communities\")"
   ]
  },
  {
   "cell_type": "code",
   "execution_count": 8,
   "metadata": {},
   "outputs": [
    {
     "name": "stdout",
     "output_type": "stream",
     "text": [
      "0.6716162864964508\n",
      "0.7076918151489552\n",
      "0.6964413568661887\n"
     ]
    }
   ],
   "source": [
    "print(nx.community.modularity(before_graph, before_comms))\n",
    "print(nx.community.modularity(during_graph, during_comms))\n",
    "print(nx.community.modularity(after_graph, after_comms))"
   ]
  },
  {
   "cell_type": "code",
   "execution_count": 30,
   "metadata": {},
   "outputs": [],
   "source": [
    "output_path = \"../../../data/04_communities\"\n",
    "\n",
    "#store the comms\n",
    "pickle.dump(before_comms, open(os.path.join(output_path, 'before_comms.pickle'), 'wb'))\n",
    "pickle.dump(during_comms, open(os.path.join(output_path, 'during_comms.pickle'), 'wb'))\n",
    "pickle.dump(after_comms, open(os.path.join(output_path, 'after_comms.pickle'), 'wb'))"
   ]
  },
  {
   "cell_type": "markdown",
   "metadata": {},
   "source": [
    "#### Community detection via the Leiden algorithm"
   ]
  },
  {
   "cell_type": "code",
   "execution_count": 10,
   "metadata": {},
   "outputs": [],
   "source": [
    "import igraph as ig\n",
    "import leidenalg as la"
   ]
  },
  {
   "cell_type": "code",
   "execution_count": 11,
   "metadata": {},
   "outputs": [],
   "source": [
    "# let's first try with undirected graphs\n",
    "before_igraph = ig.Graph.from_networkx(before_graph)\n",
    "during_igraph = ig.Graph.from_networkx(during_graph)\n",
    "after_igraph = ig.Graph.from_networkx(after_graph)"
   ]
  },
  {
   "cell_type": "code",
   "execution_count": 12,
   "metadata": {},
   "outputs": [
    {
     "name": "stdout",
     "output_type": "stream",
     "text": [
      "Running the Leiden community detection algorithm on the weighted 'Before graph'\n",
      "Running the Leiden community detection algorithm on the weighted 'During graph'\n",
      "Running the Leiden community detection algorithm on the weighted 'After graph'\n"
     ]
    }
   ],
   "source": [
    "print(\"Running the Leiden community detection algorithm on the weighted 'Before graph'\")\n",
    "la_before_comms = la.find_partition(before_igraph, la.ModularityVertexPartition, weights='weight', seed=123)#, resolution_parameter = 0.05)\n",
    "\n",
    "print(\"Running the Leiden community detection algorithm on the weighted 'During graph'\")\n",
    "la_during_comms = la.find_partition(during_igraph, la.ModularityVertexPartition, weights='weight', seed=123)\n",
    "                                    \n",
    "print(\"Running the Leiden community detection algorithm on the weighted 'After graph'\")\n",
    "la_after_comms = la.find_partition(after_igraph, la.ModularityVertexPartition, weights='weight', seed=123)"
   ]
  },
  {
   "cell_type": "code",
   "execution_count": 18,
   "metadata": {},
   "outputs": [
    {
     "name": "stdout",
     "output_type": "stream",
     "text": [
      "Weighted before graph has:  63  communities\n",
      "Weighted during graph has:  445  communities\n",
      "Weighted after graph has:  445  communities\n"
     ]
    }
   ],
   "source": [
    "print(\"Weighted before graph has: \", len(la_before_comms), \" communities\")\n",
    "print(\"Weighted during graph has: \", len(la_during_comms), \" communities\")\n",
    "print(\"Weighted after graph has: \", len(la_after_comms), \" communities\")"
   ]
  },
  {
   "cell_type": "code",
   "execution_count": 15,
   "metadata": {},
   "outputs": [],
   "source": [
    "_la_before_comms = []\n",
    "\n",
    "for comm in la_before_comms:\n",
    "    nx_comm = set()\n",
    "\n",
    "    for n in comm:\n",
    "        nx_comm.add(before_igraph.vs[n]['_nx_name'])\n",
    "    \n",
    "    _la_before_comms.append(nx_comm)\n",
    "\n",
    "#\n",
    "_la_during_comms = []\n",
    "\n",
    "for comm in la_during_comms:\n",
    "    nx_comm = set()\n",
    "\n",
    "    for n in comm:\n",
    "        nx_comm.add(during_igraph.vs[n]['_nx_name'])\n",
    "    \n",
    "    _la_during_comms.append(nx_comm)\n",
    "\n",
    "#\n",
    "_la_after_comms = []\n",
    "\n",
    "for comm in la_after_comms:\n",
    "    nx_comm = set()\n",
    "\n",
    "    for n in comm:\n",
    "        nx_comm.add(after_igraph.vs[n]['_nx_name'])\n",
    "    \n",
    "    _la_after_comms.append(nx_comm)\n"
   ]
  },
  {
   "cell_type": "code",
   "execution_count": null,
   "metadata": {},
   "outputs": [],
   "source": [
    "###########################################\n",
    "###########################################\n",
    "###########################################"
   ]
  },
  {
   "cell_type": "code",
   "execution_count": 16,
   "metadata": {},
   "outputs": [],
   "source": [
    "d_before_igraph = ig.Graph.from_networkx(d_before_graph)\n",
    "d_during_igraph = ig.Graph.from_networkx(d_during_graph)\n",
    "d_after_igraph = ig.Graph.from_networkx(d_after_graph)"
   ]
  },
  {
   "cell_type": "code",
   "execution_count": 17,
   "metadata": {},
   "outputs": [
    {
     "name": "stdout",
     "output_type": "stream",
     "text": [
      "Running the Leiden community detection algorithm on the weighted directed 'Before graph'\n",
      "Running the Leiden community detection algorithm on the weighted directed 'During graph'\n",
      "Running the Leiden community detection algorithm on the weighted directed 'After graph'\n"
     ]
    }
   ],
   "source": [
    "# then let's try for directed weighted graphs\n",
    "print(\"Running the Leiden community detection algorithm on the weighted directed 'Before graph'\")\n",
    "d_la_before_comms = la.find_partition(d_before_igraph, la.ModularityVertexPartition, weights='weight', seed=123)#, resolution_parameter = 0.05)\n",
    "\n",
    "print(\"Running the Leiden community detection algorithm on the weighted directed 'During graph'\")\n",
    "d_la_during_comms = la.find_partition(d_during_igraph, la.ModularityVertexPartition, weights='weight', seed=123) #, resolution_parameter = 0.05)\n",
    "\n",
    "print(\"Running the Leiden community detection algorithm on the weighted directed 'After graph'\")\n",
    "d_la_after_comms = la.find_partition(d_after_igraph, la.ModularityVertexPartition, weights='weight', seed=123)#, resolution_parameter = 0.05)"
   ]
  },
  {
   "cell_type": "code",
   "execution_count": 19,
   "metadata": {},
   "outputs": [
    {
     "name": "stdout",
     "output_type": "stream",
     "text": [
      "Weighted-Directed Before graph has:  65  communities\n",
      "Weighted-Directed During graph has:  445  communities\n",
      "Weighted-Directed After graph has:  442  communities\n"
     ]
    }
   ],
   "source": [
    "print(\"Weighted-Directed Before graph has: \", len(d_la_before_comms), \" communities\")\n",
    "print(\"Weighted-Directed During graph has: \", len(d_la_during_comms), \" communities\")\n",
    "print(\"Weighted-Directed After graph has: \", len(d_la_after_comms), \" communities\")"
   ]
  },
  {
   "cell_type": "code",
   "execution_count": 20,
   "metadata": {},
   "outputs": [],
   "source": [
    "_d_la_before_comms = []\n",
    "\n",
    "for comm in d_la_before_comms:\n",
    "    nx_comm = set()\n",
    "\n",
    "    for n in comm:\n",
    "        nx_comm.add(d_before_igraph.vs[n]['_nx_name'])\n",
    "    \n",
    "    _d_la_before_comms.append(nx_comm)\n",
    "\n",
    "#\n",
    "_d_la_during_comms = []\n",
    "\n",
    "for comm in d_la_during_comms:\n",
    "    nx_comm = set()\n",
    "\n",
    "    for n in comm:\n",
    "        nx_comm.add(d_during_igraph.vs[n]['_nx_name'])\n",
    "    \n",
    "    _d_la_during_comms.append(nx_comm)\n",
    "\n",
    "#\n",
    "_d_la_after_comms = []\n",
    "\n",
    "for comm in d_la_after_comms:\n",
    "    nx_comm = set()\n",
    "\n",
    "    for n in comm:\n",
    "        nx_comm.add(d_after_igraph.vs[n]['_nx_name'])\n",
    "    \n",
    "    _d_la_after_comms.append(nx_comm)"
   ]
  },
  {
   "cell_type": "markdown",
   "metadata": {},
   "source": [
    "#### Community analysis"
   ]
  },
  {
   "cell_type": "markdown",
   "metadata": {},
   "source": [
    "##### Size"
   ]
  },
  {
   "cell_type": "code",
   "execution_count": 21,
   "metadata": {},
   "outputs": [],
   "source": [
    "before_comm_sizes = [len(comm) for comm in before_comms]\n",
    "during_comm_sizes = [len(comm) for comm in during_comms]\n",
    "after_comm_sizes = [len(comm) for comm in after_comms]\n",
    "\n",
    "la_before_comm_sizes = [len(comm) for comm in la_before_comms]\n",
    "la_during_comm_sizes = [len(comm) for comm in la_during_comms]\n",
    "la_after_comm_sizes = [len(comm) for comm in la_after_comms]\n",
    "\n",
    "d_la_before_comm_sizes = [len(comm) for comm in d_la_before_comms]\n",
    "d_la_during_comm_sizes = [len(comm) for comm in d_la_during_comms]\n",
    "d_la_after_comm_sizes = [len(comm) for comm in d_la_after_comms]"
   ]
  },
  {
   "cell_type": "code",
   "execution_count": 22,
   "metadata": {},
   "outputs": [
    {
     "name": "stdout",
     "output_type": "stream",
     "text": [
      "[2.00000e+00 3.00000e+00 9.00000e+00 1.56000e+01 2.17600e+02 1.88740e+03\n",
      " 2.67132e+03]\n",
      "[   2.      2.      3.      3.      5.     10.   1797.66]\n",
      "[   2.      2.      3.      3.      5.     10.   1799.06]\n",
      "\n",
      "[2.00000e+00 3.00000e+00 8.00000e+00 1.58000e+01 3.33600e+02 1.81980e+03\n",
      " 2.40124e+03]\n",
      "[   2.     2.     3.     3.     5.     9.  1573.2]\n",
      "[   2.     2.     3.     3.     5.    10.  1751.2]\n",
      "\n",
      "[2.0000e+00 3.0000e+00 7.0000e+00 1.4600e+01 1.5000e+02 1.7754e+03\n",
      " 2.8456e+03]\n",
      "[   2.      2.      3.      3.      6.     10.   1560.36]\n",
      "[   2.      2.      3.      3.      5.     10.   1570.57]\n"
     ]
    }
   ],
   "source": [
    "print(np.quantile(before_comm_sizes, [0.25, 0.5, 0.75, .8, .9, .95, .99]))\n",
    "print(np.quantile(during_comm_sizes, [0.25, 0.5, 0.75, .8, .9, .95, .99]))\n",
    "print(np.quantile(after_comm_sizes, [0.25, 0.5, 0.75, .8, .9, .95, .99]))\n",
    "\n",
    "print()\n",
    "\n",
    "print(np.quantile(la_before_comm_sizes, [0.25, 0.5, 0.75, .8, .9, .95, .99]))\n",
    "print(np.quantile(la_during_comm_sizes, [0.25, 0.5, 0.75, .8, .9, .95, .99]))\n",
    "print(np.quantile(la_after_comm_sizes, [0.25, 0.5, 0.75, .8, .9, .95, .99]))\n",
    "\n",
    "print()\n",
    "\n",
    "print(np.quantile(d_la_before_comm_sizes, [0.25, 0.5, 0.75, .8, .9, .95, .99]))\n",
    "print(np.quantile(d_la_during_comm_sizes, [0.25, 0.5, 0.75, .8, .9, .95, .99]))\n",
    "print(np.quantile(d_la_after_comm_sizes, [0.25, 0.5, 0.75, .8, .9, .95, .99]))"
   ]
  },
  {
   "cell_type": "code",
   "execution_count": 23,
   "metadata": {},
   "outputs": [
    {
     "data": {
      "text/plain": [
       "Text(0, 0.5, 'Frequency')"
      ]
     },
     "execution_count": 23,
     "metadata": {},
     "output_type": "execute_result"
    },
    {
     "data": {
      "image/png": "[encoded data removed]",
      "text/plain": [
       "<Figure size 1500x500 with 3 Axes>"
      ]
     },
     "metadata": {},
     "output_type": "display_data"
    }
   ],
   "source": [
    "fig, ax = plt.subplots(1, 3, figsize=(15, 5))\n",
    "\n",
    "ax[0].hist(before_comm_sizes) #, bins=100\n",
    "ax[0].set_title(\"Before\")\n",
    "ax[0].set_xlabel(\"Community size\")\n",
    "ax[0].set_ylabel(\"Frequency\")\n",
    "\n",
    "ax[1].hist(during_comm_sizes) #, bins=100\n",
    "ax[1].set_title(\"During\")\n",
    "ax[1].set_xlabel(\"Community size\")\n",
    "ax[1].set_ylabel(\"Frequency\")\n",
    "\n",
    "ax[2].hist(after_comm_sizes) #, bins=100\n",
    "ax[2].set_title(\"After\")\n",
    "ax[2].set_xlabel(\"Community size\")\n",
    "ax[2].set_ylabel(\"Frequency\")"
   ]
  },
  {
   "cell_type": "markdown",
   "metadata": {},
   "source": [
    "##### Quality: Modularity | Coverage | Conductance"
   ]
  },
  {
   "cell_type": "code",
   "execution_count": 24,
   "metadata": {},
   "outputs": [
    {
     "name": "stdout",
     "output_type": "stream",
     "text": [
      "Louvain\n",
      "0.6716162864964508\n",
      "0.7076918151489552\n",
      "0.6964413568661887\n",
      "\n",
      "Leiden - und\n",
      "0.6816530980854407\n",
      "0.7122938468435009\n",
      "0.7016635973223897\n",
      "\n",
      "Leiden - dir\n",
      "0.6813961873966092\n",
      "0.7106680552928235\n",
      "0.7016507924729827\n"
     ]
    }
   ],
   "source": [
    "print('Louvain')\n",
    "print(nx.community.modularity(before_graph, before_comms))\n",
    "print(nx.community.modularity(during_graph, during_comms))\n",
    "print(nx.community.modularity(after_graph, after_comms))\n",
    "\n",
    "print()\n",
    "\n",
    "print('Leiden - und')\n",
    "print(nx.community.modularity(before_graph, _la_before_comms))\n",
    "print(nx.community.modularity(during_graph, _la_during_comms))\n",
    "print(nx.community.modularity(after_graph, _la_after_comms))\n",
    "\n",
    "print()\n",
    "\n",
    "print('Leiden - dir')\n",
    "print(nx.community.modularity(d_before_graph, _d_la_before_comms))\n",
    "print(nx.community.modularity(d_during_graph, _d_la_during_comms))\n",
    "print(nx.community.modularity(d_after_graph, _d_la_after_comms))"
   ]
  },
  {
   "cell_type": "code",
   "execution_count": 25,
   "metadata": {},
   "outputs": [
    {
     "name": "stdout",
     "output_type": "stream",
     "text": [
      "Louvain\n",
      "(0.8563950901620038, 0.8224044801314268)\n",
      "(0.886766280968518, 0.8529191372245084)\n",
      "(0.8673012318029115, 0.8579145803210476)\n",
      "\n",
      "Leiden - und\n",
      "(0.8582794629537543, 0.8387284715716853)\n",
      "(0.8890313065158991, 0.8569075423563774)\n",
      "(0.8748366927958193, 0.859609600765895)\n",
      "\n",
      "Leiden - dir\n",
      "(0.8739302258630166, 0.8188545369964345)\n",
      "(0.8958790581707724, 0.8482070713395254)\n",
      "(0.8674178798058977, 0.8647488870797109)\n"
     ]
    }
   ],
   "source": [
    "# coverage, performance\n",
    "\n",
    "# coverage is the ratio of the number of intra-community edges by the total number of edges.\n",
    "# by definition, an ideal cluster structure, where the clusters are disconnected \n",
    "# from each other, yields a coverage of 1, as all edges of the graph fall within clusters.\n",
    "\n",
    "# performance counts the number of correctly “interpreted” pairs of vertices,\n",
    "# i.e. two vertices belonging to the same community and connected by an edge, \n",
    "# or two vertices belonging to different communities and not connected by an edge.\n",
    "print('Louvain')\n",
    "print(nx.community.partition_quality(before_graph, before_comms))\n",
    "print(nx.community.partition_quality(during_graph, during_comms))\n",
    "print(nx.community.partition_quality(after_graph, after_comms))\n",
    "\n",
    "print()\n",
    "\n",
    "print('Leiden - und')\n",
    "\n",
    "print(nx.community.partition_quality(before_graph, _la_before_comms))\n",
    "print(nx.community.partition_quality(during_graph, _la_during_comms))\n",
    "print(nx.community.partition_quality(after_graph, _la_after_comms))\n",
    "\n",
    "print()\n",
    "\n",
    "print('Leiden - dir')\n",
    "print(nx.community.partition_quality(d_before_graph, _d_la_before_comms))\n",
    "print(nx.community.partition_quality(d_during_graph, _d_la_during_comms))\n",
    "print(nx.community.partition_quality(d_after_graph, _d_la_after_comms))"
   ]
  },
  {
   "cell_type": "code",
   "execution_count": 26,
   "metadata": {},
   "outputs": [],
   "source": [
    "def eval_conductance(graph, communities):\n",
    "    conductance = np.zeros([len(communities), len(communities)])\n",
    "    for i, comm_i in enumerate(communities):\n",
    "        for j, comm_j in enumerate(communities):\n",
    "            conductance[i, j] = nx.algorithms.cuts.conductance(graph, comm_i, comm_j, weight='weight')\n",
    "    return conductance"
   ]
  },
  {
   "cell_type": "code",
   "execution_count": 27,
   "metadata": {},
   "outputs": [],
   "source": [
    "# conductance\n",
    "before_conductance = eval_conductance(before_graph, before_comms)\n",
    "during_conductance = eval_conductance(during_graph, during_comms)\n",
    "after_conductance = eval_conductance(after_graph, after_comms)\n",
    "\n",
    "la_before_conductance = eval_conductance(before_graph, _la_before_comms)\n",
    "la_during_conductance = eval_conductance(during_graph, _la_during_comms)\n",
    "la_after_conductance = eval_conductance(after_graph, _la_after_comms)\n",
    "\n",
    "d_la_before_conductance = eval_conductance(d_before_graph, _d_la_before_comms)\n",
    "d_la_during_conductance = eval_conductance(d_during_graph, _d_la_during_comms)\n",
    "d_la_after_conductance = eval_conductance(d_after_graph, _d_la_after_comms)"
   ]
  },
  {
   "cell_type": "code",
   "execution_count": 28,
   "metadata": {},
   "outputs": [
    {
     "name": "stdout",
     "output_type": "stream",
     "text": [
      "Louvain\n",
      "0.00997345068642207\n",
      "0.0012051331218415821\n",
      "0.001216929018812646\n",
      "\n",
      "Leiden - und\n",
      "0.009279021075986308\n",
      "0.0011930339209752987\n",
      "0.0011916132440472416\n",
      "\n",
      "Leiden - dir\n",
      "0.03333889649670617\n",
      "0.004642519269733513\n",
      "0.004646408380561376\n"
     ]
    }
   ],
   "source": [
    "# average conductance\n",
    "print('Louvain')\n",
    "print(np.mean(before_conductance))\n",
    "print(np.mean(during_conductance))\n",
    "print(np.mean(after_conductance))\n",
    "\n",
    "print()\n",
    "\n",
    "print('Leiden - und')\n",
    "print(np.mean(la_before_conductance))\n",
    "print(np.mean(la_during_conductance))\n",
    "print(np.mean(la_after_conductance))\n",
    "\n",
    "print()\n",
    "\n",
    "print('Leiden - dir')\n",
    "print(np.mean(d_la_before_conductance))\n",
    "print(np.mean(d_la_during_conductance))\n",
    "print(np.mean(d_la_after_conductance))"
   ]
  },
  {
   "cell_type": "code",
   "execution_count": 29,
   "metadata": {},
   "outputs": [
    {
     "data": {
      "image/png": "[encoded data removed]",
      "text/plain": [
       "<Figure size 1200x1200 with 6 Axes>"
      ]
     },
     "metadata": {},
     "output_type": "display_data"
    }
   ],
   "source": [
    "# plot the conductance matrix with a heatmap\n",
    "fig, ax = plt.subplots(3, 1, figsize=(12, 12))\n",
    "\n",
    "im_b = ax[0].imshow(before_conductance, cmap='GnBu')\n",
    "cbar_b = ax[0].figure.colorbar(im_b)\n",
    "\n",
    "im_d = ax[1].imshow(during_conductance, cmap='GnBu')\n",
    "cbar_d = ax[1].figure.colorbar(im_d)\n",
    "\n",
    "im_a = ax[2].imshow(after_conductance, cmap='GnBu')\n",
    "cbar_a = ax[2].figure.colorbar(im_a)\n",
    "\n",
    "ax[0].set_title(\"Before propaganda\")\n",
    "ax[1].set_title(\"Propaganda\")\n",
    "ax[2].set_title(\"After elections\")\n",
    "\n",
    "ax[0].set_xlabel(\"Communities\")\n",
    "ax[0].set_ylabel(\"Communities\")\n",
    "\n",
    "ax[1].set_xlabel(\"Communities\")\n",
    "ax[2].set_xlabel(\"Communities\")\n",
    "\n",
    "fig.tight_layout()"
   ]
  },
  {
   "cell_type": "code",
   "execution_count": null,
   "metadata": {},
   "outputs": [],
   "source": []
  }
 ],
 "metadata": {
  "kernelspec": {
   "display_name": "env",
   "language": "python",
   "name": "python3"
  },
  "language_info": {
   "codemirror_mode": {
    "name": "ipython",
    "version": 3
   },
   "file_extension": ".py",
   "mimetype": "text/x-python",
   "name": "python",
   "nbconvert_exporter": "python",
   "pygments_lexer": "ipython3",
   "version": "3.11.8"
  },
  "orig_nbformat": 4
 },
 "nbformat": 4,
 "nbformat_minor": 2
}
