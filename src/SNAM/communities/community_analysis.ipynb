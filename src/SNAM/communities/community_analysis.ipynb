{
 "cells": [
  {
   "cell_type": "code",
   "execution_count": 1,
   "metadata": {},
   "outputs": [],
   "source": [
    "import collections\n",
    "import csv\n",
    "import matplotlib.pyplot as plt\n",
    "import networkx as nx\n",
    "import numpy as np\n",
    "import os\n",
    "import pandas as pd\n",
    "import pickle"
   ]
  },
  {
   "cell_type": "markdown",
   "metadata": {},
   "source": [
    "## Loading the data..."
   ]
  },
  {
   "cell_type": "code",
   "execution_count": 2,
   "metadata": {},
   "outputs": [],
   "source": [
    "representatives_df = pd.read_csv(\"../../../data/00_raw_data/twitter_representatives_handles_final.csv\")"
   ]
  },
  {
   "cell_type": "markdown",
   "metadata": {},
   "source": [
    "### Loading retweet networks"
   ]
  },
  {
   "cell_type": "code",
   "execution_count": 3,
   "metadata": {},
   "outputs": [
    {
     "name": "stdout",
     "output_type": "stream",
     "text": [
      "Before data has shape:  (38209, 4)\n",
      "During data has shape:  (56953, 4)\n",
      "After data has shape:  (42864, 4)\n"
     ]
    }
   ],
   "source": [
    "# loading the networks since we need to get the\n",
    "# indegree of each representative\n",
    "# Reading data\n",
    "basepath = '../../../data/03_backbone_nets'\n",
    "\n",
    "before_data = pd.read_csv(os.path.join(basepath, 'before_campaign_backbone.csv'))\n",
    "during_data = pd.read_csv(os.path.join(basepath, 'electoral_campaign_backbone.csv'))\n",
    "after_data = pd.read_csv(os.path.join(basepath, 'after_elections_backbone.csv'))\n",
    "\n",
    "# Forcing the conversion to string\n",
    "before_data['source'] = before_data['source'].astype(str)\n",
    "before_data['target'] = before_data['target'].astype(str)\n",
    "during_data['source'] = during_data['source'].astype(str)\n",
    "during_data['target'] = during_data['target'].astype(str)\n",
    "after_data['source'] = after_data['source'].astype(str)\n",
    "after_data['target'] = after_data['target'].astype(str)\n",
    "\n",
    "# Shapes\n",
    "print(\"Before data has shape: \", before_data.shape)\n",
    "print(\"During data has shape: \", during_data.shape)\n",
    "print(\"After data has shape: \", after_data.shape)"
   ]
  },
  {
   "cell_type": "code",
   "execution_count": 4,
   "metadata": {},
   "outputs": [
    {
     "name": "stdout",
     "output_type": "stream",
     "text": [
      "Before graph has:  12008  nodes and  38209  edges\n",
      "During graph has:  18150  nodes and  56953  edges\n",
      "After graph has:  15943  nodes and  42864  edges\n"
     ]
    }
   ],
   "source": [
    "# Creating graphs\n",
    "before_graph = nx.from_pandas_edgelist(before_data, source='source', target='target', edge_attr='weight', create_using=nx.DiGraph())\n",
    "during_graph = nx.from_pandas_edgelist(during_data, source='source', target='target', edge_attr='weight', create_using=nx.DiGraph())\n",
    "after_graph = nx.from_pandas_edgelist(after_data, source='source', target='target', edge_attr='weight', create_using=nx.DiGraph())\n",
    "\n",
    "# Some basic stats\n",
    "print(\"Before graph has: \", before_graph.number_of_nodes(), \" nodes and \", before_graph.number_of_edges(), \" edges\")\n",
    "print(\"During graph has: \", during_graph.number_of_nodes(), \" nodes and \", during_graph.number_of_edges(), \" edges\")\n",
    "print(\"After graph has: \", after_graph.number_of_nodes(), \" nodes and \", after_graph.number_of_edges(), \" edges\")"
   ]
  },
  {
   "cell_type": "markdown",
   "metadata": {},
   "source": [
    "### Loading community data"
   ]
  },
  {
   "cell_type": "code",
   "execution_count": 7,
   "metadata": {},
   "outputs": [],
   "source": [
    "output_path = f\"../../../data/04_communities\"\n",
    "\n",
    "before_comms = pickle.load(open(os.path.join(output_path, 'before_comms.pickle'), 'rb'))\n",
    "during_comms = pickle.load(open(os.path.join(output_path, 'during_comms.pickle'), 'rb'))\n",
    "after_comms = pickle.load(open(os.path.join(output_path, 'after_comms.pickle'), 'rb'))"
   ]
  },
  {
   "cell_type": "markdown",
   "metadata": {},
   "source": [
    "## Reducing the number of communities"
   ]
  },
  {
   "cell_type": "code",
   "execution_count": 8,
   "metadata": {},
   "outputs": [
    {
     "name": "stdout",
     "output_type": "stream",
     "text": [
      "Before graph has:  57  communities\n",
      "During graph has:  438  communities\n",
      "After graph has:  428  communities\n"
     ]
    }
   ],
   "source": [
    "print(\"Before graph has: \", len(before_comms), \" communities\")\n",
    "print(\"During graph has: \", len(during_comms), \" communities\")\n",
    "print(\"After graph has: \", len(after_comms), \" communities\")"
   ]
  },
  {
   "cell_type": "code",
   "execution_count": 9,
   "metadata": {},
   "outputs": [],
   "source": [
    "# size check\n",
    "before_comm_sizes = [len(comm) for comm in before_comms]\n",
    "during_comm_sizes = [len(comm) for comm in during_comms]\n",
    "after_comm_sizes = [len(comm) for comm in after_comms]"
   ]
  },
  {
   "cell_type": "code",
   "execution_count": 10,
   "metadata": {},
   "outputs": [
    {
     "name": "stdout",
     "output_type": "stream",
     "text": [
      "[  15.6   217.6  1887.4  2214.44 2671.32]\n",
      "[   3.      5.     10.     21.34 1797.66]\n",
      "[   3.      5.     10.     33.57 1799.06]\n"
     ]
    }
   ],
   "source": [
    "print(np.quantile(before_comm_sizes, [.8, .9, .95, .97, .99]))\n",
    "print(np.quantile(during_comm_sizes, [.8, .9, .95, .97, .99]))\n",
    "print(np.quantile(after_comm_sizes, [.8, .9, .95, .97, .99]))"
   ]
  },
  {
   "cell_type": "code",
   "execution_count": 11,
   "metadata": {},
   "outputs": [
    {
     "name": "stdout",
     "output_type": "stream",
     "text": [
      "11 14 16\n"
     ]
    }
   ],
   "source": [
    "n_comm_b = len([comm for comm in before_comms if len(comm) >= 20])\n",
    "n_comm_d = len([comm for comm in during_comms if len(comm) >= 20])\n",
    "n_comm_a = len([comm for comm in after_comms if len(comm) >= 20])\n",
    "\n",
    "print(n_comm_b, n_comm_d, n_comm_a)"
   ]
  },
  {
   "cell_type": "code",
   "execution_count": 12,
   "metadata": {},
   "outputs": [],
   "source": [
    "before_comms_red = [comm for comm in before_comms if len(comm) >= 20]\n",
    "during_comms_red = [comm for comm in during_comms if len(comm) >= 20]\n",
    "after_comms_red = [comm for comm in after_comms if len(comm) >= 20]"
   ]
  },
  {
   "cell_type": "markdown",
   "metadata": {},
   "source": [
    "## Community analysis - Parties"
   ]
  },
  {
   "cell_type": "markdown",
   "metadata": {},
   "source": [
    "### Community entropy (in terms of parties/coalitions)"
   ]
  },
  {
   "cell_type": "code",
   "execution_count": 13,
   "metadata": {},
   "outputs": [],
   "source": [
    "representatives_df.head(5);"
   ]
  },
  {
   "cell_type": "code",
   "execution_count": 14,
   "metadata": {},
   "outputs": [],
   "source": [
    "parties, ids = representatives_df[\"Party\"], representatives_df[\"ids\"]"
   ]
  },
  {
   "cell_type": "code",
   "execution_count": 15,
   "metadata": {},
   "outputs": [
    {
     "name": "stdout",
     "output_type": "stream",
     "text": [
      "8 ['Forza Italia', 'Lega', 'Azione - Italia Viva', 'Alleanza Verdi Sinistra', 'Movimento 5s', 'Partito Democratico', \"Fratelli d'Italia\", 'Noi moderati']\n"
     ]
    }
   ],
   "source": [
    "#get unique parties\n",
    "unique_parties = list(set(parties))\n",
    "print(len(unique_parties), unique_parties)"
   ]
  },
  {
   "cell_type": "code",
   "execution_count": 16,
   "metadata": {},
   "outputs": [],
   "source": [
    "# dict with key ids and parties as values\n",
    "id2party = {ids[i]:parties[i] for i in range(0, len(ids))}"
   ]
  },
  {
   "cell_type": "code",
   "execution_count": 17,
   "metadata": {},
   "outputs": [],
   "source": [
    "def eval_parties_composition(comm, id2party, count=False, weighted=False, retweet_net=None):\n",
    "    to_return = []\n",
    "\n",
    "    for user in comm:\n",
    "        if user in id2party:\n",
    "            if weighted:\n",
    "                if retweet_net is None:\n",
    "                    print('Need access to the network to get the indegree')\n",
    "                    return None\n",
    "                else:\n",
    "                    indeg = retweet_net.in_degree(user, weight='weight')\n",
    "                    to_return.append([id2party[user]]*max(indeg, 1))\n",
    "            else:\n",
    "                to_return.append(id2party[user])\n",
    "\n",
    "    if count:\n",
    "        return collections.Counter(to_return)\n",
    "\n",
    "    if weighted:\n",
    "        to_return = [party for weighted_party in to_return for party in weighted_party]\n",
    "\n",
    "    return to_return"
   ]
  },
  {
   "cell_type": "markdown",
   "metadata": {},
   "source": [
    "#### Get the party composition per community across the three periods"
   ]
  },
  {
   "cell_type": "code",
   "execution_count": 18,
   "metadata": {},
   "outputs": [],
   "source": [
    "before_comms = before_comms_red\n",
    "during_comms = during_comms_red\n",
    "after_comms = after_comms_red"
   ]
  },
  {
   "cell_type": "code",
   "execution_count": 19,
   "metadata": {},
   "outputs": [],
   "source": [
    "before_community_composition = {}\n",
    "during_community_composition = {}\n",
    "after_community_composition = {}\n",
    "\n",
    "for index in range(0, len(before_comms)):\n",
    "    before_community_composition[index] = eval_parties_composition(before_comms[index], id2party)\n",
    "\n",
    "for index in range(0, len(during_comms)):\n",
    "    during_community_composition[index] = eval_parties_composition(during_comms[index], id2party)\n",
    "\n",
    "for index in range(0, len(after_comms)):\n",
    "    after_community_composition[index] = eval_parties_composition(after_comms[index], id2party)\n",
    "\n",
    "\n",
    "before_community_composition_w = {}\n",
    "during_community_composition_w = {}\n",
    "after_community_composition_w = {}\n",
    "\n",
    "weighted = True\n",
    "\n",
    "for index in range(0, len(before_comms)):\n",
    "    before_community_composition_w[index] = \\\n",
    "        eval_parties_composition(before_comms[index], id2party, weighted=weighted, retweet_net=before_graph)\n",
    "\n",
    "for index in range(0, len(during_comms)):\n",
    "    during_community_composition_w[index] = \\\n",
    "        eval_parties_composition(during_comms[index], id2party, weighted=weighted, retweet_net=during_graph)\n",
    "\n",
    "for index in range(0, len(after_comms)):\n",
    "    after_community_composition_w[index] = \\\n",
    "        eval_parties_composition(after_comms[index], id2party, weighted=weighted, retweet_net=after_graph)"
   ]
  },
  {
   "cell_type": "code",
   "execution_count": 26,
   "metadata": {},
   "outputs": [],
   "source": [
    "# output_path = f\"../../../results/SNAM/communities/comms_composition\"\n",
    "\n",
    "# #store the comms\n",
    "# pickle.dump(before_community_composition, open(os.path.join(output_path, 'before_community_composition.pickle'), 'wb'))\n",
    "# pickle.dump(during_community_composition, open(os.path.join(output_path, 'during_community_composition.pickle'), 'wb'))\n",
    "# pickle.dump(after_community_composition, open(os.path.join(output_path, 'after_community_composition.pickle'), 'wb'))"
   ]
  },
  {
   "cell_type": "code",
   "execution_count": 22,
   "metadata": {},
   "outputs": [],
   "source": [
    "during_community_composition;"
   ]
  },
  {
   "cell_type": "code",
   "execution_count": 23,
   "metadata": {},
   "outputs": [
    {
     "data": {
      "text/plain": [
       "(7, 8, 8)"
      ]
     },
     "execution_count": 23,
     "metadata": {},
     "output_type": "execute_result"
    }
   ],
   "source": [
    "# get the different parties in each period\n",
    "before_parties = {party for comm_comp in before_community_composition.values() for party in comm_comp}\n",
    "during_parties = {party for comm_comp in during_community_composition.values() for party in comm_comp}\n",
    "after_parties = {party for comm_comp in after_community_composition.values() for party in comm_comp}  \n",
    "\n",
    "len(before_parties), len(during_parties), len(after_parties)"
   ]
  },
  {
   "cell_type": "code",
   "execution_count": 24,
   "metadata": {},
   "outputs": [
    {
     "data": {
      "text/plain": [
       "({'Alleanza Verdi Sinistra',\n",
       "  'Azione - Italia Viva',\n",
       "  'Forza Italia',\n",
       "  \"Fratelli d'Italia\",\n",
       "  'Lega',\n",
       "  'Movimento 5s',\n",
       "  'Partito Democratico'},\n",
       " {'Alleanza Verdi Sinistra',\n",
       "  'Azione - Italia Viva',\n",
       "  'Forza Italia',\n",
       "  \"Fratelli d'Italia\",\n",
       "  'Lega',\n",
       "  'Movimento 5s',\n",
       "  'Noi moderati',\n",
       "  'Partito Democratico'},\n",
       " {'Alleanza Verdi Sinistra',\n",
       "  'Azione - Italia Viva',\n",
       "  'Forza Italia',\n",
       "  \"Fratelli d'Italia\",\n",
       "  'Lega',\n",
       "  'Movimento 5s',\n",
       "  'Noi moderati',\n",
       "  'Partito Democratico'})"
      ]
     },
     "execution_count": 24,
     "metadata": {},
     "output_type": "execute_result"
    }
   ],
   "source": [
    "before_parties, during_parties, after_parties"
   ]
  },
  {
   "cell_type": "code",
   "execution_count": 32,
   "metadata": {},
   "outputs": [],
   "source": [
    "# output_path = f\"../../../results/SNAM/communities/comms_composition\"\n",
    "\n",
    "# #store the comms\n",
    "# pickle.dump(before_parties, open(os.path.join(output_path, 'before_parties.pickle'), 'wb'))\n",
    "# pickle.dump(during_parties, open(os.path.join(output_path, 'during_parties.pickle'), 'wb'))\n",
    "# pickle.dump(after_parties, open(os.path.join(output_path, 'after_parties.pickle'), 'wb'))"
   ]
  },
  {
   "cell_type": "markdown",
   "metadata": {},
   "source": [
    "##### Plot the community composition"
   ]
  },
  {
   "cell_type": "code",
   "execution_count": 25,
   "metadata": {},
   "outputs": [],
   "source": [
    "def get_values_to_plot(parties_per_period, comm_composition_per_period):\n",
    "    ys = {}\n",
    "    m = np.zeros([len(parties_per_period), len(comm_composition_per_period)])\n",
    "    \n",
    "    for (i, party) in enumerate(parties_per_period):\n",
    "        ys[party] = []\n",
    "        for (j, comm_comp) in enumerate(comm_composition_per_period):\n",
    "            cnt = collections.Counter(comm_comp)\n",
    "            if party in cnt:\n",
    "                ys[party].append(cnt[party])\n",
    "                m[i, j] = cnt[party]\n",
    "            else:\n",
    "                ys[party].append(0)\n",
    "                m[i, j] = 0\n",
    "    \n",
    "    return ys, m.sum(axis=0)"
   ]
  },
  {
   "cell_type": "code",
   "execution_count": 37,
   "metadata": {},
   "outputs": [],
   "source": [
    "def plot_party_dist_per_comm(ax, xs, parties_per_period, comm_composition_per_period):\n",
    "    ys, tot_per_comm = get_values_to_plot(parties_per_period, comm_composition_per_period)\n",
    "    # ys_val = list(ys.values()) / tot_per_comm\n",
    "    sorted_parties = sorted(parties_per_period)\n",
    "\n",
    "    #ys_val = [ys[party] for party in sorted_parties] / tot_per_comm\n",
    "    num = np.array([ys[party] for party in sorted_parties], dtype=float)\n",
    "    den = tot_per_comm\n",
    "    \n",
    "    ys_val = np.divide(num, den, out=np.zeros_like(num), where=den!=0)\n",
    "\n",
    "    ax.bar(xs, ys_val[0], bottom=0)\n",
    "    bottom = ys_val[0]\n",
    "\n",
    "    for i in range(1, len(parties_per_period)):\n",
    "        ax.bar(xs, ys_val[i], bottom=bottom)\n",
    "        bottom += ys_val[i]\n",
    "\n",
    "    legend = sorted_parties #list(ys.keys())\n",
    "    ax.legend(legend, loc='upper center', ncol=len(list(ys.keys())), bbox_to_anchor=(0.5, 1.2))\n",
    "\n",
    "    ax.set_xlabel(\"Communities\")\n",
    "    ax.set_ylabel(\"Party distribution\")\n",
    "\n",
    "    return ys, tot_per_comm, ys_val"
   ]
  },
  {
   "cell_type": "code",
   "execution_count": 42,
   "metadata": {},
   "outputs": [
    {
     "data": {
      "image/png": "[encoded data removed]",
      "text/plain": [
       "<Figure size 1500x1000 with 3 Axes>"
      ]
     },
     "metadata": {},
     "output_type": "display_data"
    }
   ],
   "source": [
    "fig, ax = plt.subplots(3, 1, figsize=(15, 10))\n",
    "\n",
    "xs_b = [f\"{i}\" for i in range(1, len(before_comms)+1)]\n",
    "xs_d = [f\"{i}\" for i in range(1, len(during_comms)+1)]\n",
    "xs_a = [f\"{i}\" for i in range(1, len(after_comms)+1)]\n",
    "\n",
    "# before \n",
    "ys_b, tot_per_comm_b, ys_val_b = plot_party_dist_per_comm(ax[0], xs_b, before_parties, before_community_composition.values())\n",
    "# during\n",
    "ys_d, tot_per_comm_d, ys_val_d = plot_party_dist_per_comm(ax[1], xs_d, during_parties, during_community_composition.values())\n",
    "# after\n",
    "ys_a, tot_per_comm_a, ys_val_a = plot_party_dist_per_comm(ax[2], xs_a, after_parties, after_community_composition.values())\n",
    "\n",
    "fig.tight_layout()"
   ]
  },
  {
   "cell_type": "code",
   "execution_count": 80,
   "metadata": {},
   "outputs": [],
   "source": [
    "# store data to plot in latex for the article\n",
    "def compute_data_for_latex(ys, tot_per_comm):\n",
    "    df = pd.DataFrame(ys)\n",
    "    print(len(tot_per_comm))\n",
    "    # add column with total number of representatives in the community\n",
    "    df['tot'] = tot_per_comm\n",
    "    # # divide by the total number of representatives in the community\n",
    "    df = df.div(df['tot'], axis=0)\n",
    "    # # add comm_id as column\n",
    "    df['comm_id'] = range(1, len(df)+1)\n",
    "    # # drop NaN\n",
    "    df = df.dropna()\n",
    "\n",
    "    return df\n"
   ]
  },
  {
   "cell_type": "code",
   "execution_count": 83,
   "metadata": {},
   "outputs": [
    {
     "name": "stdout",
     "output_type": "stream",
     "text": [
      "11\n",
      "14\n",
      "16\n"
     ]
    }
   ],
   "source": [
    "df_b = compute_data_for_latex(ys_b, tot_per_comm_b)\n",
    "df_b.to_csv(os.path.join(output_path, 'before_community_comp_data.csv'), index=False)\n",
    "\n",
    "df_d = compute_data_for_latex(ys_d, tot_per_comm_d)\n",
    "df_d.to_csv(os.path.join(output_path, 'during_community_comp_data.csv'), index=False)\n",
    "\n",
    "df_a = compute_data_for_latex(ys_a, tot_per_comm_a)\n",
    "df_a.to_csv(os.path.join(output_path, 'after_community_comp_data.csv'), index=False)"
   ]
  },
  {
   "cell_type": "code",
   "execution_count": 28,
   "metadata": {},
   "outputs": [
    {
     "data": {
      "image/png": "[encoded data removed]",
      "text/plain": [
       "<Figure size 1500x1000 with 3 Axes>"
      ]
     },
     "metadata": {},
     "output_type": "display_data"
    }
   ],
   "source": [
    "# weighted version where we take into account the indegree of each representative\n",
    "fig, ax = plt.subplots(3, 1, figsize=(15, 10))\n",
    "\n",
    "xs_b = [f\"{i}\" for i in range(1, len(before_comms)+1)]\n",
    "xs_d = [f\"{i}\" for i in range(1, len(during_comms)+1)]\n",
    "xs_a = [f\"{i}\" for i in range(1, len(after_comms)+1)]\n",
    "\n",
    "# before \n",
    "plot_party_dist_per_comm(ax[0], xs_b, before_parties, before_community_composition_w.values())\n",
    "# during\n",
    "plot_party_dist_per_comm(ax[1], xs_d, during_parties, during_community_composition_w.values())\n",
    "# after\n",
    "plot_party_dist_per_comm(ax[2], xs_a, after_parties, after_community_composition_w.values())\n",
    "\n",
    "fig.tight_layout()"
   ]
  },
  {
   "cell_type": "markdown",
   "metadata": {},
   "source": [
    "### Community analysis - Representatives"
   ]
  },
  {
   "cell_type": "code",
   "execution_count": 29,
   "metadata": {},
   "outputs": [],
   "source": [
    "# we want to know which candidate is in which community\n",
    "def find_candidate(comm, representatives_df):\n",
    "    to_return = []\n",
    "    ids_representatives = representatives_df[\"ids\"].values\n",
    "\n",
    "    for user in comm:\n",
    "        if user in ids_representatives:\n",
    "            candidate_name = representatives_df[representatives_df[\"ids\"] == user][\"Name\"].values[0]\n",
    "            candidate_party = representatives_df[representatives_df[\"ids\"] == user][\"Party\"].values[0]\n",
    "            to_return.append((candidate_name, candidate_party))\n",
    "\n",
    "    return to_return"
   ]
  },
  {
   "cell_type": "code",
   "execution_count": 86,
   "metadata": {},
   "outputs": [],
   "source": [
    "candidates_per_comm_before = {comm_id: find_candidate(comm, representatives_df) for comm_id, comm in enumerate(before_comms)}\n",
    "candidates_per_comm_during = {comm_id: find_candidate(comm, representatives_df) for comm_id, comm in enumerate(during_comms)}\n",
    "candidates_per_comm_after = {comm_id: find_candidate(comm, representatives_df) for comm_id, comm in enumerate(after_comms)}"
   ]
  },
  {
   "cell_type": "code",
   "execution_count": 53,
   "metadata": {},
   "outputs": [],
   "source": [
    "# comm_comp = after_community_composition\n",
    "# cands = candidates_per_comm_after\n",
    "\n",
    "# for i in range(0, len(comm_comp)):\n",
    "#     print(len(comm_comp[i]) == len(cands[i]))"
   ]
  },
  {
   "cell_type": "code",
   "execution_count": 87,
   "metadata": {},
   "outputs": [
    {
     "data": {
      "text/plain": [
       "{0: [('Rotondi Gianfranco', \"Fratelli d'Italia\"),\n",
       "  ('La Russa Ignazio', \"Fratelli d'Italia\")],\n",
       " 1: [('Conte Giuseppe', 'Movimento 5s'),\n",
       "  ('Raffa Angela', 'Movimento 5s'),\n",
       "  ('Fontana Ilaria', 'Movimento 5s')],\n",
       " 2: [('Letta Enrico', 'Partito Democratico'),\n",
       "  ('Misiani Antonio', 'Partito Democratico'),\n",
       "  ('Amendola Vincenzo', 'Partito Democratico'),\n",
       "  ('Ascani Anna', 'Partito Democratico'),\n",
       "  ('Fratoianni Nicola', 'Alleanza Verdi Sinistra'),\n",
       "  ('Piccolotti Elisabetta', 'Alleanza Verdi Sinistra'),\n",
       "  ('Braga Chiara', 'Partito Democratico'),\n",
       "  ('Quartapelle Procopio Lia', 'Partito Democratico'),\n",
       "  ('Bazoli Alfredo', 'Partito Democratico'),\n",
       "  ('Evi Eleonora', 'Alleanza Verdi Sinistra'),\n",
       "  ('Cottarelli Carlo', 'Partito Democratico'),\n",
       "  ('Fassino Piero', 'Partito Democratico'),\n",
       "  ('Scotto Arturo', 'Partito Democratico'),\n",
       "  ('Vaccari Stefano', 'Partito Democratico'),\n",
       "  ('Lorenzin Beatrice', 'Partito Democratico'),\n",
       "  ('Irto Nicola', 'Partito Democratico'),\n",
       "  ('Zingaretti Nicola', 'Partito Democratico'),\n",
       "  ('Bonelli Angelo', 'Alleanza Verdi Sinistra'),\n",
       "  (\"D'Elia Cecilia\", 'Partito Democratico'),\n",
       "  ('Orlando Andrea', 'Partito Democratico'),\n",
       "  ('Boldrini Laura', 'Partito Democratico'),\n",
       "  ('Orfini Matteo', 'Partito Democratico'),\n",
       "  ('Berruto Mauro', 'Partito Democratico'),\n",
       "  ('Malpezzi Simona Flavia', 'Partito Democratico'),\n",
       "  ('Soumahoro Aboubakar', 'Alleanza Verdi Sinistra'),\n",
       "  ('Provenzano Giuseppe', 'Partito Democratico'),\n",
       "  ('Valente Valeria', 'Partito Democratico'),\n",
       "  ('Borghi Enrico', 'Partito Democratico'),\n",
       "  ('Serrachiani Debora', 'Partito Democratico'),\n",
       "  ('Zan Alessandro', 'Partito Democratico'),\n",
       "  ('Zampa Sandra', 'Partito Democratico'),\n",
       "  ('Fina Michele', 'Partito Democratico'),\n",
       "  ('Gribaudo Chiara', 'Partito Democratico')],\n",
       " 3: [('Sbrollini Daniela', 'Azione - Italia Viva'),\n",
       "  ('Gadda Maria Chiara', 'Azione - Italia Viva'),\n",
       "  ('De Monte Isabella', 'Azione - Italia Viva'),\n",
       "  ('Calenda Carlo', 'Azione - Italia Viva'),\n",
       "  ('Paita Raffaella', 'Azione - Italia Viva'),\n",
       "  ('Costa Enrico', 'Azione - Italia Viva'),\n",
       "  ('Scalfarotto Ivan', 'Azione - Italia Viva'),\n",
       "  ('Bonifazi Francesco', 'Azione - Italia Viva'),\n",
       "  ('Rosato Ettore', 'Azione - Italia Viva'),\n",
       "  ('Pastorella Giulia', 'Azione - Italia Viva'),\n",
       "  ('Lombardo Marco', 'Azione - Italia Viva'),\n",
       "  ('Richetti Matteo', 'Azione - Italia Viva'),\n",
       "  ('Carfagna Maria Rosaria', 'Azione - Italia Viva'),\n",
       "  ('Rixi Edoardo', 'Lega'),\n",
       "  ('Renzi Matteo', 'Azione - Italia Viva'),\n",
       "  ('Gelmini Mariastella', 'Azione - Italia Viva'),\n",
       "  ('Bonetti Elena', 'Azione - Italia Viva'),\n",
       "  ('Boschi Maria Elena', 'Azione - Italia Viva'),\n",
       "  ('Benzoni Fabrizio', 'Azione - Italia Viva'),\n",
       "  ('Faraone Davide', 'Azione - Italia Viva'),\n",
       "  ('Marattin Luigi', 'Azione - Italia Viva')],\n",
       " 4: [('Tajani Antonio', 'Forza Italia'),\n",
       "  ('Pagano Nazario', 'Forza Italia'),\n",
       "  ('Berlusconi Silvio', 'Forza Italia'),\n",
       "  (\"Mule' Giorgio\", 'Forza Italia'),\n",
       "  ('Bergamini Deborah', 'Forza Italia'),\n",
       "  ('Gasparri Maurizio', 'Forza Italia'),\n",
       "  ('Cattaneo Alessandro', 'Forza Italia'),\n",
       "  ('Ronzulli Licia', 'Forza Italia'),\n",
       "  ('Cappellacci Ugo', 'Forza Italia')],\n",
       " 5: [],\n",
       " 6: [('Cirielli Edmondo', \"Fratelli d'Italia\"),\n",
       "  ('Fitto Raffaele', \"Fratelli d'Italia\"),\n",
       "  ('Montaruli Augusta', \"Fratelli d'Italia\"),\n",
       "  ('Borghi Claudio', 'Lega'),\n",
       "  ('Meloni Giorgia', \"Fratelli d'Italia\"),\n",
       "  ('De Bertoldi Andrea', \"Fratelli d'Italia\"),\n",
       "  ('Ravetto Laura', 'Lega'),\n",
       "  ('Garnero Santanchè Daniela', \"Fratelli d'Italia\"),\n",
       "  ('Bagnai Alberto', 'Lega'),\n",
       "  ('Morelli Alessandro', 'Lega'),\n",
       "  ('Cavandoli Laura', 'Lega'),\n",
       "  ('Zoffili Eugenio', 'Lega'),\n",
       "  ('Malan Lucio', \"Fratelli d'Italia\"),\n",
       "  (\"Terzi Di Sant'Agata Giuliomaria\", \"Fratelli d'Italia\"),\n",
       "  ('Menia Roberto', \"Fratelli d'Italia\"),\n",
       "  ('Marcheschi Paolo', \"Fratelli d'Italia\"),\n",
       "  ('La Porta Chiara', \"Fratelli d'Italia\"),\n",
       "  ('Cerreto Marco', \"Fratelli d'Italia\"),\n",
       "  ('Delmastro Delle Vedove Andrea', \"Fratelli d'Italia\"),\n",
       "  ('Colosimo Chiara', \"Fratelli d'Italia\"),\n",
       "  ('Congedo Saverio', \"Fratelli d'Italia\"),\n",
       "  ('Rauti Isabella', \"Fratelli d'Italia\"),\n",
       "  ('Berrino Gianni', \"Fratelli d'Italia\"),\n",
       "  ('Salvini Matteo', 'Lega'),\n",
       "  ('Calandrini Nicola', \"Fratelli d'Italia\"),\n",
       "  ('Bignami Galeazzo', \"Fratelli d'Italia\"),\n",
       "  ('Nisini Tiziana', 'Lega'),\n",
       "  ('Rotelli Mauro', \"Fratelli d'Italia\"),\n",
       "  ('Deidda Salvatore', \"Fratelli d'Italia\"),\n",
       "  ('Ciaburro Monica', \"Fratelli d'Italia\")],\n",
       " 7: [],\n",
       " 8: [],\n",
       " 9: [],\n",
       " 10: []}"
      ]
     },
     "execution_count": 87,
     "metadata": {},
     "output_type": "execute_result"
    }
   ],
   "source": [
    "candidates_per_comm_before"
   ]
  },
  {
   "cell_type": "code",
   "execution_count": 88,
   "metadata": {},
   "outputs": [
    {
     "data": {
      "text/plain": [
       "{0: [('Filini Francesco', \"Fratelli d'Italia\"),\n",
       "  ('Conte Giuseppe', 'Movimento 5s'),\n",
       "  ('Pirro Elisa', 'Movimento 5s'),\n",
       "  ('Fontana Ilaria', 'Movimento 5s'),\n",
       "  ('Costa Sergio', 'Movimento 5s'),\n",
       "  ('Appendino Chiara', 'Movimento 5s'),\n",
       "  ('Santilo Agostino', 'Movimento 5s')],\n",
       " 1: [('Fornaro Federico', 'Partito Democratico'),\n",
       "  ('Scotto Arturo', 'Partito Democratico'),\n",
       "  ('Guerra Maria Cecilia', 'Partito Democratico')],\n",
       " 2: [('Lupi Maurizio', 'Noi moderati'),\n",
       "  (\"Mule' Giorgio\", 'Forza Italia'),\n",
       "  ('Pella Roberto', 'Forza Italia'),\n",
       "  ('Rotondi Gianfranco', \"Fratelli d'Italia\"),\n",
       "  ('Cirielli Edmondo', \"Fratelli d'Italia\"),\n",
       "  ('Fitto Raffaele', \"Fratelli d'Italia\"),\n",
       "  ('Montaruli Augusta', \"Fratelli d'Italia\"),\n",
       "  ('Pucciarelli Stefania', 'Lega'),\n",
       "  ('Borghi Claudio', 'Lega'),\n",
       "  ('Meloni Giorgia', \"Fratelli d'Italia\"),\n",
       "  ('De Bertoldi Andrea', \"Fratelli d'Italia\"),\n",
       "  ('Ravetto Laura', 'Lega'),\n",
       "  ('Sasso Rossano', 'Lega'),\n",
       "  ('Bergamini Deborah', 'Forza Italia'),\n",
       "  ('Bitonci Massimo', 'Lega'),\n",
       "  ('Garnero Santanchè Daniela', \"Fratelli d'Italia\"),\n",
       "  ('Bagnai Alberto', 'Lega'),\n",
       "  ('Michelotti Francesco', \"Fratelli d'Italia\"),\n",
       "  ('Tremonti Giulio', \"Fratelli d'Italia\"),\n",
       "  ('Zoffili Eugenio', 'Lega'),\n",
       "  ('Malan Lucio', \"Fratelli d'Italia\"),\n",
       "  ('Donzelli Giovanni', \"Fratelli d'Italia\"),\n",
       "  (\"Terzi Di Sant'Agata Giuliomaria\", \"Fratelli d'Italia\"),\n",
       "  ('Bellucci Maria Teresa', \"Fratelli d'Italia\"),\n",
       "  ('Menia Roberto', \"Fratelli d'Italia\"),\n",
       "  ('Rossi Fabrizio', \"Fratelli d'Italia\"),\n",
       "  ('Zanettin Pierantonio', 'Forza Italia'),\n",
       "  ('Marcheschi Paolo', \"Fratelli d'Italia\"),\n",
       "  ('Iezzi Igor', 'Lega'),\n",
       "  ('Silvestroni Marco', \"Fratelli d'Italia\"),\n",
       "  ('La Porta Chiara', \"Fratelli d'Italia\"),\n",
       "  ('Guerini Lorenzo', 'Partito Democratico'),\n",
       "  ('Gava Vannia', 'Lega'),\n",
       "  ('Rampelli Fabio', \"Fratelli d'Italia\"),\n",
       "  ('Potenti Manfredi', 'Lega'),\n",
       "  (\"Urzi' Alessandro\", \"Fratelli d'Italia\"),\n",
       "  ('De Priamo Andrea', \"Fratelli d'Italia\"),\n",
       "  ('Urso Adolfo', \"Fratelli d'Italia\"),\n",
       "  ('Cerreto Marco', \"Fratelli d'Italia\"),\n",
       "  ('Delmastro Delle Vedove Andrea', \"Fratelli d'Italia\"),\n",
       "  ('Colosimo Chiara', \"Fratelli d'Italia\"),\n",
       "  ('Frassinetti Paola', \"Fratelli d'Italia\"),\n",
       "  ('Rizzetto Walter', \"Fratelli d'Italia\"),\n",
       "  ('Dreosto Marco', 'Lega'),\n",
       "  ('Berlusconi Silvio', 'Forza Italia'),\n",
       "  ('Congedo Saverio', \"Fratelli d'Italia\"),\n",
       "  ('Rauti Isabella', \"Fratelli d'Italia\"),\n",
       "  ('Rixi Edoardo', 'Lega'),\n",
       "  ('Tajani Antonio', 'Forza Italia'),\n",
       "  ('Lollobrigida Francesco', \"Fratelli d'Italia\"),\n",
       "  ('Gasparri Maurizio', 'Forza Italia'),\n",
       "  ('Ronzulli Licia', 'Forza Italia'),\n",
       "  ('Rosa Gianni', \"Fratelli d'Italia\"),\n",
       "  ('Caretta Maria Cristina', \"Fratelli d'Italia\"),\n",
       "  ('Salvini Matteo', 'Lega'),\n",
       "  ('Mollicone Federico', \"Fratelli d'Italia\"),\n",
       "  ('Fontana Lorenzo', 'Lega'),\n",
       "  ('Calandrini Nicola', \"Fratelli d'Italia\"),\n",
       "  ('Bignami Galeazzo', \"Fratelli d'Italia\"),\n",
       "  ('Nisini Tiziana', 'Lega'),\n",
       "  ('Rotelli Mauro', \"Fratelli d'Italia\"),\n",
       "  ('Ciocchetti Luciano', \"Fratelli d'Italia\"),\n",
       "  ('Deidda Salvatore', \"Fratelli d'Italia\"),\n",
       "  ('Gemmato Marcello', \"Fratelli d'Italia\"),\n",
       "  ('Varchi Maria Carolina', \"Fratelli d'Italia\"),\n",
       "  ('Ciaburro Monica', \"Fratelli d'Italia\")],\n",
       " 3: [],\n",
       " 4: [('Furfaro Marco', 'Partito Democratico'),\n",
       "  ('Letta Enrico', 'Partito Democratico'),\n",
       "  ('Amendola Vincenzo', 'Partito Democratico'),\n",
       "  ('Ascani Anna', 'Partito Democratico'),\n",
       "  ('Fratoianni Nicola', 'Alleanza Verdi Sinistra'),\n",
       "  ('Parrini Dario', 'Partito Democratico'),\n",
       "  ('Piccolotti Elisabetta', 'Alleanza Verdi Sinistra'),\n",
       "  ('Braga Chiara', 'Partito Democratico'),\n",
       "  ('Quartapelle Procopio Lia', 'Partito Democratico'),\n",
       "  ('Bazoli Alfredo', 'Partito Democratico'),\n",
       "  ('Nicita Antonio', 'Partito Democratico'),\n",
       "  ('Schlein Elly', 'Partito Democratico'),\n",
       "  ('Manzi Irene', 'Partito Democratico'),\n",
       "  ('Evi Eleonora', 'Alleanza Verdi Sinistra'),\n",
       "  ('Porta Fabio', 'Partito Democratico'),\n",
       "  ('Scarpa Rachele', 'Partito Democratico'),\n",
       "  ('Cottarelli Carlo', 'Partito Democratico'),\n",
       "  ('Fassino Piero', 'Partito Democratico'),\n",
       "  ('Mari Francesco', 'Alleanza Verdi Sinistra'),\n",
       "  ('Vaccari Stefano', 'Partito Democratico'),\n",
       "  ('Lorenzin Beatrice', 'Partito Democratico'),\n",
       "  ('Casu Andrea', 'Partito Democratico'),\n",
       "  ('Franceschini Dario', 'Partito Democratico'),\n",
       "  ('Madia Maria Anna', 'Partito Democratico'),\n",
       "  ('Bonelli Angelo', 'Alleanza Verdi Sinistra'),\n",
       "  (\"D'Elia Cecilia\", 'Partito Democratico'),\n",
       "  ('Orlando Andrea', 'Partito Democratico'),\n",
       "  ('Boldrini Laura', 'Partito Democratico'),\n",
       "  ('Berruto Mauro', 'Partito Democratico'),\n",
       "  ('Delrio Graziano', 'Partito Democratico'),\n",
       "  ('Malpezzi Simona Flavia', 'Partito Democratico'),\n",
       "  ('Soumahoro Aboubakar', 'Alleanza Verdi Sinistra'),\n",
       "  ('Provenzano Giuseppe', 'Partito Democratico'),\n",
       "  ('Valente Valeria', 'Partito Democratico'),\n",
       "  ('Borghi Enrico', 'Partito Democratico'),\n",
       "  ('Serrachiani Debora', 'Partito Democratico'),\n",
       "  ('Zan Alessandro', 'Partito Democratico'),\n",
       "  ('Zampa Sandra', 'Partito Democratico'),\n",
       "  ('Crisanti Andrea', 'Partito Democratico'),\n",
       "  ('Fina Michele', 'Partito Democratico'),\n",
       "  ('Gribaudo Chiara', 'Partito Democratico'),\n",
       "  ('Ghirra Francesca', 'Alleanza Verdi Sinistra'),\n",
       "  ('Speranza Roberto', 'Partito Democratico')],\n",
       " 5: [('Sbrollini Daniela', 'Azione - Italia Viva'),\n",
       "  ('Giachetti Roberto', 'Azione - Italia Viva'),\n",
       "  ('Calenda Carlo', 'Azione - Italia Viva'),\n",
       "  ('Paita Raffaella', 'Azione - Italia Viva'),\n",
       "  ('Costa Enrico', 'Azione - Italia Viva'),\n",
       "  ('Scalfarotto Ivan', 'Azione - Italia Viva'),\n",
       "  ('Bonifazi Francesco', 'Azione - Italia Viva'),\n",
       "  ('Rosato Ettore', 'Azione - Italia Viva'),\n",
       "  ('Versace Giusy', 'Azione - Italia Viva'),\n",
       "  ('Fregolent Silvia', 'Azione - Italia Viva'),\n",
       "  ('Castiglione Giuseppe', 'Azione - Italia Viva'),\n",
       "  ('Pastorella Giulia', 'Azione - Italia Viva'),\n",
       "  ('Lombardo Marco', 'Azione - Italia Viva'),\n",
       "  ('Del Barba Mauro', 'Azione - Italia Viva'),\n",
       "  ('Richetti Matteo', 'Azione - Italia Viva'),\n",
       "  ('Carfagna Maria Rosaria', 'Azione - Italia Viva'),\n",
       "  ('Renzi Matteo', 'Azione - Italia Viva'),\n",
       "  ('Gelmini Mariastella', 'Azione - Italia Viva'),\n",
       "  ('Bonetti Elena', 'Azione - Italia Viva'),\n",
       "  ('Boschi Maria Elena', 'Azione - Italia Viva'),\n",
       "  ('Benzoni Fabrizio', 'Azione - Italia Viva'),\n",
       "  ('Faraone Davide', 'Azione - Italia Viva'),\n",
       "  ('Marattin Luigi', 'Azione - Italia Viva')],\n",
       " 6: [],\n",
       " 7: [],\n",
       " 8: [],\n",
       " 9: [],\n",
       " 10: [],\n",
       " 11: [],\n",
       " 12: [],\n",
       " 13: []}"
      ]
     },
     "execution_count": 88,
     "metadata": {},
     "output_type": "execute_result"
    }
   ],
   "source": [
    "candidates_per_comm_during"
   ]
  },
  {
   "cell_type": "code",
   "execution_count": 89,
   "metadata": {},
   "outputs": [
    {
     "data": {
      "text/plain": [
       "{0: [('Rotondi Gianfranco', \"Fratelli d'Italia\"),\n",
       "  ('Benzoni Fabrizio', 'Azione - Italia Viva')],\n",
       " 1: [('Letta Enrico', 'Partito Democratico'),\n",
       "  ('Ascani Anna', 'Partito Democratico'),\n",
       "  ('Boldrini Laura', 'Partito Democratico'),\n",
       "  ('Orfini Matteo', 'Partito Democratico'),\n",
       "  ('Malpezzi Simona Flavia', 'Partito Democratico'),\n",
       "  ('Soumahoro Aboubakar', 'Alleanza Verdi Sinistra'),\n",
       "  ('Provenzano Giuseppe', 'Partito Democratico'),\n",
       "  ('Borghi Enrico', 'Partito Democratico'),\n",
       "  ('Zan Alessandro', 'Partito Democratico'),\n",
       "  ('Zampa Sandra', 'Partito Democratico'),\n",
       "  ('Fina Michele', 'Partito Democratico')],\n",
       " 2: [('Conte Giuseppe', 'Movimento 5s'),\n",
       "  ('Fontana Ilaria', 'Movimento 5s'),\n",
       "  ('Nave Luigi', 'Movimento 5s'),\n",
       "  ('Appendino Chiara', 'Movimento 5s'),\n",
       "  ('Santilo Agostino', 'Movimento 5s')],\n",
       " 3: [],\n",
       " 4: [('Lupi Maurizio', 'Noi moderati'),\n",
       "  ('Gardini Elisabetta', \"Fratelli d'Italia\")],\n",
       " 5: [('Bonelli Angelo', 'Alleanza Verdi Sinistra'),\n",
       "  ('Orlando Andrea', 'Partito Democratico'),\n",
       "  ('Quartapelle Procopio Lia', 'Partito Democratico'),\n",
       "  ('De Micheli Paola', 'Partito Democratico'),\n",
       "  ('Bazoli Alfredo', 'Partito Democratico'),\n",
       "  ('Fratoianni Nicola', 'Alleanza Verdi Sinistra'),\n",
       "  ('Evi Eleonora', 'Alleanza Verdi Sinistra'),\n",
       "  ('Serrachiani Debora', 'Partito Democratico'),\n",
       "  ('Delrio Graziano', 'Partito Democratico'),\n",
       "  ('Scotto Arturo', 'Partito Democratico')],\n",
       " 6: [('Fitto Raffaele', \"Fratelli d'Italia\"),\n",
       "  ('Montaruli Augusta', \"Fratelli d'Italia\"),\n",
       "  ('Meloni Giorgia', \"Fratelli d'Italia\"),\n",
       "  ('De Bertoldi Andrea', \"Fratelli d'Italia\"),\n",
       "  ('Bergamini Deborah', 'Forza Italia'),\n",
       "  ('Garnero Santanchè Daniela', \"Fratelli d'Italia\"),\n",
       "  ('La Russa Ignazio', \"Fratelli d'Italia\"),\n",
       "  (\"Terzi Di Sant'Agata Giuliomaria\", \"Fratelli d'Italia\"),\n",
       "  ('Bellucci Maria Teresa', \"Fratelli d'Italia\"),\n",
       "  ('Menia Roberto', \"Fratelli d'Italia\"),\n",
       "  ('Rossi Fabrizio', \"Fratelli d'Italia\"),\n",
       "  ('Marcheschi Paolo', \"Fratelli d'Italia\"),\n",
       "  ('La Porta Chiara', \"Fratelli d'Italia\"),\n",
       "  ('De Priamo Andrea', \"Fratelli d'Italia\"),\n",
       "  ('Cerreto Marco', \"Fratelli d'Italia\"),\n",
       "  ('Delmastro Delle Vedove Andrea', \"Fratelli d'Italia\"),\n",
       "  ('Colosimo Chiara', \"Fratelli d'Italia\"),\n",
       "  ('Frassinetti Paola', \"Fratelli d'Italia\"),\n",
       "  ('Rizzetto Walter', \"Fratelli d'Italia\"),\n",
       "  ('Congedo Saverio', \"Fratelli d'Italia\"),\n",
       "  ('Rauti Isabella', \"Fratelli d'Italia\"),\n",
       "  ('Tajani Antonio', 'Forza Italia'),\n",
       "  ('Lollobrigida Francesco', \"Fratelli d'Italia\"),\n",
       "  ('Gasparri Maurizio', 'Forza Italia'),\n",
       "  ('Ronzulli Licia', 'Forza Italia'),\n",
       "  ('Mollicone Federico', \"Fratelli d'Italia\"),\n",
       "  ('Calandrini Nicola', \"Fratelli d'Italia\"),\n",
       "  ('Rotelli Mauro', \"Fratelli d'Italia\"),\n",
       "  ('Ciocchetti Luciano', \"Fratelli d'Italia\"),\n",
       "  ('Deidda Salvatore', \"Fratelli d'Italia\"),\n",
       "  ('Gemmato Marcello', \"Fratelli d'Italia\")],\n",
       " 7: [('Cecchetti Fabrizio', 'Lega'),\n",
       "  ('Borghi Claudio', 'Lega'),\n",
       "  ('Ravetto Laura', 'Lega'),\n",
       "  ('Bitonci Massimo', 'Lega'),\n",
       "  ('Zoffili Eugenio', 'Lega'),\n",
       "  ('Malan Lucio', \"Fratelli d'Italia\"),\n",
       "  ('Potenti Manfredi', 'Lega'),\n",
       "  ('Rixi Edoardo', 'Lega'),\n",
       "  ('Salvini Matteo', 'Lega')],\n",
       " 8: [],\n",
       " 9: [('Musumeci Nello', \"Fratelli d'Italia\")],\n",
       " 10: [],\n",
       " 11: [],\n",
       " 12: [],\n",
       " 13: [],\n",
       " 14: [],\n",
       " 15: [('Sbrollini Daniela', 'Azione - Italia Viva'),\n",
       "  ('Gadda Maria Chiara', 'Azione - Italia Viva'),\n",
       "  ('Calenda Carlo', 'Azione - Italia Viva'),\n",
       "  ('Paita Raffaella', 'Azione - Italia Viva'),\n",
       "  ('Costa Enrico', 'Azione - Italia Viva'),\n",
       "  ('Scalfarotto Ivan', 'Azione - Italia Viva'),\n",
       "  ('Bonifazi Francesco', 'Azione - Italia Viva'),\n",
       "  ('Rosato Ettore', 'Azione - Italia Viva'),\n",
       "  ('Versace Giusy', 'Azione - Italia Viva'),\n",
       "  ('Cottarelli Carlo', 'Partito Democratico'),\n",
       "  ('Pastorella Giulia', 'Azione - Italia Viva'),\n",
       "  ('Lombardo Marco', 'Azione - Italia Viva'),\n",
       "  ('Richetti Matteo', 'Azione - Italia Viva'),\n",
       "  ('Renzi Matteo', 'Azione - Italia Viva'),\n",
       "  ('Gelmini Mariastella', 'Azione - Italia Viva'),\n",
       "  ('Bonetti Elena', 'Azione - Italia Viva'),\n",
       "  ('Boschi Maria Elena', 'Azione - Italia Viva'),\n",
       "  ('Faraone Davide', 'Azione - Italia Viva'),\n",
       "  ('Marattin Luigi', 'Azione - Italia Viva')]}"
      ]
     },
     "execution_count": 89,
     "metadata": {},
     "output_type": "execute_result"
    }
   ],
   "source": [
    "candidates_per_comm_after"
   ]
  },
  {
   "cell_type": "markdown",
   "metadata": {},
   "source": [
    "## Store communities' data"
   ]
  },
  {
   "cell_type": "code",
   "execution_count": 98,
   "metadata": {},
   "outputs": [],
   "source": [
    "output_path = f'../../../data/04_communities'\n",
    "\n",
    "# we store the following data for each communtity. For each user,\n",
    "# - the user id\n",
    "# - the community they belong to\n",
    "# - the most common party in the community"
   ]
  },
  {
   "cell_type": "code",
   "execution_count": 91,
   "metadata": {},
   "outputs": [],
   "source": [
    "party_acronyms = {\n",
    "    'Alleanza Verdi Sinistra': 'AVS',\n",
    "    'Azione - Italia Viva': 'Az-Iv',\n",
    "    'Forza Italia': 'FI',\n",
    "    \"Fratelli d'Italia\": 'FdI',\n",
    "    'Lega': 'L',\n",
    "    'Movimento 5s': 'M5s',\n",
    "    'Noi moderati': 'NM',\n",
    "    'Partito Democratico': 'PD'\n",
    "}"
   ]
  },
  {
   "cell_type": "code",
   "execution_count": 92,
   "metadata": {},
   "outputs": [],
   "source": [
    "def get_label(comm_comp):\n",
    "    parties = list(set(comm_comp))\n",
    "    parties_acr = [party_acronyms[party] for party in parties]\n",
    "    label = \";\".join(parties_acr) \n",
    "    return label"
   ]
  },
  {
   "cell_type": "code",
   "execution_count": 101,
   "metadata": {},
   "outputs": [
    {
     "name": "stdout",
     "output_type": "stream",
     "text": [
      "Community 0, 1418 users, Az-Iv;FdI label, 2 parties, most common party: Fratelli d'Italia\n",
      "Community 1, 1940 users, AVS;PD label, 2 parties, most common party: Partito Democratico\n",
      "Community 2, 2065 users, M5s label, 1 parties, most common party: Movimento 5s\n",
      "Community 3, 33 users,  label, 0 parties, most common party: \n",
      "Community 4, 36 users, NM;FdI label, 2 parties, most common party: Noi moderati\n",
      "Community 5, 421 users, AVS;PD label, 2 parties, most common party: Partito Democratico\n",
      "Community 6, 2244 users, FI;FdI label, 2 parties, most common party: Fratelli d'Italia\n",
      "Community 7, 3870 users, L;FdI label, 2 parties, most common party: Lega\n",
      "Community 8, 94 users,  label, 0 parties, most common party: \n",
      "Community 9, 27 users, FdI label, 1 parties, most common party: Fratelli d'Italia\n",
      "Community 10, 74 users,  label, 0 parties, most common party: \n",
      "Community 11, 67 users,  label, 0 parties, most common party: \n",
      "Community 12, 27 users,  label, 0 parties, most common party: \n",
      "Community 13, 49 users,  label, 0 parties, most common party: \n",
      "Community 14, 74 users,  label, 0 parties, most common party: \n",
      "Community 15, 2435 users, PD;Az-Iv label, 2 parties, most common party: Azione - Italia Viva\n"
     ]
    }
   ],
   "source": [
    "when = 'after' # during after\n",
    "dict_comms = {\n",
    "    'before': before_comms,\n",
    "    'during': during_comms,\n",
    "    'after': after_comms\n",
    "}\n",
    "dict_composition = {\n",
    "    'before': before_community_composition,\n",
    "    'during': during_community_composition,\n",
    "    'after': after_community_composition\n",
    "}\n",
    "\n",
    "communities = dict_comms[when]\n",
    "communities_composition = dict_composition[when]\n",
    "fout = open(os.path.join(output_path, f'{when}_communities.csv'), 'w')\n",
    "\n",
    "with fout:\n",
    "    writer = csv.writer(fout)\n",
    "    writer.writerow(['user_id', 'community_id', 'comm_label','most_common_party', 'all_parties'])\n",
    "\n",
    "    for index in range(0, len(communities)):\n",
    "        # get the community\n",
    "        comm = communities[index]\n",
    "        # get the parties in the community\n",
    "        parties = communities_composition[index]\n",
    "\n",
    "        if parties:\n",
    "            # get the most common party\n",
    "            most_common_party = collections.Counter(parties).most_common(1)[0][0]\n",
    "        else:\n",
    "            most_common_party = \"\"\n",
    "\n",
    "        # get all parties\n",
    "        parties = list(set(parties))\n",
    "        parties_to_write = \";\".join(parties)\n",
    "\n",
    "        # comm_label\n",
    "        comm_label = get_label(parties)\n",
    "\n",
    "        print(f\"Community {index}, {len(comm)} users, {comm_label} label, {len(parties)} parties, most common party: {most_common_party}\")\n",
    "\n",
    "        for user in comm:\n",
    "            writer.writerow([user, index, comm_label, most_common_party, parties_to_write])"
   ]
  },
  {
   "cell_type": "code",
   "execution_count": 84,
   "metadata": {},
   "outputs": [],
   "source": [
    "# BEFORE\n",
    "# Community 0, 406 users, 1 parties, most common party: Fratelli d'Italia\n",
    "# Community 1, 2057 users, 1 parties, most common party: Movimento 5s\n",
    "# Community 2, 1832 users, 2 parties, most common party: Partito Democratico\n",
    "# Community 3, 2827 users, 2 parties, most common party: Azione - Italia Viva\n",
    "# Community 4, 85 users, 1 parties, most common party: Forza Italia\n",
    "# Community 5, 29 users, 0 parties, most common party: \n",
    "# Community 6, 1845 users, 2 parties, most common party: Fratelli d'Italia\n",
    "# Community 7, 2549 users, 0 parties, most common party: \n",
    "# Community 8, 89 users, 0 parties, most common party: \n",
    "# Community 9, 92 users, 0 parties, most common party: \n",
    "# Community 10, 33 users, 0 parties, most common party: "
   ]
  },
  {
   "cell_type": "code",
   "execution_count": null,
   "metadata": {},
   "outputs": [],
   "source": [
    "# DURING\n",
    "# Community 0, 2874 users, 2 parties, most common party: Movimento 5s\n",
    "# Community 1, 478 users, 1 parties, most common party: Partito Democratico\n",
    "# Community 2, 2568 users, 5 parties, most common party: Fratelli d'Italia\n",
    "# Community 3, 23 users, 0 parties, most common party: \n",
    "# Community 4, 2700 users, 2 parties, most common party: Partito Democratico\n",
    "# Community 5, 3942 users, 1 parties, most common party: Azione - Italia Viva\n",
    "# Community 6, 22 users, 0 parties, most common party: \n",
    "# Community 7, 3205 users, 0 parties, most common party: \n",
    "# Community 8, 165 users, 0 parties, most common party: \n",
    "# Community 9, 40 users, 0 parties, most common party: \n",
    "# Community 10, 486 users, 0 parties, most common party: \n",
    "# Community 11, 216 users, 0 parties, most common party: \n",
    "# Community 12, 227 users, 0 parties, most common party: \n",
    "# Community 13, 46 users, 0 parties, most common party: "
   ]
  },
  {
   "cell_type": "code",
   "execution_count": null,
   "metadata": {},
   "outputs": [],
   "source": [
    "# AFTER\n",
    "# Community 0, 1418 users, 2 parties, most common party: Azione - Italia Viva\n",
    "# Community 1, 1940 users, 2 parties, most common party: Partito Democratico\n",
    "# Community 2, 2065 users, 1 parties, most common party: Movimento 5s\n",
    "# Community 3, 33 users, 0 parties, most common party: \n",
    "# Community 4, 36 users, 2 parties, most common party: Noi moderati\n",
    "# Community 5, 421 users, 2 parties, most common party: Partito Democratico\n",
    "# Community 6, 2244 users, 2 parties, most common party: Fratelli d'Italia\n",
    "# Community 7, 3870 users, 2 parties, most common party: Lega\n",
    "# Community 8, 94 users, 0 parties, most common party: \n",
    "# Community 9, 27 users, 1 parties, most common party: Fratelli d'Italia\n",
    "# Community 10, 74 users, 0 parties, most common party: \n",
    "# Community 11, 67 users, 0 parties, most common party: \n",
    "# Community 12, 27 users, 0 parties, most common party: \n",
    "# Community 13, 49 users, 0 parties, most common party: \n",
    "# Community 14, 74 users, 0 parties, most common party: \n",
    "# Community 15, 2435 users, 2 parties, most common party: Azione - Italia Viva"
   ]
  },
  {
   "cell_type": "code",
   "execution_count": 106,
   "metadata": {},
   "outputs": [],
   "source": [
    "# just to be sure, we store the data together\n",
    "# (comm_id, comm, comm_composition)\n",
    "# for each period\n",
    "\n",
    "when = 'after' # during after\n",
    "dict_comms = {\n",
    "    'before': before_comms,\n",
    "    'during': during_comms,\n",
    "    'after': after_comms\n",
    "}\n",
    "dict_composition = {\n",
    "    'before': before_community_composition,\n",
    "    'during': during_community_composition,\n",
    "    'after': after_community_composition\n",
    "}\n",
    "\n",
    "fout = f'../../../data/04_communities/{when}_communities_all_data.pickle'\n",
    "\n",
    "communities = dict_comms[when]\n",
    "communities_composition = dict_composition[when]\n",
    "\n",
    "data_list = []\n",
    "\n",
    "for index in range(0, len(communities)):\n",
    "    # get the community\n",
    "    comm = communities[index]\n",
    "    # get the parties in the community\n",
    "    parties = communities_composition[index]\n",
    "    \n",
    "    elem = (index, comm, parties)\n",
    "    data_list.append(elem)\n",
    "\n",
    "pickle.dump(data_list, open(fout, 'wb'))"
   ]
  }
 ],
 "metadata": {
  "kernelspec": {
   "display_name": "env",
   "language": "python",
   "name": "python3"
  },
  "language_info": {
   "codemirror_mode": {
    "name": "ipython",
    "version": 3
   },
   "file_extension": ".py",
   "mimetype": "text/x-python",
   "name": "python",
   "nbconvert_exporter": "python",
   "pygments_lexer": "ipython3",
   "version": "3.11.8"
  },
  "orig_nbformat": 4
 },
 "nbformat": 4,
 "nbformat_minor": 2
}
