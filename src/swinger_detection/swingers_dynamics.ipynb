{
 "cells": [
  {
   "cell_type": "code",
   "execution_count": 4,
   "metadata": {},
   "outputs": [],
   "source": [
    "import matplotlib.pyplot as plt\n",
    "import networkx as nx\n",
    "import numpy as np\n",
    "import pandas as pd\n",
    "import os"
   ]
  },
  {
   "cell_type": "markdown",
   "metadata": {},
   "source": [
    "### Microscopic analysis of swingers"
   ]
  },
  {
   "cell_type": "markdown",
   "metadata": {},
   "source": [
    "#### Loading the data..."
   ]
  },
  {
   "cell_type": "code",
   "execution_count": 5,
   "metadata": {},
   "outputs": [],
   "source": [
    "basepath = '../../data/labeled_users_microscopic'\n",
    "\n",
    "before_labeled_users = pd.read_csv(os.path.join(basepath, 'before_campaign_labeled_users.csv'))\n",
    "during_labeled_users = pd.read_csv(os.path.join(basepath, 'during_campaign_labeled_users.csv'))\n",
    "after_labeled_users = pd.read_csv(os.path.join(basepath, 'after_elections_labeled_users.csv'))"
   ]
  },
  {
   "cell_type": "markdown",
   "metadata": {},
   "source": [
    "#### How many users stay active across periods?"
   ]
  },
  {
   "cell_type": "code",
   "execution_count": 6,
   "metadata": {},
   "outputs": [
    {
     "data": {
      "text/plain": [
       "(34612, 45888, 66139)"
      ]
     },
     "execution_count": 6,
     "metadata": {},
     "output_type": "execute_result"
    }
   ],
   "source": [
    "before_users = set(before_labeled_users['source'].values)\n",
    "during_users = set(during_labeled_users['source'].values)\n",
    "after_users = set(after_labeled_users['source'].values)\n",
    "\n",
    "len(before_users), len(during_users), len(after_users)"
   ]
  },
  {
   "cell_type": "code",
   "execution_count": 7,
   "metadata": {},
   "outputs": [
    {
     "name": "stdout",
     "output_type": "stream",
     "text": [
      "active before-during:  16261  inactive before-during:  18351\n",
      "active during-after:  19624  inactive during-after:  26264\n",
      "active before-after:  11292  inactive before-after:  23320\n"
     ]
    }
   ],
   "source": [
    "# get how many users remain active and how many users become inactive (either leave the platform or lurk)\n",
    "active_bd = before_users.intersection(during_users)\n",
    "inactive_bd = before_users.difference(during_users)\n",
    "print('active before-during: ', len(active_bd), ' inactive before-during: ', len(inactive_bd))\n",
    "\n",
    "active_da = during_users.intersection(after_users)\n",
    "inactive_da = during_users.difference(after_users)\n",
    "print('active during-after: ', len(active_da), ' inactive during-after: ', len(inactive_da))\n",
    "\n",
    "active_ba = before_users.intersection(after_users)\n",
    "inactive_ba = before_users.difference(after_users)\n",
    "print('active before-after: ', len(active_ba), ' inactive before-after: ', len(inactive_ba))"
   ]
  },
  {
   "cell_type": "markdown",
   "metadata": {},
   "source": [
    "#### How many users change their party across periods?"
   ]
  },
  {
   "cell_type": "code",
   "execution_count": 15,
   "metadata": {},
   "outputs": [],
   "source": [
    "before_labeled_users;"
   ]
  },
  {
   "cell_type": "code",
   "execution_count": 9,
   "metadata": {},
   "outputs": [],
   "source": [
    "def check_party(df1, df2, users_to_analyze):\n",
    "    n_same_party = 0\n",
    "    n_diff_party = 0\n",
    "    party2party = {}\n",
    "\n",
    "    for row in df1.iterrows():\n",
    "        user1 = row[1]['source']\n",
    "        party1 = row[1]['Party']\n",
    "\n",
    "        if user1 not in users_to_analyze:\n",
    "            continue\n",
    "\n",
    "        # user2 = df2[df2['source'] == user1]['source'].values[0]\n",
    "        party2 = df2[df2['source'] == user1]['Party'].values[0]\n",
    "\n",
    "        if party1 == party2:\n",
    "            n_same_party += 1\n",
    "        else:\n",
    "            n_diff_party += 1\n",
    "\n",
    "            key = (party1, party2)\n",
    "            if key not in party2party:\n",
    "                party2party[key] = 0\n",
    "            party2party[key] += 1\n",
    "\n",
    "    return n_same_party, n_diff_party, party2party"
   ]
  },
  {
   "cell_type": "markdown",
   "metadata": {},
   "source": [
    "##### Before campaign -> electoral campaign"
   ]
  },
  {
   "cell_type": "code",
   "execution_count": 14,
   "metadata": {},
   "outputs": [
    {
     "name": "stdout",
     "output_type": "stream",
     "text": [
      "total active users across the first period 16261\n",
      "same party:  13132  diff party:  3129\n",
      "same party:  0.8075764098148945  diff party:  0.19242359018510546\n"
     ]
    }
   ],
   "source": [
    "n_same_party_bd, n_diff_party_bd, party_swingers_bd = check_party(before_labeled_users, during_labeled_users, active_bd)\n",
    "print('total active users across the first period', len(active_bd))\n",
    "print('same party: ', n_same_party_bd, ' diff party: ', n_diff_party_bd)\n",
    "print('same party: ', n_same_party_bd/len(active_bd), ' diff party: ', n_diff_party_bd/len(active_bd))"
   ]
  },
  {
   "cell_type": "code",
   "execution_count": 38,
   "metadata": {},
   "outputs": [
    {
     "data": {
      "text/plain": [
       "[(('Azione - Italia Viva', 'Partito Democratico'), 583),\n",
       " ((\"Fratelli d'Italia\", 'Lega'), 423),\n",
       " (('Lega', \"Fratelli d'Italia\"), 397),\n",
       " (('Alleanza Verdi Sinistra', 'Partito Democratico'), 358),\n",
       " (('Partito Democratico', 'Azione - Italia Viva'), 241),\n",
       " (('Azione - Italia Viva', \"Fratelli d'Italia\"), 132),\n",
       " (('Alleanza Verdi Sinistra', 'Movimento 5s'), 108),\n",
       " ((\"Fratelli d'Italia\", 'Azione - Italia Viva'), 92),\n",
       " (('Partito Democratico', 'Alleanza Verdi Sinistra'), 86),\n",
       " (('Alleanza Verdi Sinistra', 'Azione - Italia Viva'), 68),\n",
       " (('Partito Democratico', 'Movimento 5s'), 56),\n",
       " (('Azione - Italia Viva', 'Lega'), 55),\n",
       " (('Movimento 5s', 'Partito Democratico'), 54),\n",
       " ((\"Fratelli d'Italia\", 'Partito Democratico'), 49),\n",
       " (('Azione - Italia Viva', 'Movimento 5s'), 45),\n",
       " (('Forza Italia', \"Fratelli d'Italia\"), 42),\n",
       " ((\"Fratelli d'Italia\", 'Movimento 5s'), 35),\n",
       " (('Lega', 'Azione - Italia Viva'), 32),\n",
       " (('Movimento 5s', 'Alleanza Verdi Sinistra'), 28),\n",
       " (('Partito Democratico', \"Fratelli d'Italia\"), 27),\n",
       " (('Azione - Italia Viva', 'Alleanza Verdi Sinistra'), 23),\n",
       " (('Forza Italia', 'Azione - Italia Viva'), 20),\n",
       " (('Forza Italia', 'Lega'), 20),\n",
       " (('Lega', 'Partito Democratico'), 16),\n",
       " ((\"Fratelli d'Italia\", 'Forza Italia'), 15),\n",
       " (('Movimento 5s', \"Fratelli d'Italia\"), 15),\n",
       " (('Movimento 5s', 'Lega'), 14),\n",
       " (('Movimento 5s', 'Azione - Italia Viva'), 12),\n",
       " ((\"Fratelli d'Italia\", 'Alleanza Verdi Sinistra'), 12),\n",
       " (('Azione - Italia Viva', 'Forza Italia'), 11),\n",
       " (('Lega', 'Movimento 5s'), 11),\n",
       " (('Partito Democratico', 'Lega'), 10),\n",
       " (('Forza Italia', 'Partito Democratico'), 7),\n",
       " (('Lega', 'Forza Italia'), 6),\n",
       " (('Alleanza Verdi Sinistra', \"Fratelli d'Italia\"), 5),\n",
       " (('Alleanza Verdi Sinistra', 'Lega'), 4),\n",
       " (('Forza Italia', 'Movimento 5s'), 4),\n",
       " (('Lega', 'Alleanza Verdi Sinistra'), 3),\n",
       " (('Azione - Italia Viva', 'Noi moderati'), 3),\n",
       " ((\"Fratelli d'Italia\", 'Noi moderati'), 2),\n",
       " (('Alleanza Verdi Sinistra', 'Forza Italia'), 1),\n",
       " (('Forza Italia', 'Alleanza Verdi Sinistra'), 1),\n",
       " (('Partito Democratico', 'Forza Italia'), 1),\n",
       " (('Alleanza Verdi Sinistra', 'Noi moderati'), 1),\n",
       " (('Movimento 5s', 'Forza Italia'), 1)]"
      ]
     },
     "execution_count": 38,
     "metadata": {},
     "output_type": "execute_result"
    }
   ],
   "source": [
    "# sort by value party_swingers_bd\n",
    "sorted_party_swingers_bd = sorted(party_swingers_bd.items(), key=lambda kv: kv[1], reverse=True)\n",
    "sorted_party_swingers_bd"
   ]
  },
  {
   "cell_type": "markdown",
   "metadata": {},
   "source": [
    "##### Eletoral campaign -> After elections"
   ]
  },
  {
   "cell_type": "code",
   "execution_count": 16,
   "metadata": {},
   "outputs": [
    {
     "name": "stdout",
     "output_type": "stream",
     "text": [
      "total active users across the second period 19624\n",
      "same party:  16068  diff party:  3556\n",
      "same party:  0.8187933143090094  diff party:  0.18120668569099063\n"
     ]
    }
   ],
   "source": [
    "n_same_party_da, n_diff_party_da, party_swingers_da = check_party(during_labeled_users, after_labeled_users, active_da)\n",
    "print('total active users across the second period', len(active_da))\n",
    "print('same party: ', n_same_party_da, ' diff party: ', n_diff_party_da)\n",
    "print('same party: ', n_same_party_da/len(active_da), ' diff party: ', n_diff_party_da/len(active_da))"
   ]
  },
  {
   "cell_type": "code",
   "execution_count": 40,
   "metadata": {},
   "outputs": [
    {
     "data": {
      "text/plain": [
       "[(('Lega', \"Fratelli d'Italia\"), 717),\n",
       " ((\"Fratelli d'Italia\", 'Lega'), 605),\n",
       " (('Partito Democratico', 'Azione - Italia Viva'), 451),\n",
       " (('Partito Democratico', 'Alleanza Verdi Sinistra'), 300),\n",
       " (('Azione - Italia Viva', 'Partito Democratico'), 241),\n",
       " (('Azione - Italia Viva', \"Fratelli d'Italia\"), 195),\n",
       " ((\"Fratelli d'Italia\", 'Azione - Italia Viva'), 101),\n",
       " (('Movimento 5s', 'Partito Democratico'), 98),\n",
       " (('Partito Democratico', \"Fratelli d'Italia\"), 94),\n",
       " (('Alleanza Verdi Sinistra', 'Partito Democratico'), 87),\n",
       " (('Movimento 5s', \"Fratelli d'Italia\"), 68),\n",
       " (('Partito Democratico', 'Movimento 5s'), 61),\n",
       " (('Azione - Italia Viva', 'Lega'), 58),\n",
       " (('Movimento 5s', 'Azione - Italia Viva'), 55),\n",
       " (('Partito Democratico', 'Lega'), 41),\n",
       " (('Movimento 5s', 'Alleanza Verdi Sinistra'), 41),\n",
       " (('Azione - Italia Viva', 'Alleanza Verdi Sinistra'), 39),\n",
       " (('Lega', 'Azione - Italia Viva'), 35),\n",
       " ((\"Fratelli d'Italia\", 'Partito Democratico'), 34),\n",
       " (('Forza Italia', \"Fratelli d'Italia\"), 28),\n",
       " (('Azione - Italia Viva', 'Movimento 5s'), 24),\n",
       " ((\"Fratelli d'Italia\", 'Forza Italia'), 21),\n",
       " (('Alleanza Verdi Sinistra', 'Movimento 5s'), 19),\n",
       " (('Alleanza Verdi Sinistra', 'Azione - Italia Viva'), 16),\n",
       " (('Forza Italia', 'Lega'), 14),\n",
       " (('Lega', 'Partito Democratico'), 13),\n",
       " (('Movimento 5s', 'Lega'), 13),\n",
       " (('Lega', 'Forza Italia'), 12),\n",
       " (('Forza Italia', 'Azione - Italia Viva'), 10),\n",
       " ((\"Fratelli d'Italia\", 'Movimento 5s'), 8),\n",
       " (('Alleanza Verdi Sinistra', 'Lega'), 7),\n",
       " (('Noi moderati', \"Fratelli d'Italia\"), 7),\n",
       " (('Azione - Italia Viva', 'Forza Italia'), 6),\n",
       " (('Lega', 'Movimento 5s'), 6),\n",
       " ((\"Fratelli d'Italia\", 'Alleanza Verdi Sinistra'), 5),\n",
       " (('Alleanza Verdi Sinistra', \"Fratelli d'Italia\"), 4),\n",
       " (('Forza Italia', 'Partito Democratico'), 4),\n",
       " ((\"Fratelli d'Italia\", 'Noi moderati'), 3),\n",
       " (('Lega', 'Alleanza Verdi Sinistra'), 3),\n",
       " (('Noi moderati', 'Azione - Italia Viva'), 2),\n",
       " (('Azione - Italia Viva', 'Noi moderati'), 2),\n",
       " (('Partito Democratico', 'Forza Italia'), 2),\n",
       " (('Forza Italia', 'Noi moderati'), 1),\n",
       " (('Noi moderati', 'Forza Italia'), 1),\n",
       " (('Forza Italia', 'Alleanza Verdi Sinistra'), 1),\n",
       " (('Forza Italia', 'Movimento 5s'), 1),\n",
       " (('Noi moderati', 'Movimento 5s'), 1),\n",
       " (('Noi moderati', 'Lega'), 1)]"
      ]
     },
     "execution_count": 40,
     "metadata": {},
     "output_type": "execute_result"
    }
   ],
   "source": [
    "sorted_party_swingers_da = sorted(party_swingers_da.items(), key=lambda kv: kv[1], reverse=True)\n",
    "sorted_party_swingers_da"
   ]
  },
  {
   "cell_type": "code",
   "execution_count": 41,
   "metadata": {},
   "outputs": [
    {
     "name": "stdout",
     "output_type": "stream",
     "text": [
      "same party:  8744  diff party:  2548\n"
     ]
    }
   ],
   "source": [
    "n_same_party_ba, n_diff_party_ba, party_swinger_ba = check_party(before_labeled_users, after_labeled_users, active_ba)\n",
    "print('same party: ', n_same_party_ba, ' diff party: ', n_diff_party_ba)"
   ]
  },
  {
   "cell_type": "code",
   "execution_count": 42,
   "metadata": {},
   "outputs": [
    {
     "data": {
      "text/plain": [
       "[(('Lega', \"Fratelli d'Italia\"), 384),\n",
       " (('Azione - Italia Viva', 'Partito Democratico'), 354),\n",
       " ((\"Fratelli d'Italia\", 'Lega'), 345),\n",
       " (('Partito Democratico', 'Azione - Italia Viva'), 234),\n",
       " (('Alleanza Verdi Sinistra', 'Partito Democratico'), 179),\n",
       " (('Azione - Italia Viva', \"Fratelli d'Italia\"), 155),\n",
       " (('Partito Democratico', 'Alleanza Verdi Sinistra'), 142),\n",
       " (('Alleanza Verdi Sinistra', 'Movimento 5s'), 66),\n",
       " ((\"Fratelli d'Italia\", 'Azione - Italia Viva'), 59),\n",
       " (('Movimento 5s', 'Partito Democratico'), 59),\n",
       " (('Forza Italia', \"Fratelli d'Italia\"), 52),\n",
       " (('Partito Democratico', \"Fratelli d'Italia\"), 49),\n",
       " (('Partito Democratico', 'Movimento 5s'), 48),\n",
       " (('Alleanza Verdi Sinistra', 'Azione - Italia Viva'), 48),\n",
       " (('Azione - Italia Viva', 'Lega'), 42),\n",
       " (('Azione - Italia Viva', 'Alleanza Verdi Sinistra'), 35),\n",
       " (('Movimento 5s', \"Fratelli d'Italia\"), 31),\n",
       " (('Movimento 5s', 'Alleanza Verdi Sinistra'), 31),\n",
       " (('Movimento 5s', 'Azione - Italia Viva'), 25),\n",
       " ((\"Fratelli d'Italia\", 'Partito Democratico'), 24),\n",
       " (('Lega', 'Azione - Italia Viva'), 24),\n",
       " (('Forza Italia', 'Lega'), 20),\n",
       " (('Azione - Italia Viva', 'Movimento 5s'), 16),\n",
       " ((\"Fratelli d'Italia\", 'Movimento 5s'), 15),\n",
       " ((\"Fratelli d'Italia\", 'Forza Italia'), 14),\n",
       " (('Lega', 'Partito Democratico'), 14),\n",
       " (('Partito Democratico', 'Lega'), 13),\n",
       " (('Lega', 'Forza Italia'), 10),\n",
       " (('Movimento 5s', 'Lega'), 10),\n",
       " (('Forza Italia', 'Azione - Italia Viva'), 9),\n",
       " (('Lega', 'Movimento 5s'), 7),\n",
       " (('Forza Italia', 'Partito Democratico'), 6),\n",
       " (('Alleanza Verdi Sinistra', \"Fratelli d'Italia\"), 6),\n",
       " (('Azione - Italia Viva', 'Forza Italia'), 4),\n",
       " ((\"Fratelli d'Italia\", 'Alleanza Verdi Sinistra'), 3),\n",
       " (('Alleanza Verdi Sinistra', 'Lega'), 2),\n",
       " (('Forza Italia', 'Noi moderati'), 2),\n",
       " (('Partito Democratico', 'Forza Italia'), 2),\n",
       " ((\"Fratelli d'Italia\", 'Noi moderati'), 2),\n",
       " (('Forza Italia', 'Movimento 5s'), 2),\n",
       " (('Forza Italia', 'Alleanza Verdi Sinistra'), 2),\n",
       " (('Azione - Italia Viva', 'Noi moderati'), 1),\n",
       " (('Movimento 5s', 'Forza Italia'), 1),\n",
       " (('Lega', 'Alleanza Verdi Sinistra'), 1)]"
      ]
     },
     "execution_count": 42,
     "metadata": {},
     "output_type": "execute_result"
    }
   ],
   "source": [
    "sorted_party_swingers_ba = sorted(party_swinger_ba.items(), key=lambda kv: kv[1], reverse=True)\n",
    "sorted_party_swingers_ba"
   ]
  },
  {
   "cell_type": "code",
   "execution_count": null,
   "metadata": {},
   "outputs": [],
   "source": []
  }
 ],
 "metadata": {
  "kernelspec": {
   "display_name": "env",
   "language": "python",
   "name": "python3"
  },
  "language_info": {
   "codemirror_mode": {
    "name": "ipython",
    "version": 3
   },
   "file_extension": ".py",
   "mimetype": "text/x-python",
   "name": "python",
   "nbconvert_exporter": "python",
   "pygments_lexer": "ipython3",
   "version": "3.11.4"
  },
  "orig_nbformat": 4
 },
 "nbformat": 4,
 "nbformat_minor": 2
}
